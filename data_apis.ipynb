{
  "cells": [
    {
      "cell_type": "markdown",
      "metadata": {
        "id": "view-in-github",
        "colab_type": "text"
      },
      "source": [
        "<a href=\"https://colab.research.google.com/github/josepeon/python_dad_class/blob/main/data_apis.ipynb\" target=\"_parent\"><img src=\"https://colab.research.google.com/assets/colab-badge.svg\" alt=\"Open In Colab\"/></a>"
      ]
    },
    {
      "cell_type": "markdown",
      "metadata": {
        "id": "dBK1FmL8PSQz"
      },
      "source": [
        "### Accessing Data with API's\n",
        "\n",
        "**OBJECTIVES**\n",
        "\n",
        "\n",
        "- Data Access via API\n"
      ]
    },
    {
      "cell_type": "code",
      "execution_count": null,
      "metadata": {
        "id": "Qa2IJXm5PSQ0"
      },
      "outputs": [],
      "source": [
        "import pandas as pd\n",
        "import numpy as np\n",
        "import seaborn as sns\n",
        "import matplotlib.pyplot as plt"
      ]
    },
    {
      "cell_type": "markdown",
      "metadata": {
        "id": "jUwy8qvyPSQ1"
      },
      "source": [
        "## Data Input via APIs\n",
        "\n",
        "This is about using an api \"Application program interface\" ...basic idea, allows\n",
        "direct access to some database or parts of it without having to download everything\n",
        "\n"
      ]
    },
    {
      "cell_type": "code",
      "execution_count": null,
      "metadata": {
        "id": "b3W4FKbyPSQ1"
      },
      "outputs": [],
      "source": [
        "import os\n",
        "import pandas as pd\n",
        "import matplotlib.pyplot as plt\n",
        "import datetime"
      ]
    },
    {
      "cell_type": "markdown",
      "metadata": {
        "id": "9gPs_WzTPSQ2"
      },
      "source": [
        "**Quick Example**\n",
        "\n",
        "Yahoo Finance has a python library that will pull data directly from the source and structure it as a `DataFrame`.  See info [here](https://github.com/ranaroussi/yfinance)."
      ]
    },
    {
      "cell_type": "code",
      "execution_count": null,
      "metadata": {
        "id": "7ta29_rbPSQ2",
        "colab": {
          "base_uri": "https://localhost:8080/"
        },
        "outputId": "2d049055-8dce-4b1b-8531-85216cb3f660"
      },
      "outputs": [
        {
          "output_type": "stream",
          "name": "stdout",
          "text": [
            "Requirement already satisfied: yfinance in /usr/local/lib/python3.12/dist-packages (0.2.66)\n",
            "Requirement already satisfied: pandas>=1.3.0 in /usr/local/lib/python3.12/dist-packages (from yfinance) (2.2.2)\n",
            "Requirement already satisfied: numpy>=1.16.5 in /usr/local/lib/python3.12/dist-packages (from yfinance) (2.0.2)\n",
            "Requirement already satisfied: requests>=2.31 in /usr/local/lib/python3.12/dist-packages (from yfinance) (2.32.4)\n",
            "Requirement already satisfied: multitasking>=0.0.7 in /usr/local/lib/python3.12/dist-packages (from yfinance) (0.0.12)\n",
            "Requirement already satisfied: platformdirs>=2.0.0 in /usr/local/lib/python3.12/dist-packages (from yfinance) (4.4.0)\n",
            "Requirement already satisfied: pytz>=2022.5 in /usr/local/lib/python3.12/dist-packages (from yfinance) (2025.2)\n",
            "Requirement already satisfied: frozendict>=2.3.4 in /usr/local/lib/python3.12/dist-packages (from yfinance) (2.4.6)\n",
            "Requirement already satisfied: peewee>=3.16.2 in /usr/local/lib/python3.12/dist-packages (from yfinance) (3.18.2)\n",
            "Requirement already satisfied: beautifulsoup4>=4.11.1 in /usr/local/lib/python3.12/dist-packages (from yfinance) (4.13.5)\n",
            "Requirement already satisfied: curl_cffi>=0.7 in /usr/local/lib/python3.12/dist-packages (from yfinance) (0.13.0)\n",
            "Requirement already satisfied: protobuf>=3.19.0 in /usr/local/lib/python3.12/dist-packages (from yfinance) (5.29.5)\n",
            "Requirement already satisfied: websockets>=13.0 in /usr/local/lib/python3.12/dist-packages (from yfinance) (15.0.1)\n",
            "Requirement already satisfied: soupsieve>1.2 in /usr/local/lib/python3.12/dist-packages (from beautifulsoup4>=4.11.1->yfinance) (2.8)\n",
            "Requirement already satisfied: typing-extensions>=4.0.0 in /usr/local/lib/python3.12/dist-packages (from beautifulsoup4>=4.11.1->yfinance) (4.15.0)\n",
            "Requirement already satisfied: cffi>=1.12.0 in /usr/local/lib/python3.12/dist-packages (from curl_cffi>=0.7->yfinance) (2.0.0)\n",
            "Requirement already satisfied: certifi>=2024.2.2 in /usr/local/lib/python3.12/dist-packages (from curl_cffi>=0.7->yfinance) (2025.8.3)\n",
            "Requirement already satisfied: python-dateutil>=2.8.2 in /usr/local/lib/python3.12/dist-packages (from pandas>=1.3.0->yfinance) (2.9.0.post0)\n",
            "Requirement already satisfied: tzdata>=2022.7 in /usr/local/lib/python3.12/dist-packages (from pandas>=1.3.0->yfinance) (2025.2)\n",
            "Requirement already satisfied: charset_normalizer<4,>=2 in /usr/local/lib/python3.12/dist-packages (from requests>=2.31->yfinance) (3.4.3)\n",
            "Requirement already satisfied: idna<4,>=2.5 in /usr/local/lib/python3.12/dist-packages (from requests>=2.31->yfinance) (3.10)\n",
            "Requirement already satisfied: urllib3<3,>=1.21.1 in /usr/local/lib/python3.12/dist-packages (from requests>=2.31->yfinance) (2.5.0)\n",
            "Requirement already satisfied: pycparser in /usr/local/lib/python3.12/dist-packages (from cffi>=1.12.0->curl_cffi>=0.7->yfinance) (2.23)\n",
            "Requirement already satisfied: six>=1.5 in /usr/local/lib/python3.12/dist-packages (from python-dateutil>=2.8.2->pandas>=1.3.0->yfinance) (1.17.0)\n"
          ]
        }
      ],
      "source": [
        "pip install yfinance"
      ]
    },
    {
      "cell_type": "code",
      "execution_count": null,
      "metadata": {
        "id": "dU6VMzTZPSQ3"
      },
      "outputs": [],
      "source": [
        "import yfinance as yf"
      ]
    },
    {
      "cell_type": "code",
      "execution_count": null,
      "metadata": {
        "id": "eMJ_jkdcPSQ3"
      },
      "outputs": [],
      "source": [
        "#get tsla data\n",
        "tsla = yf.Ticker(\"TSLA\")"
      ]
    },
    {
      "cell_type": "code",
      "execution_count": null,
      "metadata": {
        "id": "Dav-Xn1-PSQ3"
      },
      "outputs": [],
      "source": [
        "# get historical market data\n",
        "hist = tsla.history(period=\"1mo\")"
      ]
    },
    {
      "cell_type": "code",
      "execution_count": null,
      "metadata": {
        "id": "Je4BsYnGPSQ4",
        "colab": {
          "base_uri": "https://localhost:8080/",
          "height": 238
        },
        "outputId": "5f52a257-3a46-492a-f10b-bd2d04e8a2b0"
      },
      "outputs": [
        {
          "output_type": "execute_result",
          "data": {
            "text/plain": [
              "                                 Open        High         Low       Close  \\\n",
              "Date                                                                        \n",
              "2025-08-29 00:00:00-04:00  347.230011  348.750000  331.700012  333.869995   \n",
              "2025-09-02 00:00:00-04:00  328.230011  333.329987  325.600006  329.359985   \n",
              "2025-09-03 00:00:00-04:00  335.200012  343.329987  328.510010  334.089996   \n",
              "2025-09-04 00:00:00-04:00  336.149994  338.890015  331.480011  338.529999   \n",
              "2025-09-05 00:00:00-04:00  348.000000  355.869995  344.679993  350.839996   \n",
              "\n",
              "                              Volume  Dividends  Stock Splits  \n",
              "Date                                                           \n",
              "2025-08-29 00:00:00-04:00   81145700        0.0           0.0  \n",
              "2025-09-02 00:00:00-04:00   58392000        0.0           0.0  \n",
              "2025-09-03 00:00:00-04:00   88733300        0.0           0.0  \n",
              "2025-09-04 00:00:00-04:00   60711000        0.0           0.0  \n",
              "2025-09-05 00:00:00-04:00  108989800        0.0           0.0  "
            ],
            "text/html": [
              "\n",
              "  <div id=\"df-8a5438e9-22ab-46dc-bef5-458b6e7b77ab\" class=\"colab-df-container\">\n",
              "    <div>\n",
              "<style scoped>\n",
              "    .dataframe tbody tr th:only-of-type {\n",
              "        vertical-align: middle;\n",
              "    }\n",
              "\n",
              "    .dataframe tbody tr th {\n",
              "        vertical-align: top;\n",
              "    }\n",
              "\n",
              "    .dataframe thead th {\n",
              "        text-align: right;\n",
              "    }\n",
              "</style>\n",
              "<table border=\"1\" class=\"dataframe\">\n",
              "  <thead>\n",
              "    <tr style=\"text-align: right;\">\n",
              "      <th></th>\n",
              "      <th>Open</th>\n",
              "      <th>High</th>\n",
              "      <th>Low</th>\n",
              "      <th>Close</th>\n",
              "      <th>Volume</th>\n",
              "      <th>Dividends</th>\n",
              "      <th>Stock Splits</th>\n",
              "    </tr>\n",
              "    <tr>\n",
              "      <th>Date</th>\n",
              "      <th></th>\n",
              "      <th></th>\n",
              "      <th></th>\n",
              "      <th></th>\n",
              "      <th></th>\n",
              "      <th></th>\n",
              "      <th></th>\n",
              "    </tr>\n",
              "  </thead>\n",
              "  <tbody>\n",
              "    <tr>\n",
              "      <th>2025-08-29 00:00:00-04:00</th>\n",
              "      <td>347.230011</td>\n",
              "      <td>348.750000</td>\n",
              "      <td>331.700012</td>\n",
              "      <td>333.869995</td>\n",
              "      <td>81145700</td>\n",
              "      <td>0.0</td>\n",
              "      <td>0.0</td>\n",
              "    </tr>\n",
              "    <tr>\n",
              "      <th>2025-09-02 00:00:00-04:00</th>\n",
              "      <td>328.230011</td>\n",
              "      <td>333.329987</td>\n",
              "      <td>325.600006</td>\n",
              "      <td>329.359985</td>\n",
              "      <td>58392000</td>\n",
              "      <td>0.0</td>\n",
              "      <td>0.0</td>\n",
              "    </tr>\n",
              "    <tr>\n",
              "      <th>2025-09-03 00:00:00-04:00</th>\n",
              "      <td>335.200012</td>\n",
              "      <td>343.329987</td>\n",
              "      <td>328.510010</td>\n",
              "      <td>334.089996</td>\n",
              "      <td>88733300</td>\n",
              "      <td>0.0</td>\n",
              "      <td>0.0</td>\n",
              "    </tr>\n",
              "    <tr>\n",
              "      <th>2025-09-04 00:00:00-04:00</th>\n",
              "      <td>336.149994</td>\n",
              "      <td>338.890015</td>\n",
              "      <td>331.480011</td>\n",
              "      <td>338.529999</td>\n",
              "      <td>60711000</td>\n",
              "      <td>0.0</td>\n",
              "      <td>0.0</td>\n",
              "    </tr>\n",
              "    <tr>\n",
              "      <th>2025-09-05 00:00:00-04:00</th>\n",
              "      <td>348.000000</td>\n",
              "      <td>355.869995</td>\n",
              "      <td>344.679993</td>\n",
              "      <td>350.839996</td>\n",
              "      <td>108989800</td>\n",
              "      <td>0.0</td>\n",
              "      <td>0.0</td>\n",
              "    </tr>\n",
              "  </tbody>\n",
              "</table>\n",
              "</div>\n",
              "    <div class=\"colab-df-buttons\">\n",
              "\n",
              "  <div class=\"colab-df-container\">\n",
              "    <button class=\"colab-df-convert\" onclick=\"convertToInteractive('df-8a5438e9-22ab-46dc-bef5-458b6e7b77ab')\"\n",
              "            title=\"Convert this dataframe to an interactive table.\"\n",
              "            style=\"display:none;\">\n",
              "\n",
              "  <svg xmlns=\"http://www.w3.org/2000/svg\" height=\"24px\" viewBox=\"0 -960 960 960\">\n",
              "    <path d=\"M120-120v-720h720v720H120Zm60-500h600v-160H180v160Zm220 220h160v-160H400v160Zm0 220h160v-160H400v160ZM180-400h160v-160H180v160Zm440 0h160v-160H620v160ZM180-180h160v-160H180v160Zm440 0h160v-160H620v160Z\"/>\n",
              "  </svg>\n",
              "    </button>\n",
              "\n",
              "  <style>\n",
              "    .colab-df-container {\n",
              "      display:flex;\n",
              "      gap: 12px;\n",
              "    }\n",
              "\n",
              "    .colab-df-convert {\n",
              "      background-color: #E8F0FE;\n",
              "      border: none;\n",
              "      border-radius: 50%;\n",
              "      cursor: pointer;\n",
              "      display: none;\n",
              "      fill: #1967D2;\n",
              "      height: 32px;\n",
              "      padding: 0 0 0 0;\n",
              "      width: 32px;\n",
              "    }\n",
              "\n",
              "    .colab-df-convert:hover {\n",
              "      background-color: #E2EBFA;\n",
              "      box-shadow: 0px 1px 2px rgba(60, 64, 67, 0.3), 0px 1px 3px 1px rgba(60, 64, 67, 0.15);\n",
              "      fill: #174EA6;\n",
              "    }\n",
              "\n",
              "    .colab-df-buttons div {\n",
              "      margin-bottom: 4px;\n",
              "    }\n",
              "\n",
              "    [theme=dark] .colab-df-convert {\n",
              "      background-color: #3B4455;\n",
              "      fill: #D2E3FC;\n",
              "    }\n",
              "\n",
              "    [theme=dark] .colab-df-convert:hover {\n",
              "      background-color: #434B5C;\n",
              "      box-shadow: 0px 1px 3px 1px rgba(0, 0, 0, 0.15);\n",
              "      filter: drop-shadow(0px 1px 2px rgba(0, 0, 0, 0.3));\n",
              "      fill: #FFFFFF;\n",
              "    }\n",
              "  </style>\n",
              "\n",
              "    <script>\n",
              "      const buttonEl =\n",
              "        document.querySelector('#df-8a5438e9-22ab-46dc-bef5-458b6e7b77ab button.colab-df-convert');\n",
              "      buttonEl.style.display =\n",
              "        google.colab.kernel.accessAllowed ? 'block' : 'none';\n",
              "\n",
              "      async function convertToInteractive(key) {\n",
              "        const element = document.querySelector('#df-8a5438e9-22ab-46dc-bef5-458b6e7b77ab');\n",
              "        const dataTable =\n",
              "          await google.colab.kernel.invokeFunction('convertToInteractive',\n",
              "                                                    [key], {});\n",
              "        if (!dataTable) return;\n",
              "\n",
              "        const docLinkHtml = 'Like what you see? Visit the ' +\n",
              "          '<a target=\"_blank\" href=https://colab.research.google.com/notebooks/data_table.ipynb>data table notebook</a>'\n",
              "          + ' to learn more about interactive tables.';\n",
              "        element.innerHTML = '';\n",
              "        dataTable['output_type'] = 'display_data';\n",
              "        await google.colab.output.renderOutput(dataTable, element);\n",
              "        const docLink = document.createElement('div');\n",
              "        docLink.innerHTML = docLinkHtml;\n",
              "        element.appendChild(docLink);\n",
              "      }\n",
              "    </script>\n",
              "  </div>\n",
              "\n",
              "\n",
              "    <div id=\"df-8125b608-443a-4b3d-879c-e43365d2967e\">\n",
              "      <button class=\"colab-df-quickchart\" onclick=\"quickchart('df-8125b608-443a-4b3d-879c-e43365d2967e')\"\n",
              "                title=\"Suggest charts\"\n",
              "                style=\"display:none;\">\n",
              "\n",
              "<svg xmlns=\"http://www.w3.org/2000/svg\" height=\"24px\"viewBox=\"0 0 24 24\"\n",
              "     width=\"24px\">\n",
              "    <g>\n",
              "        <path d=\"M19 3H5c-1.1 0-2 .9-2 2v14c0 1.1.9 2 2 2h14c1.1 0 2-.9 2-2V5c0-1.1-.9-2-2-2zM9 17H7v-7h2v7zm4 0h-2V7h2v10zm4 0h-2v-4h2v4z\"/>\n",
              "    </g>\n",
              "</svg>\n",
              "      </button>\n",
              "\n",
              "<style>\n",
              "  .colab-df-quickchart {\n",
              "      --bg-color: #E8F0FE;\n",
              "      --fill-color: #1967D2;\n",
              "      --hover-bg-color: #E2EBFA;\n",
              "      --hover-fill-color: #174EA6;\n",
              "      --disabled-fill-color: #AAA;\n",
              "      --disabled-bg-color: #DDD;\n",
              "  }\n",
              "\n",
              "  [theme=dark] .colab-df-quickchart {\n",
              "      --bg-color: #3B4455;\n",
              "      --fill-color: #D2E3FC;\n",
              "      --hover-bg-color: #434B5C;\n",
              "      --hover-fill-color: #FFFFFF;\n",
              "      --disabled-bg-color: #3B4455;\n",
              "      --disabled-fill-color: #666;\n",
              "  }\n",
              "\n",
              "  .colab-df-quickchart {\n",
              "    background-color: var(--bg-color);\n",
              "    border: none;\n",
              "    border-radius: 50%;\n",
              "    cursor: pointer;\n",
              "    display: none;\n",
              "    fill: var(--fill-color);\n",
              "    height: 32px;\n",
              "    padding: 0;\n",
              "    width: 32px;\n",
              "  }\n",
              "\n",
              "  .colab-df-quickchart:hover {\n",
              "    background-color: var(--hover-bg-color);\n",
              "    box-shadow: 0 1px 2px rgba(60, 64, 67, 0.3), 0 1px 3px 1px rgba(60, 64, 67, 0.15);\n",
              "    fill: var(--button-hover-fill-color);\n",
              "  }\n",
              "\n",
              "  .colab-df-quickchart-complete:disabled,\n",
              "  .colab-df-quickchart-complete:disabled:hover {\n",
              "    background-color: var(--disabled-bg-color);\n",
              "    fill: var(--disabled-fill-color);\n",
              "    box-shadow: none;\n",
              "  }\n",
              "\n",
              "  .colab-df-spinner {\n",
              "    border: 2px solid var(--fill-color);\n",
              "    border-color: transparent;\n",
              "    border-bottom-color: var(--fill-color);\n",
              "    animation:\n",
              "      spin 1s steps(1) infinite;\n",
              "  }\n",
              "\n",
              "  @keyframes spin {\n",
              "    0% {\n",
              "      border-color: transparent;\n",
              "      border-bottom-color: var(--fill-color);\n",
              "      border-left-color: var(--fill-color);\n",
              "    }\n",
              "    20% {\n",
              "      border-color: transparent;\n",
              "      border-left-color: var(--fill-color);\n",
              "      border-top-color: var(--fill-color);\n",
              "    }\n",
              "    30% {\n",
              "      border-color: transparent;\n",
              "      border-left-color: var(--fill-color);\n",
              "      border-top-color: var(--fill-color);\n",
              "      border-right-color: var(--fill-color);\n",
              "    }\n",
              "    40% {\n",
              "      border-color: transparent;\n",
              "      border-right-color: var(--fill-color);\n",
              "      border-top-color: var(--fill-color);\n",
              "    }\n",
              "    60% {\n",
              "      border-color: transparent;\n",
              "      border-right-color: var(--fill-color);\n",
              "    }\n",
              "    80% {\n",
              "      border-color: transparent;\n",
              "      border-right-color: var(--fill-color);\n",
              "      border-bottom-color: var(--fill-color);\n",
              "    }\n",
              "    90% {\n",
              "      border-color: transparent;\n",
              "      border-bottom-color: var(--fill-color);\n",
              "    }\n",
              "  }\n",
              "</style>\n",
              "\n",
              "      <script>\n",
              "        async function quickchart(key) {\n",
              "          const quickchartButtonEl =\n",
              "            document.querySelector('#' + key + ' button');\n",
              "          quickchartButtonEl.disabled = true;  // To prevent multiple clicks.\n",
              "          quickchartButtonEl.classList.add('colab-df-spinner');\n",
              "          try {\n",
              "            const charts = await google.colab.kernel.invokeFunction(\n",
              "                'suggestCharts', [key], {});\n",
              "          } catch (error) {\n",
              "            console.error('Error during call to suggestCharts:', error);\n",
              "          }\n",
              "          quickchartButtonEl.classList.remove('colab-df-spinner');\n",
              "          quickchartButtonEl.classList.add('colab-df-quickchart-complete');\n",
              "        }\n",
              "        (() => {\n",
              "          let quickchartButtonEl =\n",
              "            document.querySelector('#df-8125b608-443a-4b3d-879c-e43365d2967e button');\n",
              "          quickchartButtonEl.style.display =\n",
              "            google.colab.kernel.accessAllowed ? 'block' : 'none';\n",
              "        })();\n",
              "      </script>\n",
              "    </div>\n",
              "\n",
              "    </div>\n",
              "  </div>\n"
            ],
            "application/vnd.google.colaboratory.intrinsic+json": {
              "type": "dataframe",
              "variable_name": "hist",
              "summary": "{\n  \"name\": \"hist\",\n  \"rows\": 21,\n  \"fields\": [\n    {\n      \"column\": \"Date\",\n      \"properties\": {\n        \"dtype\": \"date\",\n        \"min\": \"2025-08-29 00:00:00-04:00\",\n        \"max\": \"2025-09-29 00:00:00-04:00\",\n        \"num_unique_values\": 21,\n        \"samples\": [\n          \"2025-08-29 00:00:00-04:00\",\n          \"2025-09-24 00:00:00-04:00\",\n          \"2025-09-22 00:00:00-04:00\"\n        ],\n        \"semantic_type\": \"\",\n        \"description\": \"\"\n      }\n    },\n    {\n      \"column\": \"Open\",\n      \"properties\": {\n        \"dtype\": \"number\",\n        \"std\": 42.958835004465485,\n        \"min\": 328.2300109863281,\n        \"max\": 444.3550109863281,\n        \"num_unique_values\": 21,\n        \"samples\": [\n          347.2300109863281,\n          429.8299865722656,\n          431.1099853515625\n        ],\n        \"semantic_type\": \"\",\n        \"description\": \"\"\n      }\n    },\n    {\n      \"column\": \"High\",\n      \"properties\": {\n        \"dtype\": \"number\",\n        \"std\": 43.540121296991714,\n        \"min\": 333.3299865722656,\n        \"max\": 450.9800109863281,\n        \"num_unique_values\": 21,\n        \"samples\": [\n          348.75,\n          444.2099914550781,\n          444.9800109863281\n        ],\n        \"semantic_type\": \"\",\n        \"description\": \"\"\n      }\n    },\n    {\n      \"column\": \"Low\",\n      \"properties\": {\n        \"dtype\": \"number\",\n        \"std\": 42.16870775264813,\n        \"min\": 325.6000061035156,\n        \"max\": 443.0,\n        \"num_unique_values\": 21,\n        \"samples\": [\n          331.70001220703125,\n          429.0299987792969,\n          429.1300048828125\n        ],\n        \"semantic_type\": \"\",\n        \"description\": \"\"\n      }\n    },\n    {\n      \"column\": \"Close\",\n      \"properties\": {\n        \"dtype\": \"number\",\n        \"std\": 43.609196381791335,\n        \"min\": 329.3599853515625,\n        \"max\": 449.2149963378906,\n        \"num_unique_values\": 21,\n        \"samples\": [\n          333.8699951171875,\n          442.7900085449219,\n          434.2099914550781\n        ],\n        \"semantic_type\": \"\",\n        \"description\": \"\"\n      }\n    },\n    {\n      \"column\": \"Volume\",\n      \"properties\": {\n        \"dtype\": \"number\",\n        \"std\": 34112248,\n        \"min\": 8480169,\n        \"max\": 168156400,\n        \"num_unique_values\": 21,\n        \"samples\": [\n          81145700,\n          93133600,\n          97108800\n        ],\n        \"semantic_type\": \"\",\n        \"description\": \"\"\n      }\n    },\n    {\n      \"column\": \"Dividends\",\n      \"properties\": {\n        \"dtype\": \"number\",\n        \"std\": 0.0,\n        \"min\": 0.0,\n        \"max\": 0.0,\n        \"num_unique_values\": 1,\n        \"samples\": [\n          0.0\n        ],\n        \"semantic_type\": \"\",\n        \"description\": \"\"\n      }\n    },\n    {\n      \"column\": \"Stock Splits\",\n      \"properties\": {\n        \"dtype\": \"number\",\n        \"std\": 0.0,\n        \"min\": 0.0,\n        \"max\": 0.0,\n        \"num_unique_values\": 1,\n        \"samples\": [\n          0.0\n        ],\n        \"semantic_type\": \"\",\n        \"description\": \"\"\n      }\n    }\n  ]\n}"
            }
          },
          "metadata": {},
          "execution_count": 7
        }
      ],
      "source": [
        "hist.head()"
      ]
    },
    {
      "cell_type": "code",
      "execution_count": null,
      "metadata": {
        "id": "ddiQKZ4uPSQ4",
        "colab": {
          "base_uri": "https://localhost:8080/",
          "height": 238
        },
        "outputId": "26ef6bd6-751e-4363-8dd4-6eeb6d49e76a"
      },
      "outputs": [
        {
          "output_type": "execute_result",
          "data": {
            "text/plain": [
              "                                 Open        High         Low       Close  \\\n",
              "Date                                                                        \n",
              "2025-09-23 00:00:00-04:00  439.880005  440.970001  423.720001  425.850006   \n",
              "2025-09-24 00:00:00-04:00  429.829987  444.209991  429.029999  442.790009   \n",
              "2025-09-25 00:00:00-04:00  435.239990  435.350006  419.079987  423.390015   \n",
              "2025-09-26 00:00:00-04:00  428.299988  440.470001  421.019989  440.399994   \n",
              "2025-09-29 00:00:00-04:00  444.355011  450.980011  443.000000  449.214996   \n",
              "\n",
              "                              Volume  Dividends  Stock Splits  \n",
              "Date                                                           \n",
              "2025-09-23 00:00:00-04:00   83422700        0.0           0.0  \n",
              "2025-09-24 00:00:00-04:00   93133600        0.0           0.0  \n",
              "2025-09-25 00:00:00-04:00   96746400        0.0           0.0  \n",
              "2025-09-26 00:00:00-04:00  101332800        0.0           0.0  \n",
              "2025-09-29 00:00:00-04:00    8480169        0.0           0.0  "
            ],
            "text/html": [
              "\n",
              "  <div id=\"df-eb5e2357-af37-4a32-b10c-30068d9677c1\" class=\"colab-df-container\">\n",
              "    <div>\n",
              "<style scoped>\n",
              "    .dataframe tbody tr th:only-of-type {\n",
              "        vertical-align: middle;\n",
              "    }\n",
              "\n",
              "    .dataframe tbody tr th {\n",
              "        vertical-align: top;\n",
              "    }\n",
              "\n",
              "    .dataframe thead th {\n",
              "        text-align: right;\n",
              "    }\n",
              "</style>\n",
              "<table border=\"1\" class=\"dataframe\">\n",
              "  <thead>\n",
              "    <tr style=\"text-align: right;\">\n",
              "      <th></th>\n",
              "      <th>Open</th>\n",
              "      <th>High</th>\n",
              "      <th>Low</th>\n",
              "      <th>Close</th>\n",
              "      <th>Volume</th>\n",
              "      <th>Dividends</th>\n",
              "      <th>Stock Splits</th>\n",
              "    </tr>\n",
              "    <tr>\n",
              "      <th>Date</th>\n",
              "      <th></th>\n",
              "      <th></th>\n",
              "      <th></th>\n",
              "      <th></th>\n",
              "      <th></th>\n",
              "      <th></th>\n",
              "      <th></th>\n",
              "    </tr>\n",
              "  </thead>\n",
              "  <tbody>\n",
              "    <tr>\n",
              "      <th>2025-09-23 00:00:00-04:00</th>\n",
              "      <td>439.880005</td>\n",
              "      <td>440.970001</td>\n",
              "      <td>423.720001</td>\n",
              "      <td>425.850006</td>\n",
              "      <td>83422700</td>\n",
              "      <td>0.0</td>\n",
              "      <td>0.0</td>\n",
              "    </tr>\n",
              "    <tr>\n",
              "      <th>2025-09-24 00:00:00-04:00</th>\n",
              "      <td>429.829987</td>\n",
              "      <td>444.209991</td>\n",
              "      <td>429.029999</td>\n",
              "      <td>442.790009</td>\n",
              "      <td>93133600</td>\n",
              "      <td>0.0</td>\n",
              "      <td>0.0</td>\n",
              "    </tr>\n",
              "    <tr>\n",
              "      <th>2025-09-25 00:00:00-04:00</th>\n",
              "      <td>435.239990</td>\n",
              "      <td>435.350006</td>\n",
              "      <td>419.079987</td>\n",
              "      <td>423.390015</td>\n",
              "      <td>96746400</td>\n",
              "      <td>0.0</td>\n",
              "      <td>0.0</td>\n",
              "    </tr>\n",
              "    <tr>\n",
              "      <th>2025-09-26 00:00:00-04:00</th>\n",
              "      <td>428.299988</td>\n",
              "      <td>440.470001</td>\n",
              "      <td>421.019989</td>\n",
              "      <td>440.399994</td>\n",
              "      <td>101332800</td>\n",
              "      <td>0.0</td>\n",
              "      <td>0.0</td>\n",
              "    </tr>\n",
              "    <tr>\n",
              "      <th>2025-09-29 00:00:00-04:00</th>\n",
              "      <td>444.355011</td>\n",
              "      <td>450.980011</td>\n",
              "      <td>443.000000</td>\n",
              "      <td>449.214996</td>\n",
              "      <td>8480169</td>\n",
              "      <td>0.0</td>\n",
              "      <td>0.0</td>\n",
              "    </tr>\n",
              "  </tbody>\n",
              "</table>\n",
              "</div>\n",
              "    <div class=\"colab-df-buttons\">\n",
              "\n",
              "  <div class=\"colab-df-container\">\n",
              "    <button class=\"colab-df-convert\" onclick=\"convertToInteractive('df-eb5e2357-af37-4a32-b10c-30068d9677c1')\"\n",
              "            title=\"Convert this dataframe to an interactive table.\"\n",
              "            style=\"display:none;\">\n",
              "\n",
              "  <svg xmlns=\"http://www.w3.org/2000/svg\" height=\"24px\" viewBox=\"0 -960 960 960\">\n",
              "    <path d=\"M120-120v-720h720v720H120Zm60-500h600v-160H180v160Zm220 220h160v-160H400v160Zm0 220h160v-160H400v160ZM180-400h160v-160H180v160Zm440 0h160v-160H620v160ZM180-180h160v-160H180v160Zm440 0h160v-160H620v160Z\"/>\n",
              "  </svg>\n",
              "    </button>\n",
              "\n",
              "  <style>\n",
              "    .colab-df-container {\n",
              "      display:flex;\n",
              "      gap: 12px;\n",
              "    }\n",
              "\n",
              "    .colab-df-convert {\n",
              "      background-color: #E8F0FE;\n",
              "      border: none;\n",
              "      border-radius: 50%;\n",
              "      cursor: pointer;\n",
              "      display: none;\n",
              "      fill: #1967D2;\n",
              "      height: 32px;\n",
              "      padding: 0 0 0 0;\n",
              "      width: 32px;\n",
              "    }\n",
              "\n",
              "    .colab-df-convert:hover {\n",
              "      background-color: #E2EBFA;\n",
              "      box-shadow: 0px 1px 2px rgba(60, 64, 67, 0.3), 0px 1px 3px 1px rgba(60, 64, 67, 0.15);\n",
              "      fill: #174EA6;\n",
              "    }\n",
              "\n",
              "    .colab-df-buttons div {\n",
              "      margin-bottom: 4px;\n",
              "    }\n",
              "\n",
              "    [theme=dark] .colab-df-convert {\n",
              "      background-color: #3B4455;\n",
              "      fill: #D2E3FC;\n",
              "    }\n",
              "\n",
              "    [theme=dark] .colab-df-convert:hover {\n",
              "      background-color: #434B5C;\n",
              "      box-shadow: 0px 1px 3px 1px rgba(0, 0, 0, 0.15);\n",
              "      filter: drop-shadow(0px 1px 2px rgba(0, 0, 0, 0.3));\n",
              "      fill: #FFFFFF;\n",
              "    }\n",
              "  </style>\n",
              "\n",
              "    <script>\n",
              "      const buttonEl =\n",
              "        document.querySelector('#df-eb5e2357-af37-4a32-b10c-30068d9677c1 button.colab-df-convert');\n",
              "      buttonEl.style.display =\n",
              "        google.colab.kernel.accessAllowed ? 'block' : 'none';\n",
              "\n",
              "      async function convertToInteractive(key) {\n",
              "        const element = document.querySelector('#df-eb5e2357-af37-4a32-b10c-30068d9677c1');\n",
              "        const dataTable =\n",
              "          await google.colab.kernel.invokeFunction('convertToInteractive',\n",
              "                                                    [key], {});\n",
              "        if (!dataTable) return;\n",
              "\n",
              "        const docLinkHtml = 'Like what you see? Visit the ' +\n",
              "          '<a target=\"_blank\" href=https://colab.research.google.com/notebooks/data_table.ipynb>data table notebook</a>'\n",
              "          + ' to learn more about interactive tables.';\n",
              "        element.innerHTML = '';\n",
              "        dataTable['output_type'] = 'display_data';\n",
              "        await google.colab.output.renderOutput(dataTable, element);\n",
              "        const docLink = document.createElement('div');\n",
              "        docLink.innerHTML = docLinkHtml;\n",
              "        element.appendChild(docLink);\n",
              "      }\n",
              "    </script>\n",
              "  </div>\n",
              "\n",
              "\n",
              "    <div id=\"df-6347dcf7-ecd2-4202-8c2f-0015d0c59086\">\n",
              "      <button class=\"colab-df-quickchart\" onclick=\"quickchart('df-6347dcf7-ecd2-4202-8c2f-0015d0c59086')\"\n",
              "                title=\"Suggest charts\"\n",
              "                style=\"display:none;\">\n",
              "\n",
              "<svg xmlns=\"http://www.w3.org/2000/svg\" height=\"24px\"viewBox=\"0 0 24 24\"\n",
              "     width=\"24px\">\n",
              "    <g>\n",
              "        <path d=\"M19 3H5c-1.1 0-2 .9-2 2v14c0 1.1.9 2 2 2h14c1.1 0 2-.9 2-2V5c0-1.1-.9-2-2-2zM9 17H7v-7h2v7zm4 0h-2V7h2v10zm4 0h-2v-4h2v4z\"/>\n",
              "    </g>\n",
              "</svg>\n",
              "      </button>\n",
              "\n",
              "<style>\n",
              "  .colab-df-quickchart {\n",
              "      --bg-color: #E8F0FE;\n",
              "      --fill-color: #1967D2;\n",
              "      --hover-bg-color: #E2EBFA;\n",
              "      --hover-fill-color: #174EA6;\n",
              "      --disabled-fill-color: #AAA;\n",
              "      --disabled-bg-color: #DDD;\n",
              "  }\n",
              "\n",
              "  [theme=dark] .colab-df-quickchart {\n",
              "      --bg-color: #3B4455;\n",
              "      --fill-color: #D2E3FC;\n",
              "      --hover-bg-color: #434B5C;\n",
              "      --hover-fill-color: #FFFFFF;\n",
              "      --disabled-bg-color: #3B4455;\n",
              "      --disabled-fill-color: #666;\n",
              "  }\n",
              "\n",
              "  .colab-df-quickchart {\n",
              "    background-color: var(--bg-color);\n",
              "    border: none;\n",
              "    border-radius: 50%;\n",
              "    cursor: pointer;\n",
              "    display: none;\n",
              "    fill: var(--fill-color);\n",
              "    height: 32px;\n",
              "    padding: 0;\n",
              "    width: 32px;\n",
              "  }\n",
              "\n",
              "  .colab-df-quickchart:hover {\n",
              "    background-color: var(--hover-bg-color);\n",
              "    box-shadow: 0 1px 2px rgba(60, 64, 67, 0.3), 0 1px 3px 1px rgba(60, 64, 67, 0.15);\n",
              "    fill: var(--button-hover-fill-color);\n",
              "  }\n",
              "\n",
              "  .colab-df-quickchart-complete:disabled,\n",
              "  .colab-df-quickchart-complete:disabled:hover {\n",
              "    background-color: var(--disabled-bg-color);\n",
              "    fill: var(--disabled-fill-color);\n",
              "    box-shadow: none;\n",
              "  }\n",
              "\n",
              "  .colab-df-spinner {\n",
              "    border: 2px solid var(--fill-color);\n",
              "    border-color: transparent;\n",
              "    border-bottom-color: var(--fill-color);\n",
              "    animation:\n",
              "      spin 1s steps(1) infinite;\n",
              "  }\n",
              "\n",
              "  @keyframes spin {\n",
              "    0% {\n",
              "      border-color: transparent;\n",
              "      border-bottom-color: var(--fill-color);\n",
              "      border-left-color: var(--fill-color);\n",
              "    }\n",
              "    20% {\n",
              "      border-color: transparent;\n",
              "      border-left-color: var(--fill-color);\n",
              "      border-top-color: var(--fill-color);\n",
              "    }\n",
              "    30% {\n",
              "      border-color: transparent;\n",
              "      border-left-color: var(--fill-color);\n",
              "      border-top-color: var(--fill-color);\n",
              "      border-right-color: var(--fill-color);\n",
              "    }\n",
              "    40% {\n",
              "      border-color: transparent;\n",
              "      border-right-color: var(--fill-color);\n",
              "      border-top-color: var(--fill-color);\n",
              "    }\n",
              "    60% {\n",
              "      border-color: transparent;\n",
              "      border-right-color: var(--fill-color);\n",
              "    }\n",
              "    80% {\n",
              "      border-color: transparent;\n",
              "      border-right-color: var(--fill-color);\n",
              "      border-bottom-color: var(--fill-color);\n",
              "    }\n",
              "    90% {\n",
              "      border-color: transparent;\n",
              "      border-bottom-color: var(--fill-color);\n",
              "    }\n",
              "  }\n",
              "</style>\n",
              "\n",
              "      <script>\n",
              "        async function quickchart(key) {\n",
              "          const quickchartButtonEl =\n",
              "            document.querySelector('#' + key + ' button');\n",
              "          quickchartButtonEl.disabled = true;  // To prevent multiple clicks.\n",
              "          quickchartButtonEl.classList.add('colab-df-spinner');\n",
              "          try {\n",
              "            const charts = await google.colab.kernel.invokeFunction(\n",
              "                'suggestCharts', [key], {});\n",
              "          } catch (error) {\n",
              "            console.error('Error during call to suggestCharts:', error);\n",
              "          }\n",
              "          quickchartButtonEl.classList.remove('colab-df-spinner');\n",
              "          quickchartButtonEl.classList.add('colab-df-quickchart-complete');\n",
              "        }\n",
              "        (() => {\n",
              "          let quickchartButtonEl =\n",
              "            document.querySelector('#df-6347dcf7-ecd2-4202-8c2f-0015d0c59086 button');\n",
              "          quickchartButtonEl.style.display =\n",
              "            google.colab.kernel.accessAllowed ? 'block' : 'none';\n",
              "        })();\n",
              "      </script>\n",
              "    </div>\n",
              "\n",
              "    </div>\n",
              "  </div>\n"
            ],
            "application/vnd.google.colaboratory.intrinsic+json": {
              "type": "dataframe",
              "summary": "{\n  \"name\": \"hist\",\n  \"rows\": 5,\n  \"fields\": [\n    {\n      \"column\": \"Date\",\n      \"properties\": {\n        \"dtype\": \"date\",\n        \"min\": \"2025-09-23 00:00:00-04:00\",\n        \"max\": \"2025-09-29 00:00:00-04:00\",\n        \"num_unique_values\": 5,\n        \"samples\": [\n          \"2025-09-24 00:00:00-04:00\",\n          \"2025-09-29 00:00:00-04:00\",\n          \"2025-09-25 00:00:00-04:00\"\n        ],\n        \"semantic_type\": \"\",\n        \"description\": \"\"\n      }\n    },\n    {\n      \"column\": \"Open\",\n      \"properties\": {\n        \"dtype\": \"number\",\n        \"std\": 6.738885132052572,\n        \"min\": 428.29998779296875,\n        \"max\": 444.3550109863281,\n        \"num_unique_values\": 5,\n        \"samples\": [\n          429.8299865722656,\n          444.3550109863281,\n          435.239990234375\n        ],\n        \"semantic_type\": \"\",\n        \"description\": \"\"\n      }\n    },\n    {\n      \"column\": \"High\",\n      \"properties\": {\n        \"dtype\": \"number\",\n        \"std\": 5.752494750501267,\n        \"min\": 435.3500061035156,\n        \"max\": 450.9800109863281,\n        \"num_unique_values\": 5,\n        \"samples\": [\n          444.2099914550781,\n          450.9800109863281,\n          435.3500061035156\n        ],\n        \"semantic_type\": \"\",\n        \"description\": \"\"\n      }\n    },\n    {\n      \"column\": \"Low\",\n      \"properties\": {\n        \"dtype\": \"number\",\n        \"std\": 9.607574348253774,\n        \"min\": 419.0799865722656,\n        \"max\": 443.0,\n        \"num_unique_values\": 5,\n        \"samples\": [\n          429.0299987792969,\n          443.0,\n          419.0799865722656\n        ],\n        \"semantic_type\": \"\",\n        \"description\": \"\"\n      }\n    },\n    {\n      \"column\": \"Close\",\n      \"properties\": {\n        \"dtype\": \"number\",\n        \"std\": 11.19813800764804,\n        \"min\": 423.3900146484375,\n        \"max\": 449.2149963378906,\n        \"num_unique_values\": 5,\n        \"samples\": [\n          442.7900085449219,\n          449.2149963378906,\n          423.3900146484375\n        ],\n        \"semantic_type\": \"\",\n        \"description\": \"\"\n      }\n    },\n    {\n      \"column\": \"Volume\",\n      \"properties\": {\n        \"dtype\": \"number\",\n        \"std\": 38658138,\n        \"min\": 8480169,\n        \"max\": 101332800,\n        \"num_unique_values\": 5,\n        \"samples\": [\n          93133600,\n          8480169,\n          96746400\n        ],\n        \"semantic_type\": \"\",\n        \"description\": \"\"\n      }\n    },\n    {\n      \"column\": \"Dividends\",\n      \"properties\": {\n        \"dtype\": \"number\",\n        \"std\": 0.0,\n        \"min\": 0.0,\n        \"max\": 0.0,\n        \"num_unique_values\": 1,\n        \"samples\": [\n          0.0\n        ],\n        \"semantic_type\": \"\",\n        \"description\": \"\"\n      }\n    },\n    {\n      \"column\": \"Stock Splits\",\n      \"properties\": {\n        \"dtype\": \"number\",\n        \"std\": 0.0,\n        \"min\": 0.0,\n        \"max\": 0.0,\n        \"num_unique_values\": 1,\n        \"samples\": [\n          0.0\n        ],\n        \"semantic_type\": \"\",\n        \"description\": \"\"\n      }\n    }\n  ]\n}"
            }
          },
          "metadata": {},
          "execution_count": 8
        }
      ],
      "source": [
        "hist.tail()"
      ]
    },
    {
      "cell_type": "code",
      "execution_count": null,
      "metadata": {
        "id": "ehj38ywnPSQ4"
      },
      "outputs": [],
      "source": []
    },
    {
      "cell_type": "code",
      "execution_count": null,
      "metadata": {
        "id": "GOV9mn8RPSQ4"
      },
      "outputs": [],
      "source": []
    },
    {
      "cell_type": "code",
      "execution_count": null,
      "metadata": {
        "id": "LiYRuN3TPSQ4"
      },
      "outputs": [],
      "source": []
    },
    {
      "cell_type": "markdown",
      "metadata": {
        "id": "JSQiqWlQPSQ5"
      },
      "source": [
        "### Accessing Data Without a Library\n",
        "\n",
        "\n",
        "\n",
        "![](https://github.com/jfkoehler/bootcamp_spr25/blob/master/images/catapi.png?raw=1)"
      ]
    },
    {
      "cell_type": "code",
      "execution_count": null,
      "metadata": {
        "id": "fbyh23-kPSQ5"
      },
      "outputs": [],
      "source": [
        "import requests"
      ]
    },
    {
      "cell_type": "markdown",
      "metadata": {
        "id": "7vdyjaLPPSQ5"
      },
      "source": [
        "Head over to the website [here](https://thecatapi.com/)."
      ]
    },
    {
      "cell_type": "code",
      "execution_count": null,
      "metadata": {
        "id": "ZL0AZzMCPSQ5"
      },
      "outputs": [],
      "source": [
        "#getting that information using requests\n",
        "cat_url = 'https://api.thecatapi.com/v1/images/search'\n",
        "response = requests.get(cat_url)"
      ]
    },
    {
      "cell_type": "code",
      "execution_count": null,
      "metadata": {
        "id": "CR1AhDBbPSQ5",
        "colab": {
          "base_uri": "https://localhost:8080/"
        },
        "outputId": "f7c54bb5-26b3-46a9-8815-1b5caa11a5e5"
      },
      "outputs": [
        {
          "output_type": "execute_result",
          "data": {
            "text/plain": [
              "<Response [200]>"
            ]
          },
          "metadata": {},
          "execution_count": 11
        }
      ],
      "source": [
        "#results\n",
        "response"
      ]
    },
    {
      "cell_type": "code",
      "source": [
        "response.text"
      ],
      "metadata": {
        "colab": {
          "base_uri": "https://localhost:8080/",
          "height": 35
        },
        "id": "3iRfyRlBYF-q",
        "outputId": "ca34bacd-1752-4974-bc35-a2aa472688fb"
      },
      "execution_count": null,
      "outputs": [
        {
          "output_type": "execute_result",
          "data": {
            "text/plain": [
              "'[{\"id\":\"9lj\",\"url\":\"https://cdn2.thecatapi.com/images/9lj.jpg\",\"width\":612,\"height\":612}]'"
            ],
            "application/vnd.google.colaboratory.intrinsic+json": {
              "type": "string"
            }
          },
          "metadata": {},
          "execution_count": 12
        }
      ]
    },
    {
      "cell_type": "code",
      "source": [
        "type(response.text)"
      ],
      "metadata": {
        "colab": {
          "base_uri": "https://localhost:8080/"
        },
        "id": "frGBZ-sKHuhP",
        "outputId": "6761ef14-390d-40dd-b66f-166a0ed240d2"
      },
      "execution_count": null,
      "outputs": [
        {
          "output_type": "execute_result",
          "data": {
            "text/plain": [
              "str"
            ]
          },
          "metadata": {},
          "execution_count": 13
        }
      ]
    },
    {
      "cell_type": "code",
      "source": [
        "response.json()"
      ],
      "metadata": {
        "colab": {
          "base_uri": "https://localhost:8080/"
        },
        "id": "NqkE2EuuYjkI",
        "outputId": "e173cea8-607e-49b2-ce68-e54439879a9f"
      },
      "execution_count": null,
      "outputs": [
        {
          "output_type": "execute_result",
          "data": {
            "text/plain": [
              "[{'id': '9lj',\n",
              "  'url': 'https://cdn2.thecatapi.com/images/9lj.jpg',\n",
              "  'width': 612,\n",
              "  'height': 612}]"
            ]
          },
          "metadata": {},
          "execution_count": 14
        }
      ]
    },
    {
      "cell_type": "code",
      "source": [
        "cat_data = response.json()\n",
        "cat_data"
      ],
      "metadata": {
        "colab": {
          "base_uri": "https://localhost:8080/"
        },
        "id": "WGZ0EBGIY4MR",
        "outputId": "29416b3b-0a57-4f13-84dc-91e6c8957049"
      },
      "execution_count": null,
      "outputs": [
        {
          "output_type": "execute_result",
          "data": {
            "text/plain": [
              "[{'id': '9lj',\n",
              "  'url': 'https://cdn2.thecatapi.com/images/9lj.jpg',\n",
              "  'width': 612,\n",
              "  'height': 612}]"
            ]
          },
          "metadata": {},
          "execution_count": 15
        }
      ]
    },
    {
      "cell_type": "code",
      "source": [
        "cat_data[0]"
      ],
      "metadata": {
        "colab": {
          "base_uri": "https://localhost:8080/"
        },
        "id": "41lkwuN9umxH",
        "outputId": "574cb549-d0af-45c0-f308-f9c79f2a1680"
      },
      "execution_count": null,
      "outputs": [
        {
          "output_type": "execute_result",
          "data": {
            "text/plain": [
              "{'id': '9lj',\n",
              " 'url': 'https://cdn2.thecatapi.com/images/9lj.jpg',\n",
              " 'width': 612,\n",
              " 'height': 612}"
            ]
          },
          "metadata": {},
          "execution_count": 16
        }
      ]
    },
    {
      "cell_type": "code",
      "source": [
        "cat_data[0]['url']"
      ],
      "metadata": {
        "colab": {
          "base_uri": "https://localhost:8080/",
          "height": 35
        },
        "id": "TJdRX1_qZH3D",
        "outputId": "9c5c740a-cb0e-4b9d-952a-b40d3e7e03b6"
      },
      "execution_count": null,
      "outputs": [
        {
          "output_type": "execute_result",
          "data": {
            "text/plain": [
              "'https://cdn2.thecatapi.com/images/9lj.jpg'"
            ],
            "application/vnd.google.colaboratory.intrinsic+json": {
              "type": "string"
            }
          },
          "metadata": {},
          "execution_count": 17
        }
      ]
    },
    {
      "cell_type": "code",
      "source": [
        "from IPython.display import Image"
      ],
      "metadata": {
        "id": "6BVmfogxZoMP"
      },
      "execution_count": null,
      "outputs": []
    },
    {
      "cell_type": "code",
      "source": [
        "Image(url = cat_data[0]['url'])"
      ],
      "metadata": {
        "colab": {
          "base_uri": "https://localhost:8080/",
          "height": 633
        },
        "id": "jsq8KZ_QZsfR",
        "outputId": "d388e5b4-fdde-4e7d-d08c-7ed6ce426b13"
      },
      "execution_count": null,
      "outputs": [
        {
          "output_type": "execute_result",
          "data": {
            "text/html": [
              "<img src=\"https://cdn2.thecatapi.com/images/9lj.jpg\"/>"
            ],
            "text/plain": [
              "<IPython.core.display.Image object>"
            ]
          },
          "metadata": {},
          "execution_count": 19
        }
      ]
    },
    {
      "cell_type": "markdown",
      "metadata": {
        "id": "db-tRIv-PSQ5"
      },
      "source": [
        "**Response**\n",
        "\n",
        "- Random Cat: https://api.thecatapi.com/v1/images/search\n",
        "- 10 Bengal Cats: https://api.thecatapi.com/v1/images/search?limit=10&breed_ids=beng&api_key=REPLACE_ME"
      ]
    },
    {
      "cell_type": "code",
      "execution_count": null,
      "metadata": {
        "id": "xGafhnDqPSQ5"
      },
      "outputs": [],
      "source": [
        "#url for a random cat\n",
        "cats_url = 'https://api.thecatapi.com/v1/images/search?limit=10'"
      ]
    },
    {
      "cell_type": "code",
      "execution_count": null,
      "metadata": {
        "id": "Kxr5Og5-PSQ6"
      },
      "outputs": [],
      "source": [
        "#request of the url\n",
        "r = requests.get(cats_url)"
      ]
    },
    {
      "cell_type": "code",
      "execution_count": null,
      "metadata": {
        "id": "SKa6HVydPSQ6",
        "colab": {
          "base_uri": "https://localhost:8080/"
        },
        "outputId": "aa5d9075-3661-4b14-f795-6e0324221e48"
      },
      "outputs": [
        {
          "output_type": "execute_result",
          "data": {
            "text/plain": [
              "<Response [200]>"
            ]
          },
          "metadata": {},
          "execution_count": 22
        }
      ],
      "source": [
        "#look at response code\n",
        "r"
      ]
    },
    {
      "cell_type": "code",
      "execution_count": null,
      "metadata": {
        "id": "aoFovYstPSQ6",
        "colab": {
          "base_uri": "https://localhost:8080/",
          "height": 105
        },
        "outputId": "3026e287-0fe5-4dde-8579-9090e069aea4"
      },
      "outputs": [
        {
          "output_type": "execute_result",
          "data": {
            "text/plain": [
              "'[{\"id\":\"jj\",\"url\":\"https://cdn2.thecatapi.com/images/jj.jpg\",\"width\":900,\"height\":600},{\"id\":\"3bo\",\"url\":\"https://cdn2.thecatapi.com/images/3bo.jpg\",\"width\":700,\"height\":394},{\"id\":\"3md\",\"url\":\"https://cdn2.thecatapi.com/images/3md.jpg\",\"width\":500,\"height\":277},{\"id\":\"7mf\",\"url\":\"https://cdn2.thecatapi.com/images/7mf.jpg\",\"width\":432,\"height\":288},{\"id\":\"a6v\",\"url\":\"https://cdn2.thecatapi.com/images/a6v.jpg\",\"width\":520,\"height\":345},{\"id\":\"bqr\",\"url\":\"https://cdn2.thecatapi.com/images/bqr.jpg\",\"width\":800,\"height\":533},{\"id\":\"dqg\",\"url\":\"https://cdn2.thecatapi.com/images/dqg.jpg\",\"width\":1936,\"height\":2592},{\"id\":\"e61\",\"url\":\"https://cdn2.thecatapi.com/images/e61.jpg\",\"width\":500,\"height\":432},{\"id\":\"MTgxOTExNg\",\"url\":\"https://cdn2.thecatapi.com/images/MTgxOTExNg.jpg\",\"width\":599,\"height\":448},{\"id\":\"lClcFEjwx\",\"url\":\"https://cdn2.thecatapi.com/images/lClcFEjwx.jpg\",\"width\":1584,\"height\":1000}]'"
            ],
            "application/vnd.google.colaboratory.intrinsic+json": {
              "type": "string"
            }
          },
          "metadata": {},
          "execution_count": 23
        }
      ],
      "source": [
        "#text of request\n",
        "r.text"
      ]
    },
    {
      "cell_type": "code",
      "execution_count": null,
      "metadata": {
        "id": "c0cnaupVPSQ6",
        "colab": {
          "base_uri": "https://localhost:8080/"
        },
        "outputId": "07a46b0a-5f1b-4735-d614-a9aea4471c60"
      },
      "outputs": [
        {
          "output_type": "execute_result",
          "data": {
            "text/plain": [
              "[{'id': 'jj',\n",
              "  'url': 'https://cdn2.thecatapi.com/images/jj.jpg',\n",
              "  'width': 900,\n",
              "  'height': 600},\n",
              " {'id': '3bo',\n",
              "  'url': 'https://cdn2.thecatapi.com/images/3bo.jpg',\n",
              "  'width': 700,\n",
              "  'height': 394},\n",
              " {'id': '3md',\n",
              "  'url': 'https://cdn2.thecatapi.com/images/3md.jpg',\n",
              "  'width': 500,\n",
              "  'height': 277},\n",
              " {'id': '7mf',\n",
              "  'url': 'https://cdn2.thecatapi.com/images/7mf.jpg',\n",
              "  'width': 432,\n",
              "  'height': 288},\n",
              " {'id': 'a6v',\n",
              "  'url': 'https://cdn2.thecatapi.com/images/a6v.jpg',\n",
              "  'width': 520,\n",
              "  'height': 345},\n",
              " {'id': 'bqr',\n",
              "  'url': 'https://cdn2.thecatapi.com/images/bqr.jpg',\n",
              "  'width': 800,\n",
              "  'height': 533},\n",
              " {'id': 'dqg',\n",
              "  'url': 'https://cdn2.thecatapi.com/images/dqg.jpg',\n",
              "  'width': 1936,\n",
              "  'height': 2592},\n",
              " {'id': 'e61',\n",
              "  'url': 'https://cdn2.thecatapi.com/images/e61.jpg',\n",
              "  'width': 500,\n",
              "  'height': 432},\n",
              " {'id': 'MTgxOTExNg',\n",
              "  'url': 'https://cdn2.thecatapi.com/images/MTgxOTExNg.jpg',\n",
              "  'width': 599,\n",
              "  'height': 448},\n",
              " {'id': 'lClcFEjwx',\n",
              "  'url': 'https://cdn2.thecatapi.com/images/lClcFEjwx.jpg',\n",
              "  'width': 1584,\n",
              "  'height': 1000}]"
            ]
          },
          "metadata": {},
          "execution_count": 24
        }
      ],
      "source": [
        "#examine the json\n",
        "data = r.json()\n",
        "data"
      ]
    },
    {
      "cell_type": "code",
      "source": [
        "data[2]['url']"
      ],
      "metadata": {
        "colab": {
          "base_uri": "https://localhost:8080/",
          "height": 35
        },
        "id": "fbc3wvHUvpKY",
        "outputId": "0568dc56-f192-46ba-d3ea-fc6c7c388655"
      },
      "execution_count": null,
      "outputs": [
        {
          "output_type": "execute_result",
          "data": {
            "text/plain": [
              "'https://cdn2.thecatapi.com/images/3md.jpg'"
            ],
            "application/vnd.google.colaboratory.intrinsic+json": {
              "type": "string"
            }
          },
          "metadata": {},
          "execution_count": 27
        }
      ]
    },
    {
      "cell_type": "code",
      "source": [
        "Image(data[2]['url'])"
      ],
      "metadata": {
        "colab": {
          "base_uri": "https://localhost:8080/",
          "height": 294
        },
        "id": "77c2QVbivpHQ",
        "outputId": "efedf0e6-d09d-42fa-9149-5b7ce11f0a51"
      },
      "execution_count": null,
      "outputs": [
        {
          "output_type": "execute_result",
          "data": {
            "image/jpeg": "[encoded data removed]",
            "text/plain": [
              "<IPython.core.display.Image object>"
            ]
          },
          "metadata": {},
          "execution_count": 28
        }
      ]
    },
    {
      "cell_type": "code",
      "source": [],
      "metadata": {
        "id": "8z52iZtwvpEa"
      },
      "execution_count": null,
      "outputs": []
    },
    {
      "cell_type": "code",
      "source": [
        "pd.DataFrame(data)"
      ],
      "metadata": {
        "colab": {
          "base_uri": "https://localhost:8080/",
          "height": 363
        },
        "id": "9Cq1cUS3JDwg",
        "outputId": "0fad8bcb-63d0-402d-8969-c9a8c8abd8cc"
      },
      "execution_count": null,
      "outputs": [
        {
          "output_type": "execute_result",
          "data": {
            "text/plain": [
              "           id                                               url  width  height\n",
              "0          jj          https://cdn2.thecatapi.com/images/jj.jpg    900     600\n",
              "1         3bo         https://cdn2.thecatapi.com/images/3bo.jpg    700     394\n",
              "2         3md         https://cdn2.thecatapi.com/images/3md.jpg    500     277\n",
              "3         7mf         https://cdn2.thecatapi.com/images/7mf.jpg    432     288\n",
              "4         a6v         https://cdn2.thecatapi.com/images/a6v.jpg    520     345\n",
              "5         bqr         https://cdn2.thecatapi.com/images/bqr.jpg    800     533\n",
              "6         dqg         https://cdn2.thecatapi.com/images/dqg.jpg   1936    2592\n",
              "7         e61         https://cdn2.thecatapi.com/images/e61.jpg    500     432\n",
              "8  MTgxOTExNg  https://cdn2.thecatapi.com/images/MTgxOTExNg.jpg    599     448\n",
              "9   lClcFEjwx   https://cdn2.thecatapi.com/images/lClcFEjwx.jpg   1584    1000"
            ],
            "text/html": [
              "\n",
              "  <div id=\"df-1e794e37-d794-45de-b7ef-7d870de9e700\" class=\"colab-df-container\">\n",
              "    <div>\n",
              "<style scoped>\n",
              "    .dataframe tbody tr th:only-of-type {\n",
              "        vertical-align: middle;\n",
              "    }\n",
              "\n",
              "    .dataframe tbody tr th {\n",
              "        vertical-align: top;\n",
              "    }\n",
              "\n",
              "    .dataframe thead th {\n",
              "        text-align: right;\n",
              "    }\n",
              "</style>\n",
              "<table border=\"1\" class=\"dataframe\">\n",
              "  <thead>\n",
              "    <tr style=\"text-align: right;\">\n",
              "      <th></th>\n",
              "      <th>id</th>\n",
              "      <th>url</th>\n",
              "      <th>width</th>\n",
              "      <th>height</th>\n",
              "    </tr>\n",
              "  </thead>\n",
              "  <tbody>\n",
              "    <tr>\n",
              "      <th>0</th>\n",
              "      <td>jj</td>\n",
              "      <td>https://cdn2.thecatapi.com/images/jj.jpg</td>\n",
              "      <td>900</td>\n",
              "      <td>600</td>\n",
              "    </tr>\n",
              "    <tr>\n",
              "      <th>1</th>\n",
              "      <td>3bo</td>\n",
              "      <td>https://cdn2.thecatapi.com/images/3bo.jpg</td>\n",
              "      <td>700</td>\n",
              "      <td>394</td>\n",
              "    </tr>\n",
              "    <tr>\n",
              "      <th>2</th>\n",
              "      <td>3md</td>\n",
              "      <td>https://cdn2.thecatapi.com/images/3md.jpg</td>\n",
              "      <td>500</td>\n",
              "      <td>277</td>\n",
              "    </tr>\n",
              "    <tr>\n",
              "      <th>3</th>\n",
              "      <td>7mf</td>\n",
              "      <td>https://cdn2.thecatapi.com/images/7mf.jpg</td>\n",
              "      <td>432</td>\n",
              "      <td>288</td>\n",
              "    </tr>\n",
              "    <tr>\n",
              "      <th>4</th>\n",
              "      <td>a6v</td>\n",
              "      <td>https://cdn2.thecatapi.com/images/a6v.jpg</td>\n",
              "      <td>520</td>\n",
              "      <td>345</td>\n",
              "    </tr>\n",
              "    <tr>\n",
              "      <th>5</th>\n",
              "      <td>bqr</td>\n",
              "      <td>https://cdn2.thecatapi.com/images/bqr.jpg</td>\n",
              "      <td>800</td>\n",
              "      <td>533</td>\n",
              "    </tr>\n",
              "    <tr>\n",
              "      <th>6</th>\n",
              "      <td>dqg</td>\n",
              "      <td>https://cdn2.thecatapi.com/images/dqg.jpg</td>\n",
              "      <td>1936</td>\n",
              "      <td>2592</td>\n",
              "    </tr>\n",
              "    <tr>\n",
              "      <th>7</th>\n",
              "      <td>e61</td>\n",
              "      <td>https://cdn2.thecatapi.com/images/e61.jpg</td>\n",
              "      <td>500</td>\n",
              "      <td>432</td>\n",
              "    </tr>\n",
              "    <tr>\n",
              "      <th>8</th>\n",
              "      <td>MTgxOTExNg</td>\n",
              "      <td>https://cdn2.thecatapi.com/images/MTgxOTExNg.jpg</td>\n",
              "      <td>599</td>\n",
              "      <td>448</td>\n",
              "    </tr>\n",
              "    <tr>\n",
              "      <th>9</th>\n",
              "      <td>lClcFEjwx</td>\n",
              "      <td>https://cdn2.thecatapi.com/images/lClcFEjwx.jpg</td>\n",
              "      <td>1584</td>\n",
              "      <td>1000</td>\n",
              "    </tr>\n",
              "  </tbody>\n",
              "</table>\n",
              "</div>\n",
              "    <div class=\"colab-df-buttons\">\n",
              "\n",
              "  <div class=\"colab-df-container\">\n",
              "    <button class=\"colab-df-convert\" onclick=\"convertToInteractive('df-1e794e37-d794-45de-b7ef-7d870de9e700')\"\n",
              "            title=\"Convert this dataframe to an interactive table.\"\n",
              "            style=\"display:none;\">\n",
              "\n",
              "  <svg xmlns=\"http://www.w3.org/2000/svg\" height=\"24px\" viewBox=\"0 -960 960 960\">\n",
              "    <path d=\"M120-120v-720h720v720H120Zm60-500h600v-160H180v160Zm220 220h160v-160H400v160Zm0 220h160v-160H400v160ZM180-400h160v-160H180v160Zm440 0h160v-160H620v160ZM180-180h160v-160H180v160Zm440 0h160v-160H620v160Z\"/>\n",
              "  </svg>\n",
              "    </button>\n",
              "\n",
              "  <style>\n",
              "    .colab-df-container {\n",
              "      display:flex;\n",
              "      gap: 12px;\n",
              "    }\n",
              "\n",
              "    .colab-df-convert {\n",
              "      background-color: #E8F0FE;\n",
              "      border: none;\n",
              "      border-radius: 50%;\n",
              "      cursor: pointer;\n",
              "      display: none;\n",
              "      fill: #1967D2;\n",
              "      height: 32px;\n",
              "      padding: 0 0 0 0;\n",
              "      width: 32px;\n",
              "    }\n",
              "\n",
              "    .colab-df-convert:hover {\n",
              "      background-color: #E2EBFA;\n",
              "      box-shadow: 0px 1px 2px rgba(60, 64, 67, 0.3), 0px 1px 3px 1px rgba(60, 64, 67, 0.15);\n",
              "      fill: #174EA6;\n",
              "    }\n",
              "\n",
              "    .colab-df-buttons div {\n",
              "      margin-bottom: 4px;\n",
              "    }\n",
              "\n",
              "    [theme=dark] .colab-df-convert {\n",
              "      background-color: #3B4455;\n",
              "      fill: #D2E3FC;\n",
              "    }\n",
              "\n",
              "    [theme=dark] .colab-df-convert:hover {\n",
              "      background-color: #434B5C;\n",
              "      box-shadow: 0px 1px 3px 1px rgba(0, 0, 0, 0.15);\n",
              "      filter: drop-shadow(0px 1px 2px rgba(0, 0, 0, 0.3));\n",
              "      fill: #FFFFFF;\n",
              "    }\n",
              "  </style>\n",
              "\n",
              "    <script>\n",
              "      const buttonEl =\n",
              "        document.querySelector('#df-1e794e37-d794-45de-b7ef-7d870de9e700 button.colab-df-convert');\n",
              "      buttonEl.style.display =\n",
              "        google.colab.kernel.accessAllowed ? 'block' : 'none';\n",
              "\n",
              "      async function convertToInteractive(key) {\n",
              "        const element = document.querySelector('#df-1e794e37-d794-45de-b7ef-7d870de9e700');\n",
              "        const dataTable =\n",
              "          await google.colab.kernel.invokeFunction('convertToInteractive',\n",
              "                                                    [key], {});\n",
              "        if (!dataTable) return;\n",
              "\n",
              "        const docLinkHtml = 'Like what you see? Visit the ' +\n",
              "          '<a target=\"_blank\" href=https://colab.research.google.com/notebooks/data_table.ipynb>data table notebook</a>'\n",
              "          + ' to learn more about interactive tables.';\n",
              "        element.innerHTML = '';\n",
              "        dataTable['output_type'] = 'display_data';\n",
              "        await google.colab.output.renderOutput(dataTable, element);\n",
              "        const docLink = document.createElement('div');\n",
              "        docLink.innerHTML = docLinkHtml;\n",
              "        element.appendChild(docLink);\n",
              "      }\n",
              "    </script>\n",
              "  </div>\n",
              "\n",
              "\n",
              "    <div id=\"df-41313a2e-e9f9-4a22-8347-471f226b81bc\">\n",
              "      <button class=\"colab-df-quickchart\" onclick=\"quickchart('df-41313a2e-e9f9-4a22-8347-471f226b81bc')\"\n",
              "                title=\"Suggest charts\"\n",
              "                style=\"display:none;\">\n",
              "\n",
              "<svg xmlns=\"http://www.w3.org/2000/svg\" height=\"24px\"viewBox=\"0 0 24 24\"\n",
              "     width=\"24px\">\n",
              "    <g>\n",
              "        <path d=\"M19 3H5c-1.1 0-2 .9-2 2v14c0 1.1.9 2 2 2h14c1.1 0 2-.9 2-2V5c0-1.1-.9-2-2-2zM9 17H7v-7h2v7zm4 0h-2V7h2v10zm4 0h-2v-4h2v4z\"/>\n",
              "    </g>\n",
              "</svg>\n",
              "      </button>\n",
              "\n",
              "<style>\n",
              "  .colab-df-quickchart {\n",
              "      --bg-color: #E8F0FE;\n",
              "      --fill-color: #1967D2;\n",
              "      --hover-bg-color: #E2EBFA;\n",
              "      --hover-fill-color: #174EA6;\n",
              "      --disabled-fill-color: #AAA;\n",
              "      --disabled-bg-color: #DDD;\n",
              "  }\n",
              "\n",
              "  [theme=dark] .colab-df-quickchart {\n",
              "      --bg-color: #3B4455;\n",
              "      --fill-color: #D2E3FC;\n",
              "      --hover-bg-color: #434B5C;\n",
              "      --hover-fill-color: #FFFFFF;\n",
              "      --disabled-bg-color: #3B4455;\n",
              "      --disabled-fill-color: #666;\n",
              "  }\n",
              "\n",
              "  .colab-df-quickchart {\n",
              "    background-color: var(--bg-color);\n",
              "    border: none;\n",
              "    border-radius: 50%;\n",
              "    cursor: pointer;\n",
              "    display: none;\n",
              "    fill: var(--fill-color);\n",
              "    height: 32px;\n",
              "    padding: 0;\n",
              "    width: 32px;\n",
              "  }\n",
              "\n",
              "  .colab-df-quickchart:hover {\n",
              "    background-color: var(--hover-bg-color);\n",
              "    box-shadow: 0 1px 2px rgba(60, 64, 67, 0.3), 0 1px 3px 1px rgba(60, 64, 67, 0.15);\n",
              "    fill: var(--button-hover-fill-color);\n",
              "  }\n",
              "\n",
              "  .colab-df-quickchart-complete:disabled,\n",
              "  .colab-df-quickchart-complete:disabled:hover {\n",
              "    background-color: var(--disabled-bg-color);\n",
              "    fill: var(--disabled-fill-color);\n",
              "    box-shadow: none;\n",
              "  }\n",
              "\n",
              "  .colab-df-spinner {\n",
              "    border: 2px solid var(--fill-color);\n",
              "    border-color: transparent;\n",
              "    border-bottom-color: var(--fill-color);\n",
              "    animation:\n",
              "      spin 1s steps(1) infinite;\n",
              "  }\n",
              "\n",
              "  @keyframes spin {\n",
              "    0% {\n",
              "      border-color: transparent;\n",
              "      border-bottom-color: var(--fill-color);\n",
              "      border-left-color: var(--fill-color);\n",
              "    }\n",
              "    20% {\n",
              "      border-color: transparent;\n",
              "      border-left-color: var(--fill-color);\n",
              "      border-top-color: var(--fill-color);\n",
              "    }\n",
              "    30% {\n",
              "      border-color: transparent;\n",
              "      border-left-color: var(--fill-color);\n",
              "      border-top-color: var(--fill-color);\n",
              "      border-right-color: var(--fill-color);\n",
              "    }\n",
              "    40% {\n",
              "      border-color: transparent;\n",
              "      border-right-color: var(--fill-color);\n",
              "      border-top-color: var(--fill-color);\n",
              "    }\n",
              "    60% {\n",
              "      border-color: transparent;\n",
              "      border-right-color: var(--fill-color);\n",
              "    }\n",
              "    80% {\n",
              "      border-color: transparent;\n",
              "      border-right-color: var(--fill-color);\n",
              "      border-bottom-color: var(--fill-color);\n",
              "    }\n",
              "    90% {\n",
              "      border-color: transparent;\n",
              "      border-bottom-color: var(--fill-color);\n",
              "    }\n",
              "  }\n",
              "</style>\n",
              "\n",
              "      <script>\n",
              "        async function quickchart(key) {\n",
              "          const quickchartButtonEl =\n",
              "            document.querySelector('#' + key + ' button');\n",
              "          quickchartButtonEl.disabled = true;  // To prevent multiple clicks.\n",
              "          quickchartButtonEl.classList.add('colab-df-spinner');\n",
              "          try {\n",
              "            const charts = await google.colab.kernel.invokeFunction(\n",
              "                'suggestCharts', [key], {});\n",
              "          } catch (error) {\n",
              "            console.error('Error during call to suggestCharts:', error);\n",
              "          }\n",
              "          quickchartButtonEl.classList.remove('colab-df-spinner');\n",
              "          quickchartButtonEl.classList.add('colab-df-quickchart-complete');\n",
              "        }\n",
              "        (() => {\n",
              "          let quickchartButtonEl =\n",
              "            document.querySelector('#df-41313a2e-e9f9-4a22-8347-471f226b81bc button');\n",
              "          quickchartButtonEl.style.display =\n",
              "            google.colab.kernel.accessAllowed ? 'block' : 'none';\n",
              "        })();\n",
              "      </script>\n",
              "    </div>\n",
              "\n",
              "    </div>\n",
              "  </div>\n"
            ],
            "application/vnd.google.colaboratory.intrinsic+json": {
              "type": "dataframe",
              "summary": "{\n  \"name\": \"pd\",\n  \"rows\": 10,\n  \"fields\": [\n    {\n      \"column\": \"id\",\n      \"properties\": {\n        \"dtype\": \"string\",\n        \"num_unique_values\": 10,\n        \"samples\": [\n          \"MTgxOTExNg\",\n          \"3bo\",\n          \"bqr\"\n        ],\n        \"semantic_type\": \"\",\n        \"description\": \"\"\n      }\n    },\n    {\n      \"column\": \"url\",\n      \"properties\": {\n        \"dtype\": \"string\",\n        \"num_unique_values\": 10,\n        \"samples\": [\n          \"https://cdn2.thecatapi.com/images/MTgxOTExNg.jpg\",\n          \"https://cdn2.thecatapi.com/images/3bo.jpg\",\n          \"https://cdn2.thecatapi.com/images/bqr.jpg\"\n        ],\n        \"semantic_type\": \"\",\n        \"description\": \"\"\n      }\n    },\n    {\n      \"column\": \"width\",\n      \"properties\": {\n        \"dtype\": \"number\",\n        \"std\": 509,\n        \"min\": 432,\n        \"max\": 1936,\n        \"num_unique_values\": 9,\n        \"samples\": [\n          599,\n          700,\n          800\n        ],\n        \"semantic_type\": \"\",\n        \"description\": \"\"\n      }\n    },\n    {\n      \"column\": \"height\",\n      \"properties\": {\n        \"dtype\": \"number\",\n        \"std\": 700,\n        \"min\": 277,\n        \"max\": 2592,\n        \"num_unique_values\": 10,\n        \"samples\": [\n          448,\n          394,\n          533\n        ],\n        \"semantic_type\": \"\",\n        \"description\": \"\"\n      }\n    }\n  ]\n}"
            }
          },
          "metadata": {},
          "execution_count": 29
        }
      ]
    },
    {
      "cell_type": "code",
      "source": [
        "for cat in data:\n",
        "  print(cat['url'])"
      ],
      "metadata": {
        "colab": {
          "base_uri": "https://localhost:8080/"
        },
        "id": "rirN-1tPI6KR",
        "outputId": "c30c9dca-8367-490b-d544-0eb6e77680c7"
      },
      "execution_count": null,
      "outputs": [
        {
          "output_type": "stream",
          "name": "stdout",
          "text": [
            "https://cdn2.thecatapi.com/images/jj.jpg\n",
            "https://cdn2.thecatapi.com/images/3bo.jpg\n",
            "https://cdn2.thecatapi.com/images/3md.jpg\n",
            "https://cdn2.thecatapi.com/images/7mf.jpg\n",
            "https://cdn2.thecatapi.com/images/a6v.jpg\n",
            "https://cdn2.thecatapi.com/images/bqr.jpg\n",
            "https://cdn2.thecatapi.com/images/dqg.jpg\n",
            "https://cdn2.thecatapi.com/images/e61.jpg\n",
            "https://cdn2.thecatapi.com/images/MTgxOTExNg.jpg\n",
            "https://cdn2.thecatapi.com/images/lClcFEjwx.jpg\n"
          ]
        }
      ]
    },
    {
      "cell_type": "code",
      "execution_count": null,
      "metadata": {
        "id": "iF7IfykfPSQ6",
        "colab": {
          "base_uri": "https://localhost:8080/"
        },
        "outputId": "28180976-2ccd-47f0-c0c1-cb5ea32ffff3"
      },
      "outputs": [
        {
          "output_type": "execute_result",
          "data": {
            "text/plain": [
              "<Response [200]>"
            ]
          },
          "metadata": {},
          "execution_count": 31
        }
      ],
      "source": [
        "#repeat for bengal cats\n",
        "url = 'https://api.thecatapi.com/v1/images/search?limit=10&breed_ids=beng&api_key=REPLACE_ME'\n",
        "\n",
        "r = requests.get(url)\n",
        "r\n"
      ]
    },
    {
      "cell_type": "code",
      "execution_count": null,
      "metadata": {
        "id": "951xvzQbPSQ6",
        "colab": {
          "base_uri": "https://localhost:8080/",
          "height": 105
        },
        "outputId": "00ad248f-65a9-47f1-c339-3b375c0abc03"
      },
      "outputs": [
        {
          "output_type": "execute_result",
          "data": {
            "text/plain": [
              "'[{\"id\":\"8ciqdpaO5\",\"url\":\"https://cdn2.thecatapi.com/images/8ciqdpaO5.jpg\",\"width\":1080,\"height\":809},{\"id\":\"aaxNf4D0H\",\"url\":\"https://cdn2.thecatapi.com/images/aaxNf4D0H.jpg\",\"width\":1080,\"height\":1350},{\"id\":\"GAmy2bg8G\",\"url\":\"https://cdn2.thecatapi.com/images/GAmy2bg8G.jpg\",\"width\":750,\"height\":750},{\"id\":\"Rl39SPjDO\",\"url\":\"https://cdn2.thecatapi.com/images/Rl39SPjDO.png\",\"width\":1198,\"height\":1379},{\"id\":\"8RsP7Xt3h\",\"url\":\"https://cdn2.thecatapi.com/images/8RsP7Xt3h.jpg\",\"width\":1024,\"height\":817},{\"id\":\"byQhFO7iV\",\"url\":\"https://cdn2.thecatapi.com/images/byQhFO7iV.jpg\",\"width\":1795,\"height\":2397},{\"id\":\"H_UWbOfra\",\"url\":\"https://cdn2.thecatapi.com/images/H_UWbOfra.jpg\",\"width\":1200,\"height\":1200},{\"id\":\"NwMUoJYmT\",\"url\":\"https://cdn2.thecatapi.com/images/NwMUoJYmT.jpg\",\"width\":2160,\"height\":1440},{\"id\":\"sPMOo3Jn2\",\"url\":\"https://cdn2.thecatapi.com/images/sPMOo3Jn2.jpg\",\"width\":880,\"height\":1100},{\"id\":\"ZocD-pQxd\",\"url\":\"https://cdn2.thecatapi.com/images/ZocD-pQxd.jpg\",\"width\":880,\"height\":1100}]'"
            ],
            "application/vnd.google.colaboratory.intrinsic+json": {
              "type": "string"
            }
          },
          "metadata": {},
          "execution_count": 32
        }
      ],
      "source": [
        "#extract the links to images\n",
        "r.text"
      ]
    },
    {
      "cell_type": "code",
      "source": [
        "cat_json = r.json()\n",
        "cat_json[:3]"
      ],
      "metadata": {
        "colab": {
          "base_uri": "https://localhost:8080/"
        },
        "id": "4BZByM5ux8Xx",
        "outputId": "d2c116e8-2589-4af4-a10c-42e038eb08e1"
      },
      "execution_count": null,
      "outputs": [
        {
          "output_type": "execute_result",
          "data": {
            "text/plain": [
              "[{'id': '8ciqdpaO5',\n",
              "  'url': 'https://cdn2.thecatapi.com/images/8ciqdpaO5.jpg',\n",
              "  'width': 1080,\n",
              "  'height': 809},\n",
              " {'id': 'aaxNf4D0H',\n",
              "  'url': 'https://cdn2.thecatapi.com/images/aaxNf4D0H.jpg',\n",
              "  'width': 1080,\n",
              "  'height': 1350},\n",
              " {'id': 'GAmy2bg8G',\n",
              "  'url': 'https://cdn2.thecatapi.com/images/GAmy2bg8G.jpg',\n",
              "  'width': 750,\n",
              "  'height': 750}]"
            ]
          },
          "metadata": {},
          "execution_count": 34
        }
      ]
    },
    {
      "cell_type": "code",
      "source": [
        "for cat in cat_json:\n",
        "  print(cat['url'])"
      ],
      "metadata": {
        "colab": {
          "base_uri": "https://localhost:8080/"
        },
        "id": "WzWaj2USyLHU",
        "outputId": "8374d53e-5bca-44dd-c7c0-842fd04eeb63"
      },
      "execution_count": null,
      "outputs": [
        {
          "output_type": "stream",
          "name": "stdout",
          "text": [
            "https://cdn2.thecatapi.com/images/8ciqdpaO5.jpg\n",
            "https://cdn2.thecatapi.com/images/aaxNf4D0H.jpg\n",
            "https://cdn2.thecatapi.com/images/GAmy2bg8G.jpg\n",
            "https://cdn2.thecatapi.com/images/Rl39SPjDO.png\n",
            "https://cdn2.thecatapi.com/images/8RsP7Xt3h.jpg\n",
            "https://cdn2.thecatapi.com/images/byQhFO7iV.jpg\n",
            "https://cdn2.thecatapi.com/images/H_UWbOfra.jpg\n",
            "https://cdn2.thecatapi.com/images/NwMUoJYmT.jpg\n",
            "https://cdn2.thecatapi.com/images/sPMOo3Jn2.jpg\n",
            "https://cdn2.thecatapi.com/images/ZocD-pQxd.jpg\n"
          ]
        }
      ]
    },
    {
      "cell_type": "markdown",
      "metadata": {
        "id": "9uHSDhBWPSQ6"
      },
      "source": [
        "**Extra Problem**:\n",
        "\n",
        "\n",
        "\n",
        "Head over to the Dog API [here](https://dog.ceo/dog-api/).  \n",
        "\n",
        "1. Make a request that returns a list of all dog breeds.\n",
        "\n",
        "2. Make a request that returns a random image of a dog and extract the url.  "
      ]
    },
    {
      "cell_type": "code",
      "execution_count": null,
      "metadata": {
        "id": "Cw0tXppBPSQ6"
      },
      "outputs": [],
      "source": [
        "all_breeds_url = 'https://dog.ceo/api/breeds/list/all'"
      ]
    },
    {
      "cell_type": "code",
      "execution_count": null,
      "metadata": {
        "id": "n61kK_N5PSQ6"
      },
      "outputs": [],
      "source": [
        "random_dog = 'https://dog.ceo/api/breeds/image/random'"
      ]
    },
    {
      "cell_type": "code",
      "execution_count": null,
      "metadata": {
        "id": "-0GC__rOPSQ7",
        "colab": {
          "base_uri": "https://localhost:8080/"
        },
        "outputId": "8dbfaf23-844e-4dfd-b990-d94a7735294c"
      },
      "outputs": [
        {
          "output_type": "execute_result",
          "data": {
            "text/plain": [
              "<Response [200]>"
            ]
          },
          "metadata": {},
          "execution_count": 39
        }
      ],
      "source": [
        "response = requests.get(all_breeds_url)\n",
        "response"
      ]
    },
    {
      "cell_type": "code",
      "execution_count": null,
      "metadata": {
        "id": "xou47cn7PSQ7"
      },
      "outputs": [],
      "source": [
        "breeds = response.json()\n",
        "# breeds"
      ]
    },
    {
      "cell_type": "code",
      "execution_count": null,
      "metadata": {
        "id": "dOl7YdkAPSQ7",
        "colab": {
          "base_uri": "https://localhost:8080/"
        },
        "outputId": "5385da49-eea2-4ebd-e670-5747b9e6effc"
      },
      "outputs": [
        {
          "output_type": "execute_result",
          "data": {
            "text/plain": [
              "<Response [200]>"
            ]
          },
          "metadata": {},
          "execution_count": 41
        }
      ],
      "source": [
        "response = requests.get(random_dog)\n",
        "response"
      ]
    },
    {
      "cell_type": "code",
      "source": [
        "dog_pic = response.json()\n",
        "dog_pic"
      ],
      "metadata": {
        "id": "ThZGmo2cc5Pv",
        "colab": {
          "base_uri": "https://localhost:8080/"
        },
        "outputId": "4c16a5e5-8fbb-4256-92c2-d6d694e8d409"
      },
      "execution_count": null,
      "outputs": [
        {
          "output_type": "execute_result",
          "data": {
            "text/plain": [
              "{'message': 'https://images.dog.ceo/breeds/spaniel-brittany/n02101388_5541.jpg',\n",
              " 'status': 'success'}"
            ]
          },
          "metadata": {},
          "execution_count": 42
        }
      ]
    },
    {
      "cell_type": "code",
      "source": [
        "Image(dog_pic['message'])"
      ],
      "metadata": {
        "id": "E0g-TGI3c-Y5"
      },
      "execution_count": null,
      "outputs": []
    },
    {
      "cell_type": "markdown",
      "source": [
        "### Pokemon API"
      ],
      "metadata": {
        "id": "OsQ_0FuEdlNp"
      }
    },
    {
      "cell_type": "code",
      "source": [
        "berry_url = 'https://pokeapi.co/api/v2/berry/cheri/'"
      ],
      "metadata": {
        "id": "S8FsOj0pdk5p"
      },
      "execution_count": null,
      "outputs": []
    },
    {
      "cell_type": "code",
      "source": [
        "response = requests.get(berry_url)"
      ],
      "metadata": {
        "id": "PoxcpFwVdk2u"
      },
      "execution_count": null,
      "outputs": []
    },
    {
      "cell_type": "code",
      "source": [
        "response"
      ],
      "metadata": {
        "id": "S4Og-Kr9dk0I",
        "colab": {
          "base_uri": "https://localhost:8080/"
        },
        "outputId": "8fbed65a-1609-4baa-c96e-a9749a357af0"
      },
      "execution_count": null,
      "outputs": [
        {
          "output_type": "execute_result",
          "data": {
            "text/plain": [
              "<Response [200]>"
            ]
          },
          "metadata": {},
          "execution_count": 45
        }
      ]
    },
    {
      "cell_type": "code",
      "source": [
        "cheri_data = response.json()\n",
        "cheri_data"
      ],
      "metadata": {
        "id": "1eCqFpyRdkxj",
        "colab": {
          "base_uri": "https://localhost:8080/"
        },
        "outputId": "467df847-a75a-400e-9447-d484d2c69f30"
      },
      "execution_count": null,
      "outputs": [
        {
          "output_type": "execute_result",
          "data": {
            "text/plain": [
              "{'firmness': {'name': 'soft',\n",
              "  'url': 'https://pokeapi.co/api/v2/berry-firmness/2/'},\n",
              " 'flavors': [{'flavor': {'name': 'spicy',\n",
              "    'url': 'https://pokeapi.co/api/v2/berry-flavor/1/'},\n",
              "   'potency': 10},\n",
              "  {'flavor': {'name': 'dry',\n",
              "    'url': 'https://pokeapi.co/api/v2/berry-flavor/2/'},\n",
              "   'potency': 0},\n",
              "  {'flavor': {'name': 'sweet',\n",
              "    'url': 'https://pokeapi.co/api/v2/berry-flavor/3/'},\n",
              "   'potency': 0},\n",
              "  {'flavor': {'name': 'bitter',\n",
              "    'url': 'https://pokeapi.co/api/v2/berry-flavor/4/'},\n",
              "   'potency': 0},\n",
              "  {'flavor': {'name': 'sour',\n",
              "    'url': 'https://pokeapi.co/api/v2/berry-flavor/5/'},\n",
              "   'potency': 0}],\n",
              " 'growth_time': 3,\n",
              " 'id': 1,\n",
              " 'item': {'name': 'cheri-berry', 'url': 'https://pokeapi.co/api/v2/item/126/'},\n",
              " 'max_harvest': 5,\n",
              " 'name': 'cheri',\n",
              " 'natural_gift_power': 60,\n",
              " 'natural_gift_type': {'name': 'fire',\n",
              "  'url': 'https://pokeapi.co/api/v2/type/10/'},\n",
              " 'size': 20,\n",
              " 'smoothness': 25,\n",
              " 'soil_dryness': 15}"
            ]
          },
          "metadata": {},
          "execution_count": 46
        }
      ]
    },
    {
      "cell_type": "code",
      "source": [
        "bulba_url = 'https://pokeapi.co/api/v2/ability/stench/'"
      ],
      "metadata": {
        "id": "x_bv3szfdku6"
      },
      "execution_count": null,
      "outputs": []
    },
    {
      "cell_type": "code",
      "source": [
        "r = requests.get(bulba_url)\n",
        "r"
      ],
      "metadata": {
        "id": "goyW1Qx-dksV",
        "colab": {
          "base_uri": "https://localhost:8080/"
        },
        "outputId": "c41dca43-4ec1-49d7-87f4-0f57c5d7375a"
      },
      "execution_count": null,
      "outputs": [
        {
          "output_type": "execute_result",
          "data": {
            "text/plain": [
              "<Response [200]>"
            ]
          },
          "metadata": {},
          "execution_count": 48
        }
      ]
    },
    {
      "cell_type": "code",
      "source": [
        "stink_data = r.json()\n",
        "stink_data.keys()"
      ],
      "metadata": {
        "id": "UEJGq0vJdkp8",
        "colab": {
          "base_uri": "https://localhost:8080/"
        },
        "outputId": "db4b7dad-5338-4279-d223-4d04897d20e4"
      },
      "execution_count": null,
      "outputs": [
        {
          "output_type": "execute_result",
          "data": {
            "text/plain": [
              "dict_keys(['effect_changes', 'effect_entries', 'flavor_text_entries', 'generation', 'id', 'is_main_series', 'name', 'names', 'pokemon'])"
            ]
          },
          "metadata": {},
          "execution_count": 49
        }
      ]
    },
    {
      "cell_type": "code",
      "source": [
        "for poke in stink_data['pokemon']:\n",
        "  print(poke['pokemon']['name'])"
      ],
      "metadata": {
        "id": "jpzyA3DrdknE",
        "colab": {
          "base_uri": "https://localhost:8080/"
        },
        "outputId": "0a78eba8-7b33-4fb9-db68-6b9996b0f8b5"
      },
      "execution_count": null,
      "outputs": [
        {
          "output_type": "stream",
          "name": "stdout",
          "text": [
            "gloom\n",
            "grimer\n",
            "muk\n",
            "koffing\n",
            "weezing\n",
            "stunky\n",
            "skuntank\n",
            "trubbish\n",
            "garbodor\n",
            "garbodor-gmax\n"
          ]
        }
      ]
    },
    {
      "cell_type": "code",
      "source": [],
      "metadata": {
        "id": "D9M6QTBS1xek"
      },
      "execution_count": null,
      "outputs": []
    },
    {
      "cell_type": "code",
      "source": [],
      "metadata": {
        "id": "o0P9-y9a1xSV"
      },
      "execution_count": null,
      "outputs": []
    },
    {
      "cell_type": "code",
      "source": [],
      "metadata": {
        "id": "rjsMDI0f1xMI"
      },
      "execution_count": null,
      "outputs": []
    },
    {
      "cell_type": "code",
      "source": [],
      "metadata": {
        "id": "PzfU2njG1xH6"
      },
      "execution_count": null,
      "outputs": []
    },
    {
      "cell_type": "code",
      "source": [],
      "metadata": {
        "id": "uFIzVTo11xC_"
      },
      "execution_count": null,
      "outputs": []
    },
    {
      "cell_type": "code",
      "source": [],
      "metadata": {
        "id": "rIEn4hSO1w-S"
      },
      "execution_count": null,
      "outputs": []
    },
    {
      "cell_type": "markdown",
      "metadata": {
        "id": "HzXSJgf5PSQ7"
      },
      "source": [
        "### Last FM\n",
        "\n",
        "The API for Last FM requires an API Key.  Head over [here](https://www.last.fm/api/authentication) to signup for yours -- it should be instantaneous."
      ]
    },
    {
      "cell_type": "code",
      "source": [
        "name = 'Lenny'"
      ],
      "metadata": {
        "id": "lCU4kkK18kwN"
      },
      "execution_count": null,
      "outputs": []
    },
    {
      "cell_type": "code",
      "source": [
        "print('The best dog is', name)"
      ],
      "metadata": {
        "colab": {
          "base_uri": "https://localhost:8080/"
        },
        "id": "WGkP-ZCM8ksW",
        "outputId": "a7868d1e-62e1-42e6-bb26-855128011d8b"
      },
      "execution_count": null,
      "outputs": [
        {
          "output_type": "stream",
          "name": "stdout",
          "text": [
            "The best dog is Lenny\n"
          ]
        }
      ]
    },
    {
      "cell_type": "code",
      "source": [
        "f'The best dog is {name}'"
      ],
      "metadata": {
        "colab": {
          "base_uri": "https://localhost:8080/",
          "height": 35
        },
        "id": "yEoX5aPS8kpe",
        "outputId": "28c8c453-be67-4d61-be29-00daa8723e1c"
      },
      "execution_count": null,
      "outputs": [
        {
          "output_type": "execute_result",
          "data": {
            "text/plain": [
              "'The best dog is Lenny'"
            ],
            "application/vnd.google.colaboratory.intrinsic+json": {
              "type": "string"
            }
          },
          "metadata": {},
          "execution_count": 53
        }
      ]
    },
    {
      "cell_type": "code",
      "source": [
        "api_key = 'ac3a6fe884f08c6887cda87da0424b52'\n",
        "album_info_url = f'https://ws.audioscrobbler.com/2.0/?method=album.getinfo&api_key={api_key}&artist=Kendrick Lamar&album=GNX&format=json'"
      ],
      "metadata": {
        "id": "n7Uplc5FkExj"
      },
      "execution_count": null,
      "outputs": []
    },
    {
      "cell_type": "code",
      "execution_count": null,
      "metadata": {
        "id": "AFtyBoF3PSQ7",
        "colab": {
          "base_uri": "https://localhost:8080/"
        },
        "outputId": "1fa6ba40-db39-42b9-9a2f-86836075c21f"
      },
      "outputs": [
        {
          "output_type": "execute_result",
          "data": {
            "text/plain": [
              "<Response [200]>"
            ]
          },
          "metadata": {},
          "execution_count": 55
        }
      ],
      "source": [
        "r = requests.get(album_info_url)\n",
        "r"
      ]
    },
    {
      "cell_type": "code",
      "execution_count": null,
      "metadata": {
        "id": "-LY3iWTiPSQ7",
        "colab": {
          "base_uri": "https://localhost:8080/"
        },
        "collapsed": true,
        "outputId": "d2de7475-9c95-410e-fc22-7fa35c9cb0a8"
      },
      "outputs": [
        {
          "output_type": "execute_result",
          "data": {
            "text/plain": [
              "{'album': {'artist': 'Kendrick Lamar',\n",
              "  'mbid': '45bbde2e-bfc1-48c6-8b58-491348cd5459',\n",
              "  'tags': {'tag': [{'url': 'https://www.last.fm/tag/2024', 'name': '2024'},\n",
              "    {'url': 'https://www.last.fm/tag/west+coast+hip+hop',\n",
              "     'name': 'west coast hip hop'},\n",
              "    {'url': 'https://www.last.fm/tag/nervous+music', 'name': 'nervous music'},\n",
              "    {'url': 'https://www.last.fm/tag/ratchet+music', 'name': 'ratchet music'},\n",
              "    {'url': 'https://www.last.fm/tag/hardcore+hip+hop',\n",
              "     'name': 'hardcore hip hop'}]},\n",
              "  'playcount': '106789085',\n",
              "  'image': [{'size': 'small',\n",
              "    '#text': 'https://lastfm.freetls.fastly.net/i/u/34s/a79564a9768d05272682b252deb02079.png'},\n",
              "   {'size': 'medium',\n",
              "    '#text': 'https://lastfm.freetls.fastly.net/i/u/64s/a79564a9768d05272682b252deb02079.png'},\n",
              "   {'size': 'large',\n",
              "    '#text': 'https://lastfm.freetls.fastly.net/i/u/174s/a79564a9768d05272682b252deb02079.png'},\n",
              "   {'size': 'extralarge',\n",
              "    '#text': 'https://lastfm.freetls.fastly.net/i/u/300x300/a79564a9768d05272682b252deb02079.png'},\n",
              "   {'size': 'mega',\n",
              "    '#text': 'https://lastfm.freetls.fastly.net/i/u/300x300/a79564a9768d05272682b252deb02079.png'},\n",
              "   {'size': '',\n",
              "    '#text': 'https://lastfm.freetls.fastly.net/i/u/300x300/a79564a9768d05272682b252deb02079.png'}],\n",
              "  'tracks': {'track': [{'streamable': {'fulltrack': '0', '#text': '0'},\n",
              "     'duration': 317,\n",
              "     'url': 'https://www.last.fm/music/Kendrick+Lamar/GNX/wacced+out+murals',\n",
              "     'name': 'wacced out murals',\n",
              "     '@attr': {'rank': 1},\n",
              "     'artist': {'url': 'https://www.last.fm/music/Kendrick+Lamar',\n",
              "      'name': 'Kendrick Lamar',\n",
              "      'mbid': '381086ea-f511-4aba-bdf9-71c753dc5077'}},\n",
              "    {'streamable': {'fulltrack': '0', '#text': '0'},\n",
              "     'duration': 158,\n",
              "     'url': 'https://www.last.fm/music/Kendrick+Lamar/GNX/squabble+up',\n",
              "     'name': 'squabble up',\n",
              "     '@attr': {'rank': 2},\n",
              "     'artist': {'url': 'https://www.last.fm/music/Kendrick+Lamar',\n",
              "      'name': 'Kendrick Lamar',\n",
              "      'mbid': '381086ea-f511-4aba-bdf9-71c753dc5077'}},\n",
              "    {'streamable': {'fulltrack': '0', '#text': '0'},\n",
              "     'duration': 176,\n",
              "     'url': 'https://www.last.fm/music/Kendrick+Lamar/GNX/luther',\n",
              "     'name': 'luther',\n",
              "     '@attr': {'rank': 3},\n",
              "     'artist': {'url': 'https://www.last.fm/music/Kendrick+Lamar',\n",
              "      'name': 'Kendrick Lamar',\n",
              "      'mbid': '381086ea-f511-4aba-bdf9-71c753dc5077'}},\n",
              "    {'streamable': {'fulltrack': '0', '#text': '0'},\n",
              "     'duration': 233,\n",
              "     'url': 'https://www.last.fm/music/Kendrick+Lamar/GNX/man+at+the+garden',\n",
              "     'name': 'man at the garden',\n",
              "     '@attr': {'rank': 4},\n",
              "     'artist': {'url': 'https://www.last.fm/music/Kendrick+Lamar',\n",
              "      'name': 'Kendrick Lamar',\n",
              "      'mbid': '381086ea-f511-4aba-bdf9-71c753dc5077'}},\n",
              "    {'streamable': {'fulltrack': '0', '#text': '0'},\n",
              "     'duration': 217,\n",
              "     'url': 'https://www.last.fm/music/Kendrick+Lamar/GNX/hey+now',\n",
              "     'name': 'hey now',\n",
              "     '@attr': {'rank': 5},\n",
              "     'artist': {'url': 'https://www.last.fm/music/Kendrick+Lamar',\n",
              "      'name': 'Kendrick Lamar',\n",
              "      'mbid': '381086ea-f511-4aba-bdf9-71c753dc5077'}},\n",
              "    {'streamable': {'fulltrack': '0', '#text': '0'},\n",
              "     'duration': 276,\n",
              "     'url': 'https://www.last.fm/music/Kendrick+Lamar/GNX/reincarnated',\n",
              "     'name': 'reincarnated',\n",
              "     '@attr': {'rank': 6},\n",
              "     'artist': {'url': 'https://www.last.fm/music/Kendrick+Lamar',\n",
              "      'name': 'Kendrick Lamar',\n",
              "      'mbid': '381086ea-f511-4aba-bdf9-71c753dc5077'}},\n",
              "    {'streamable': {'fulltrack': '0', '#text': '0'},\n",
              "     'duration': 221,\n",
              "     'url': 'https://www.last.fm/music/Kendrick+Lamar/GNX/tv+off',\n",
              "     'name': 'tv off',\n",
              "     '@attr': {'rank': 7},\n",
              "     'artist': {'url': 'https://www.last.fm/music/Kendrick+Lamar',\n",
              "      'name': 'Kendrick Lamar',\n",
              "      'mbid': '381086ea-f511-4aba-bdf9-71c753dc5077'}},\n",
              "    {'streamable': {'fulltrack': '0', '#text': '0'},\n",
              "     'duration': 128,\n",
              "     'url': 'https://www.last.fm/music/Kendrick+Lamar/GNX/dodger+blue',\n",
              "     'name': 'dodger blue',\n",
              "     '@attr': {'rank': 8},\n",
              "     'artist': {'url': 'https://www.last.fm/music/Kendrick+Lamar',\n",
              "      'name': 'Kendrick Lamar',\n",
              "      'mbid': '381086ea-f511-4aba-bdf9-71c753dc5077'}},\n",
              "    {'streamable': {'fulltrack': '0', '#text': '0'},\n",
              "     'duration': 156,\n",
              "     'url': 'https://www.last.fm/music/Kendrick+Lamar/GNX/peekaboo',\n",
              "     'name': 'peekaboo',\n",
              "     '@attr': {'rank': 9},\n",
              "     'artist': {'url': 'https://www.last.fm/music/Kendrick+Lamar',\n",
              "      'name': 'Kendrick Lamar',\n",
              "      'mbid': '381086ea-f511-4aba-bdf9-71c753dc5077'}},\n",
              "    {'streamable': {'fulltrack': '0', '#text': '0'},\n",
              "     'duration': 292,\n",
              "     'url': 'https://www.last.fm/music/Kendrick+Lamar/GNX/heart+pt.+6',\n",
              "     'name': 'heart pt. 6',\n",
              "     '@attr': {'rank': 10},\n",
              "     'artist': {'url': 'https://www.last.fm/music/Kendrick+Lamar',\n",
              "      'name': 'Kendrick Lamar',\n",
              "      'mbid': '381086ea-f511-4aba-bdf9-71c753dc5077'}},\n",
              "    {'streamable': {'fulltrack': '0', '#text': '0'},\n",
              "     'duration': 194,\n",
              "     'url': 'https://www.last.fm/music/Kendrick+Lamar/GNX/gnx',\n",
              "     'name': 'gnx',\n",
              "     '@attr': {'rank': 11},\n",
              "     'artist': {'url': 'https://www.last.fm/music/Kendrick+Lamar',\n",
              "      'name': 'Kendrick Lamar',\n",
              "      'mbid': '381086ea-f511-4aba-bdf9-71c753dc5077'}},\n",
              "    {'streamable': {'fulltrack': '0', '#text': '0'},\n",
              "     'duration': 288,\n",
              "     'url': 'https://www.last.fm/music/Kendrick+Lamar/GNX/gloria',\n",
              "     'name': 'gloria',\n",
              "     '@attr': {'rank': 12},\n",
              "     'artist': {'url': 'https://www.last.fm/music/Kendrick+Lamar',\n",
              "      'name': 'Kendrick Lamar',\n",
              "      'mbid': '381086ea-f511-4aba-bdf9-71c753dc5077'}}]},\n",
              "  'url': 'https://www.last.fm/music/Kendrick+Lamar/GNX',\n",
              "  'name': 'GNX',\n",
              "  'listeners': '1838983',\n",
              "  'wiki': {'published': '03 Mar 2025, 16:33',\n",
              "   'summary': 'GNX is Kendrick Lamar’s surprise released sixth studio album, released on November 22nd, 2024 with no prior announcement or promotion. It\\'s his first to be released outside of the Top Dawg Entertainment umbrella, and comes months after his highly-publicised feud with Drake. For months, many rumors circulated amongst fans about the album’s release, though none seemed to materialize. The first signal of new music releasing beyond Kendrick’s rap feud emerged in the “Not Like Us” music video—briefly previewing a track that would be later known as \"squabble up.\" A month later, on August 25, 2024, Kendrick’s cousin uploaded an iMessage <a href=\"https://www.last.fm/music/Kendrick+Lamar/GNX\">Read more on Last.fm</a>.',\n",
              "   'content': 'GNX is Kendrick Lamar’s surprise released sixth studio album, released on November 22nd, 2024 with no prior announcement or promotion. It\\'s his first to be released outside of the Top Dawg Entertainment umbrella, and comes months after his highly-publicised  feud with Drake.\\n\\nFor months, many rumors circulated amongst fans about the album’s release, though none seemed to materialize. The first signal of new music releasing beyond Kendrick’s rap feud emerged in the “Not Like Us” music video—briefly previewing a track that would be later known as \"squabble up.\" A month later, on August 25, 2024, Kendrick’s cousin uploaded an iMessage exchange with him in a soon-deleted Twitter/X post, confirming the recording of a new album. <a href=\"https://www.last.fm/music/Kendrick+Lamar/GNX\">Read more on Last.fm</a>. User-contributed text is available under the Creative Commons By-SA License; additional terms may apply.'}}}"
            ]
          },
          "metadata": {},
          "execution_count": 56
        }
      ],
      "source": [
        "#examine the response\n",
        "gnx_data = r.json()\n",
        "gnx_data"
      ]
    },
    {
      "cell_type": "code",
      "source": [
        "gnx_data['album'].keys()"
      ],
      "metadata": {
        "colab": {
          "base_uri": "https://localhost:8080/"
        },
        "id": "d9oU93zsK7ai",
        "outputId": "28bdc10f-d860-4036-9583-9dbbf9aee1b8"
      },
      "execution_count": null,
      "outputs": [
        {
          "output_type": "execute_result",
          "data": {
            "text/plain": [
              "dict_keys(['artist', 'mbid', 'tags', 'playcount', 'image', 'tracks', 'url', 'name', 'listeners', 'wiki'])"
            ]
          },
          "metadata": {},
          "execution_count": 57
        }
      ]
    },
    {
      "cell_type": "code",
      "source": [
        "pd.DataFrame(gnx_data['album']['tracks'])"
      ],
      "metadata": {
        "colab": {
          "base_uri": "https://localhost:8080/",
          "height": 426
        },
        "id": "GkHfFrOfK7W6",
        "outputId": "b7a8da0a-3d3f-4b82-8953-b7ec1e6bb576"
      },
      "execution_count": null,
      "outputs": [
        {
          "output_type": "execute_result",
          "data": {
            "text/plain": [
              "                                                track\n",
              "0   {'streamable': {'fulltrack': '0', '#text': '0'...\n",
              "1   {'streamable': {'fulltrack': '0', '#text': '0'...\n",
              "2   {'streamable': {'fulltrack': '0', '#text': '0'...\n",
              "3   {'streamable': {'fulltrack': '0', '#text': '0'...\n",
              "4   {'streamable': {'fulltrack': '0', '#text': '0'...\n",
              "5   {'streamable': {'fulltrack': '0', '#text': '0'...\n",
              "6   {'streamable': {'fulltrack': '0', '#text': '0'...\n",
              "7   {'streamable': {'fulltrack': '0', '#text': '0'...\n",
              "8   {'streamable': {'fulltrack': '0', '#text': '0'...\n",
              "9   {'streamable': {'fulltrack': '0', '#text': '0'...\n",
              "10  {'streamable': {'fulltrack': '0', '#text': '0'...\n",
              "11  {'streamable': {'fulltrack': '0', '#text': '0'..."
            ],
            "text/html": [
              "\n",
              "  <div id=\"df-5c49dcd5-816b-4f85-9d56-b288a5383bbb\" class=\"colab-df-container\">\n",
              "    <div>\n",
              "<style scoped>\n",
              "    .dataframe tbody tr th:only-of-type {\n",
              "        vertical-align: middle;\n",
              "    }\n",
              "\n",
              "    .dataframe tbody tr th {\n",
              "        vertical-align: top;\n",
              "    }\n",
              "\n",
              "    .dataframe thead th {\n",
              "        text-align: right;\n",
              "    }\n",
              "</style>\n",
              "<table border=\"1\" class=\"dataframe\">\n",
              "  <thead>\n",
              "    <tr style=\"text-align: right;\">\n",
              "      <th></th>\n",
              "      <th>track</th>\n",
              "    </tr>\n",
              "  </thead>\n",
              "  <tbody>\n",
              "    <tr>\n",
              "      <th>0</th>\n",
              "      <td>{'streamable': {'fulltrack': '0', '#text': '0'...</td>\n",
              "    </tr>\n",
              "    <tr>\n",
              "      <th>1</th>\n",
              "      <td>{'streamable': {'fulltrack': '0', '#text': '0'...</td>\n",
              "    </tr>\n",
              "    <tr>\n",
              "      <th>2</th>\n",
              "      <td>{'streamable': {'fulltrack': '0', '#text': '0'...</td>\n",
              "    </tr>\n",
              "    <tr>\n",
              "      <th>3</th>\n",
              "      <td>{'streamable': {'fulltrack': '0', '#text': '0'...</td>\n",
              "    </tr>\n",
              "    <tr>\n",
              "      <th>4</th>\n",
              "      <td>{'streamable': {'fulltrack': '0', '#text': '0'...</td>\n",
              "    </tr>\n",
              "    <tr>\n",
              "      <th>5</th>\n",
              "      <td>{'streamable': {'fulltrack': '0', '#text': '0'...</td>\n",
              "    </tr>\n",
              "    <tr>\n",
              "      <th>6</th>\n",
              "      <td>{'streamable': {'fulltrack': '0', '#text': '0'...</td>\n",
              "    </tr>\n",
              "    <tr>\n",
              "      <th>7</th>\n",
              "      <td>{'streamable': {'fulltrack': '0', '#text': '0'...</td>\n",
              "    </tr>\n",
              "    <tr>\n",
              "      <th>8</th>\n",
              "      <td>{'streamable': {'fulltrack': '0', '#text': '0'...</td>\n",
              "    </tr>\n",
              "    <tr>\n",
              "      <th>9</th>\n",
              "      <td>{'streamable': {'fulltrack': '0', '#text': '0'...</td>\n",
              "    </tr>\n",
              "    <tr>\n",
              "      <th>10</th>\n",
              "      <td>{'streamable': {'fulltrack': '0', '#text': '0'...</td>\n",
              "    </tr>\n",
              "    <tr>\n",
              "      <th>11</th>\n",
              "      <td>{'streamable': {'fulltrack': '0', '#text': '0'...</td>\n",
              "    </tr>\n",
              "  </tbody>\n",
              "</table>\n",
              "</div>\n",
              "    <div class=\"colab-df-buttons\">\n",
              "\n",
              "  <div class=\"colab-df-container\">\n",
              "    <button class=\"colab-df-convert\" onclick=\"convertToInteractive('df-5c49dcd5-816b-4f85-9d56-b288a5383bbb')\"\n",
              "            title=\"Convert this dataframe to an interactive table.\"\n",
              "            style=\"display:none;\">\n",
              "\n",
              "  <svg xmlns=\"http://www.w3.org/2000/svg\" height=\"24px\" viewBox=\"0 -960 960 960\">\n",
              "    <path d=\"M120-120v-720h720v720H120Zm60-500h600v-160H180v160Zm220 220h160v-160H400v160Zm0 220h160v-160H400v160ZM180-400h160v-160H180v160Zm440 0h160v-160H620v160ZM180-180h160v-160H180v160Zm440 0h160v-160H620v160Z\"/>\n",
              "  </svg>\n",
              "    </button>\n",
              "\n",
              "  <style>\n",
              "    .colab-df-container {\n",
              "      display:flex;\n",
              "      gap: 12px;\n",
              "    }\n",
              "\n",
              "    .colab-df-convert {\n",
              "      background-color: #E8F0FE;\n",
              "      border: none;\n",
              "      border-radius: 50%;\n",
              "      cursor: pointer;\n",
              "      display: none;\n",
              "      fill: #1967D2;\n",
              "      height: 32px;\n",
              "      padding: 0 0 0 0;\n",
              "      width: 32px;\n",
              "    }\n",
              "\n",
              "    .colab-df-convert:hover {\n",
              "      background-color: #E2EBFA;\n",
              "      box-shadow: 0px 1px 2px rgba(60, 64, 67, 0.3), 0px 1px 3px 1px rgba(60, 64, 67, 0.15);\n",
              "      fill: #174EA6;\n",
              "    }\n",
              "\n",
              "    .colab-df-buttons div {\n",
              "      margin-bottom: 4px;\n",
              "    }\n",
              "\n",
              "    [theme=dark] .colab-df-convert {\n",
              "      background-color: #3B4455;\n",
              "      fill: #D2E3FC;\n",
              "    }\n",
              "\n",
              "    [theme=dark] .colab-df-convert:hover {\n",
              "      background-color: #434B5C;\n",
              "      box-shadow: 0px 1px 3px 1px rgba(0, 0, 0, 0.15);\n",
              "      filter: drop-shadow(0px 1px 2px rgba(0, 0, 0, 0.3));\n",
              "      fill: #FFFFFF;\n",
              "    }\n",
              "  </style>\n",
              "\n",
              "    <script>\n",
              "      const buttonEl =\n",
              "        document.querySelector('#df-5c49dcd5-816b-4f85-9d56-b288a5383bbb button.colab-df-convert');\n",
              "      buttonEl.style.display =\n",
              "        google.colab.kernel.accessAllowed ? 'block' : 'none';\n",
              "\n",
              "      async function convertToInteractive(key) {\n",
              "        const element = document.querySelector('#df-5c49dcd5-816b-4f85-9d56-b288a5383bbb');\n",
              "        const dataTable =\n",
              "          await google.colab.kernel.invokeFunction('convertToInteractive',\n",
              "                                                    [key], {});\n",
              "        if (!dataTable) return;\n",
              "\n",
              "        const docLinkHtml = 'Like what you see? Visit the ' +\n",
              "          '<a target=\"_blank\" href=https://colab.research.google.com/notebooks/data_table.ipynb>data table notebook</a>'\n",
              "          + ' to learn more about interactive tables.';\n",
              "        element.innerHTML = '';\n",
              "        dataTable['output_type'] = 'display_data';\n",
              "        await google.colab.output.renderOutput(dataTable, element);\n",
              "        const docLink = document.createElement('div');\n",
              "        docLink.innerHTML = docLinkHtml;\n",
              "        element.appendChild(docLink);\n",
              "      }\n",
              "    </script>\n",
              "  </div>\n",
              "\n",
              "\n",
              "    <div id=\"df-37bd5067-fa07-4470-b024-ca222918a740\">\n",
              "      <button class=\"colab-df-quickchart\" onclick=\"quickchart('df-37bd5067-fa07-4470-b024-ca222918a740')\"\n",
              "                title=\"Suggest charts\"\n",
              "                style=\"display:none;\">\n",
              "\n",
              "<svg xmlns=\"http://www.w3.org/2000/svg\" height=\"24px\"viewBox=\"0 0 24 24\"\n",
              "     width=\"24px\">\n",
              "    <g>\n",
              "        <path d=\"M19 3H5c-1.1 0-2 .9-2 2v14c0 1.1.9 2 2 2h14c1.1 0 2-.9 2-2V5c0-1.1-.9-2-2-2zM9 17H7v-7h2v7zm4 0h-2V7h2v10zm4 0h-2v-4h2v4z\"/>\n",
              "    </g>\n",
              "</svg>\n",
              "      </button>\n",
              "\n",
              "<style>\n",
              "  .colab-df-quickchart {\n",
              "      --bg-color: #E8F0FE;\n",
              "      --fill-color: #1967D2;\n",
              "      --hover-bg-color: #E2EBFA;\n",
              "      --hover-fill-color: #174EA6;\n",
              "      --disabled-fill-color: #AAA;\n",
              "      --disabled-bg-color: #DDD;\n",
              "  }\n",
              "\n",
              "  [theme=dark] .colab-df-quickchart {\n",
              "      --bg-color: #3B4455;\n",
              "      --fill-color: #D2E3FC;\n",
              "      --hover-bg-color: #434B5C;\n",
              "      --hover-fill-color: #FFFFFF;\n",
              "      --disabled-bg-color: #3B4455;\n",
              "      --disabled-fill-color: #666;\n",
              "  }\n",
              "\n",
              "  .colab-df-quickchart {\n",
              "    background-color: var(--bg-color);\n",
              "    border: none;\n",
              "    border-radius: 50%;\n",
              "    cursor: pointer;\n",
              "    display: none;\n",
              "    fill: var(--fill-color);\n",
              "    height: 32px;\n",
              "    padding: 0;\n",
              "    width: 32px;\n",
              "  }\n",
              "\n",
              "  .colab-df-quickchart:hover {\n",
              "    background-color: var(--hover-bg-color);\n",
              "    box-shadow: 0 1px 2px rgba(60, 64, 67, 0.3), 0 1px 3px 1px rgba(60, 64, 67, 0.15);\n",
              "    fill: var(--button-hover-fill-color);\n",
              "  }\n",
              "\n",
              "  .colab-df-quickchart-complete:disabled,\n",
              "  .colab-df-quickchart-complete:disabled:hover {\n",
              "    background-color: var(--disabled-bg-color);\n",
              "    fill: var(--disabled-fill-color);\n",
              "    box-shadow: none;\n",
              "  }\n",
              "\n",
              "  .colab-df-spinner {\n",
              "    border: 2px solid var(--fill-color);\n",
              "    border-color: transparent;\n",
              "    border-bottom-color: var(--fill-color);\n",
              "    animation:\n",
              "      spin 1s steps(1) infinite;\n",
              "  }\n",
              "\n",
              "  @keyframes spin {\n",
              "    0% {\n",
              "      border-color: transparent;\n",
              "      border-bottom-color: var(--fill-color);\n",
              "      border-left-color: var(--fill-color);\n",
              "    }\n",
              "    20% {\n",
              "      border-color: transparent;\n",
              "      border-left-color: var(--fill-color);\n",
              "      border-top-color: var(--fill-color);\n",
              "    }\n",
              "    30% {\n",
              "      border-color: transparent;\n",
              "      border-left-color: var(--fill-color);\n",
              "      border-top-color: var(--fill-color);\n",
              "      border-right-color: var(--fill-color);\n",
              "    }\n",
              "    40% {\n",
              "      border-color: transparent;\n",
              "      border-right-color: var(--fill-color);\n",
              "      border-top-color: var(--fill-color);\n",
              "    }\n",
              "    60% {\n",
              "      border-color: transparent;\n",
              "      border-right-color: var(--fill-color);\n",
              "    }\n",
              "    80% {\n",
              "      border-color: transparent;\n",
              "      border-right-color: var(--fill-color);\n",
              "      border-bottom-color: var(--fill-color);\n",
              "    }\n",
              "    90% {\n",
              "      border-color: transparent;\n",
              "      border-bottom-color: var(--fill-color);\n",
              "    }\n",
              "  }\n",
              "</style>\n",
              "\n",
              "      <script>\n",
              "        async function quickchart(key) {\n",
              "          const quickchartButtonEl =\n",
              "            document.querySelector('#' + key + ' button');\n",
              "          quickchartButtonEl.disabled = true;  // To prevent multiple clicks.\n",
              "          quickchartButtonEl.classList.add('colab-df-spinner');\n",
              "          try {\n",
              "            const charts = await google.colab.kernel.invokeFunction(\n",
              "                'suggestCharts', [key], {});\n",
              "          } catch (error) {\n",
              "            console.error('Error during call to suggestCharts:', error);\n",
              "          }\n",
              "          quickchartButtonEl.classList.remove('colab-df-spinner');\n",
              "          quickchartButtonEl.classList.add('colab-df-quickchart-complete');\n",
              "        }\n",
              "        (() => {\n",
              "          let quickchartButtonEl =\n",
              "            document.querySelector('#df-37bd5067-fa07-4470-b024-ca222918a740 button');\n",
              "          quickchartButtonEl.style.display =\n",
              "            google.colab.kernel.accessAllowed ? 'block' : 'none';\n",
              "        })();\n",
              "      </script>\n",
              "    </div>\n",
              "\n",
              "    </div>\n",
              "  </div>\n"
            ],
            "application/vnd.google.colaboratory.intrinsic+json": {
              "type": "dataframe",
              "summary": "{\n  \"name\": \"pd\",\n  \"rows\": 12,\n  \"fields\": [\n    {\n      \"column\": \"track\",\n      \"properties\": {\n        \"dtype\": \"object\",\n        \"semantic_type\": \"\",\n        \"description\": \"\"\n      }\n    }\n  ]\n}"
            }
          },
          "metadata": {},
          "execution_count": 58
        }
      ]
    },
    {
      "cell_type": "code",
      "source": [
        "for track in gnx_data['album']['tracks']['track']:\n",
        "  print(track['name'])"
      ],
      "metadata": {
        "colab": {
          "base_uri": "https://localhost:8080/"
        },
        "id": "sK0tyszyLblg",
        "outputId": "971ec0ba-205d-4421-ff12-5b6330435784"
      },
      "execution_count": null,
      "outputs": [
        {
          "output_type": "stream",
          "name": "stdout",
          "text": [
            "wacced out murals\n",
            "squabble up\n",
            "luther\n",
            "man at the garden\n",
            "hey now\n",
            "reincarnated\n",
            "tv off\n",
            "dodger blue\n",
            "peekaboo\n",
            "heart pt. 6\n",
            "gnx\n",
            "gloria\n"
          ]
        }
      ]
    },
    {
      "cell_type": "code",
      "source": [
        "for track in gnx_data['album']['tracks']:\n",
        "  print(track)"
      ],
      "metadata": {
        "colab": {
          "base_uri": "https://localhost:8080/"
        },
        "id": "s0uJBRbCK7Tg",
        "outputId": "ca809756-8538-4d8a-d41e-8927ff768465"
      },
      "execution_count": null,
      "outputs": [
        {
          "output_type": "stream",
          "name": "stdout",
          "text": [
            "track\n"
          ]
        }
      ]
    },
    {
      "cell_type": "code",
      "source": [
        "album_info_url = f'https://ws.audioscrobbler.com/2.0/'\n",
        "payload = {'method': 'artist.getsimilar',\n",
        "           'api_key': api_key,\n",
        "           'artist': 'Kendrick Lamar',\n",
        "           'format': 'json'}"
      ],
      "metadata": {
        "id": "UJ-RKOq7-ZPG"
      },
      "execution_count": null,
      "outputs": []
    },
    {
      "cell_type": "code",
      "source": [
        "response = requests.get(album_info_url, params = payload)\n",
        "response.text"
      ],
      "metadata": {
        "colab": {
          "base_uri": "https://localhost:8080/",
          "height": 105
        },
        "id": "-mt23Gfs-ZKr",
        "outputId": "ea639f0f-e312-4c37-9cda-3a3c682ccef4"
      },
      "execution_count": null,
      "outputs": [
        {
          "output_type": "execute_result",
          "data": {
            "text/plain": [
              "'{\"similarartists\":{\"artist\":[{\"name\":\"JID\",\"mbid\":\"d616b606-cf6a-4b6e-ab0f-e253b8db6610\",\"match\":\"1\",\"url\":\"https://www.last.fm/music/JID\",\"image\":[{\"#text\":\"https://lastfm.freetls.fastly.net/i/u/34s/2a96cbd8b46e442fc41c2b86b821562f.png\",\"size\":\"small\"},{\"#text\":\"https://lastfm.freetls.fastly.net/i/u/64s/2a96cbd8b46e442fc41c2b86b821562f.png\",\"size\":\"medium\"},{\"#text\":\"https://lastfm.freetls.fastly.net/i/u/174s/2a96cbd8b46e442fc41c2b86b821562f.png\",\"size\":\"large\"},{\"#text\":\"https://lastfm.freetls.fastly.net/i/u/300x300/2a96cbd8b46e442fc41c2b86b821562f.png\",\"size\":\"extralarge\"},{\"#text\":\"https://lastfm.freetls.fastly.net/i/u/300x300/2a96cbd8b46e442fc41c2b86b821562f.png\",\"size\":\"mega\"},{\"#text\":\"https://lastfm.freetls.fastly.net/i/u/300x300/2a96cbd8b46e442fc41c2b86b821562f.png\",\"size\":\"\"}],\"streamable\":\"0\"},{\"name\":\"Jay Rock\",\"mbid\":\"9880800a-f6f8-4f8f-a00e-b4b664776c0c\",\"match\":\"0.899290\",\"url\":\"https://www.last.fm/music/Jay+Rock\",\"image\":[{\"#text\":\"https://lastfm.freetls.fastly.net/i/u/34s/2a96cbd8b46e442fc41c2b86b821562f.png\",\"size\":\"small\"},{\"#text\":\"https://lastfm.freetls.fastly.net/i/u/64s/2a96cbd8b46e442fc41c2b86b821562f.png\",\"size\":\"medium\"},{\"#text\":\"https://lastfm.freetls.fastly.net/i/u/174s/2a96cbd8b46e442fc41c2b86b821562f.png\",\"size\":\"large\"},{\"#text\":\"https://lastfm.freetls.fastly.net/i/u/300x300/2a96cbd8b46e442fc41c2b86b821562f.png\",\"size\":\"extralarge\"},{\"#text\":\"https://lastfm.freetls.fastly.net/i/u/300x300/2a96cbd8b46e442fc41c2b86b821562f.png\",\"size\":\"mega\"},{\"#text\":\"https://lastfm.freetls.fastly.net/i/u/300x300/2a96cbd8b46e442fc41c2b86b821562f.png\",\"size\":\"\"}],\"streamable\":\"0\"},{\"name\":\"Tyler, The Creator\",\"mbid\":\"f6beac20-5dfe-4d1f-ae02-0b0a740aafd6\",\"match\":\"0.876953\",\"url\":\"https://www.last.fm/music/Tyler,+The+Creator\",\"image\":[{\"#text\":\"https://lastfm.freetls.fastly.net/i/u/34s/2a96cbd8b46e442fc41c2b86b821562f.png\",\"size\":\"small\"},{\"#text\":\"https://lastfm.freetls.fastly.net/i/u/64s/2a96cbd8b46e442fc41c2b86b821562f.png\",\"size\":\"medium\"},{\"#text\":\"https://lastfm.freetls.fastly.net/i/u/174s/2a96cbd8b46e442fc41c2b86b821562f.png\",\"size\":\"large\"},{\"#text\":\"https://lastfm.freetls.fastly.net/i/u/300x300/2a96cbd8b46e442fc41c2b86b821562f.png\",\"size\":\"extralarge\"},{\"#text\":\"https://lastfm.freetls.fastly.net/i/u/300x300/2a96cbd8b46e442fc41c2b86b821562f.png\",\"size\":\"mega\"},{\"#text\":\"https://lastfm.freetls.fastly.net/i/u/300x300/2a96cbd8b46e442fc41c2b86b821562f.png\",\"size\":\"\"}],\"streamable\":\"0\"},{\"name\":\"Baby Keem\",\"mbid\":\"81d12ca7-5b89-4d21-8736-860b7400b4eb\",\"match\":\"0.836786\",\"url\":\"https://www.last.fm/music/Baby+Keem\",\"image\":[{\"#text\":\"https://lastfm.freetls.fastly.net/i/u/34s/2a96cbd8b46e442fc41c2b86b821562f.png\",\"size\":\"small\"},{\"#text\":\"https://lastfm.freetls.fastly.net/i/u/64s/2a96cbd8b46e442fc41c2b86b821562f.png\",\"size\":\"medium\"},{\"#text\":\"https://lastfm.freetls.fastly.net/i/u/174s/2a96cbd8b46e442fc41c2b86b821562f.png\",\"size\":\"large\"},{\"#text\":\"https://lastfm.freetls.fastly.net/i/u/300x300/2a96cbd8b46e442fc41c2b86b821562f.png\",\"size\":\"extralarge\"},{\"#text\":\"https://lastfm.freetls.fastly.net/i/u/300x300/2a96cbd8b46e442fc41c2b86b821562f.png\",\"size\":\"mega\"},{\"#text\":\"https://lastfm.freetls.fastly.net/i/u/300x300/2a96cbd8b46e442fc41c2b86b821562f.png\",\"size\":\"\"}],\"streamable\":\"0\"},{\"name\":\"Kanye West\",\"match\":\"0.813463\",\"url\":\"https://www.last.fm/music/Kanye+West\",\"image\":[{\"#text\":\"https://lastfm.freetls.fastly.net/i/u/34s/2a96cbd8b46e442fc41c2b86b821562f.png\",\"size\":\"small\"},{\"#text\":\"https://lastfm.freetls.fastly.net/i/u/64s/2a96cbd8b46e442fc41c2b86b821562f.png\",\"size\":\"medium\"},{\"#text\":\"https://lastfm.freetls.fastly.net/i/u/174s/2a96cbd8b46e442fc41c2b86b821562f.png\",\"size\":\"large\"},{\"#text\":\"https://lastfm.freetls.fastly.net/i/u/300x300/2a96cbd8b46e442fc41c2b86b821562f.png\",\"size\":\"extralarge\"},{\"#text\":\"https://lastfm.freetls.fastly.net/i/u/300x300/2a96cbd8b46e442fc41c2b86b821562f.png\",\"size\":\"mega\"},{\"#text\":\"https://lastfm.freetls.fastly.net/i/u/300x300/2a96cbd8b46e442fc41c2b86b821562f.png\",\"size\":\"\"}],\"streamable\":\"0\"},{\"name\":\"Kendrick Lamar & SZA\",\"match\":\"0.726800\",\"url\":\"https://www.last.fm/music/Kendrick+Lamar+&+SZA\",\"image\":[{\"#text\":\"https://lastfm.freetls.fastly.net/i/u/34s/2a96cbd8b46e442fc41c2b86b821562f.png\",\"size\":\"small\"},{\"#text\":\"https://lastfm.freetls.fastly.net/i/u/64s/2a96cbd8b46e442fc41c2b86b821562f.png\",\"size\":\"medium\"},{\"#text\":\"https://lastfm.freetls.fastly.net/i/u/174s/2a96cbd8b46e442fc41c2b86b821562f.png\",\"size\":\"large\"},{\"#text\":\"https://lastfm.freetls.fastly.net/i/u/300x300/2a96cbd8b46e442fc41c2b86b821562f.png\",\"size\":\"extralarge\"},{\"#text\":\"https://lastfm.freetls.fastly.net/i/u/300x300/2a96cbd8b46e442fc41c2b86b821562f.png\",\"size\":\"mega\"},{\"#text\":\"https://lastfm.freetls.fastly.net/i/u/300x300/2a96cbd8b46e442fc41c2b86b821562f.png\",\"size\":\"\"}],\"streamable\":\"0\"},{\"name\":\"Denzel Curry\",\"mbid\":\"5f95440d-7737-4a36-9bcf-c05337f7129b\",\"match\":\"0.719051\",\"url\":\"https://www.last.fm/music/Denzel+Curry\",\"image\":[{\"#text\":\"https://lastfm.freetls.fastly.net/i/u/34s/2a96cbd8b46e442fc41c2b86b821562f.png\",\"size\":\"small\"},{\"#text\":\"https://lastfm.freetls.fastly.net/i/u/64s/2a96cbd8b46e442fc41c2b86b821562f.png\",\"size\":\"medium\"},{\"#text\":\"https://lastfm.freetls.fastly.net/i/u/174s/2a96cbd8b46e442fc41c2b86b821562f.png\",\"size\":\"large\"},{\"#text\":\"https://lastfm.freetls.fastly.net/i/u/300x300/2a96cbd8b46e442fc41c2b86b821562f.png\",\"size\":\"extralarge\"},{\"#text\":\"https://lastfm.freetls.fastly.net/i/u/300x300/2a96cbd8b46e442fc41c2b86b821562f.png\",\"size\":\"mega\"},{\"#text\":\"https://lastfm.freetls.fastly.net/i/u/300x300/2a96cbd8b46e442fc41c2b86b821562f.png\",\"size\":\"\"}],\"streamable\":\"0\"},{\"name\":\"J. Cole\",\"mbid\":\"875203e1-8e58-4b86-8dcb-7190faf411c5\",\"match\":\"0.692627\",\"url\":\"https://www.last.fm/music/J.+Cole\",\"image\":[{\"#text\":\"https://lastfm.freetls.fastly.net/i/u/34s/2a96cbd8b46e442fc41c2b86b821562f.png\",\"size\":\"small\"},{\"#text\":\"https://lastfm.freetls.fastly.net/i/u/64s/2a96cbd8b46e442fc41c2b86b821562f.png\",\"size\":\"medium\"},{\"#text\":\"https://lastfm.freetls.fastly.net/i/u/174s/2a96cbd8b46e442fc41c2b86b821562f.png\",\"size\":\"large\"},{\"#text\":\"https://lastfm.freetls.fastly.net/i/u/300x300/2a96cbd8b46e442fc41c2b86b821562f.png\",\"size\":\"extralarge\"},{\"#text\":\"https://lastfm.freetls.fastly.net/i/u/300x300/2a96cbd8b46e442fc41c2b86b821562f.png\",\"size\":\"mega\"},{\"#text\":\"https://lastfm.freetls.fastly.net/i/u/300x300/2a96cbd8b46e442fc41c2b86b821562f.png\",\"size\":\"\"}],\"streamable\":\"0\"},{\"name\":\"Joey Bada$$\",\"mbid\":\"9757ae7d-44b1-4d63-81ce-b463fe27b9ae\",\"match\":\"0.677794\",\"url\":\"https://www.last.fm/music/Joey+Bada$$\",\"image\":[{\"#text\":\"https://lastfm.freetls.fastly.net/i/u/34s/2a96cbd8b46e442fc41c2b86b821562f.png\",\"size\":\"small\"},{\"#text\":\"https://lastfm.freetls.fastly.net/i/u/64s/2a96cbd8b46e442fc41c2b86b821562f.png\",\"size\":\"medium\"},{\"#text\":\"https://lastfm.freetls.fastly.net/i/u/174s/2a96cbd8b46e442fc41c2b86b821562f.png\",\"size\":\"large\"},{\"#text\":\"https://lastfm.freetls.fastly.net/i/u/300x300/2a96cbd8b46e442fc41c2b86b821562f.png\",\"size\":\"extralarge\"},{\"#text\":\"https://lastfm.freetls.fastly.net/i/u/300x300/2a96cbd8b46e442fc41c2b86b821562f.png\",\"size\":\"mega\"},{\"#text\":\"https://lastfm.freetls.fastly.net/i/u/300x300/2a96cbd8b46e442fc41c2b86b821562f.png\",\"size\":\"\"}],\"streamable\":\"0\"},{\"name\":\"ScHoolboy Q\",\"mbid\":\"bce6d667-cde8-485e-b078-c0a05adea36d\",\"match\":\"0.653747\",\"url\":\"https://www.last.fm/music/ScHoolboy+Q\",\"image\":[{\"#text\":\"https://lastfm.freetls.fastly.net/i/u/34s/2a96cbd8b46e442fc41c2b86b821562f.png\",\"size\":\"small\"},{\"#text\":\"https://lastfm.freetls.fastly.net/i/u/64s/2a96cbd8b46e442fc41c2b86b821562f.png\",\"size\":\"medium\"},{\"#text\":\"https://lastfm.freetls.fastly.net/i/u/174s/2a96cbd8b46e442fc41c2b86b821562f.png\",\"size\":\"large\"},{\"#text\":\"https://lastfm.freetls.fastly.net/i/u/300x300/2a96cbd8b46e442fc41c2b86b821562f.png\",\"size\":\"extralarge\"},{\"#text\":\"https://lastfm.freetls.fastly.net/i/u/300x300/2a96cbd8b46e442fc41c2b86b821562f.png\",\"size\":\"mega\"},{\"#text\":\"https://lastfm.freetls.fastly.net/i/u/300x300/2a96cbd8b46e442fc41c2b86b821562f.png\",\"size\":\"\"}],\"streamable\":\"0\"},{\"name\":\"Black Hippy\",\"mbid\":\"6fc5c0c6-bf05-4b29-bda0-5fa6cc863785\",\"match\":\"0.631467\",\"url\":\"https://www.last.fm/music/Black+Hippy\",\"image\":[{\"#text\":\"https://lastfm.freetls.fastly.net/i/u/34s/2a96cbd8b46e442fc41c2b86b821562f.png\",\"size\":\"small\"},{\"#text\":\"https://lastfm.freetls.fastly.net/i/u/64s/2a96cbd8b46e442fc41c2b86b821562f.png\",\"size\":\"medium\"},{\"#text\":\"https://lastfm.freetls.fastly.net/i/u/174s/2a96cbd8b46e442fc41c2b86b821562f.png\",\"size\":\"large\"},{\"#text\":\"https://lastfm.freetls.fastly.net/i/u/300x300/2a96cbd8b46e442fc41c2b86b821562f.png\",\"size\":\"extralarge\"},{\"#text\":\"https://lastfm.freetls.fastly.net/i/u/300x300/2a96cbd8b46e442fc41c2b86b821562f.png\",\"size\":\"mega\"},{\"#text\":\"https://lastfm.freetls.fastly.net/i/u/300x300/2a96cbd8b46e442fc41c2b86b821562f.png\",\"size\":\"\"}],\"streamable\":\"0\"},{\"name\":\"Pusha T\",\"mbid\":\"14ecd19f-7121-4192-8549-e5056241a42f\",\"match\":\"0.619685\",\"url\":\"https://www.last.fm/music/Pusha+T\",\"image\":[{\"#text\":\"https://lastfm.freetls.fastly.net/i/u/34s/2a96cbd8b46e442fc41c2b86b821562f.png\",\"size\":\"small\"},{\"#text\":\"https://lastfm.freetls.fastly.net/i/u/64s/2a96cbd8b46e442fc41c2b86b821562f.png\",\"size\":\"medium\"},{\"#text\":\"https://lastfm.freetls.fastly.net/i/u/174s/2a96cbd8b46e442fc41c2b86b821562f.png\",\"size\":\"large\"},{\"#text\":\"https://lastfm.freetls.fastly.net/i/u/300x300/2a96cbd8b46e442fc41c2b86b821562f.png\",\"size\":\"extralarge\"},{\"#text\":\"https://lastfm.freetls.fastly.net/i/u/300x300/2a96cbd8b46e442fc41c2b86b821562f.png\",\"size\":\"mega\"},{\"#text\":\"https://lastfm.freetls.fastly.net/i/u/300x300/2a96cbd8b46e442fc41c2b86b821562f.png\",\"size\":\"\"}],\"streamable\":\"0\"},{\"name\":\"Ab-Soul\",\"match\":\"0.616347\",\"url\":\"https://www.last.fm/music/Ab-Soul\",\"image\":[{\"#text\":\"https://lastfm.freetls.fastly.net/i/u/34s/2a96cbd8b46e442fc41c2b86b821562f.png\",\"size\":\"small\"},{\"#text\":\"https://lastfm.freetls.fastly.net/i/u/64s/2a96cbd8b46e442fc41c2b86b821562f.png\",\"size\":\"medium\"},{\"#text\":\"https://lastfm.freetls.fastly.net/i/u/174s/2a96cbd8b46e442fc41c2b86b821562f.png\",\"size\":\"large\"},{\"#text\":\"https://lastfm.freetls.fastly.net/i/u/300x300/2a96cbd8b46e442fc41c2b86b821562f.png\",\"size\":\"extralarge\"},{\"#text\":\"https://lastfm.freetls.fastly.net/i/u/300x300/2a96cbd8b46e442fc41c2b86b821562f.png\",\"size\":\"mega\"},{\"#text\":\"https://lastfm.freetls.fastly.net/i/u/300x300/2a96cbd8b46e442fc41c2b86b821562f.png\",\"size\":\"\"}],\"streamable\":\"0\"},{\"name\":\"A$AP Rocky\",\"mbid\":\"25b7b584-d952-4662-a8b9-dd8cdfbfeb64\",\"match\":\"0.595342\",\"url\":\"https://www.last.fm/music/A$AP+Rocky\",\"image\":[{\"#text\":\"https://lastfm.freetls.fastly.net/i/u/34s/2a96cbd8b46e442fc41c2b86b821562f.png\",\"size\":\"small\"},{\"#text\":\"https://lastfm.freetls.fastly.net/i/u/64s/2a96cbd8b46e442fc41c2b86b821562f.png\",\"size\":\"medium\"},{\"#text\":\"https://lastfm.freetls.fastly.net/i/u/174s/2a96cbd8b46e442fc41c2b86b821562f.png\",\"size\":\"large\"},{\"#text\":\"https://lastfm.freetls.fastly.net/i/u/300x300/2a96cbd8b46e442fc41c2b86b821562f.png\",\"size\":\"extralarge\"},{\"#text\":\"https://lastfm.freetls.fastly.net/i/u/300x300/2a96cbd8b46e442fc41c2b86b821562f.png\",\"size\":\"mega\"},{\"#text\":\"https://lastfm.freetls.fastly.net/i/u/300x300/2a96cbd8b46e442fc41c2b86b821562f.png\",\"size\":\"\"}],\"streamable\":\"0\"},{\"name\":\"Nas\",\"mbid\":\"cfbc0924-0035-4d6c-8197-f024653af823\",\"match\":\"0.535658\",\"url\":\"https://www.last.fm/music/Nas\",\"image\":[{\"#text\":\"https://lastfm.freetls.fastly.net/i/u/34s/2a96cbd8b46e442fc41c2b86b821562f.png\",\"size\":\"small\"},{\"#text\":\"https://lastfm.freetls.fastly.net/i/u/64s/2a96cbd8b46e442fc41c2b86b821562f.png\",\"size\":\"medium\"},{\"#text\":\"https://lastfm.freetls.fastly.net/i/u/174s/2a96cbd8b46e442fc41c2b86b821562f.png\",\"size\":\"large\"},{\"#text\":\"https://lastfm.freetls.fastly.net/i/u/300x300/2a96cbd8b46e442fc41c2b86b821562f.png\",\"size\":\"extralarge\"},{\"#text\":\"https://lastfm.freetls.fastly.net/i/u/300x300/2a96cbd8b46e442fc41c2b86b821562f.png\",\"size\":\"mega\"},{\"#text\":\"https://lastfm.freetls.fastly.net/i/u/300x300/2a96cbd8b46e442fc41c2b86b821562f.png\",\"size\":\"\"}],\"streamable\":\"0\"},{\"name\":\"Vince Staples\",\"mbid\":\"78e854b8-9713-4ff2-9218-6b3784893bff\",\"match\":\"0.533774\",\"url\":\"https://www.last.fm/music/Vince+Staples\",\"image\":[{\"#text\":\"https://lastfm.freetls.fastly.net/i/u/34s/2a96cbd8b46e442fc41c2b86b821562f.png\",\"size\":\"small\"},{\"#text\":\"https://lastfm.freetls.fastly.net/i/u/64s/2a96cbd8b46e442fc41c2b86b821562f.png\",\"size\":\"medium\"},{\"#text\":\"https://lastfm.freetls.fastly.net/i/u/174s/2a96cbd8b46e442fc41c2b86b821562f.png\",\"size\":\"large\"},{\"#text\":\"https://lastfm.freetls.fastly.net/i/u/300x300/2a96cbd8b46e442fc41c2b86b821562f.png\",\"size\":\"extralarge\"},{\"#text\":\"https://lastfm.freetls.fastly.net/i/u/300x300/2a96cbd8b46e442fc41c2b86b821562f.png\",\"size\":\"mega\"},{\"#text\":\"https://lastfm.freetls.fastly.net/i/u/300x300/2a96cbd8b46e442fc41c2b86b821562f.png\",\"size\":\"\"}],\"streamable\":\"0\"},{\"name\":\"KIDS SEE GHOSTS\",\"mbid\":\"793e220b-64f8-46d9-954d-e033dbcfeef4\",\"match\":\"0.526070\",\"url\":\"https://www.last.fm/music/KIDS+SEE+GHOSTS\",\"image\":[{\"#text\":\"https://lastfm.freetls.fastly.net/i/u/34s/2a96cbd8b46e442fc41c2b86b821562f.png\",\"size\":\"small\"},{\"#text\":\"https://lastfm.freetls.fastly.net/i/u/64s/2a96cbd8b46e442fc41c2b86b821562f.png\",\"size\":\"medium\"},{\"#text\":\"https://lastfm.freetls.fastly.net/i/u/174s/2a96cbd8b46e442fc41c2b86b821562f.png\",\"size\":\"large\"},{\"#text\":\"https://lastfm.freetls.fastly.net/i/u/300x300/2a96cbd8b46e442fc41c2b86b821562f.png\",\"size\":\"extralarge\"},{\"#text\":\"https://lastfm.freetls.fastly.net/i/u/300x300/2a96cbd8b46e442fc41c2b86b821562f.png\",\"size\":\"mega\"},{\"#text\":\"https://lastfm.freetls.fastly.net/i/u/300x300/2a96cbd8b46e442fc41c2b86b821562f.png\",\"size\":\"\"}],\"streamable\":\"0\"},{\"name\":\"Madvillain\",\"mbid\":\"4e024037-14b7-4aea-99ad-c6ace63b9620\",\"match\":\"0.475111\",\"url\":\"https://www.last.fm/music/Madvillain\",\"image\":[{\"#text\":\"https://lastfm.freetls.fastly.net/i/u/34s/2a96cbd8b46e442fc41c2b86b821562f.png\",\"size\":\"small\"},{\"#text\":\"https://lastfm.freetls.fastly.net/i/u/64s/2a96cbd8b46e442fc41c2b86b821562f.png\",\"size\":\"medium\"},{\"#text\":\"https://lastfm.freetls.fastly.net/i/u/174s/2a96cbd8b46e442fc41c2b86b821562f.png\",\"size\":\"large\"},{\"#text\":\"https://lastfm.freetls.fastly.net/i/u/300x300/2a96cbd8b46e442fc41c2b86b821562f.png\",\"size\":\"extralarge\"},{\"#text\":\"https://lastfm.freetls.fastly.net/i/u/300x300/2a96cbd8b46e442fc41c2b86b821562f.png\",\"size\":\"mega\"},{\"#text\":\"https://lastfm.freetls.fastly.net/i/u/300x300/2a96cbd8b46e442fc41c2b86b821562f.png\",\"size\":\"\"}],\"streamable\":\"0\"},{\"name\":\"OutKast\",\"mbid\":\"73fdb566-a9b1-494c-9f32-51768ec9fd27\",\"match\":\"0.474097\",\"url\":\"https://www.last.fm/music/OutKast\",\"image\":[{\"#text\":\"https://lastfm.freetls.fastly.net/i/u/34s/2a96cbd8b46e442fc41c2b86b821562f.png\",\"size\":\"small\"},{\"#text\":\"https://lastfm.freetls.fastly.net/i/u/64s/2a96cbd8b46e442fc41c2b86b821562f.png\",\"size\":\"medium\"},{\"#text\":\"https://lastfm.freetls.fastly.net/i/u/174s/2a96cbd8b46e442fc41c2b86b821562f.png\",\"size\":\"large\"},{\"#text\":\"https://lastfm.freetls.fastly.net/i/u/300x300/2a96cbd8b46e442fc41c2b86b821562f.png\",\"size\":\"extralarge\"},{\"#text\":\"https://lastfm.freetls.fastly.net/i/u/300x300/2a96cbd8b46e442fc41c2b86b821562f.png\",\"size\":\"mega\"},{\"#text\":\"https://lastfm.freetls.fastly.net/i/u/300x300/2a96cbd8b46e442fc41c2b86b821562f.png\",\"size\":\"\"}],\"streamable\":\"0\"},{\"name\":\"Travi$ Scott\",\"match\":\"0.463202\",\"url\":\"https://www.last.fm/music/Travi$+Scott\",\"image\":[{\"#text\":\"https://lastfm.freetls.fastly.net/i/u/34s/2a96cbd8b46e442fc41c2b86b821562f.png\",\"size\":\"small\"},{\"#text\":\"https://lastfm.freetls.fastly.net/i/u/64s/2a96cbd8b46e442fc41c2b86b821562f.png\",\"size\":\"medium\"},{\"#text\":\"https://lastfm.freetls.fastly.net/i/u/174s/2a96cbd8b46e442fc41c2b86b821562f.png\",\"size\":\"large\"},{\"#text\":\"https://lastfm.freetls.fastly.net/i/u/300x300/2a96cbd8b46e442fc41c2b86b821562f.png\",\"size\":\"extralarge\"},{\"#text\":\"https://lastfm.freetls.fastly.net/i/u/300x300/2a96cbd8b46e442fc41c2b86b821562f.png\",\"size\":\"mega\"},{\"#text\":\"https://lastfm.freetls.fastly.net/i/u/300x300/2a96cbd8b46e442fc41c2b86b821562f.png\",\"size\":\"\"}],\"streamable\":\"0\"},{\"name\":\"2Pac\",\"mbid\":\"382f1005-e9ab-4684-afd4-0bdae4ee37f2\",\"match\":\"0.456939\",\"url\":\"https://www.last.fm/music/2Pac\",\"image\":[{\"#text\":\"https://lastfm.freetls.fastly.net/i/u/34s/2a96cbd8b46e442fc41c2b86b821562f.png\",\"size\":\"small\"},{\"#text\":\"https://lastfm.freetls.fastly.net/i/u/64s/2a96cbd8b46e442fc41c2b86b821562f.png\",\"size\":\"medium\"},{\"#text\":\"https://lastfm.freetls.fastly.net/i/u/174s/2a96cbd8b46e442fc41c2b86b821562f.png\",\"size\":\"large\"},{\"#text\":\"https://lastfm.freetls.fastly.net/i/u/300x300/2a96cbd8b46e442fc41c2b86b821562f.png\",\"size\":\"extralarge\"},{\"#text\":\"https://lastfm.freetls.fastly.net/i/u/300x300/2a96cbd8b46e442fc41c2b86b821562f.png\",\"size\":\"mega\"},{\"#text\":\"https://lastfm.freetls.fastly.net/i/u/300x300/2a96cbd8b46e442fc41c2b86b821562f.png\",\"size\":\"\"}],\"streamable\":\"0\"},{\"name\":\"Isaiah Rashad\",\"mbid\":\"37547347-ea75-45fa-9766-ff36b44d8147\",\"match\":\"0.456602\",\"url\":\"https://www.last.fm/music/Isaiah+Rashad\",\"image\":[{\"#text\":\"https://lastfm.freetls.fastly.net/i/u/34s/2a96cbd8b46e442fc41c2b86b821562f.png\",\"size\":\"small\"},{\"#text\":\"https://lastfm.freetls.fastly.net/i/u/64s/2a96cbd8b46e442fc41c2b86b821562f.png\",\"size\":\"medium\"},{\"#text\":\"https://lastfm.freetls.fastly.net/i/u/174s/2a96cbd8b46e442fc41c2b86b821562f.png\",\"size\":\"large\"},{\"#text\":\"https://lastfm.freetls.fastly.net/i/u/300x300/2a96cbd8b46e442fc41c2b86b821562f.png\",\"size\":\"extralarge\"},{\"#text\":\"https://lastfm.freetls.fastly.net/i/u/300x300/2a96cbd8b46e442fc41c2b86b821562f.png\",\"size\":\"mega\"},{\"#text\":\"https://lastfm.freetls.fastly.net/i/u/300x300/2a96cbd8b46e442fc41c2b86b821562f.png\",\"size\":\"\"}],\"streamable\":\"0\"},{\"name\":\"JAY-Z\",\"match\":\"0.446735\",\"url\":\"https://www.last.fm/music/JAY-Z\",\"image\":[{\"#text\":\"https://lastfm.freetls.fastly.net/i/u/34s/2a96cbd8b46e442fc41c2b86b821562f.png\",\"size\":\"small\"},{\"#text\":\"https://lastfm.freetls.fastly.net/i/u/64s/2a96cbd8b46e442fc41c2b86b821562f.png\",\"size\":\"medium\"},{\"#text\":\"https://lastfm.freetls.fastly.net/i/u/174s/2a96cbd8b46e442fc41c2b86b821562f.png\",\"size\":\"large\"},{\"#text\":\"https://lastfm.freetls.fastly.net/i/u/300x300/2a96cbd8b46e442fc41c2b86b821562f.png\",\"size\":\"extralarge\"},{\"#text\":\"https://lastfm.freetls.fastly.net/i/u/300x300/2a96cbd8b46e442fc41c2b86b821562f.png\",\"size\":\"mega\"},{\"#text\":\"https://lastfm.freetls.fastly.net/i/u/300x300/2a96cbd8b46e442fc41c2b86b821562f.png\",\"size\":\"\"}],\"streamable\":\"0\"},{\"name\":\"Childish Gambino\",\"mbid\":\"7fb57fba-a6ef-44c2-abab-2fa3bdee607e\",\"match\":\"0.437096\",\"url\":\"https://www.last.fm/music/Childish+Gambino\",\"image\":[{\"#text\":\"https://lastfm.freetls.fastly.net/i/u/34s/2a96cbd8b46e442fc41c2b86b821562f.png\",\"size\":\"small\"},{\"#text\":\"https://lastfm.freetls.fastly.net/i/u/64s/2a96cbd8b46e442fc41c2b86b821562f.png\",\"size\":\"medium\"},{\"#text\":\"https://lastfm.freetls.fastly.net/i/u/174s/2a96cbd8b46e442fc41c2b86b821562f.png\",\"size\":\"large\"},{\"#text\":\"https://lastfm.freetls.fastly.net/i/u/300x300/2a96cbd8b46e442fc41c2b86b821562f.png\",\"size\":\"extralarge\"},{\"#text\":\"https://lastfm.freetls.fastly.net/i/u/300x300/2a96cbd8b46e442fc41c2b86b821562f.png\",\"size\":\"mega\"},{\"#text\":\"https://lastfm.freetls.fastly.net/i/u/300x300/2a96cbd8b46e442fc41c2b86b821562f.png\",\"size\":\"\"}],\"streamable\":\"0\"},{\"name\":\"Mac Miller\",\"mbid\":\"a0e8a1b1-5f8f-475a-a253-17415c17d0ff\",\"match\":\"0.427419\",\"url\":\"https://www.last.fm/music/Mac+Miller\",\"image\":[{\"#text\":\"https://lastfm.freetls.fastly.net/i/u/34s/2a96cbd8b46e442fc41c2b86b821562f.png\",\"size\":\"small\"},{\"#text\":\"https://lastfm.freetls.fastly.net/i/u/64s/2a96cbd8b46e442fc41c2b86b821562f.png\",\"size\":\"medium\"},{\"#text\":\"https://lastfm.freetls.fastly.net/i/u/174s/2a96cbd8b46e442fc41c2b86b821562f.png\",\"size\":\"large\"},{\"#text\":\"https://lastfm.freetls.fastly.net/i/u/300x300/2a96cbd8b46e442fc41c2b86b821562f.png\",\"size\":\"extralarge\"},{\"#text\":\"https://lastfm.freetls.fastly.net/i/u/300x300/2a96cbd8b46e442fc41c2b86b821562f.png\",\"size\":\"mega\"},{\"#text\":\"https://lastfm.freetls.fastly.net/i/u/300x300/2a96cbd8b46e442fc41c2b86b821562f.png\",\"size\":\"\"}],\"streamable\":\"0\"},{\"name\":\"Dreamville\",\"mbid\":\"f7a94446-aa3f-41e6-b3d0-46dd695d7d6e\",\"match\":\"0.421618\",\"url\":\"https://www.last.fm/music/Dreamville\",\"image\":[{\"#text\":\"https://lastfm.freetls.fastly.net/i/u/34s/2a96cbd8b46e442fc41c2b86b821562f.png\",\"size\":\"small\"},{\"#text\":\"https://lastfm.freetls.fastly.net/i/u/64s/2a96cbd8b46e442fc41c2b86b821562f.png\",\"size\":\"medium\"},{\"#text\":\"https://lastfm.freetls.fastly.net/i/u/174s/2a96cbd8b46e442fc41c2b86b821562f.png\",\"size\":\"large\"},{\"#text\":\"https://lastfm.freetls.fastly.net/i/u/300x300/2a96cbd8b46e442fc41c2b86b821562f.png\",\"size\":\"extralarge\"},{\"#text\":\"https://lastfm.freetls.fastly.net/i/u/300x300/2a96cbd8b46e442fc41c2b86b821562f.png\",\"size\":\"mega\"},{\"#text\":\"https://lastfm.freetls.fastly.net/i/u/300x300/2a96cbd8b46e442fc41c2b86b821562f.png\",\"size\":\"\"}],\"streamable\":\"0\"},{\"name\":\"Saba\",\"mbid\":\"42234de3-79be-4e2f-9366-00cd57da2f82\",\"match\":\"0.415512\",\"url\":\"https://www.last.fm/music/Saba\",\"image\":[{\"#text\":\"https://lastfm.freetls.fastly.net/i/u/34s/2a96cbd8b46e442fc41c2b86b821562f.png\",\"size\":\"small\"},{\"#text\":\"https://lastfm.freetls.fastly.net/i/u/64s/2a96cbd8b46e442fc41c2b86b821562f.png\",\"size\":\"medium\"},{\"#text\":\"https://lastfm.freetls.fastly.net/i/u/174s/2a96cbd8b46e442fc41c2b86b821562f.png\",\"size\":\"large\"},{\"#text\":\"https://lastfm.freetls.fastly.net/i/u/300x300/2a96cbd8b46e442fc41c2b86b821562f.png\",\"size\":\"extralarge\"},{\"#text\":\"https://lastfm.freetls.fastly.net/i/u/300x300/2a96cbd8b46e442fc41c2b86b821562f.png\",\"size\":\"mega\"},{\"#text\":\"https://lastfm.freetls.fastly.net/i/u/300x300/2a96cbd8b46e442fc41c2b86b821562f.png\",\"size\":\"\"}],\"streamable\":\"0\"},{\"name\":\"Clipse\",\"mbid\":\"e6424fa5-08d3-41c6-96f3-8549f733708c\",\"match\":\"0.407783\",\"url\":\"https://www.last.fm/music/Clipse\",\"image\":[{\"#text\":\"https://lastfm.freetls.fastly.net/i/u/34s/2a96cbd8b46e442fc41c2b86b821562f.png\",\"size\":\"small\"},{\"#text\":\"https://lastfm.freetls.fastly.net/i/u/64s/2a96cbd8b46e442fc41c2b86b821562f.png\",\"size\":\"medium\"},{\"#text\":\"https://lastfm.freetls.fastly.net/i/u/174s/2a96cbd8b46e442fc41c2b86b821562f.png\",\"size\":\"large\"},{\"#text\":\"https://lastfm.freetls.fastly.net/i/u/300x300/2a96cbd8b46e442fc41c2b86b821562f.png\",\"size\":\"extralarge\"},{\"#text\":\"https://lastfm.freetls.fastly.net/i/u/300x300/2a96cbd8b46e442fc41c2b86b821562f.png\",\"size\":\"mega\"},{\"#text\":\"https://lastfm.freetls.fastly.net/i/u/300x300/2a96cbd8b46e442fc41c2b86b821562f.png\",\"size\":\"\"}],\"streamable\":\"0\"},{\"name\":\"Freddie Gibbs\",\"mbid\":\"21645c31-fe1c-45a4-955c-3e172b12c3f9\",\"match\":\"0.396031\",\"url\":\"https://www.last.fm/music/Freddie+Gibbs\",\"image\":[{\"#text\":\"https://lastfm.freetls.fastly.net/i/u/34s/2a96cbd8b46e442fc41c2b86b821562f.png\",\"size\":\"small\"},{\"#text\":\"https://lastfm.freetls.fastly.net/i/u/64s/2a96cbd8b46e442fc41c2b86b821562f.png\",\"size\":\"medium\"},{\"#text\":\"https://lastfm.freetls.fastly.net/i/u/174s/2a96cbd8b46e442fc41c2b86b821562f.png\",\"size\":\"large\"},{\"#text\":\"https://lastfm.freetls.fastly.net/i/u/300x300/2a96cbd8b46e442fc41c2b86b821562f.png\",\"size\":\"extralarge\"},{\"#text\":\"https://lastfm.freetls.fastly.net/i/u/300x300/2a96cbd8b46e442fc41c2b86b821562f.png\",\"size\":\"mega\"},{\"#text\":\"https://lastfm.freetls.fastly.net/i/u/300x300/2a96cbd8b46e442fc41c2b86b821562f.png\",\"size\":\"\"}],\"streamable\":\"0\"},{\"name\":\"Ray Vaughn\",\"mbid\":\"a9dd15ac-c1bf-4c11-925c-c5a68635d0f2\",\"match\":\"0.382146\",\"url\":\"https://www.last.fm/music/Ray+Vaughn\",\"image\":[{\"#text\":\"https://lastfm.freetls.fastly.net/i/u/34s/2a96cbd8b46e442fc41c2b86b821562f.png\",\"size\":\"small\"},{\"#text\":\"https://lastfm.freetls.fastly.net/i/u/64s/2a96cbd8b46e442fc41c2b86b821562f.png\",\"size\":\"medium\"},{\"#text\":\"https://lastfm.freetls.fastly.net/i/u/174s/2a96cbd8b46e442fc41c2b86b821562f.png\",\"size\":\"large\"},{\"#text\":\"https://lastfm.freetls.fastly.net/i/u/300x300/2a96cbd8b46e442fc41c2b86b821562f.png\",\"size\":\"extralarge\"},{\"#text\":\"https://lastfm.freetls.fastly.net/i/u/300x300/2a96cbd8b46e442fc41c2b86b821562f.png\",\"size\":\"mega\"},{\"#text\":\"https://lastfm.freetls.fastly.net/i/u/300x300/2a96cbd8b46e442fc41c2b86b821562f.png\",\"size\":\"\"}],\"streamable\":\"0\"},{\"name\":\"Earl Sweatshirt\",\"mbid\":\"8b22acd6-20e6-4463-a75c-c14b5cfdb666\",\"match\":\"0.373242\",\"url\":\"https://www.last.fm/music/Earl+Sweatshirt\",\"image\":[{\"#text\":\"https://lastfm.freetls.fastly.net/i/u/34s/2a96cbd8b46e442fc41c2b86b821562f.png\",\"size\":\"small\"},{\"#text\":\"https://lastfm.freetls.fastly.net/i/u/64s/2a96cbd8b46e442fc41c2b86b821562f.png\",\"size\":\"medium\"},{\"#text\":\"https://lastfm.freetls.fastly.net/i/u/174s/2a96cbd8b46e442fc41c2b86b821562f.png\",\"size\":\"large\"},{\"#text\":\"https://lastfm.freetls.fastly.net/i/u/300x300/2a96cbd8b46e442fc41c2b86b821562f.png\",\"size\":\"extralarge\"},{\"#text\":\"https://lastfm.freetls.fastly.net/i/u/300x300/2a96cbd8b46e442fc41c2b86b821562f.png\",\"size\":\"mega\"},{\"#text\":\"https://lastfm.freetls.fastly.net/i/u/300x300/2a96cbd8b46e442fc41c2b86b821562f.png\",\"size\":\"\"}],\"streamable\":\"0\"},{\"name\":\"Little Simz\",\"mbid\":\"3cdb40fe-a63e-4bb9-b40d-17cda5f50979\",\"match\":\"0.372217\",\"url\":\"https://www.last.fm/music/Little+Simz\",\"image\":[{\"#text\":\"https://lastfm.freetls.fastly.net/i/u/34s/2a96cbd8b46e442fc41c2b86b821562f.png\",\"size\":\"small\"},{\"#text\":\"https://lastfm.freetls.fastly.net/i/u/64s/2a96cbd8b46e442fc41c2b86b821562f.png\",\"size\":\"medium\"},{\"#text\":\"https://lastfm.freetls.fastly.net/i/u/174s/2a96cbd8b46e442fc41c2b86b821562f.png\",\"size\":\"large\"},{\"#text\":\"https://lastfm.freetls.fastly.net/i/u/300x300/2a96cbd8b46e442fc41c2b86b821562f.png\",\"size\":\"extralarge\"},{\"#text\":\"https://lastfm.freetls.fastly.net/i/u/300x300/2a96cbd8b46e442fc41c2b86b821562f.png\",\"size\":\"mega\"},{\"#text\":\"https://lastfm.freetls.fastly.net/i/u/300x300/2a96cbd8b46e442fc41c2b86b821562f.png\",\"size\":\"\"}],\"streamable\":\"0\"},{\"name\":\"Lupe Fiasco\",\"mbid\":\"cf15719f-51f9-4db8-a15d-5eed9664ce69\",\"match\":\"0.367246\",\"url\":\"https://www.last.fm/music/Lupe+Fiasco\",\"image\":[{\"#text\":\"https://lastfm.freetls.fastly.net/i/u/34s/2a96cbd8b46e442fc41c2b86b821562f.png\",\"size\":\"small\"},{\"#text\":\"https://lastfm.freetls.fastly.net/i/u/64s/2a96cbd8b46e442fc41c2b86b821562f.png\",\"size\":\"medium\"},{\"#text\":\"https://lastfm.freetls.fastly.net/i/u/174s/2a96cbd8b46e442fc41c2b86b821562f.png\",\"size\":\"large\"},{\"#text\":\"https://lastfm.freetls.fastly.net/i/u/300x300/2a96cbd8b46e442fc41c2b86b821562f.png\",\"size\":\"extralarge\"},{\"#text\":\"https://lastfm.freetls.fastly.net/i/u/300x300/2a96cbd8b46e442fc41c2b86b821562f.png\",\"size\":\"mega\"},{\"#text\":\"https://lastfm.freetls.fastly.net/i/u/300x300/2a96cbd8b46e442fc41c2b86b821562f.png\",\"size\":\"\"}],\"streamable\":\"0\"},{\"name\":\"JAY-Z & Kanye West\",\"match\":\"0.366572\",\"url\":\"https://www.last.fm/music/JAY-Z+&+Kanye+West\",\"image\":[{\"#text\":\"https://lastfm.freetls.fastly.net/i/u/34s/2a96cbd8b46e442fc41c2b86b821562f.png\",\"size\":\"small\"},{\"#text\":\"https://lastfm.freetls.fastly.net/i/u/64s/2a96cbd8b46e442fc41c2b86b821562f.png\",\"size\":\"medium\"},{\"#text\":\"https://lastfm.freetls.fastly.net/i/u/174s/2a96cbd8b46e442fc41c2b86b821562f.png\",\"size\":\"large\"},{\"#text\":\"https://lastfm.freetls.fastly.net/i/u/300x300/2a96cbd8b46e442fc41c2b86b821562f.png\",\"size\":\"extralarge\"},{\"#text\":\"https://lastfm.freetls.fastly.net/i/u/300x300/2a96cbd8b46e442fc41c2b86b821562f.png\",\"size\":\"mega\"},{\"#text\":\"https://lastfm.freetls.fastly.net/i/u/300x300/2a96cbd8b46e442fc41c2b86b821562f.png\",\"size\":\"\"}],\"streamable\":\"0\"},{\"name\":\"jev.\",\"mbid\":\"02cd2007-b4ba-4eaa-9798-b26a1c851ce5\",\"match\":\"0.363707\",\"url\":\"https://www.last.fm/music/jev.\",\"image\":[{\"#text\":\"https://lastfm.freetls.fastly.net/i/u/34s/2a96cbd8b46e442fc41c2b86b821562f.png\",\"size\":\"small\"},{\"#text\":\"https://lastfm.freetls.fastly.net/i/u/64s/2a96cbd8b46e442fc41c2b86b821562f.png\",\"size\":\"medium\"},{\"#text\":\"https://lastfm.freetls.fastly.net/i/u/174s/2a96cbd8b46e442fc41c2b86b821562f.png\",\"size\":\"large\"},{\"#text\":\"https://lastfm.freetls.fastly.net/i/u/300x300/2a96cbd8b46e442fc41c2b86b821562f.png\",\"size\":\"extralarge\"},{\"#text\":\"https://lastfm.freetls.fastly.net/i/u/300x300/2a96cbd8b46e442fc41c2b86b821562f.png\",\"size\":\"mega\"},{\"#text\":\"https://lastfm.freetls.fastly.net/i/u/300x300/2a96cbd8b46e442fc41c2b86b821562f.png\",\"size\":\"\"}],\"streamable\":\"0\"},{\"name\":\"Jay Rock, Kendrick Lamar, Future, James Blake\",\"match\":\"0.363266\",\"url\":\"https://www.last.fm/music/Jay+Rock,+Kendrick+Lamar,+Future,+James+Blake\",\"image\":[{\"#text\":\"https://lastfm.freetls.fastly.net/i/u/34s/2a96cbd8b46e442fc41c2b86b821562f.png\",\"size\":\"small\"},{\"#text\":\"https://lastfm.freetls.fastly.net/i/u/64s/2a96cbd8b46e442fc41c2b86b821562f.png\",\"size\":\"medium\"},{\"#text\":\"https://lastfm.freetls.fastly.net/i/u/174s/2a96cbd8b46e442fc41c2b86b821562f.png\",\"size\":\"large\"},{\"#text\":\"https://lastfm.freetls.fastly.net/i/u/300x300/2a96cbd8b46e442fc41c2b86b821562f.png\",\"size\":\"extralarge\"},{\"#text\":\"https://lastfm.freetls.fastly.net/i/u/300x300/2a96cbd8b46e442fc41c2b86b821562f.png\",\"size\":\"mega\"},{\"#text\":\"https://lastfm.freetls.fastly.net/i/u/300x300/2a96cbd8b46e442fc41c2b86b821562f.png\",\"size\":\"\"}],\"streamable\":\"0\"},{\"name\":\"Dr. Dre\",\"mbid\":\"5f6ab597-f57a-40da-be9e-adad48708203\",\"match\":\"0.361789\",\"url\":\"https://www.last.fm/music/Dr.+Dre\",\"image\":[{\"#text\":\"https://lastfm.freetls.fastly.net/i/u/34s/2a96cbd8b46e442fc41c2b86b821562f.png\",\"size\":\"small\"},{\"#text\":\"https://lastfm.freetls.fastly.net/i/u/64s/2a96cbd8b46e442fc41c2b86b821562f.png\",\"size\":\"medium\"},{\"#text\":\"https://lastfm.freetls.fastly.net/i/u/174s/2a96cbd8b46e442fc41c2b86b821562f.png\",\"size\":\"large\"},{\"#text\":\"https://lastfm.freetls.fastly.net/i/u/300x300/2a96cbd8b46e442fc41c2b86b821562f.png\",\"size\":\"extralarge\"},{\"#text\":\"https://lastfm.freetls.fastly.net/i/u/300x300/2a96cbd8b46e442fc41c2b86b821562f.png\",\"size\":\"mega\"},{\"#text\":\"https://lastfm.freetls.fastly.net/i/u/300x300/2a96cbd8b46e442fc41c2b86b821562f.png\",\"size\":\"\"}],\"streamable\":\"0\"},{\"name\":\"EARTHGANG\",\"match\":\"0.361405\",\"url\":\"https://www.last.fm/music/EARTHGANG\",\"image\":[{\"#text\":\"https://lastfm.freetls.fastly.net/i/u/34s/2a96cbd8b46e442fc41c2b86b821562f.png\",\"size\":\"small\"},{\"#text\":\"https://lastfm.freetls.fastly.net/i/u/64s/2a96cbd8b46e442fc41c2b86b821562f.png\",\"size\":\"medium\"},{\"#text\":\"https://lastfm.freetls.fastly.net/i/u/174s/2a96cbd8b46e442fc41c2b86b821562f.png\",\"size\":\"large\"},{\"#text\":\"https://lastfm.freetls.fastly.net/i/u/300x300/2a96cbd8b46e442fc41c2b86b821562f.png\",\"size\":\"extralarge\"},{\"#text\":\"https://lastfm.freetls.fastly.net/i/u/300x300/2a96cbd8b46e442fc41c2b86b821562f.png\",\"size\":\"mega\"},{\"#text\":\"https://lastfm.freetls.fastly.net/i/u/300x300/2a96cbd8b46e442fc41c2b86b821562f.png\",\"size\":\"\"}],\"streamable\":\"0\"},{\"name\":\"Cordae\",\"mbid\":\"994a4bd6-584e-40c8-a8d7-5fdc3b6db8b2\",\"match\":\"0.353239\",\"url\":\"https://www.last.fm/music/Cordae\",\"image\":[{\"#text\":\"https://lastfm.freetls.fastly.net/i/u/34s/2a96cbd8b46e442fc41c2b86b821562f.png\",\"size\":\"small\"},{\"#text\":\"https://lastfm.freetls.fastly.net/i/u/64s/2a96cbd8b46e442fc41c2b86b821562f.png\",\"size\":\"medium\"},{\"#text\":\"https://lastfm.freetls.fastly.net/i/u/174s/2a96cbd8b46e442fc41c2b86b821562f.png\",\"size\":\"large\"},{\"#text\":\"https://lastfm.freetls.fastly.net/i/u/300x300/2a96cbd8b46e442fc41c2b86b821562f.png\",\"size\":\"extralarge\"},{\"#text\":\"https://lastfm.freetls.fastly.net/i/u/300x300/2a96cbd8b46e442fc41c2b86b821562f.png\",\"size\":\"mega\"},{\"#text\":\"https://lastfm.freetls.fastly.net/i/u/300x300/2a96cbd8b46e442fc41c2b86b821562f.png\",\"size\":\"\"}],\"streamable\":\"0\"},{\"name\":\"SOB x RBE\",\"match\":\"0.351339\",\"url\":\"https://www.last.fm/music/SOB+x+RBE\",\"image\":[{\"#text\":\"https://lastfm.freetls.fastly.net/i/u/34s/2a96cbd8b46e442fc41c2b86b821562f.png\",\"size\":\"small\"},{\"#text\":\"https://lastfm.freetls.fastly.net/i/u/64s/2a96cbd8b46e442fc41c2b86b821562f.png\",\"size\":\"medium\"},{\"#text\":\"https://lastfm.freetls.fastly.net/i/u/174s/2a96cbd8b46e442fc41c2b86b821562f.png\",\"size\":\"large\"},{\"#text\":\"https://lastfm.freetls.fastly.net/i/u/300x300/2a96cbd8b46e442fc41c2b86b821562f.png\",\"size\":\"extralarge\"},{\"#text\":\"https://lastfm.freetls.fastly.net/i/u/300x300/2a96cbd8b46e442fc41c2b86b821562f.png\",\"size\":\"mega\"},{\"#text\":\"https://lastfm.freetls.fastly.net/i/u/300x300/2a96cbd8b46e442fc41c2b86b821562f.png\",\"size\":\"\"}],\"streamable\":\"0\"},{\"name\":\"MF DOOM\",\"mbid\":\"188711ed-c99b-439c-844a-ca831f63a727\",\"match\":\"0.349429\",\"url\":\"https://www.last.fm/music/MF+DOOM\",\"image\":[{\"#text\":\"https://lastfm.freetls.fastly.net/i/u/34s/2a96cbd8b46e442fc41c2b86b821562f.png\",\"size\":\"small\"},{\"#text\":\"https://lastfm.freetls.fastly.net/i/u/64s/2a96cbd8b46e442fc41c2b86b821562f.png\",\"size\":\"medium\"},{\"#text\":\"https://lastfm.freetls.fastly.net/i/u/174s/2a96cbd8b46e442fc41c2b86b821562f.png\",\"size\":\"large\"},{\"#text\":\"https://lastfm.freetls.fastly.net/i/u/300x300/2a96cbd8b46e442fc41c2b86b821562f.png\",\"size\":\"extralarge\"},{\"#text\":\"https://lastfm.freetls.fastly.net/i/u/300x300/2a96cbd8b46e442fc41c2b86b821562f.png\",\"size\":\"mega\"},{\"#text\":\"https://lastfm.freetls.fastly.net/i/u/300x300/2a96cbd8b46e442fc41c2b86b821562f.png\",\"size\":\"\"}],\"streamable\":\"0\"},{\"name\":\"A Tribe Called Quest\",\"mbid\":\"9689aa5a-4471-4fb4-9721-07cecda0fa9f\",\"match\":\"0.348405\",\"url\":\"https://www.last.fm/music/A+Tribe+Called+Quest\",\"image\":[{\"#text\":\"https://lastfm.freetls.fastly.net/i/u/34s/2a96cbd8b46e442fc41c2b86b821562f.png\",\"size\":\"small\"},{\"#text\":\"https://lastfm.freetls.fastly.net/i/u/64s/2a96cbd8b46e442fc41c2b86b821562f.png\",\"size\":\"medium\"},{\"#text\":\"https://lastfm.freetls.fastly.net/i/u/174s/2a96cbd8b46e442fc41c2b86b821562f.png\",\"size\":\"large\"},{\"#text\":\"https://lastfm.freetls.fastly.net/i/u/300x300/2a96cbd8b46e442fc41c2b86b821562f.png\",\"size\":\"extralarge\"},{\"#text\":\"https://lastfm.freetls.fastly.net/i/u/300x300/2a96cbd8b46e442fc41c2b86b821562f.png\",\"size\":\"mega\"},{\"#text\":\"https://lastfm.freetls.fastly.net/i/u/300x300/2a96cbd8b46e442fc41c2b86b821562f.png\",\"size\":\"\"}],\"streamable\":\"0\"},{\"name\":\"Eminem\",\"mbid\":\"b95ce3ff-3d05-4e87-9e01-c97b66af13d4\",\"match\":\"0.345913\",\"url\":\"https://www.last.fm/music/Eminem\",\"image\":[{\"#text\":\"https://lastfm.freetls.fastly.net/i/u/34s/2a96cbd8b46e442fc41c2b86b821562f.png\",\"size\":\"small\"},{\"#text\":\"https://lastfm.freetls.fastly.net/i/u/64s/2a96cbd8b46e442fc41c2b86b821562f.png\",\"size\":\"medium\"},{\"#text\":\"https://lastfm.freetls.fastly.net/i/u/174s/2a96cbd8b46e442fc41c2b86b821562f.png\",\"size\":\"large\"},{\"#text\":\"https://lastfm.freetls.fastly.net/i/u/300x300/2a96cbd8b46e442fc41c2b86b821562f.png\",\"size\":\"extralarge\"},{\"#text\":\"https://lastfm.freetls.fastly.net/i/u/300x300/2a96cbd8b46e442fc41c2b86b821562f.png\",\"size\":\"mega\"},{\"#text\":\"https://lastfm.freetls.fastly.net/i/u/300x300/2a96cbd8b46e442fc41c2b86b821562f.png\",\"size\":\"\"}],\"streamable\":\"0\"},{\"name\":\"The Notorious B.I.G.\",\"mbid\":\"d5d97b2b-b83b-4976-814a-056d9076c8c3\",\"match\":\"0.342539\",\"url\":\"https://www.last.fm/music/The+Notorious+B.I.G.\",\"image\":[{\"#text\":\"https://lastfm.freetls.fastly.net/i/u/34s/2a96cbd8b46e442fc41c2b86b821562f.png\",\"size\":\"small\"},{\"#text\":\"https://lastfm.freetls.fastly.net/i/u/64s/2a96cbd8b46e442fc41c2b86b821562f.png\",\"size\":\"medium\"},{\"#text\":\"https://lastfm.freetls.fastly.net/i/u/174s/2a96cbd8b46e442fc41c2b86b821562f.png\",\"size\":\"large\"},{\"#text\":\"https://lastfm.freetls.fastly.net/i/u/300x300/2a96cbd8b46e442fc41c2b86b821562f.png\",\"size\":\"extralarge\"},{\"#text\":\"https://lastfm.freetls.fastly.net/i/u/300x300/2a96cbd8b46e442fc41c2b86b821562f.png\",\"size\":\"mega\"},{\"#text\":\"https://lastfm.freetls.fastly.net/i/u/300x300/2a96cbd8b46e442fc41c2b86b821562f.png\",\"size\":\"\"}],\"streamable\":\"0\"},{\"name\":\"Danny Brown\",\"mbid\":\"5386edcb-2038-4ed2-ae39-8d8c2a6af175\",\"match\":\"0.323740\",\"url\":\"https://www.last.fm/music/Danny+Brown\",\"image\":[{\"#text\":\"https://lastfm.freetls.fastly.net/i/u/34s/2a96cbd8b46e442fc41c2b86b821562f.png\",\"size\":\"small\"},{\"#text\":\"https://lastfm.freetls.fastly.net/i/u/64s/2a96cbd8b46e442fc41c2b86b821562f.png\",\"size\":\"medium\"},{\"#text\":\"https://lastfm.freetls.fastly.net/i/u/174s/2a96cbd8b46e442fc41c2b86b821562f.png\",\"size\":\"large\"},{\"#text\":\"https://lastfm.freetls.fastly.net/i/u/300x300/2a96cbd8b46e442fc41c2b86b821562f.png\",\"size\":\"extralarge\"},{\"#text\":\"https://lastfm.freetls.fastly.net/i/u/300x300/2a96cbd8b46e442fc41c2b86b821562f.png\",\"size\":\"mega\"},{\"#text\":\"https://lastfm.freetls.fastly.net/i/u/300x300/2a96cbd8b46e442fc41c2b86b821562f.png\",\"size\":\"\"}],\"streamable\":\"0\"},{\"name\":\"21 Savage\",\"mbid\":\"37b2cb82-ef79-4d46-a184-a549450aa231\",\"match\":\"0.316163\",\"url\":\"https://www.last.fm/music/21+Savage\",\"image\":[{\"#text\":\"https://lastfm.freetls.fastly.net/i/u/34s/2a96cbd8b46e442fc41c2b86b821562f.png\",\"size\":\"small\"},{\"#text\":\"https://lastfm.freetls.fastly.net/i/u/64s/2a96cbd8b46e442fc41c2b86b821562f.png\",\"size\":\"medium\"},{\"#text\":\"https://lastfm.freetls.fastly.net/i/u/174s/2a96cbd8b46e442fc41c2b86b821562f.png\",\"size\":\"large\"},{\"#text\":\"https://lastfm.freetls.fastly.net/i/u/300x300/2a96cbd8b46e442fc41c2b86b821562f.png\",\"size\":\"extralarge\"},{\"#text\":\"https://lastfm.freetls.fastly.net/i/u/300x300/2a96cbd8b46e442fc41c2b86b821562f.png\",\"size\":\"mega\"},{\"#text\":\"https://lastfm.freetls.fastly.net/i/u/300x300/2a96cbd8b46e442fc41c2b86b821562f.png\",\"size\":\"\"}],\"streamable\":\"0\"},{\"name\":\"Metro Boomin\",\"mbid\":\"59db3d82-86ea-451f-881f-dffc8ec387c9\",\"match\":\"0.310134\",\"url\":\"https://www.last.fm/music/Metro+Boomin\",\"image\":[{\"#text\":\"https://lastfm.freetls.fastly.net/i/u/34s/2a96cbd8b46e442fc41c2b86b821562f.png\",\"size\":\"small\"},{\"#text\":\"https://lastfm.freetls.fastly.net/i/u/64s/2a96cbd8b46e442fc41c2b86b821562f.png\",\"size\":\"medium\"},{\"#text\":\"https://lastfm.freetls.fastly.net/i/u/174s/2a96cbd8b46e442fc41c2b86b821562f.png\",\"size\":\"large\"},{\"#text\":\"https://lastfm.freetls.fastly.net/i/u/300x300/2a96cbd8b46e442fc41c2b86b821562f.png\",\"size\":\"extralarge\"},{\"#text\":\"https://lastfm.freetls.fastly.net/i/u/300x300/2a96cbd8b46e442fc41c2b86b821562f.png\",\"size\":\"mega\"},{\"#text\":\"https://lastfm.freetls.fastly.net/i/u/300x300/2a96cbd8b46e442fc41c2b86b821562f.png\",\"size\":\"\"}],\"streamable\":\"0\"},{\"name\":\"Chance the Rapper\",\"mbid\":\"373a4c98-a46b-48e4-86ec-f6ca65b4f438\",\"match\":\"0.308868\",\"url\":\"https://www.last.fm/music/Chance+the+Rapper\",\"image\":[{\"#text\":\"https://lastfm.freetls.fastly.net/i/u/34s/2a96cbd8b46e442fc41c2b86b821562f.png\",\"size\":\"small\"},{\"#text\":\"https://lastfm.freetls.fastly.net/i/u/64s/2a96cbd8b46e442fc41c2b86b821562f.png\",\"size\":\"medium\"},{\"#text\":\"https://lastfm.freetls.fastly.net/i/u/174s/2a96cbd8b46e442fc41c2b86b821562f.png\",\"size\":\"large\"},{\"#text\":\"https://lastfm.freetls.fastly.net/i/u/300x300/2a96cbd8b46e442fc41c2b86b821562f.png\",\"size\":\"extralarge\"},{\"#text\":\"https://lastfm.freetls.fastly.net/i/u/300x300/2a96cbd8b46e442fc41c2b86b821562f.png\",\"size\":\"mega\"},{\"#text\":\"https://lastfm.freetls.fastly.net/i/u/300x300/2a96cbd8b46e442fc41c2b86b821562f.png\",\"size\":\"\"}],\"streamable\":\"0\"},{\"name\":\"Freddie Gibbs & Madlib\",\"match\":\"0.303395\",\"url\":\"https://www.last.fm/music/Freddie+Gibbs+&+Madlib\",\"image\":[{\"#text\":\"https://lastfm.freetls.fastly.net/i/u/34s/2a96cbd8b46e442fc41c2b86b821562f.png\",\"size\":\"small\"},{\"#text\":\"https://lastfm.freetls.fastly.net/i/u/64s/2a96cbd8b46e442fc41c2b86b821562f.png\",\"size\":\"medium\"},{\"#text\":\"https://lastfm.freetls.fastly.net/i/u/174s/2a96cbd8b46e442fc41c2b86b821562f.png\",\"size\":\"large\"},{\"#text\":\"https://lastfm.freetls.fastly.net/i/u/300x300/2a96cbd8b46e442fc41c2b86b821562f.png\",\"size\":\"extralarge\"},{\"#text\":\"https://lastfm.freetls.fastly.net/i/u/300x300/2a96cbd8b46e442fc41c2b86b821562f.png\",\"size\":\"mega\"},{\"#text\":\"https://lastfm.freetls.fastly.net/i/u/300x300/2a96cbd8b46e442fc41c2b86b821562f.png\",\"size\":\"\"}],\"streamable\":\"0\"},{\"name\":\"Doechii\",\"mbid\":\"9f75277c-b283-4846-ac8c-f932255cd0ac\",\"match\":\"0.303038\",\"url\":\"https://www.last.fm/music/Doechii\",\"image\":[{\"#text\":\"https://lastfm.freetls.fastly.net/i/u/34s/2a96cbd8b46e442fc41c2b86b821562f.png\",\"size\":\"small\"},{\"#text\":\"https://lastfm.freetls.fastly.net/i/u/64s/2a96cbd8b46e442fc41c2b86b821562f.png\",\"size\":\"medium\"},{\"#text\":\"https://lastfm.freetls.fastly.net/i/u/174s/2a96cbd8b46e442fc41c2b86b821562f.png\",\"size\":\"large\"},{\"#text\":\"https://lastfm.freetls.fastly.net/i/u/300x300/2a96cbd8b46e442fc41c2b86b821562f.png\",\"size\":\"extralarge\"},{\"#text\":\"https://lastfm.freetls.fastly.net/i/u/300x300/2a96cbd8b46e442fc41c2b86b821562f.png\",\"size\":\"mega\"},{\"#text\":\"https://lastfm.freetls.fastly.net/i/u/300x300/2a96cbd8b46e442fc41c2b86b821562f.png\",\"size\":\"\"}],\"streamable\":\"0\"},{\"name\":\"Lil\\' Wayne\",\"match\":\"0.296167\",\"url\":\"https://www.last.fm/music/Lil%27+Wayne\",\"image\":[{\"#text\":\"https://lastfm.freetls.fastly.net/i/u/34s/2a96cbd8b46e442fc41c2b86b821562f.png\",\"size\":\"small\"},{\"#text\":\"https://lastfm.freetls.fastly.net/i/u/64s/2a96cbd8b46e442fc41c2b86b821562f.png\",\"size\":\"medium\"},{\"#text\":\"https://lastfm.freetls.fastly.net/i/u/174s/2a96cbd8b46e442fc41c2b86b821562f.png\",\"size\":\"large\"},{\"#text\":\"https://lastfm.freetls.fastly.net/i/u/300x300/2a96cbd8b46e442fc41c2b86b821562f.png\",\"size\":\"extralarge\"},{\"#text\":\"https://lastfm.freetls.fastly.net/i/u/300x300/2a96cbd8b46e442fc41c2b86b821562f.png\",\"size\":\"mega\"},{\"#text\":\"https://lastfm.freetls.fastly.net/i/u/300x300/2a96cbd8b46e442fc41c2b86b821562f.png\",\"size\":\"\"}],\"streamable\":\"0\"},{\"name\":\"¥$\",\"mbid\":\"58daf317-be5f-439f-a04d-0d6727f1a3b2\",\"match\":\"0.294579\",\"url\":\"https://www.last.fm/music/%C2%A5$\",\"image\":[{\"#text\":\"https://lastfm.freetls.fastly.net/i/u/34s/2a96cbd8b46e442fc41c2b86b821562f.png\",\"size\":\"small\"},{\"#text\":\"https://lastfm.freetls.fastly.net/i/u/64s/2a96cbd8b46e442fc41c2b86b821562f.png\",\"size\":\"medium\"},{\"#text\":\"https://lastfm.freetls.fastly.net/i/u/174s/2a96cbd8b46e442fc41c2b86b821562f.png\",\"size\":\"large\"},{\"#text\":\"https://lastfm.freetls.fastly.net/i/u/300x300/2a96cbd8b46e442fc41c2b86b821562f.png\",\"size\":\"extralarge\"},{\"#text\":\"https://lastfm.freetls.fastly.net/i/u/300x300/2a96cbd8b46e442fc41c2b86b821562f.png\",\"size\":\"mega\"},{\"#text\":\"https://lastfm.freetls.fastly.net/i/u/300x300/2a96cbd8b46e442fc41c2b86b821562f.png\",\"size\":\"\"}],\"streamable\":\"0\"},{\"name\":\"Kid Cudi\",\"mbid\":\"e0e1db18-f7ba-4dee-95ff-7ae8cf545460\",\"match\":\"0.291814\",\"url\":\"https://www.last.fm/music/Kid+Cudi\",\"image\":[{\"#text\":\"https://lastfm.freetls.fastly.net/i/u/34s/2a96cbd8b46e442fc41c2b86b821562f.png\",\"size\":\"small\"},{\"#text\":\"https://lastfm.freetls.fastly.net/i/u/64s/2a96cbd8b46e442fc41c2b86b821562f.png\",\"size\":\"medium\"},{\"#text\":\"https://lastfm.freetls.fastly.net/i/u/174s/2a96cbd8b46e442fc41c2b86b821562f.png\",\"size\":\"large\"},{\"#text\":\"https://lastfm.freetls.fastly.net/i/u/300x300/2a96cbd8b46e442fc41c2b86b821562f.png\",\"size\":\"extralarge\"},{\"#text\":\"https://lastfm.freetls.fastly.net/i/u/300x300/2a96cbd8b46e442fc41c2b86b821562f.png\",\"size\":\"mega\"},{\"#text\":\"https://lastfm.freetls.fastly.net/i/u/300x300/2a96cbd8b46e442fc41c2b86b821562f.png\",\"size\":\"\"}],\"streamable\":\"0\"},{\"name\":\"The Throne\",\"mbid\":\"8249a639-5a09-4783-b142-cf3648fea6ac\",\"match\":\"0.290571\",\"url\":\"https://www.last.fm/music/The+Throne\",\"image\":[{\"#text\":\"https://lastfm.freetls.fastly.net/i/u/34s/2a96cbd8b46e442fc41c2b86b821562f.png\",\"size\":\"small\"},{\"#text\":\"https://lastfm.freetls.fastly.net/i/u/64s/2a96cbd8b46e442fc41c2b86b821562f.png\",\"size\":\"medium\"},{\"#text\":\"https://lastfm.freetls.fastly.net/i/u/174s/2a96cbd8b46e442fc41c2b86b821562f.png\",\"size\":\"large\"},{\"#text\":\"https://lastfm.freetls.fastly.net/i/u/300x300/2a96cbd8b46e442fc41c2b86b821562f.png\",\"size\":\"extralarge\"},{\"#text\":\"https://lastfm.freetls.fastly.net/i/u/300x300/2a96cbd8b46e442fc41c2b86b821562f.png\",\"size\":\"mega\"},{\"#text\":\"https://lastfm.freetls.fastly.net/i/u/300x300/2a96cbd8b46e442fc41c2b86b821562f.png\",\"size\":\"\"}],\"streamable\":\"0\"},{\"name\":\"Future\",\"mbid\":\"48262e82-db9f-4a92-b650-dfef979b73ec\",\"match\":\"0.289812\",\"url\":\"https://www.last.fm/music/Future\",\"image\":[{\"#text\":\"https://lastfm.freetls.fastly.net/i/u/34s/2a96cbd8b46e442fc41c2b86b821562f.png\",\"size\":\"small\"},{\"#text\":\"https://lastfm.freetls.fastly.net/i/u/64s/2a96cbd8b46e442fc41c2b86b821562f.png\",\"size\":\"medium\"},{\"#text\":\"https://lastfm.freetls.fastly.net/i/u/174s/2a96cbd8b46e442fc41c2b86b821562f.png\",\"size\":\"large\"},{\"#text\":\"https://lastfm.freetls.fastly.net/i/u/300x300/2a96cbd8b46e442fc41c2b86b821562f.png\",\"size\":\"extralarge\"},{\"#text\":\"https://lastfm.freetls.fastly.net/i/u/300x300/2a96cbd8b46e442fc41c2b86b821562f.png\",\"size\":\"mega\"},{\"#text\":\"https://lastfm.freetls.fastly.net/i/u/300x300/2a96cbd8b46e442fc41c2b86b821562f.png\",\"size\":\"\"}],\"streamable\":\"0\"},{\"name\":\"Mustard\",\"mbid\":\"412c47c5-ea27-4ce9-b0f3-e036da967519\",\"match\":\"0.281610\",\"url\":\"https://www.last.fm/music/Mustard\",\"image\":[{\"#text\":\"https://lastfm.freetls.fastly.net/i/u/34s/2a96cbd8b46e442fc41c2b86b821562f.png\",\"size\":\"small\"},{\"#text\":\"https://lastfm.freetls.fastly.net/i/u/64s/2a96cbd8b46e442fc41c2b86b821562f.png\",\"size\":\"medium\"},{\"#text\":\"https://lastfm.freetls.fastly.net/i/u/174s/2a96cbd8b46e442fc41c2b86b821562f.png\",\"size\":\"large\"},{\"#text\":\"https://lastfm.freetls.fastly.net/i/u/300x300/2a96cbd8b46e442fc41c2b86b821562f.png\",\"size\":\"extralarge\"},{\"#text\":\"https://lastfm.freetls.fastly.net/i/u/300x300/2a96cbd8b46e442fc41c2b86b821562f.png\",\"size\":\"mega\"},{\"#text\":\"https://lastfm.freetls.fastly.net/i/u/300x300/2a96cbd8b46e442fc41c2b86b821562f.png\",\"size\":\"\"}],\"streamable\":\"0\"},{\"name\":\"Smino\",\"mbid\":\"96800e05-9924-4321-859a-76e0d4750f2f\",\"match\":\"0.276172\",\"url\":\"https://www.last.fm/music/Smino\",\"image\":[{\"#text\":\"https://lastfm.freetls.fastly.net/i/u/34s/2a96cbd8b46e442fc41c2b86b821562f.png\",\"size\":\"small\"},{\"#text\":\"https://lastfm.freetls.fastly.net/i/u/64s/2a96cbd8b46e442fc41c2b86b821562f.png\",\"size\":\"medium\"},{\"#text\":\"https://lastfm.freetls.fastly.net/i/u/174s/2a96cbd8b46e442fc41c2b86b821562f.png\",\"size\":\"large\"},{\"#text\":\"https://lastfm.freetls.fastly.net/i/u/300x300/2a96cbd8b46e442fc41c2b86b821562f.png\",\"size\":\"extralarge\"},{\"#text\":\"https://lastfm.freetls.fastly.net/i/u/300x300/2a96cbd8b46e442fc41c2b86b821562f.png\",\"size\":\"mega\"},{\"#text\":\"https://lastfm.freetls.fastly.net/i/u/300x300/2a96cbd8b46e442fc41c2b86b821562f.png\",\"size\":\"\"}],\"streamable\":\"0\"},{\"name\":\"Mavi\",\"mbid\":\"d79d3b3c-a487-469e-b7f6-b8f997bb3d7d\",\"match\":\"0.271411\",\"url\":\"https://www.last.fm/music/Mavi\",\"image\":[{\"#text\":\"https://lastfm.freetls.fastly.net/i/u/34s/2a96cbd8b46e442fc41c2b86b821562f.png\",\"size\":\"small\"},{\"#text\":\"https://lastfm.freetls.fastly.net/i/u/64s/2a96cbd8b46e442fc41c2b86b821562f.png\",\"size\":\"medium\"},{\"#text\":\"https://lastfm.freetls.fastly.net/i/u/174s/2a96cbd8b46e442fc41c2b86b821562f.png\",\"size\":\"large\"},{\"#text\":\"https://lastfm.freetls.fastly.net/i/u/300x300/2a96cbd8b46e442fc41c2b86b821562f.png\",\"size\":\"extralarge\"},{\"#text\":\"https://lastfm.freetls.fastly.net/i/u/300x300/2a96cbd8b46e442fc41c2b86b821562f.png\",\"size\":\"mega\"},{\"#text\":\"https://lastfm.freetls.fastly.net/i/u/300x300/2a96cbd8b46e442fc41c2b86b821562f.png\",\"size\":\"\"}],\"streamable\":\"0\"},{\"name\":\"WESTSIDE BOOGIE\",\"mbid\":\"eaafcf1b-730b-45e0-9e5a-4892702d4c5c\",\"match\":\"0.269698\",\"url\":\"https://www.last.fm/music/WESTSIDE+BOOGIE\",\"image\":[{\"#text\":\"https://lastfm.freetls.fastly.net/i/u/34s/2a96cbd8b46e442fc41c2b86b821562f.png\",\"size\":\"small\"},{\"#text\":\"https://lastfm.freetls.fastly.net/i/u/64s/2a96cbd8b46e442fc41c2b86b821562f.png\",\"size\":\"medium\"},{\"#text\":\"https://lastfm.freetls.fastly.net/i/u/174s/2a96cbd8b46e442fc41c2b86b821562f.png\",\"size\":\"large\"},{\"#text\":\"https://lastfm.freetls.fastly.net/i/u/300x300/2a96cbd8b46e442fc41c2b86b821562f.png\",\"size\":\"extralarge\"},{\"#text\":\"https://lastfm.freetls.fastly.net/i/u/300x300/2a96cbd8b46e442fc41c2b86b821562f.png\",\"size\":\"mega\"},{\"#text\":\"https://lastfm.freetls.fastly.net/i/u/300x300/2a96cbd8b46e442fc41c2b86b821562f.png\",\"size\":\"\"}],\"streamable\":\"0\"},{\"name\":\"Westside Gunn\",\"mbid\":\"9f42ba3d-3cfc-499c-ba16-7226f56b622f\",\"match\":\"0.268785\",\"url\":\"https://www.last.fm/music/Westside+Gunn\",\"image\":[{\"#text\":\"https://lastfm.freetls.fastly.net/i/u/34s/2a96cbd8b46e442fc41c2b86b821562f.png\",\"size\":\"small\"},{\"#text\":\"https://lastfm.freetls.fastly.net/i/u/64s/2a96cbd8b46e442fc41c2b86b821562f.png\",\"size\":\"medium\"},{\"#text\":\"https://lastfm.freetls.fastly.net/i/u/174s/2a96cbd8b46e442fc41c2b86b821562f.png\",\"size\":\"large\"},{\"#text\":\"https://lastfm.freetls.fastly.net/i/u/300x300/2a96cbd8b46e442fc41c2b86b821562f.png\",\"size\":\"extralarge\"},{\"#text\":\"https://lastfm.freetls.fastly.net/i/u/300x300/2a96cbd8b46e442fc41c2b86b821562f.png\",\"size\":\"mega\"},{\"#text\":\"https://lastfm.freetls.fastly.net/i/u/300x300/2a96cbd8b46e442fc41c2b86b821562f.png\",\"size\":\"\"}],\"streamable\":\"0\"},{\"name\":\"Common\",\"mbid\":\"c0a1179b-b14a-4d68-a3c1-1fdab16ed602\",\"match\":\"0.268283\",\"url\":\"https://www.last.fm/music/Common\",\"image\":[{\"#text\":\"https://lastfm.freetls.fastly.net/i/u/34s/2a96cbd8b46e442fc41c2b86b821562f.png\",\"size\":\"small\"},{\"#text\":\"https://lastfm.freetls.fastly.net/i/u/64s/2a96cbd8b46e442fc41c2b86b821562f.png\",\"size\":\"medium\"},{\"#text\":\"https://lastfm.freetls.fastly.net/i/u/174s/2a96cbd8b46e442fc41c2b86b821562f.png\",\"size\":\"large\"},{\"#text\":\"https://lastfm.freetls.fastly.net/i/u/300x300/2a96cbd8b46e442fc41c2b86b821562f.png\",\"size\":\"extralarge\"},{\"#text\":\"https://lastfm.freetls.fastly.net/i/u/300x300/2a96cbd8b46e442fc41c2b86b821562f.png\",\"size\":\"mega\"},{\"#text\":\"https://lastfm.freetls.fastly.net/i/u/300x300/2a96cbd8b46e442fc41c2b86b821562f.png\",\"size\":\"\"}],\"streamable\":\"0\"},{\"name\":\"Mobb Deep\",\"mbid\":\"d75d1f08-bbb8-4eae-9877-399ca9121197\",\"match\":\"0.268031\",\"url\":\"https://www.last.fm/music/Mobb+Deep\",\"image\":[{\"#text\":\"https://lastfm.freetls.fastly.net/i/u/34s/2a96cbd8b46e442fc41c2b86b821562f.png\",\"size\":\"small\"},{\"#text\":\"https://lastfm.freetls.fastly.net/i/u/64s/2a96cbd8b46e442fc41c2b86b821562f.png\",\"size\":\"medium\"},{\"#text\":\"https://lastfm.freetls.fastly.net/i/u/174s/2a96cbd8b46e442fc41c2b86b821562f.png\",\"size\":\"large\"},{\"#text\":\"https://lastfm.freetls.fastly.net/i/u/300x300/2a96cbd8b46e442fc41c2b86b821562f.png\",\"size\":\"extralarge\"},{\"#text\":\"https://lastfm.freetls.fastly.net/i/u/300x300/2a96cbd8b46e442fc41c2b86b821562f.png\",\"size\":\"mega\"},{\"#text\":\"https://lastfm.freetls.fastly.net/i/u/300x300/2a96cbd8b46e442fc41c2b86b821562f.png\",\"size\":\"\"}],\"streamable\":\"0\"},{\"name\":\"Nipsey Hussle\",\"mbid\":\"410bbb19-8309-4a0b-9f87-3d65bde4a826\",\"match\":\"0.263814\",\"url\":\"https://www.last.fm/music/Nipsey+Hussle\",\"image\":[{\"#text\":\"https://lastfm.freetls.fastly.net/i/u/34s/2a96cbd8b46e442fc41c2b86b821562f.png\",\"size\":\"small\"},{\"#text\":\"https://lastfm.freetls.fastly.net/i/u/64s/2a96cbd8b46e442fc41c2b86b821562f.png\",\"size\":\"medium\"},{\"#text\":\"https://lastfm.freetls.fastly.net/i/u/174s/2a96cbd8b46e442fc41c2b86b821562f.png\",\"size\":\"large\"},{\"#text\":\"https://lastfm.freetls.fastly.net/i/u/300x300/2a96cbd8b46e442fc41c2b86b821562f.png\",\"size\":\"extralarge\"},{\"#text\":\"https://lastfm.freetls.fastly.net/i/u/300x300/2a96cbd8b46e442fc41c2b86b821562f.png\",\"size\":\"mega\"},{\"#text\":\"https://lastfm.freetls.fastly.net/i/u/300x300/2a96cbd8b46e442fc41c2b86b821562f.png\",\"size\":\"\"}],\"streamable\":\"0\"},{\"name\":\"Rapsody\",\"mbid\":\"d6302903-1f62-420a-8d8b-c54941ac754e\",\"match\":\"0.263445\",\"url\":\"https://www.last.fm/music/Rapsody\",\"image\":[{\"#text\":\"https://lastfm.freetls.fastly.net/i/u/34s/2a96cbd8b46e442fc41c2b86b821562f.png\",\"size\":\"small\"},{\"#text\":\"https://lastfm.freetls.fastly.net/i/u/64s/2a96cbd8b46e442fc41c2b86b821562f.png\",\"size\":\"medium\"},{\"#text\":\"https://lastfm.freetls.fastly.net/i/u/174s/2a96cbd8b46e442fc41c2b86b821562f.png\",\"size\":\"large\"},{\"#text\":\"https://lastfm.freetls.fastly.net/i/u/300x300/2a96cbd8b46e442fc41c2b86b821562f.png\",\"size\":\"extralarge\"},{\"#text\":\"https://lastfm.freetls.fastly.net/i/u/300x300/2a96cbd8b46e442fc41c2b86b821562f.png\",\"size\":\"mega\"},{\"#text\":\"https://lastfm.freetls.fastly.net/i/u/300x300/2a96cbd8b46e442fc41c2b86b821562f.png\",\"size\":\"\"}],\"streamable\":\"0\"},{\"name\":\"IDK\",\"mbid\":\"feed77f9-3d5b-4900-845d-946a801badc5\",\"match\":\"0.262405\",\"url\":\"https://www.last.fm/music/IDK\",\"image\":[{\"#text\":\"https://lastfm.freetls.fastly.net/i/u/34s/2a96cbd8b46e442fc41c2b86b821562f.png\",\"size\":\"small\"},{\"#text\":\"https://lastfm.freetls.fastly.net/i/u/64s/2a96cbd8b46e442fc41c2b86b821562f.png\",\"size\":\"medium\"},{\"#text\":\"https://lastfm.freetls.fastly.net/i/u/174s/2a96cbd8b46e442fc41c2b86b821562f.png\",\"size\":\"large\"},{\"#text\":\"https://lastfm.freetls.fastly.net/i/u/300x300/2a96cbd8b46e442fc41c2b86b821562f.png\",\"size\":\"extralarge\"},{\"#text\":\"https://lastfm.freetls.fastly.net/i/u/300x300/2a96cbd8b46e442fc41c2b86b821562f.png\",\"size\":\"mega\"},{\"#text\":\"https://lastfm.freetls.fastly.net/i/u/300x300/2a96cbd8b46e442fc41c2b86b821562f.png\",\"size\":\"\"}],\"streamable\":\"0\"},{\"name\":\"McKinley Dixon\",\"mbid\":\"ed864ccb-7212-46ad-a4f0-1cc53bbe12e9\",\"match\":\"0.262278\",\"url\":\"https://www.last.fm/music/McKinley+Dixon\",\"image\":[{\"#text\":\"https://lastfm.freetls.fastly.net/i/u/34s/2a96cbd8b46e442fc41c2b86b821562f.png\",\"size\":\"small\"},{\"#text\":\"https://lastfm.freetls.fastly.net/i/u/64s/2a96cbd8b46e442fc41c2b86b821562f.png\",\"size\":\"medium\"},{\"#text\":\"https://lastfm.freetls.fastly.net/i/u/174s/2a96cbd8b46e442fc41c2b86b821562f.png\",\"size\":\"large\"},{\"#text\":\"https://lastfm.freetls.fastly.net/i/u/300x300/2a96cbd8b46e442fc41c2b86b821562f.png\",\"size\":\"extralarge\"},{\"#text\":\"https://lastfm.freetls.fastly.net/i/u/300x300/2a96cbd8b46e442fc41c2b86b821562f.png\",\"size\":\"mega\"},{\"#text\":\"https://lastfm.freetls.fastly.net/i/u/300x300/2a96cbd8b46e442fc41c2b86b821562f.png\",\"size\":\"\"}],\"streamable\":\"0\"},{\"name\":\"Kendrick Lamar, George Clinton, Thundercat\",\"match\":\"0.256854\",\"url\":\"https://www.last.fm/music/Kendrick+Lamar,+George+Clinton,+Thundercat\",\"image\":[{\"#text\":\"https://lastfm.freetls.fastly.net/i/u/34s/2a96cbd8b46e442fc41c2b86b821562f.png\",\"size\":\"small\"},{\"#text\":\"https://lastfm.freetls.fastly.net/i/u/64s/2a96cbd8b46e442fc41c2b86b821562f.png\",\"size\":\"medium\"},{\"#text\":\"https://lastfm.freetls.fastly.net/i/u/174s/2a96cbd8b46e442fc41c2b86b821562f.png\",\"size\":\"large\"},{\"#text\":\"https://lastfm.freetls.fastly.net/i/u/300x300/2a96cbd8b46e442fc41c2b86b821562f.png\",\"size\":\"extralarge\"},{\"#text\":\"https://lastfm.freetls.fastly.net/i/u/300x300/2a96cbd8b46e442fc41c2b86b821562f.png\",\"size\":\"mega\"},{\"#text\":\"https://lastfm.freetls.fastly.net/i/u/300x300/2a96cbd8b46e442fc41c2b86b821562f.png\",\"size\":\"\"}],\"streamable\":\"0\"},{\"name\":\"Lil Yachty\",\"mbid\":\"a668565b-41b8-44a8-9d5c-8e609dbf69fc\",\"match\":\"0.256839\",\"url\":\"https://www.last.fm/music/Lil+Yachty\",\"image\":[{\"#text\":\"https://lastfm.freetls.fastly.net/i/u/34s/2a96cbd8b46e442fc41c2b86b821562f.png\",\"size\":\"small\"},{\"#text\":\"https://lastfm.freetls.fastly.net/i/u/64s/2a96cbd8b46e442fc41c2b86b821562f.png\",\"size\":\"medium\"},{\"#text\":\"https://lastfm.freetls.fastly.net/i/u/174s/2a96cbd8b46e442fc41c2b86b821562f.png\",\"size\":\"large\"},{\"#text\":\"https://lastfm.freetls.fastly.net/i/u/300x300/2a96cbd8b46e442fc41c2b86b821562f.png\",\"size\":\"extralarge\"},{\"#text\":\"https://lastfm.freetls.fastly.net/i/u/300x300/2a96cbd8b46e442fc41c2b86b821562f.png\",\"size\":\"mega\"},{\"#text\":\"https://lastfm.freetls.fastly.net/i/u/300x300/2a96cbd8b46e442fc41c2b86b821562f.png\",\"size\":\"\"}],\"streamable\":\"0\"},{\"name\":\"Donda\",\"match\":\"0.254112\",\"url\":\"https://www.last.fm/music/Donda\",\"image\":[{\"#text\":\"https://lastfm.freetls.fastly.net/i/u/34s/2a96cbd8b46e442fc41c2b86b821562f.png\",\"size\":\"small\"},{\"#text\":\"https://lastfm.freetls.fastly.net/i/u/64s/2a96cbd8b46e442fc41c2b86b821562f.png\",\"size\":\"medium\"},{\"#text\":\"https://lastfm.freetls.fastly.net/i/u/174s/2a96cbd8b46e442fc41c2b86b821562f.png\",\"size\":\"large\"},{\"#text\":\"https://lastfm.freetls.fastly.net/i/u/300x300/2a96cbd8b46e442fc41c2b86b821562f.png\",\"size\":\"extralarge\"},{\"#text\":\"https://lastfm.freetls.fastly.net/i/u/300x300/2a96cbd8b46e442fc41c2b86b821562f.png\",\"size\":\"mega\"},{\"#text\":\"https://lastfm.freetls.fastly.net/i/u/300x300/2a96cbd8b46e442fc41c2b86b821562f.png\",\"size\":\"\"}],\"streamable\":\"0\"},{\"name\":\"Kenny Mason\",\"mbid\":\"5fcd8351-53ea-4c39-ba6a-a2c2afb24007\",\"match\":\"0.253522\",\"url\":\"https://www.last.fm/music/Kenny+Mason\",\"image\":[{\"#text\":\"https://lastfm.freetls.fastly.net/i/u/34s/2a96cbd8b46e442fc41c2b86b821562f.png\",\"size\":\"small\"},{\"#text\":\"https://lastfm.freetls.fastly.net/i/u/64s/2a96cbd8b46e442fc41c2b86b821562f.png\",\"size\":\"medium\"},{\"#text\":\"https://lastfm.freetls.fastly.net/i/u/174s/2a96cbd8b46e442fc41c2b86b821562f.png\",\"size\":\"large\"},{\"#text\":\"https://lastfm.freetls.fastly.net/i/u/300x300/2a96cbd8b46e442fc41c2b86b821562f.png\",\"size\":\"extralarge\"},{\"#text\":\"https://lastfm.freetls.fastly.net/i/u/300x300/2a96cbd8b46e442fc41c2b86b821562f.png\",\"size\":\"mega\"},{\"#text\":\"https://lastfm.freetls.fastly.net/i/u/300x300/2a96cbd8b46e442fc41c2b86b821562f.png\",\"size\":\"\"}],\"streamable\":\"0\"},{\"name\":\"OFWGKTA\",\"match\":\"0.252835\",\"url\":\"https://www.last.fm/music/OFWGKTA\",\"image\":[{\"#text\":\"https://lastfm.freetls.fastly.net/i/u/34s/2a96cbd8b46e442fc41c2b86b821562f.png\",\"size\":\"small\"},{\"#text\":\"https://lastfm.freetls.fastly.net/i/u/64s/2a96cbd8b46e442fc41c2b86b821562f.png\",\"size\":\"medium\"},{\"#text\":\"https://lastfm.freetls.fastly.net/i/u/174s/2a96cbd8b46e442fc41c2b86b821562f.png\",\"size\":\"large\"},{\"#text\":\"https://lastfm.freetls.fastly.net/i/u/300x300/2a96cbd8b46e442fc41c2b86b821562f.png\",\"size\":\"extralarge\"},{\"#text\":\"https://lastfm.freetls.fastly.net/i/u/300x300/2a96cbd8b46e442fc41c2b86b821562f.png\",\"size\":\"mega\"},{\"#text\":\"https://lastfm.freetls.fastly.net/i/u/300x300/2a96cbd8b46e442fc41c2b86b821562f.png\",\"size\":\"\"}],\"streamable\":\"0\"},{\"name\":\"BROCKHAMPTON\",\"mbid\":\"3ac96b4c-4f42-48c8-b793-84dbf54d7ac6\",\"match\":\"0.251518\",\"url\":\"https://www.last.fm/music/BROCKHAMPTON\",\"image\":[{\"#text\":\"https://lastfm.freetls.fastly.net/i/u/34s/2a96cbd8b46e442fc41c2b86b821562f.png\",\"size\":\"small\"},{\"#text\":\"https://lastfm.freetls.fastly.net/i/u/64s/2a96cbd8b46e442fc41c2b86b821562f.png\",\"size\":\"medium\"},{\"#text\":\"https://lastfm.freetls.fastly.net/i/u/174s/2a96cbd8b46e442fc41c2b86b821562f.png\",\"size\":\"large\"},{\"#text\":\"https://lastfm.freetls.fastly.net/i/u/300x300/2a96cbd8b46e442fc41c2b86b821562f.png\",\"size\":\"extralarge\"},{\"#text\":\"https://lastfm.freetls.fastly.net/i/u/300x300/2a96cbd8b46e442fc41c2b86b821562f.png\",\"size\":\"mega\"},{\"#text\":\"https://lastfm.freetls.fastly.net/i/u/300x300/2a96cbd8b46e442fc41c2b86b821562f.png\",\"size\":\"\"}],\"streamable\":\"0\"},{\"name\":\"Mos Def\",\"match\":\"0.248820\",\"url\":\"https://www.last.fm/music/Mos+Def\",\"image\":[{\"#text\":\"https://lastfm.freetls.fastly.net/i/u/34s/2a96cbd8b46e442fc41c2b86b821562f.png\",\"size\":\"small\"},{\"#text\":\"https://lastfm.freetls.fastly.net/i/u/64s/2a96cbd8b46e442fc41c2b86b821562f.png\",\"size\":\"medium\"},{\"#text\":\"https://lastfm.freetls.fastly.net/i/u/174s/2a96cbd8b46e442fc41c2b86b821562f.png\",\"size\":\"large\"},{\"#text\":\"https://lastfm.freetls.fastly.net/i/u/300x300/2a96cbd8b46e442fc41c2b86b821562f.png\",\"size\":\"extralarge\"},{\"#text\":\"https://lastfm.freetls.fastly.net/i/u/300x300/2a96cbd8b46e442fc41c2b86b821562f.png\",\"size\":\"mega\"},{\"#text\":\"https://lastfm.freetls.fastly.net/i/u/300x300/2a96cbd8b46e442fc41c2b86b821562f.png\",\"size\":\"\"}],\"streamable\":\"0\"},{\"name\":\"Black Star\",\"mbid\":\"02708fd6-0fe6-4738-a27d-0561ace8b4c6\",\"match\":\"0.247620\",\"url\":\"https://www.last.fm/music/Black+Star\",\"image\":[{\"#text\":\"https://lastfm.freetls.fastly.net/i/u/34s/2a96cbd8b46e442fc41c2b86b821562f.png\",\"size\":\"small\"},{\"#text\":\"https://lastfm.freetls.fastly.net/i/u/64s/2a96cbd8b46e442fc41c2b86b821562f.png\",\"size\":\"medium\"},{\"#text\":\"https://lastfm.freetls.fastly.net/i/u/174s/2a96cbd8b46e442fc41c2b86b821562f.png\",\"size\":\"large\"},{\"#text\":\"https://lastfm.freetls.fastly.net/i/u/300x300/2a96cbd8b46e442fc41c2b86b821562f.png\",\"size\":\"extralarge\"},{\"#text\":\"https://lastfm.freetls.fastly.net/i/u/300x300/2a96cbd8b46e442fc41c2b86b821562f.png\",\"size\":\"mega\"},{\"#text\":\"https://lastfm.freetls.fastly.net/i/u/300x300/2a96cbd8b46e442fc41c2b86b821562f.png\",\"size\":\"\"}],\"streamable\":\"0\"},{\"name\":\"Mick Jenkins\",\"mbid\":\"64c4dfcc-ba2b-4036-ac01-1636ae15ebb8\",\"match\":\"0.247375\",\"url\":\"https://www.last.fm/music/Mick+Jenkins\",\"image\":[{\"#text\":\"https://lastfm.freetls.fastly.net/i/u/34s/2a96cbd8b46e442fc41c2b86b821562f.png\",\"size\":\"small\"},{\"#text\":\"https://lastfm.freetls.fastly.net/i/u/64s/2a96cbd8b46e442fc41c2b86b821562f.png\",\"size\":\"medium\"},{\"#text\":\"https://lastfm.freetls.fastly.net/i/u/174s/2a96cbd8b46e442fc41c2b86b821562f.png\",\"size\":\"large\"},{\"#text\":\"https://lastfm.freetls.fastly.net/i/u/300x300/2a96cbd8b46e442fc41c2b86b821562f.png\",\"size\":\"extralarge\"},{\"#text\":\"https://lastfm.freetls.fastly.net/i/u/300x300/2a96cbd8b46e442fc41c2b86b821562f.png\",\"size\":\"mega\"},{\"#text\":\"https://lastfm.freetls.fastly.net/i/u/300x300/2a96cbd8b46e442fc41c2b86b821562f.png\",\"size\":\"\"}],\"streamable\":\"0\"},{\"name\":\"Drake\",\"mbid\":\"9fff2f8a-21e6-47de-a2b8-7f449929d43f\",\"match\":\"0.244384\",\"url\":\"https://www.last.fm/music/Drake\",\"image\":[{\"#text\":\"https://lastfm.freetls.fastly.net/i/u/34s/2a96cbd8b46e442fc41c2b86b821562f.png\",\"size\":\"small\"},{\"#text\":\"https://lastfm.freetls.fastly.net/i/u/64s/2a96cbd8b46e442fc41c2b86b821562f.png\",\"size\":\"medium\"},{\"#text\":\"https://lastfm.freetls.fastly.net/i/u/174s/2a96cbd8b46e442fc41c2b86b821562f.png\",\"size\":\"large\"},{\"#text\":\"https://lastfm.freetls.fastly.net/i/u/300x300/2a96cbd8b46e442fc41c2b86b821562f.png\",\"size\":\"extralarge\"},{\"#text\":\"https://lastfm.freetls.fastly.net/i/u/300x300/2a96cbd8b46e442fc41c2b86b821562f.png\",\"size\":\"mega\"},{\"#text\":\"https://lastfm.freetls.fastly.net/i/u/300x300/2a96cbd8b46e442fc41c2b86b821562f.png\",\"size\":\"\"}],\"streamable\":\"0\"},{\"name\":\"50 Cent\",\"mbid\":\"8e68819d-71be-4e7d-b41d-f1df81b01d3f\",\"match\":\"0.242110\",\"url\":\"https://www.last.fm/music/50+Cent\",\"image\":[{\"#text\":\"https://lastfm.freetls.fastly.net/i/u/34s/2a96cbd8b46e442fc41c2b86b821562f.png\",\"size\":\"small\"},{\"#text\":\"https://lastfm.freetls.fastly.net/i/u/64s/2a96cbd8b46e442fc41c2b86b821562f.png\",\"size\":\"medium\"},{\"#text\":\"https://lastfm.freetls.fastly.net/i/u/174s/2a96cbd8b46e442fc41c2b86b821562f.png\",\"size\":\"large\"},{\"#text\":\"https://lastfm.freetls.fastly.net/i/u/300x300/2a96cbd8b46e442fc41c2b86b821562f.png\",\"size\":\"extralarge\"},{\"#text\":\"https://lastfm.freetls.fastly.net/i/u/300x300/2a96cbd8b46e442fc41c2b86b821562f.png\",\"size\":\"mega\"},{\"#text\":\"https://lastfm.freetls.fastly.net/i/u/300x300/2a96cbd8b46e442fc41c2b86b821562f.png\",\"size\":\"\"}],\"streamable\":\"0\"},{\"name\":\"Don Toliver\",\"mbid\":\"a0723a3c-4135-438e-85c5-012712144ede\",\"match\":\"0.241420\",\"url\":\"https://www.last.fm/music/Don+Toliver\",\"image\":[{\"#text\":\"https://lastfm.freetls.fastly.net/i/u/34s/2a96cbd8b46e442fc41c2b86b821562f.png\",\"size\":\"small\"},{\"#text\":\"https://lastfm.freetls.fastly.net/i/u/64s/2a96cbd8b46e442fc41c2b86b821562f.png\",\"size\":\"medium\"},{\"#text\":\"https://lastfm.freetls.fastly.net/i/u/174s/2a96cbd8b46e442fc41c2b86b821562f.png\",\"size\":\"large\"},{\"#text\":\"https://lastfm.freetls.fastly.net/i/u/300x300/2a96cbd8b46e442fc41c2b86b821562f.png\",\"size\":\"extralarge\"},{\"#text\":\"https://lastfm.freetls.fastly.net/i/u/300x300/2a96cbd8b46e442fc41c2b86b821562f.png\",\"size\":\"mega\"},{\"#text\":\"https://lastfm.freetls.fastly.net/i/u/300x300/2a96cbd8b46e442fc41c2b86b821562f.png\",\"size\":\"\"}],\"streamable\":\"0\"},{\"name\":\"Playboi Carti\",\"mbid\":\"2baf3276-ed6a-4349-8d2e-f4601e7b2167\",\"match\":\"0.240866\",\"url\":\"https://www.last.fm/music/Playboi+Carti\",\"image\":[{\"#text\":\"https://lastfm.freetls.fastly.net/i/u/34s/2a96cbd8b46e442fc41c2b86b821562f.png\",\"size\":\"small\"},{\"#text\":\"https://lastfm.freetls.fastly.net/i/u/64s/2a96cbd8b46e442fc41c2b86b821562f.png\",\"size\":\"medium\"},{\"#text\":\"https://lastfm.freetls.fastly.net/i/u/174s/2a96cbd8b46e442fc41c2b86b821562f.png\",\"size\":\"large\"},{\"#text\":\"https://lastfm.freetls.fastly.net/i/u/300x300/2a96cbd8b46e442fc41c2b86b821562f.png\",\"size\":\"extralarge\"},{\"#text\":\"https://lastfm.freetls.fastly.net/i/u/300x300/2a96cbd8b46e442fc41c2b86b821562f.png\",\"size\":\"mega\"},{\"#text\":\"https://lastfm.freetls.fastly.net/i/u/300x300/2a96cbd8b46e442fc41c2b86b821562f.png\",\"size\":\"\"}],\"streamable\":\"0\"},{\"name\":\"N.W.A\",\"mbid\":\"3a54bffa-2314-44a2-927b-60144119c780\",\"match\":\"0.240084\",\"url\":\"https://www.last.fm/music/N.W.A\",\"image\":[{\"#text\":\"https://lastfm.freetls.fastly.net/i/u/34s/2a96cbd8b46e442fc41c2b86b821562f.png\",\"size\":\"small\"},{\"#text\":\"https://lastfm.freetls.fastly.net/i/u/64s/2a96cbd8b46e442fc41c2b86b821562f.png\",\"size\":\"medium\"},{\"#text\":\"https://lastfm.freetls.fastly.net/i/u/174s/2a96cbd8b46e442fc41c2b86b821562f.png\",\"size\":\"large\"},{\"#text\":\"https://lastfm.freetls.fastly.net/i/u/300x300/2a96cbd8b46e442fc41c2b86b821562f.png\",\"size\":\"extralarge\"},{\"#text\":\"https://lastfm.freetls.fastly.net/i/u/300x300/2a96cbd8b46e442fc41c2b86b821562f.png\",\"size\":\"mega\"},{\"#text\":\"https://lastfm.freetls.fastly.net/i/u/300x300/2a96cbd8b46e442fc41c2b86b821562f.png\",\"size\":\"\"}],\"streamable\":\"0\"},{\"name\":\"Noname\",\"mbid\":\"bad90c59-0ca3-4eb4-9611-d102171aa833\",\"match\":\"0.239718\",\"url\":\"https://www.last.fm/music/Noname\",\"image\":[{\"#text\":\"https://lastfm.freetls.fastly.net/i/u/34s/2a96cbd8b46e442fc41c2b86b821562f.png\",\"size\":\"small\"},{\"#text\":\"https://lastfm.freetls.fastly.net/i/u/64s/2a96cbd8b46e442fc41c2b86b821562f.png\",\"size\":\"medium\"},{\"#text\":\"https://lastfm.freetls.fastly.net/i/u/174s/2a96cbd8b46e442fc41c2b86b821562f.png\",\"size\":\"large\"},{\"#text\":\"https://lastfm.freetls.fastly.net/i/u/300x300/2a96cbd8b46e442fc41c2b86b821562f.png\",\"size\":\"extralarge\"},{\"#text\":\"https://lastfm.freetls.fastly.net/i/u/300x300/2a96cbd8b46e442fc41c2b86b821562f.png\",\"size\":\"mega\"},{\"#text\":\"https://lastfm.freetls.fastly.net/i/u/300x300/2a96cbd8b46e442fc41c2b86b821562f.png\",\"size\":\"\"}],\"streamable\":\"0\"},{\"name\":\"Billy Woods\",\"mbid\":\"a37cfe69-da41-4a02-939d-67de3e930511\",\"match\":\"0.238459\",\"url\":\"https://www.last.fm/music/Billy+Woods\",\"image\":[{\"#text\":\"https://lastfm.freetls.fastly.net/i/u/34s/2a96cbd8b46e442fc41c2b86b821562f.png\",\"size\":\"small\"},{\"#text\":\"https://lastfm.freetls.fastly.net/i/u/64s/2a96cbd8b46e442fc41c2b86b821562f.png\",\"size\":\"medium\"},{\"#text\":\"https://lastfm.freetls.fastly.net/i/u/174s/2a96cbd8b46e442fc41c2b86b821562f.png\",\"size\":\"large\"},{\"#text\":\"https://lastfm.freetls.fastly.net/i/u/300x300/2a96cbd8b46e442fc41c2b86b821562f.png\",\"size\":\"extralarge\"},{\"#text\":\"https://lastfm.freetls.fastly.net/i/u/300x300/2a96cbd8b46e442fc41c2b86b821562f.png\",\"size\":\"mega\"},{\"#text\":\"https://lastfm.freetls.fastly.net/i/u/300x300/2a96cbd8b46e442fc41c2b86b821562f.png\",\"size\":\"\"}],\"streamable\":\"0\"},{\"name\":\"Big Sean\",\"mbid\":\"942a9807-9c1a-4a0e-a285-1fde2c5be9d1\",\"match\":\"0.238393\",\"url\":\"https://www.last.fm/music/Big+Sean\",\"image\":[{\"#text\":\"https://lastfm.freetls.fastly.net/i/u/34s/2a96cbd8b46e442fc41c2b86b821562f.png\",\"size\":\"small\"},{\"#text\":\"https://lastfm.freetls.fastly.net/i/u/64s/2a96cbd8b46e442fc41c2b86b821562f.png\",\"size\":\"medium\"},{\"#text\":\"https://lastfm.freetls.fastly.net/i/u/174s/2a96cbd8b46e442fc41c2b86b821562f.png\",\"size\":\"large\"},{\"#text\":\"https://lastfm.freetls.fastly.net/i/u/300x300/2a96cbd8b46e442fc41c2b86b821562f.png\",\"size\":\"extralarge\"},{\"#text\":\"https://lastfm.freetls.fastly.net/i/u/300x300/2a96cbd8b46e442fc41c2b86b821562f.png\",\"size\":\"mega\"},{\"#text\":\"https://lastfm.freetls.fastly.net/i/u/300x300/2a96cbd8b46e442fc41c2b86b821562f.png\",\"size\":\"\"}],\"streamable\":\"0\"},{\"name\":\"The Game\",\"mbid\":\"07cc14fb-4784-4a25-804b-2686ed5ef52c\",\"match\":\"0.238143\",\"url\":\"https://www.last.fm/music/The+Game\",\"image\":[{\"#text\":\"https://lastfm.freetls.fastly.net/i/u/34s/2a96cbd8b46e442fc41c2b86b821562f.png\",\"size\":\"small\"},{\"#text\":\"https://lastfm.freetls.fastly.net/i/u/64s/2a96cbd8b46e442fc41c2b86b821562f.png\",\"size\":\"medium\"},{\"#text\":\"https://lastfm.freetls.fastly.net/i/u/174s/2a96cbd8b46e442fc41c2b86b821562f.png\",\"size\":\"large\"},{\"#text\":\"https://lastfm.freetls.fastly.net/i/u/300x300/2a96cbd8b46e442fc41c2b86b821562f.png\",\"size\":\"extralarge\"},{\"#text\":\"https://lastfm.freetls.fastly.net/i/u/300x300/2a96cbd8b46e442fc41c2b86b821562f.png\",\"size\":\"mega\"},{\"#text\":\"https://lastfm.freetls.fastly.net/i/u/300x300/2a96cbd8b46e442fc41c2b86b821562f.png\",\"size\":\"\"}],\"streamable\":\"0\"},{\"name\":\"Wu-Tang Clan\",\"match\":\"0.231199\",\"url\":\"https://www.last.fm/music/Wu-Tang+Clan\",\"image\":[{\"#text\":\"https://lastfm.freetls.fastly.net/i/u/34s/2a96cbd8b46e442fc41c2b86b821562f.png\",\"size\":\"small\"},{\"#text\":\"https://lastfm.freetls.fastly.net/i/u/64s/2a96cbd8b46e442fc41c2b86b821562f.png\",\"size\":\"medium\"},{\"#text\":\"https://lastfm.freetls.fastly.net/i/u/174s/2a96cbd8b46e442fc41c2b86b821562f.png\",\"size\":\"large\"},{\"#text\":\"https://lastfm.freetls.fastly.net/i/u/300x300/2a96cbd8b46e442fc41c2b86b821562f.png\",\"size\":\"extralarge\"},{\"#text\":\"https://lastfm.freetls.fastly.net/i/u/300x300/2a96cbd8b46e442fc41c2b86b821562f.png\",\"size\":\"mega\"},{\"#text\":\"https://lastfm.freetls.fastly.net/i/u/300x300/2a96cbd8b46e442fc41c2b86b821562f.png\",\"size\":\"\"}],\"streamable\":\"0\"},{\"name\":\"Lil Tecca\",\"mbid\":\"e6fdf3f9-8077-4126-b0cf-94da9a8b627e\",\"match\":\"0.230859\",\"url\":\"https://www.last.fm/music/Lil+Tecca\",\"image\":[{\"#text\":\"https://lastfm.freetls.fastly.net/i/u/34s/2a96cbd8b46e442fc41c2b86b821562f.png\",\"size\":\"small\"},{\"#text\":\"https://lastfm.freetls.fastly.net/i/u/64s/2a96cbd8b46e442fc41c2b86b821562f.png\",\"size\":\"medium\"},{\"#text\":\"https://lastfm.freetls.fastly.net/i/u/174s/2a96cbd8b46e442fc41c2b86b821562f.png\",\"size\":\"large\"},{\"#text\":\"https://lastfm.freetls.fastly.net/i/u/300x300/2a96cbd8b46e442fc41c2b86b821562f.png\",\"size\":\"extralarge\"},{\"#text\":\"https://lastfm.freetls.fastly.net/i/u/300x300/2a96cbd8b46e442fc41c2b86b821562f.png\",\"size\":\"mega\"},{\"#text\":\"https://lastfm.freetls.fastly.net/i/u/300x300/2a96cbd8b46e442fc41c2b86b821562f.png\",\"size\":\"\"}],\"streamable\":\"0\"},{\"name\":\"JACKBOYS\",\"mbid\":\"55814ae1-f5aa-4481-9878-05d9faf98c5a\",\"match\":\"0.230780\",\"url\":\"https://www.last.fm/music/JACKBOYS\",\"image\":[{\"#text\":\"https://lastfm.freetls.fastly.net/i/u/34s/2a96cbd8b46e442fc41c2b86b821562f.png\",\"size\":\"small\"},{\"#text\":\"https://lastfm.freetls.fastly.net/i/u/64s/2a96cbd8b46e442fc41c2b86b821562f.png\",\"size\":\"medium\"},{\"#text\":\"https://lastfm.freetls.fastly.net/i/u/174s/2a96cbd8b46e442fc41c2b86b821562f.png\",\"size\":\"large\"},{\"#text\":\"https://lastfm.freetls.fastly.net/i/u/300x300/2a96cbd8b46e442fc41c2b86b821562f.png\",\"size\":\"extralarge\"},{\"#text\":\"https://lastfm.freetls.fastly.net/i/u/300x300/2a96cbd8b46e442fc41c2b86b821562f.png\",\"size\":\"mega\"},{\"#text\":\"https://lastfm.freetls.fastly.net/i/u/300x300/2a96cbd8b46e442fc41c2b86b821562f.png\",\"size\":\"\"}],\"streamable\":\"0\"},{\"name\":\"Snoop Dogg\",\"mbid\":\"f90e8b26-9e52-4669-a5c9-e28529c47894\",\"match\":\"0.228693\",\"url\":\"https://www.last.fm/music/Snoop+Dogg\",\"image\":[{\"#text\":\"https://lastfm.freetls.fastly.net/i/u/34s/2a96cbd8b46e442fc41c2b86b821562f.png\",\"size\":\"small\"},{\"#text\":\"https://lastfm.freetls.fastly.net/i/u/64s/2a96cbd8b46e442fc41c2b86b821562f.png\",\"size\":\"medium\"},{\"#text\":\"https://lastfm.freetls.fastly.net/i/u/174s/2a96cbd8b46e442fc41c2b86b821562f.png\",\"size\":\"large\"},{\"#text\":\"https://lastfm.freetls.fastly.net/i/u/300x300/2a96cbd8b46e442fc41c2b86b821562f.png\",\"size\":\"extralarge\"},{\"#text\":\"https://lastfm.freetls.fastly.net/i/u/300x300/2a96cbd8b46e442fc41c2b86b821562f.png\",\"size\":\"mega\"},{\"#text\":\"https://lastfm.freetls.fastly.net/i/u/300x300/2a96cbd8b46e442fc41c2b86b821562f.png\",\"size\":\"\"}],\"streamable\":\"0\"},{\"name\":\"Eazy-E\",\"match\":\"0.228693\",\"url\":\"https://www.last.fm/music/Eazy-E\",\"image\":[{\"#text\":\"https://lastfm.freetls.fastly.net/i/u/34s/2a96cbd8b46e442fc41c2b86b821562f.png\",\"size\":\"small\"},{\"#text\":\"https://lastfm.freetls.fastly.net/i/u/64s/2a96cbd8b46e442fc41c2b86b821562f.png\",\"size\":\"medium\"},{\"#text\":\"https://lastfm.freetls.fastly.net/i/u/174s/2a96cbd8b46e442fc41c2b86b821562f.png\",\"size\":\"large\"},{\"#text\":\"https://lastfm.freetls.fastly.net/i/u/300x300/2a96cbd8b46e442fc41c2b86b821562f.png\",\"size\":\"extralarge\"},{\"#text\":\"https://lastfm.freetls.fastly.net/i/u/300x300/2a96cbd8b46e442fc41c2b86b821562f.png\",\"size\":\"mega\"},{\"#text\":\"https://lastfm.freetls.fastly.net/i/u/300x300/2a96cbd8b46e442fc41c2b86b821562f.png\",\"size\":\"\"}],\"streamable\":\"0\"},{\"name\":\"Aminé\",\"mbid\":\"12398bf3-1b99-47b7-930c-f3956773f35a\",\"match\":\"0.227285\",\"url\":\"https://www.last.fm/music/Amin%C3%A9\",\"image\":[{\"#text\":\"https://lastfm.freetls.fastly.net/i/u/34s/2a96cbd8b46e442fc41c2b86b821562f.png\",\"size\":\"small\"},{\"#text\":\"https://lastfm.freetls.fastly.net/i/u/64s/2a96cbd8b46e442fc41c2b86b821562f.png\",\"size\":\"medium\"},{\"#text\":\"https://lastfm.freetls.fastly.net/i/u/174s/2a96cbd8b46e442fc41c2b86b821562f.png\",\"size\":\"large\"},{\"#text\":\"https://lastfm.freetls.fastly.net/i/u/300x300/2a96cbd8b46e442fc41c2b86b821562f.png\",\"size\":\"extralarge\"},{\"#text\":\"https://lastfm.freetls.fastly.net/i/u/300x300/2a96cbd8b46e442fc41c2b86b821562f.png\",\"size\":\"mega\"},{\"#text\":\"https://lastfm.freetls.fastly.net/i/u/300x300/2a96cbd8b46e442fc41c2b86b821562f.png\",\"size\":\"\"}],\"streamable\":\"0\"},{\"name\":\"Larry June\",\"mbid\":\"20d49152-11a2-4e55-8251-0d11dc6424fa\",\"match\":\"0.226436\",\"url\":\"https://www.last.fm/music/Larry+June\",\"image\":[{\"#text\":\"https://lastfm.freetls.fastly.net/i/u/34s/2a96cbd8b46e442fc41c2b86b821562f.png\",\"size\":\"small\"},{\"#text\":\"https://lastfm.freetls.fastly.net/i/u/64s/2a96cbd8b46e442fc41c2b86b821562f.png\",\"size\":\"medium\"},{\"#text\":\"https://lastfm.freetls.fastly.net/i/u/174s/2a96cbd8b46e442fc41c2b86b821562f.png\",\"size\":\"large\"},{\"#text\":\"https://lastfm.freetls.fastly.net/i/u/300x300/2a96cbd8b46e442fc41c2b86b821562f.png\",\"size\":\"extralarge\"},{\"#text\":\"https://lastfm.freetls.fastly.net/i/u/300x300/2a96cbd8b46e442fc41c2b86b821562f.png\",\"size\":\"mega\"},{\"#text\":\"https://lastfm.freetls.fastly.net/i/u/300x300/2a96cbd8b46e442fc41c2b86b821562f.png\",\"size\":\"\"}],\"streamable\":\"0\"},{\"name\":\"BigXthaPlug\",\"mbid\":\"d25f6294-686a-4569-b1b9-fe64bfef2519\",\"match\":\"0.223867\",\"url\":\"https://www.last.fm/music/BigXthaPlug\",\"image\":[{\"#text\":\"https://lastfm.freetls.fastly.net/i/u/34s/2a96cbd8b46e442fc41c2b86b821562f.png\",\"size\":\"small\"},{\"#text\":\"https://lastfm.freetls.fastly.net/i/u/64s/2a96cbd8b46e442fc41c2b86b821562f.png\",\"size\":\"medium\"},{\"#text\":\"https://lastfm.freetls.fastly.net/i/u/174s/2a96cbd8b46e442fc41c2b86b821562f.png\",\"size\":\"large\"},{\"#text\":\"https://lastfm.freetls.fastly.net/i/u/300x300/2a96cbd8b46e442fc41c2b86b821562f.png\",\"size\":\"extralarge\"},{\"#text\":\"https://lastfm.freetls.fastly.net/i/u/300x300/2a96cbd8b46e442fc41c2b86b821562f.png\",\"size\":\"mega\"},{\"#text\":\"https://lastfm.freetls.fastly.net/i/u/300x300/2a96cbd8b46e442fc41c2b86b821562f.png\",\"size\":\"\"}],\"streamable\":\"0\"},{\"name\":\"NxWorries\",\"mbid\":\"96c5c9a3-6c9b-41a7-90cc-e7375afbfde1\",\"match\":\"0.222925\",\"url\":\"https://www.last.fm/music/NxWorries\",\"image\":[{\"#text\":\"https://lastfm.freetls.fastly.net/i/u/34s/2a96cbd8b46e442fc41c2b86b821562f.png\",\"size\":\"small\"},{\"#text\":\"https://lastfm.freetls.fastly.net/i/u/64s/2a96cbd8b46e442fc41c2b86b821562f.png\",\"size\":\"medium\"},{\"#text\":\"https://lastfm.freetls.fastly.net/i/u/174s/2a96cbd8b46e442fc41c2b86b821562f.png\",\"size\":\"large\"},{\"#text\":\"https://lastfm.freetls.fastly.net/i/u/300x300/2a96cbd8b46e442fc41c2b86b821562f.png\",\"size\":\"extralarge\"},{\"#text\":\"https://lastfm.freetls.fastly.net/i/u/300x300/2a96cbd8b46e442fc41c2b86b821562f.png\",\"size\":\"mega\"},{\"#text\":\"https://lastfm.freetls.fastly.net/i/u/300x300/2a96cbd8b46e442fc41c2b86b821562f.png\",\"size\":\"\"}],\"streamable\":\"0\"},{\"name\":\"Logic\",\"mbid\":\"96a83a1f-f78f-4f1c-bf89-9b8dd3d91872\",\"match\":\"0.222552\",\"url\":\"https://www.last.fm/music/Logic\",\"image\":[{\"#text\":\"https://lastfm.freetls.fastly.net/i/u/34s/2a96cbd8b46e442fc41c2b86b821562f.png\",\"size\":\"small\"},{\"#text\":\"https://lastfm.freetls.fastly.net/i/u/64s/2a96cbd8b46e442fc41c2b86b821562f.png\",\"size\":\"medium\"},{\"#text\":\"https://lastfm.freetls.fastly.net/i/u/174s/2a96cbd8b46e442fc41c2b86b821562f.png\",\"size\":\"large\"},{\"#text\":\"https://lastfm.freetls.fastly.net/i/u/300x300/2a96cbd8b46e442fc41c2b86b821562f.png\",\"size\":\"extralarge\"},{\"#text\":\"https://lastfm.freetls.fastly.net/i/u/300x300/2a96cbd8b46e442fc41c2b86b821562f.png\",\"size\":\"mega\"},{\"#text\":\"https://lastfm.freetls.fastly.net/i/u/300x300/2a96cbd8b46e442fc41c2b86b821562f.png\",\"size\":\"\"}],\"streamable\":\"0\"},{\"name\":\"Roddy Ricch\",\"mbid\":\"5721c227-4caf-48b1-bbfc-1a4ed3276963\",\"match\":\"0.220525\",\"url\":\"https://www.last.fm/music/Roddy+Ricch\",\"image\":[{\"#text\":\"https://lastfm.freetls.fastly.net/i/u/34s/2a96cbd8b46e442fc41c2b86b821562f.png\",\"size\":\"small\"},{\"#text\":\"https://lastfm.freetls.fastly.net/i/u/64s/2a96cbd8b46e442fc41c2b86b821562f.png\",\"size\":\"medium\"},{\"#text\":\"https://lastfm.freetls.fastly.net/i/u/174s/2a96cbd8b46e442fc41c2b86b821562f.png\",\"size\":\"large\"},{\"#text\":\"https://lastfm.freetls.fastly.net/i/u/300x300/2a96cbd8b46e442fc41c2b86b821562f.png\",\"size\":\"extralarge\"},{\"#text\":\"https://lastfm.freetls.fastly.net/i/u/300x300/2a96cbd8b46e442fc41c2b86b821562f.png\",\"size\":\"mega\"},{\"#text\":\"https://lastfm.freetls.fastly.net/i/u/300x300/2a96cbd8b46e442fc41c2b86b821562f.png\",\"size\":\"\"}],\"streamable\":\"0\"},{\"name\":\"Bas\",\"mbid\":\"3ba54400-4c97-450f-b108-bcd90b9b2b76\",\"match\":\"0.219211\",\"url\":\"https://www.last.fm/music/Bas\",\"image\":[{\"#text\":\"https://lastfm.freetls.fastly.net/i/u/34s/2a96cbd8b46e442fc41c2b86b821562f.png\",\"size\":\"small\"},{\"#text\":\"https://lastfm.freetls.fastly.net/i/u/64s/2a96cbd8b46e442fc41c2b86b821562f.png\",\"size\":\"medium\"},{\"#text\":\"https://lastfm.freetls.fastly.net/i/u/174s/2a96cbd8b46e442fc41c2b86b821562f.png\",\"size\":\"large\"},{\"#text\":\"https://lastfm.freetls.fastly.net/i/u/300x300/2a96cbd8b46e442fc41c2b86b821562f.png\",\"size\":\"extralarge\"},{\"#text\":\"https://lastfm.freetls.fastly.net/i/u/300x300/2a96cbd8b46e442fc41c2b86b821562f.png\",\"size\":\"mega\"},{\"#text\":\"https://lastfm.freetls.fastly.net/i/u/300x300/2a96cbd8b46e442fc41c2b86b821562f.png\",\"size\":\"\"}],\"streamable\":\"0\"},{\"name\":\"YG\",\"mbid\":\"44e5f152-3c1e-4492-bae9-b682d7a27a76\",\"match\":\"0.213849\",\"url\":\"https://www.last.fm/music/YG\",\"image\":[{\"#text\":\"https://lastfm.freetls.fastly.net/i/u/34s/2a96cbd8b46e442fc41c2b86b821562f.png\",\"size\":\"small\"},{\"#text\":\"https://lastfm.freetls.fastly.net/i/u/64s/2a96cbd8b46e442fc41c2b86b821562f.png\",\"size\":\"medium\"},{\"#text\":\"https://lastfm.freetls.fastly.net/i/u/174s/2a96cbd8b46e442fc41c2b86b821562f.png\",\"size\":\"large\"},{\"#text\":\"https://lastfm.freetls.fastly.net/i/u/300x300/2a96cbd8b46e442fc41c2b86b821562f.png\",\"size\":\"extralarge\"},{\"#text\":\"https://lastfm.freetls.fastly.net/i/u/300x300/2a96cbd8b46e442fc41c2b86b821562f.png\",\"size\":\"mega\"},{\"#text\":\"https://lastfm.freetls.fastly.net/i/u/300x300/2a96cbd8b46e442fc41c2b86b821562f.png\",\"size\":\"\"}],\"streamable\":\"0\"},{\"name\":\"GZA/Genius\",\"mbid\":\"550cb78b-4995-4873-baea-76ef265531f5\",\"match\":\"0.213781\",\"url\":\"https://www.last.fm/music/GZA%2FGenius\",\"image\":[{\"#text\":\"https://lastfm.freetls.fastly.net/i/u/34s/2a96cbd8b46e442fc41c2b86b821562f.png\",\"size\":\"small\"},{\"#text\":\"https://lastfm.freetls.fastly.net/i/u/64s/2a96cbd8b46e442fc41c2b86b821562f.png\",\"size\":\"medium\"},{\"#text\":\"https://lastfm.freetls.fastly.net/i/u/174s/2a96cbd8b46e442fc41c2b86b821562f.png\",\"size\":\"large\"},{\"#text\":\"https://lastfm.freetls.fastly.net/i/u/300x300/2a96cbd8b46e442fc41c2b86b821562f.png\",\"size\":\"extralarge\"},{\"#text\":\"https://lastfm.freetls.fastly.net/i/u/300x300/2a96cbd8b46e442fc41c2b86b821562f.png\",\"size\":\"mega\"},{\"#text\":\"https://lastfm.freetls.fastly.net/i/u/300x300/2a96cbd8b46e442fc41c2b86b821562f.png\",\"size\":\"\"}],\"streamable\":\"0\"},{\"name\":\"DaBaby\",\"mbid\":\"87ae83df-6173-40cc-a0f2-bad543faa6aa\",\"match\":\"0.213721\",\"url\":\"https://www.last.fm/music/DaBaby\",\"image\":[{\"#text\":\"https://lastfm.freetls.fastly.net/i/u/34s/2a96cbd8b46e442fc41c2b86b821562f.png\",\"size\":\"small\"},{\"#text\":\"https://lastfm.freetls.fastly.net/i/u/64s/2a96cbd8b46e442fc41c2b86b821562f.png\",\"size\":\"medium\"},{\"#text\":\"https://lastfm.freetls.fastly.net/i/u/174s/2a96cbd8b46e442fc41c2b86b821562f.png\",\"size\":\"large\"},{\"#text\":\"https://lastfm.freetls.fastly.net/i/u/300x300/2a96cbd8b46e442fc41c2b86b821562f.png\",\"size\":\"extralarge\"},{\"#text\":\"https://lastfm.freetls.fastly.net/i/u/300x300/2a96cbd8b46e442fc41c2b86b821562f.png\",\"size\":\"mega\"},{\"#text\":\"https://lastfm.freetls.fastly.net/i/u/300x300/2a96cbd8b46e442fc41c2b86b821562f.png\",\"size\":\"\"}],\"streamable\":\"0\"},{\"name\":\"Big K.R.I.T.\",\"mbid\":\"7e966957-9b0b-4e19-b8a0-4206535d8052\",\"match\":\"0.213292\",\"url\":\"https://www.last.fm/music/Big+K.R.I.T.\",\"image\":[{\"#text\":\"https://lastfm.freetls.fastly.net/i/u/34s/2a96cbd8b46e442fc41c2b86b821562f.png\",\"size\":\"small\"},{\"#text\":\"https://lastfm.freetls.fastly.net/i/u/64s/2a96cbd8b46e442fc41c2b86b821562f.png\",\"size\":\"medium\"},{\"#text\":\"https://lastfm.freetls.fastly.net/i/u/174s/2a96cbd8b46e442fc41c2b86b821562f.png\",\"size\":\"large\"},{\"#text\":\"https://lastfm.freetls.fastly.net/i/u/300x300/2a96cbd8b46e442fc41c2b86b821562f.png\",\"size\":\"extralarge\"},{\"#text\":\"https://lastfm.freetls.fastly.net/i/u/300x300/2a96cbd8b46e442fc41c2b86b821562f.png\",\"size\":\"mega\"},{\"#text\":\"https://lastfm.freetls.fastly.net/i/u/300x300/2a96cbd8b46e442fc41c2b86b821562f.png\",\"size\":\"\"}],\"streamable\":\"0\"}],\"@attr\":{\"artist\":\"Kendrick Lamar\"}}}'"
            ],
            "application/vnd.google.colaboratory.intrinsic+json": {
              "type": "string"
            }
          },
          "metadata": {},
          "execution_count": 65
        }
      ]
    },
    {
      "cell_type": "code",
      "source": [
        "kendrick_similars = response.json()"
      ],
      "metadata": {
        "id": "rWfxtma3-ZF-"
      },
      "execution_count": null,
      "outputs": []
    },
    {
      "cell_type": "code",
      "source": [
        "kendrick_similars.keys()"
      ],
      "metadata": {
        "colab": {
          "base_uri": "https://localhost:8080/"
        },
        "id": "pPH4UWrZBcj6",
        "outputId": "ec47cc36-da5c-470f-9c28-49b84c1bd593"
      },
      "execution_count": null,
      "outputs": [
        {
          "output_type": "execute_result",
          "data": {
            "text/plain": [
              "dict_keys(['similarartists'])"
            ]
          },
          "metadata": {},
          "execution_count": 68
        }
      ]
    },
    {
      "cell_type": "code",
      "source": [
        "kendrick_similars['similarartists'].keys()"
      ],
      "metadata": {
        "colab": {
          "base_uri": "https://localhost:8080/"
        },
        "id": "ZRt96uIYBcgi",
        "outputId": "f29714af-3d0b-4871-bdc0-78f848de8eb4"
      },
      "execution_count": null,
      "outputs": [
        {
          "output_type": "execute_result",
          "data": {
            "text/plain": [
              "dict_keys(['artist', '@attr'])"
            ]
          },
          "metadata": {},
          "execution_count": 70
        }
      ]
    },
    {
      "cell_type": "code",
      "source": [
        "kendrick_similars['similarartists']['artist'][0]['name']"
      ],
      "metadata": {
        "colab": {
          "base_uri": "https://localhost:8080/",
          "height": 35
        },
        "id": "vhpSjv2RBcdZ",
        "outputId": "969dbd1c-0f10-41fd-84f3-8bd060dd08b7"
      },
      "execution_count": null,
      "outputs": [
        {
          "output_type": "execute_result",
          "data": {
            "text/plain": [
              "'JID'"
            ],
            "application/vnd.google.colaboratory.intrinsic+json": {
              "type": "string"
            }
          },
          "metadata": {},
          "execution_count": 74
        }
      ]
    },
    {
      "cell_type": "code",
      "source": [
        "#built the url\n",
        "album_info_url = f'https://ws.audioscrobbler.com/2.0/'\n",
        "payload = {'method': 'artist.getsimilar',\n",
        "           'api_key': api_key,\n",
        "           'artist': 'oasis',\n",
        "           'format': 'json'}\n",
        "#made a request\n",
        "response = requests.get(album_info_url, params = payload)\n",
        "#turned it into json\n",
        "kendrick_similars = response.json()\n",
        "#printed the artist name\n",
        "for artist in kendrick_similars['similarartists']['artist']:\n",
        "  print(artist['name'])"
      ],
      "metadata": {
        "colab": {
          "base_uri": "https://localhost:8080/"
        },
        "id": "YH6qiJpd-ZAA",
        "outputId": "24e8a6a9-cb15-46b0-c199-cc65100a3372"
      },
      "execution_count": null,
      "outputs": [
        {
          "output_type": "stream",
          "name": "stdout",
          "text": [
            "Liam Gallagher\n",
            "Noel Gallagher's High Flying Birds\n",
            "Beady Eye\n",
            "Noel Gallagher\n",
            "The Stone Roses\n",
            "The Verve\n",
            "Blur\n",
            "Richard Ashcroft\n",
            "Cast\n",
            "Ocean Colour Scene\n",
            "The Seahorses\n",
            "Pulp\n",
            "The La's\n",
            "Ian Brown\n",
            "Supergrass\n",
            "The Charlatans\n",
            "Stereophonics\n",
            "Suede\n",
            "Kasabian\n",
            "Travis\n",
            "The Bluetones\n",
            "Elastica\n",
            "Inspiral Carpets\n",
            "Blossoms\n",
            "The Courteeners\n",
            "Shed Seven\n",
            "Primal Scream\n",
            "Manic Street Preachers\n",
            "Graham Coxon\n",
            "The Lightning Seeds\n",
            "Sleeper\n",
            "Ash\n",
            "Dodgy\n",
            "Paul Weller\n",
            "The Libertines\n",
            "Kaiser Chiefs\n",
            "The Coral\n",
            "Longpigs\n",
            "James\n",
            "Coldplay\n",
            "Arctic Monkeys\n",
            "Kula Shaker\n",
            "Miles Kane\n",
            "Johnny Marr\n",
            "Catfish and the Bottlemen\n",
            "Echobelly\n",
            "Keane\n",
            "Super Furry Animals\n",
            "Mansun\n",
            "Doves\n",
            "Gerry Cinnamon\n",
            "Robbie Williams\n",
            "U2\n",
            "Damon Albarn\n",
            "Gene\n",
            "Catatonia\n",
            "The Kooks\n",
            "Starsailor\n",
            "The Last Shadow Puppets\n",
            "Razorlight\n",
            "The View\n",
            "The Enemy\n",
            "Sam Fender\n",
            "Embrace\n",
            "Babyshambles\n",
            "The Smiths\n",
            "The Strokes\n",
            "Foo Fighters\n",
            "Jarvis Cocker\n",
            "Cornershop\n",
            "Red Hot Chili Peppers\n",
            "Paul McCartney\n",
            "Franz Ferdinand\n",
            "Morrissey\n",
            "The Killers\n",
            "DMA's\n",
            "The Good, the Bad & the Queen\n",
            "Radiohead\n",
            "Wolf Alice\n",
            "Hurricane #1\n",
            "Snow Patrol\n",
            "Menswear\n",
            "Elbow\n",
            "Feeder\n",
            "Weezer\n",
            "The Vaccines\n",
            "Pearl Jam\n",
            "Black Grape\n",
            "The Cribs\n",
            "The Beautiful South\n",
            "Toploader\n",
            "The Boo Radleys\n",
            "Kings of Leon\n",
            "Green Day\n",
            "Nirvana\n",
            "Jake Bugg\n",
            "The Rifles\n",
            "Alex Turner\n",
            "The Auteurs\n",
            "Reef\n"
          ]
        }
      ]
    },
    {
      "cell_type": "code",
      "source": [
        "def f(x): return x**2\n",
        "f(3)"
      ],
      "metadata": {
        "colab": {
          "base_uri": "https://localhost:8080/"
        },
        "id": "UOcOVJY4E0Bc",
        "outputId": "891e6138-3ab1-4df6-d8c9-74d6708ef25b"
      },
      "execution_count": null,
      "outputs": [
        {
          "output_type": "execute_result",
          "data": {
            "text/plain": [
              "9"
            ]
          },
          "metadata": {},
          "execution_count": 81
        }
      ]
    },
    {
      "cell_type": "code",
      "source": [
        "def get_similar_artists(artist):\n",
        "    album_info_url = f'https://ws.audioscrobbler.com/2.0/'\n",
        "    payload = {'method': 'artist.getsimilar',\n",
        "              'api_key': api_key,\n",
        "              'artist': artist,\n",
        "              'format': 'json'}\n",
        "    #made a request\n",
        "    response = requests.get(album_info_url, params = payload)\n",
        "    #turned it into json\n",
        "    kendrick_similars = response.json()\n",
        "    #printed the artist name\n",
        "    for artist in kendrick_similars['similarartists']['artist']:\n",
        "      print(artist['name'])"
      ],
      "metadata": {
        "id": "KVuiIUdSETTX"
      },
      "execution_count": null,
      "outputs": []
    },
    {
      "cell_type": "code",
      "source": [
        "get_similar_artists('Fela Kuti')"
      ],
      "metadata": {
        "colab": {
          "base_uri": "https://localhost:8080/"
        },
        "id": "N9Y660BSETOa",
        "outputId": "d0679cf0-79f5-4d29-bf36-67f9a5009e8e"
      },
      "execution_count": null,
      "outputs": [
        {
          "output_type": "stream",
          "name": "stdout",
          "text": [
            "Ebo Taylor\n",
            "Tony Allen\n",
            "The Funkees\n",
            "Fela Kuti & Afrika 70\n",
            "Manu Dibango\n",
            "Antibalas Afrobeat Orchestra\n",
            "Femi Kuti\n",
            "William Onyeabor\n",
            "The Lijadu Sisters\n",
            "Hugh Masekela\n",
            "Mulatu Astatke\n",
            "Orchestra Baobab\n",
            "Marijata\n",
            "Peter King\n",
            "The Souljazz Orchestra\n",
            "Ali Farka Touré\n",
            "Seun Kuti\n",
            "Cymande\n",
            "The Budos Band\n",
            "Kokoroko\n",
            "Idris Muhammad\n",
            "Osibisa\n",
            "Orchestre Poly-Rythmo de Cotonou\n",
            "Donald Byrd\n",
            "Sons of Kemet\n",
            "T.P. Orchestre Poly-Rythmo\n",
            "Lafayette Afro Rock Band\n",
            "King Sunny Ade\n",
            "Orlando Julius\n",
            "Bola Johnson\n",
            "Herbie Hancock\n",
            "The Hygrades\n",
            "The Daktaris\n",
            "Miriam Makeba\n",
            "Ikebe Shakedown\n",
            "Bembeya Jazz National\n",
            "Amadou & Mariam\n",
            "Menahan Street Band\n",
            "Wizkid\n",
            "The Shaolin Afronauts\n",
            "Dele Sosimi\n",
            "Ofege\n",
            "Roy Ayers\n",
            "Gyedu-Blay Ambolley\n",
            "Mahmoud Ahmed\n",
            "Oumou Sangare\n",
            "Tinariwen\n",
            "Monomono\n",
            "Seun Kuti & Egypt 80\n",
            "Nubiyan Twist\n",
            "Azymuth\n",
            "Roy Ayers Ubiquity\n",
            "Ramsey Lewis\n",
            "Angélique Kidjo\n",
            "El Michels Affair\n",
            "Francis Bebey\n",
            "Lonnie Liston Smith & The Cosmic Echoes\n",
            "Ibibio Sound Machine\n",
            "Vaudou Game\n",
            "Basa Basa\n",
            "Ali Farka Touré & Toumani Diabaté\n",
            "Salif Keita\n",
            "David Axelrod\n",
            "Youssou N'Dour\n",
            "Davido\n",
            "Bobbi Humphrey\n",
            "Yussef Dayes\n",
            "Olamide\n",
            "Akalé Wubé\n",
            "Quincy Jones\n",
            "Shabaka And The Ancestors\n",
            "Medeski, Martin and Wood\n",
            "George Duke\n",
            "Vieux Farka Touré\n",
            "Obongjayar\n",
            "Lonnie Liston Smith\n",
            "Gétatchèw Mèkurya\n",
            "The Poets of Rhythm\n",
            "Abdullah Ibrahim\n",
            "Boubacar Traoré\n",
            "Letta Mbulu\n",
            "Delvon Lamarr Organ Trio\n",
            "The Heliocentrics\n",
            "Mulatu Astatke & The Heliocentrics\n",
            "Show Dem Camp\n",
            "Mandrill\n",
            "Maceo Parker\n",
            "Incredible Bongo Band\n",
            "Weldon Irvine\n",
            "Toumani Diabaté\n",
            "Rokia Traoré\n",
            "Deodato\n",
            "STEVE MONITE\n",
            "Cheikh Lô\n",
            "Jiro Inagaki and His Soul Media\n",
            "Butcher Brown\n",
            "Johnny Hammond\n",
            "The Crusaders\n",
            "Gary Bartz\n",
            "Hailu Mergia & Dahlak Band\n"
          ]
        }
      ]
    },
    {
      "cell_type": "code",
      "source": [],
      "metadata": {
        "id": "W5MbRUMJETJP"
      },
      "execution_count": null,
      "outputs": []
    },
    {
      "cell_type": "code",
      "execution_count": null,
      "metadata": {
        "id": "TESFn_mHPSQ7"
      },
      "outputs": [],
      "source": [
        "#album_info a different way\n",
        "album_info_url = f'https://ws.audioscrobbler.com/2.0/'\n",
        "payload = {'method': 'album.getinfo',\n",
        "           'api_key': api_key,\n",
        "           'artist': 'Kendrick Lamar',\n",
        "           'album': 'GNX',\n",
        "           'format': 'json'}\n",
        "r = requests.get(album_info_url, payload)"
      ]
    },
    {
      "cell_type": "code",
      "source": [
        "def album_info(artist, album):\n",
        "  album_info_url = f'https://ws.audioscrobbler.com/2.0/'\n",
        "  payload = {'method': 'album.getinfo',\n",
        "           'api_key': api_key,\n",
        "           'artist': artist,\n",
        "           'album': album,\n",
        "           'format': 'json'}\n",
        "  r = requests.get(album_info_url, payload)\n",
        "  return r.json()"
      ],
      "metadata": {
        "id": "ibkSYyMbqftb"
      },
      "execution_count": null,
      "outputs": []
    },
    {
      "cell_type": "code",
      "source": [
        "album_info('The Police', 'The Police')"
      ],
      "metadata": {
        "colab": {
          "base_uri": "https://localhost:8080/"
        },
        "collapsed": true,
        "id": "Oe1mzNOJMirE",
        "outputId": "fc1069c4-0487-4c45-99e3-7a47fd3f5f92"
      },
      "execution_count": null,
      "outputs": [
        {
          "output_type": "execute_result",
          "data": {
            "text/plain": [
              "{'album': {'artist': 'The Police',\n",
              "  'mbid': '069eb645-f2b3-4277-96a7-d32eb7d8db9c',\n",
              "  'tags': {'tag': [{'url': 'https://www.last.fm/tag/rock', 'name': 'rock'},\n",
              "    {'url': 'https://www.last.fm/tag/t+artist', 'name': 't artist'},\n",
              "    {'url': 'https://www.last.fm/tag/classic+rock', 'name': 'classic rock'},\n",
              "    {'url': 'https://www.last.fm/tag/new+wave', 'name': 'new wave'},\n",
              "    {'url': 'https://www.last.fm/tag/guitar', 'name': 'guitar'}]},\n",
              "  'name': 'The Police',\n",
              "  'image': [{'size': 'small',\n",
              "    '#text': 'https://lastfm.freetls.fastly.net/i/u/34s/e67e3d129294f6566907566bd24a97d8.png'},\n",
              "   {'size': 'medium',\n",
              "    '#text': 'https://lastfm.freetls.fastly.net/i/u/64s/e67e3d129294f6566907566bd24a97d8.png'},\n",
              "   {'size': 'large',\n",
              "    '#text': 'https://lastfm.freetls.fastly.net/i/u/174s/e67e3d129294f6566907566bd24a97d8.png'},\n",
              "   {'size': 'extralarge',\n",
              "    '#text': 'https://lastfm.freetls.fastly.net/i/u/300x300/e67e3d129294f6566907566bd24a97d8.png'},\n",
              "   {'size': 'mega',\n",
              "    '#text': 'https://lastfm.freetls.fastly.net/i/u/300x300/e67e3d129294f6566907566bd24a97d8.png'},\n",
              "   {'size': '',\n",
              "    '#text': 'https://lastfm.freetls.fastly.net/i/u/300x300/e67e3d129294f6566907566bd24a97d8.png'}],\n",
              "  'tracks': {'track': [{'streamable': {'fulltrack': '0', '#text': '0'},\n",
              "     'duration': 122,\n",
              "     'url': 'https://www.last.fm/music/The+Police/The+Police/Fall+Out',\n",
              "     'name': 'Fall Out',\n",
              "     '@attr': {'rank': 1},\n",
              "     'artist': {'url': 'https://www.last.fm/music/The+Police',\n",
              "      'name': 'The Police',\n",
              "      'mbid': '9e0e2b01-41db-4008-bd8b-988977d6019a'}},\n",
              "    {'streamable': {'fulltrack': '0', '#text': '0'},\n",
              "     'duration': 177,\n",
              "     'url': 'https://www.last.fm/music/The+Police/The+Police/Can%27t+Stand+Losing+You+-+Remastered+2003',\n",
              "     'name': \"Can't Stand Losing You - Remastered 2003\",\n",
              "     '@attr': {'rank': 2},\n",
              "     'artist': {'url': 'https://www.last.fm/music/The+Police',\n",
              "      'name': 'The Police',\n",
              "      'mbid': '9e0e2b01-41db-4008-bd8b-988977d6019a'}},\n",
              "    {'streamable': {'fulltrack': '0', '#text': '0'},\n",
              "     'duration': 171,\n",
              "     'url': 'https://www.last.fm/music/The+Police/The+Police/Next+To+You+-+Remastered+2003',\n",
              "     'name': 'Next To You - Remastered 2003',\n",
              "     '@attr': {'rank': 3},\n",
              "     'artist': {'url': 'https://www.last.fm/music/The+Police',\n",
              "      'name': 'The Police',\n",
              "      'mbid': '9e0e2b01-41db-4008-bd8b-988977d6019a'}},\n",
              "    {'streamable': {'fulltrack': '0', '#text': '0'},\n",
              "     'duration': 191,\n",
              "     'url': 'https://www.last.fm/music/The+Police/The+Police/Roxanne+-+Remastered+2003',\n",
              "     'name': 'Roxanne - Remastered 2003',\n",
              "     '@attr': {'rank': 4},\n",
              "     'artist': {'url': 'https://www.last.fm/music/The+Police',\n",
              "      'name': 'The Police',\n",
              "      'mbid': '9e0e2b01-41db-4008-bd8b-988977d6019a'}},\n",
              "    {'streamable': {'fulltrack': '0', '#text': '0'},\n",
              "     'duration': 174,\n",
              "     'url': 'https://www.last.fm/music/The+Police/The+Police/Truth+Hits+Everybody+-+Remastered+2003',\n",
              "     'name': 'Truth Hits Everybody - Remastered 2003',\n",
              "     '@attr': {'rank': 5},\n",
              "     'artist': {'url': 'https://www.last.fm/music/The+Police',\n",
              "      'name': 'The Police',\n",
              "      'mbid': '9e0e2b01-41db-4008-bd8b-988977d6019a'}},\n",
              "    {'streamable': {'fulltrack': '0', '#text': '0'},\n",
              "     'duration': 288,\n",
              "     'url': 'https://www.last.fm/music/The+Police/The+Police/Hole+In+My+Life+-+Remastered+2003',\n",
              "     'name': 'Hole In My Life - Remastered 2003',\n",
              "     '@attr': {'rank': 6},\n",
              "     'artist': {'url': 'https://www.last.fm/music/The+Police',\n",
              "      'name': 'The Police',\n",
              "      'mbid': '9e0e2b01-41db-4008-bd8b-988977d6019a'}},\n",
              "    {'streamable': {'fulltrack': '0', '#text': '0'},\n",
              "     'duration': 287,\n",
              "     'url': 'https://www.last.fm/music/The+Police/The+Police/So+Lonely+-+Remastered+2003',\n",
              "     'name': 'So Lonely - Remastered 2003',\n",
              "     '@attr': {'rank': 7},\n",
              "     'artist': {'url': 'https://www.last.fm/music/The+Police',\n",
              "      'name': 'The Police',\n",
              "      'mbid': '9e0e2b01-41db-4008-bd8b-988977d6019a'}},\n",
              "    {'streamable': {'fulltrack': '0', '#text': '0'},\n",
              "     'duration': 290,\n",
              "     'url': 'https://www.last.fm/music/The+Police/The+Police/Message+In+A+Bottle+-+Remastered+2003',\n",
              "     'name': 'Message In A Bottle - Remastered 2003',\n",
              "     '@attr': {'rank': 8},\n",
              "     'artist': {'url': 'https://www.last.fm/music/The+Police',\n",
              "      'name': 'The Police',\n",
              "      'mbid': '9e0e2b01-41db-4008-bd8b-988977d6019a'}},\n",
              "    {'streamable': {'fulltrack': '0', '#text': '0'},\n",
              "     'duration': 184,\n",
              "     'url': 'https://www.last.fm/music/The+Police/The+Police/Reggatta+De+Blanc+-+Remastered+2003',\n",
              "     'name': 'Reggatta De Blanc - Remastered 2003',\n",
              "     '@attr': {'rank': 9},\n",
              "     'artist': {'url': 'https://www.last.fm/music/The+Police',\n",
              "      'name': 'The Police',\n",
              "      'mbid': '9e0e2b01-41db-4008-bd8b-988977d6019a'}},\n",
              "    {'streamable': {'fulltrack': '0', '#text': '0'},\n",
              "     'duration': 254,\n",
              "     'url': 'https://www.last.fm/music/The+Police/The+Police/Bring+On+The+Night+-+Remastered+2003',\n",
              "     'name': 'Bring On The Night - Remastered 2003',\n",
              "     '@attr': {'rank': 10},\n",
              "     'artist': {'url': 'https://www.last.fm/music/The+Police',\n",
              "      'name': 'The Police',\n",
              "      'mbid': '9e0e2b01-41db-4008-bd8b-988977d6019a'}},\n",
              "    {'streamable': {'fulltrack': '0', '#text': '0'},\n",
              "     'duration': 300,\n",
              "     'url': 'https://www.last.fm/music/The+Police/The+Police/Walking+On+The+Moon+-+Remastered+2003',\n",
              "     'name': 'Walking On The Moon - Remastered 2003',\n",
              "     '@attr': {'rank': 11},\n",
              "     'artist': {'url': 'https://www.last.fm/music/The+Police',\n",
              "      'name': 'The Police',\n",
              "      'mbid': '9e0e2b01-41db-4008-bd8b-988977d6019a'}},\n",
              "    {'streamable': {'fulltrack': '0', '#text': '0'},\n",
              "     'duration': 241,\n",
              "     'url': 'https://www.last.fm/music/The+Police/The+Police/Don%27t+Stand+So+Close+To+Me+-+Remastered+2003',\n",
              "     'name': \"Don't Stand So Close To Me - Remastered 2003\",\n",
              "     '@attr': {'rank': 12},\n",
              "     'artist': {'url': 'https://www.last.fm/music/The+Police',\n",
              "      'name': 'The Police',\n",
              "      'mbid': '9e0e2b01-41db-4008-bd8b-988977d6019a'}},\n",
              "    {'streamable': {'fulltrack': '0', '#text': '0'},\n",
              "     'duration': 200,\n",
              "     'url': 'https://www.last.fm/music/The+Police/The+Police/Driven+To+Tears+-+Remastered+2003',\n",
              "     'name': 'Driven To Tears - Remastered 2003',\n",
              "     '@attr': {'rank': 13},\n",
              "     'artist': {'url': 'https://www.last.fm/music/The+Police',\n",
              "      'name': 'The Police',\n",
              "      'mbid': '9e0e2b01-41db-4008-bd8b-988977d6019a'}},\n",
              "    {'streamable': {'fulltrack': '0', '#text': '0'},\n",
              "     'duration': 146,\n",
              "     'url': 'https://www.last.fm/music/The+Police/The+Police/Canary+In+A+Coalmine+-+Remastered+2003',\n",
              "     'name': 'Canary In A Coalmine - Remastered 2003',\n",
              "     '@attr': {'rank': 14},\n",
              "     'artist': {'url': 'https://www.last.fm/music/The+Police',\n",
              "      'name': 'The Police',\n",
              "      'mbid': '9e0e2b01-41db-4008-bd8b-988977d6019a'}},\n",
              "    {'streamable': {'fulltrack': '0', '#text': '0'},\n",
              "     'duration': 247,\n",
              "     'url': 'https://www.last.fm/music/The+Police/The+Police/De+Do+Do+Do,+De+Da+Da+Da+-+Remastered+2003',\n",
              "     'name': 'De Do Do Do, De Da Da Da - Remastered 2003',\n",
              "     '@attr': {'rank': 15},\n",
              "     'artist': {'url': 'https://www.last.fm/music/The+Police',\n",
              "      'name': 'The Police',\n",
              "      'mbid': '9e0e2b01-41db-4008-bd8b-988977d6019a'}},\n",
              "    {'streamable': {'fulltrack': '0', '#text': '0'},\n",
              "     'duration': 230,\n",
              "     'url': 'https://www.last.fm/music/The+Police/The+Police/Voices+Inside+My+Head+-+Remastered+2003',\n",
              "     'name': 'Voices Inside My Head - Remastered 2003',\n",
              "     '@attr': {'rank': 16},\n",
              "     'artist': {'url': 'https://www.last.fm/music/The+Police',\n",
              "      'name': 'The Police',\n",
              "      'mbid': '9e0e2b01-41db-4008-bd8b-988977d6019a'}},\n",
              "    {'streamable': {'fulltrack': '0', '#text': '0'},\n",
              "     'duration': 224,\n",
              "     'url': 'https://www.last.fm/music/The+Police/The+Police/Invisible+Sun+-+Remastered+2003',\n",
              "     'name': 'Invisible Sun - Remastered 2003',\n",
              "     '@attr': {'rank': 17},\n",
              "     'artist': {'url': 'https://www.last.fm/music/The+Police',\n",
              "      'name': 'The Police',\n",
              "      'mbid': '9e0e2b01-41db-4008-bd8b-988977d6019a'}},\n",
              "    {'streamable': {'fulltrack': '0', '#text': '0'},\n",
              "     'duration': 260,\n",
              "     'url': 'https://www.last.fm/music/The+Police/The+Police/Every+Little+Thing+She+Does+Is+Magic+-+Remastered+2003',\n",
              "     'name': 'Every Little Thing She Does Is Magic - Remastered 2003',\n",
              "     '@attr': {'rank': 18},\n",
              "     'artist': {'url': 'https://www.last.fm/music/The+Police',\n",
              "      'name': 'The Police',\n",
              "      'mbid': '9e0e2b01-41db-4008-bd8b-988977d6019a'}},\n",
              "    {'streamable': {'fulltrack': '0', '#text': '0'},\n",
              "     'duration': 179,\n",
              "     'url': 'https://www.last.fm/music/The+Police/The+Police/Spirits+In+The+Material+World+-+Remastered+2003',\n",
              "     'name': 'Spirits In The Material World - Remastered 2003',\n",
              "     '@attr': {'rank': 19},\n",
              "     'artist': {'url': 'https://www.last.fm/music/The+Police',\n",
              "      'name': 'The Police',\n",
              "      'mbid': '9e0e2b01-41db-4008-bd8b-988977d6019a'}},\n",
              "    {'streamable': {'fulltrack': '0', '#text': '0'},\n",
              "     'duration': 354,\n",
              "     'url': 'https://www.last.fm/music/The+Police/The+Police/Demolition+Man+-+Remastered+2003',\n",
              "     'name': 'Demolition Man - Remastered 2003',\n",
              "     '@attr': {'rank': 20},\n",
              "     'artist': {'url': 'https://www.last.fm/music/The+Police',\n",
              "      'name': 'The Police',\n",
              "      'mbid': '9e0e2b01-41db-4008-bd8b-988977d6019a'}},\n",
              "    {'streamable': {'fulltrack': '0', '#text': '0'},\n",
              "     'duration': 253,\n",
              "     'url': 'https://www.last.fm/music/The+Police/The+Police/Every+Breath+You+Take+-+Remastered+2003',\n",
              "     'name': 'Every Breath You Take - Remastered 2003',\n",
              "     '@attr': {'rank': 21},\n",
              "     'artist': {'url': 'https://www.last.fm/music/The+Police',\n",
              "      'name': 'The Police',\n",
              "      'mbid': '9e0e2b01-41db-4008-bd8b-988977d6019a'}},\n",
              "    {'streamable': {'fulltrack': '0', '#text': '0'},\n",
              "     'duration': 203,\n",
              "     'url': 'https://www.last.fm/music/The+Police/The+Police/Synchronicity+I+-+Remastered+2003',\n",
              "     'name': 'Synchronicity I - Remastered 2003',\n",
              "     '@attr': {'rank': 22},\n",
              "     'artist': {'url': 'https://www.last.fm/music/The+Police',\n",
              "      'name': 'The Police',\n",
              "      'mbid': '9e0e2b01-41db-4008-bd8b-988977d6019a'}},\n",
              "    {'streamable': {'fulltrack': '0', '#text': '0'},\n",
              "     'duration': 313,\n",
              "     'url': 'https://www.last.fm/music/The+Police/The+Police/Wrapped+Around+Your+Finger+-+Remastered+2003',\n",
              "     'name': 'Wrapped Around Your Finger - Remastered 2003',\n",
              "     '@attr': {'rank': 23},\n",
              "     'artist': {'url': 'https://www.last.fm/music/The+Police',\n",
              "      'name': 'The Police',\n",
              "      'mbid': '9e0e2b01-41db-4008-bd8b-988977d6019a'}},\n",
              "    {'streamable': {'fulltrack': '0', '#text': '0'},\n",
              "     'duration': 216,\n",
              "     'url': 'https://www.last.fm/music/The+Police/The+Police/Walking+In+Your+Footsteps+-+Remastered+2003',\n",
              "     'name': 'Walking In Your Footsteps - Remastered 2003',\n",
              "     '@attr': {'rank': 24},\n",
              "     'artist': {'url': 'https://www.last.fm/music/The+Police',\n",
              "      'name': 'The Police',\n",
              "      'mbid': '9e0e2b01-41db-4008-bd8b-988977d6019a'}},\n",
              "    {'streamable': {'fulltrack': '0', '#text': '0'},\n",
              "     'duration': 300,\n",
              "     'url': 'https://www.last.fm/music/The+Police/The+Police/Synchronicity+II+-+Remastered+2003',\n",
              "     'name': 'Synchronicity II - Remastered 2003',\n",
              "     '@attr': {'rank': 25},\n",
              "     'artist': {'url': 'https://www.last.fm/music/The+Police',\n",
              "      'name': 'The Police',\n",
              "      'mbid': '9e0e2b01-41db-4008-bd8b-988977d6019a'}},\n",
              "    {'streamable': {'fulltrack': '0', '#text': '0'},\n",
              "     'duration': 299,\n",
              "     'url': 'https://www.last.fm/music/The+Police/The+Police/King+Of+Pain+-+Remastered+2003',\n",
              "     'name': 'King Of Pain - Remastered 2003',\n",
              "     '@attr': {'rank': 26},\n",
              "     'artist': {'url': 'https://www.last.fm/music/The+Police',\n",
              "      'name': 'The Police',\n",
              "      'mbid': '9e0e2b01-41db-4008-bd8b-988977d6019a'}},\n",
              "    {'streamable': {'fulltrack': '0', '#text': '0'},\n",
              "     'duration': 276,\n",
              "     'url': 'https://www.last.fm/music/The+Police/The+Police/Murder+By+Numbers+-+Remastered+2003',\n",
              "     'name': 'Murder By Numbers - Remastered 2003',\n",
              "     '@attr': {'rank': 27},\n",
              "     'artist': {'url': 'https://www.last.fm/music/The+Police',\n",
              "      'name': 'The Police',\n",
              "      'mbid': '9e0e2b01-41db-4008-bd8b-988977d6019a'}},\n",
              "    {'streamable': {'fulltrack': '0', '#text': '0'},\n",
              "     'duration': 259,\n",
              "     'url': 'https://www.last.fm/music/The+Police/The+Police/Tea+In+The+Sahara+-+Remastered+2003',\n",
              "     'name': 'Tea In The Sahara - Remastered 2003',\n",
              "     '@attr': {'rank': 28},\n",
              "     'artist': {'url': 'https://www.last.fm/music/The+Police',\n",
              "      'name': 'The Police',\n",
              "      'mbid': '9e0e2b01-41db-4008-bd8b-988977d6019a'}}]},\n",
              "  'listeners': '237992',\n",
              "  'playcount': '2878260',\n",
              "  'url': 'https://www.last.fm/music/The+Police/The+Police'}}"
            ]
          },
          "metadata": {},
          "execution_count": 40
        }
      ]
    },
    {
      "cell_type": "code",
      "source": [
        "similar_url = 'https://ws.audioscrobbler.com/2.0/'\n",
        "payload = {'method': 'artist.getSimilar',\n",
        "           'api_key': api_key,\n",
        "           'artist': 'Sade',\n",
        "           'format': 'json'}\n",
        "r = requests.get(similar_url, payload)\n",
        "similar_to_sade = []\n",
        "for artist in r.json()['similarartists']['artist']:\n",
        "  # print(artist['name'])\n",
        "  similar_to_sade.append(artist['name'])"
      ],
      "metadata": {
        "collapsed": true,
        "id": "6YsubmNMqfqv"
      },
      "execution_count": null,
      "outputs": []
    },
    {
      "cell_type": "code",
      "source": [
        "similar_to_sade"
      ],
      "metadata": {
        "colab": {
          "base_uri": "https://localhost:8080/"
        },
        "id": "yBdKMEAHMxYf",
        "outputId": "598533f2-5c9c-4993-9a82-a98011c13562"
      },
      "execution_count": null,
      "outputs": [
        {
          "output_type": "execute_result",
          "data": {
            "text/plain": [
              "['Erykah Badu',\n",
              " 'Solange',\n",
              " 'Anita Baker',\n",
              " 'Sweetback',\n",
              " 'Minnie Riperton',\n",
              " 'Janet Jackson',\n",
              " 'Aaliyah',\n",
              " 'Cleo Sol',\n",
              " 'Amy Winehouse',\n",
              " 'Lauryn Hill',\n",
              " 'Marvin Gaye',\n",
              " 'Patrice Rushen',\n",
              " 'Jill Scott',\n",
              " 'Stevie Wonder',\n",
              " 'Mary J. Blige',\n",
              " 'Chaka Khan',\n",
              " 'Jessie Ware',\n",
              " 'Zhané',\n",
              " 'Amerie',\n",
              " 'Mariah Carey',\n",
              " 'Whitney Houston',\n",
              " 'Ms. Lauryn Hill',\n",
              " \"D'Angelo\",\n",
              " 'Kali Uchis',\n",
              " 'Lisa Stansfield',\n",
              " 'Thee Sacred Souls',\n",
              " 'TLC',\n",
              " 'Aretha Franklin',\n",
              " 'Diana Ross',\n",
              " 'Nina Simone',\n",
              " 'Luther Vandross',\n",
              " 'SWV',\n",
              " 'Delegation',\n",
              " 'Alicia Keys',\n",
              " 'Toni Braxton',\n",
              " 'Jalen Ngonda',\n",
              " 'Brandy',\n",
              " 'Simply Red',\n",
              " 'Tina Turner',\n",
              " 'Kate Bush',\n",
              " 'Corinne Bailey Rae',\n",
              " 'Janelle Monáe',\n",
              " 'Lucy Pearl',\n",
              " 'Michael Jackson',\n",
              " 'Roberta Flack',\n",
              " 'Faith Evans',\n",
              " 'Erika de Casier',\n",
              " 'SZA',\n",
              " 'Adele',\n",
              " 'Prince',\n",
              " 'Floetry',\n",
              " 'Snoh Aalegra',\n",
              " 'Groove Theory',\n",
              " 'Angie Stone',\n",
              " 'George Michael',\n",
              " 'Donny Hathaway',\n",
              " 'Lianne La Havas',\n",
              " 'Jhené Aiko',\n",
              " 'Rochelle Jordan',\n",
              " 'Randy Crawford',\n",
              " 'Natalie Cole',\n",
              " 'Dionne Warwick',\n",
              " 'Patti LaBelle',\n",
              " 'Etta James',\n",
              " 'Tinashe',\n",
              " 'Jorja Smith',\n",
              " 'Raveena',\n",
              " 'India.Arie',\n",
              " 'The Isley Brothers',\n",
              " 'Teddy Pendergrass',\n",
              " 'Bobby Caldwell',\n",
              " 'Ashanti',\n",
              " \"Destiny's Child\",\n",
              " 'Lionel Richie',\n",
              " 'Fugees',\n",
              " 'Roy Ayers Ubiquity',\n",
              " 'Rufus',\n",
              " 'Kool & The Gang',\n",
              " 'Prince & The Revolution',\n",
              " 'Tracy Chapman',\n",
              " 'Victoria Monét',\n",
              " 'The Internet',\n",
              " 'Beyoncé',\n",
              " 'Kelis',\n",
              " 'Norah Jones',\n",
              " 'Amel Larrieux',\n",
              " 'Al Green',\n",
              " 'Teena Marie',\n",
              " 'Seal',\n",
              " 'Tamia',\n",
              " 'George Benson',\n",
              " 'Everything But the Girl',\n",
              " 'En Vogue',\n",
              " 'Earth, Wind & Fire',\n",
              " 'Deniece Williams',\n",
              " 'Summer Walker',\n",
              " 'Res',\n",
              " 'The Jacksons',\n",
              " 'Ari Lennox',\n",
              " 'BLUE IVERSON']"
            ]
          },
          "metadata": {},
          "execution_count": 42
        }
      ]
    },
    {
      "cell_type": "code",
      "source": [
        "new_artists = []\n",
        "artists = ['Quicksand', 'Say Hi', 'Adrien Younge', 'Sade', 'Iron Maiden']\n",
        "for artist in artists:\n",
        "  print(artist)\n",
        "  similar_url = 'https://ws.audioscrobbler.com/2.0/'\n",
        "  payload = {'method': 'artist.getSimilar',\n",
        "           'api_key': api_key,\n",
        "           'artist': artist,\n",
        "           'format': 'json'}\n",
        "  r = requests.get(similar_url, payload)\n",
        "  data = r.json()\n",
        "  for newartist in data['similarartists']['artist']:\n",
        "    new_artists.append(newartist['name'])\n"
      ],
      "metadata": {
        "colab": {
          "base_uri": "https://localhost:8080/"
        },
        "id": "7MrxE6nyqfoN",
        "outputId": "9d90cdbb-197a-4a07-dcae-9010b3864341"
      },
      "execution_count": null,
      "outputs": [
        {
          "output_type": "stream",
          "name": "stdout",
          "text": [
            "Quicksand\n",
            "Say Hi\n",
            "Adrien Younge\n",
            "Sade\n",
            "Iron Maiden\n"
          ]
        }
      ]
    },
    {
      "cell_type": "code",
      "source": [
        "new_artists"
      ],
      "metadata": {
        "colab": {
          "base_uri": "https://localhost:8080/"
        },
        "id": "ORzuFO4x1kDo",
        "outputId": "5e21d08d-1b8e-407a-8f74-5bbe8184a96b"
      },
      "execution_count": null,
      "outputs": [
        {
          "output_type": "execute_result",
          "data": {
            "text/plain": [
              "['Rival Schools',\n",
              " 'Jawbox',\n",
              " 'Helmet',\n",
              " 'Handsome',\n",
              " 'Far',\n",
              " 'Cave In',\n",
              " 'Orange 9mm',\n",
              " 'Sparta',\n",
              " 'Hot Water Music',\n",
              " 'Shiner',\n",
              " 'Failure',\n",
              " 'Snapcase',\n",
              " 'Hum',\n",
              " 'Thursday',\n",
              " 'Seaweed',\n",
              " 'Fiddlehead',\n",
              " 'Glassjaw',\n",
              " 'Hot Snakes',\n",
              " 'Planes Mistaken For Stars',\n",
              " 'Fugazi',\n",
              " 'Refused',\n",
              " 'Drug Church',\n",
              " 'Burning Airlines',\n",
              " 'At the Drive-In',\n",
              " 'Thrice',\n",
              " 'Shudder To Think',\n",
              " 'Girls Against Boys',\n",
              " 'Militarie Gun',\n",
              " 'These Arms Are Snakes',\n",
              " 'Unsane',\n",
              " 'The Nation of Ulysses',\n",
              " 'Lungfish',\n",
              " 'The Bronx',\n",
              " 'Drive Like Jehu',\n",
              " 'Young Widows',\n",
              " 'Poison the Well',\n",
              " 'The Jesus Lizard',\n",
              " 'Texas Is the Reason',\n",
              " 'L.S. Dunes',\n",
              " 'Squirrel Bait',\n",
              " 'Braid',\n",
              " 'Rollins Band',\n",
              " 'Bear vs. Shark',\n",
              " 'Hüsker Dü',\n",
              " 'Sense Field',\n",
              " 'Farside',\n",
              " 'BoySetsFire',\n",
              " 'Balance and Composure',\n",
              " 'Q and Not U',\n",
              " 'Finch',\n",
              " 'Local H',\n",
              " 'Turnstile',\n",
              " 'Sugar',\n",
              " 'METZ',\n",
              " 'Frodus',\n",
              " 'Gouge Away',\n",
              " 'mclusky',\n",
              " '...And You Will Know Us by the Trail of Dead',\n",
              " 'No Knife',\n",
              " 'Hell Is For Heroes',\n",
              " 'Into Another',\n",
              " 'Hoover',\n",
              " 'The Casket Lottery',\n",
              " 'Chavez',\n",
              " 'Hundred Reasons',\n",
              " 'Bitch Magnet',\n",
              " 'Teenage Wrist',\n",
              " 'Small Brown Bike',\n",
              " 'Fucked Up',\n",
              " 'Hopesfall',\n",
              " 'The Hope Conspiracy',\n",
              " 'Unwound',\n",
              " 'Filter',\n",
              " 'Reuben',\n",
              " 'Therapy?',\n",
              " 'NoMeansNo',\n",
              " 'Wipers',\n",
              " 'Cursive',\n",
              " 'Afghan Whigs',\n",
              " 'Moss Icon',\n",
              " 'The Blood Brothers',\n",
              " 'Embrace',\n",
              " 'Narrow Head',\n",
              " 'Rites of Spring',\n",
              " 'Pissed Jeans',\n",
              " 'Million Dead',\n",
              " 'Will Haven',\n",
              " \"Jane's Addiction\",\n",
              " 'Toadies',\n",
              " 'Year of the Rabbit',\n",
              " 'Rodan',\n",
              " 'Faith No More',\n",
              " 'Big Black',\n",
              " 'Touché Amoré',\n",
              " 'dredg',\n",
              " 'Anxious',\n",
              " 'Fear Before The March Of Flames',\n",
              " 'Alexisonfire',\n",
              " 'He Is Legend',\n",
              " 'One Step Closer',\n",
              " 'Say Hi To Your Mom',\n",
              " 'Telekinesis',\n",
              " 'Generationals',\n",
              " 'Ra Ra Riot',\n",
              " 'The Spinto Band',\n",
              " 'Matt & Kim',\n",
              " 'Someone Still Loves You Boris Yeltsin',\n",
              " 'Coconut Records',\n",
              " 'Architecture in Helsinki',\n",
              " 'Tokyo Police Club',\n",
              " 'Handsome Furs',\n",
              " 'Rogue Wave',\n",
              " 'sjowgren',\n",
              " 'Geographer',\n",
              " 'Matt Pond PA',\n",
              " \"Margot & the Nuclear So and So's\",\n",
              " 'Shout Out Louds',\n",
              " 'Islands',\n",
              " 'Voxtrot',\n",
              " 'Freelance Whales',\n",
              " 'Atlas Genius',\n",
              " 'We Were Promised Jetpacks',\n",
              " 'The Morning Benders',\n",
              " 'Clap Your Hands Say Yeah',\n",
              " 'Bishop Allen',\n",
              " '+/-',\n",
              " 'Cloud Cult',\n",
              " 'The Rural Alberta Advantage',\n",
              " 'Mates of State',\n",
              " 'Stars',\n",
              " 'Throw Me The Statue',\n",
              " 'The Airborne Toxic Event',\n",
              " 'The Dig',\n",
              " 'Wolf Parade',\n",
              " 'The Long Winters',\n",
              " 'Starfucker',\n",
              " 'Electric President',\n",
              " 'Born Ruffians',\n",
              " 'Frightened Rabbit',\n",
              " 'Why?',\n",
              " 'Film School',\n",
              " 'The Submarines',\n",
              " 'Menomena',\n",
              " 'The Pains of Being Pure at Heart',\n",
              " 'Peter Bjorn and John',\n",
              " 'The Helio Sequence',\n",
              " 'The Shins',\n",
              " 'Broken Bells',\n",
              " 'Vhs Collection',\n",
              " 'Radical Face',\n",
              " 'Tilly and the Wall',\n",
              " 'Delta Spirit',\n",
              " 'The Polyphonic Spree',\n",
              " 'The Format',\n",
              " 'The Little Ones',\n",
              " 'Headlights',\n",
              " 'The Rosebuds',\n",
              " 'The Apples in Stereo',\n",
              " 'Fruit Bats',\n",
              " 'The Thermals',\n",
              " 'Pedro the Lion',\n",
              " 'Now, Now',\n",
              " 'Local Natives',\n",
              " 'Said the Whale',\n",
              " 'Headphones',\n",
              " 'Reptar',\n",
              " 'Sea Wolf',\n",
              " 'Rilo Kiley',\n",
              " 'Black Kids',\n",
              " 'The Dodos',\n",
              " 'Casiotone for the Painfully Alone',\n",
              " 'Death Cab for Cutie',\n",
              " 'Grandaddy',\n",
              " 'Sir Sly',\n",
              " \"Tapes 'n Tapes\",\n",
              " 'The National',\n",
              " 'Electric Guest',\n",
              " 'Surfer Blood',\n",
              " 'Rubblebucket',\n",
              " 'Oh No Oh My',\n",
              " 'Dr. Dog',\n",
              " 'Wolf Gang',\n",
              " 'Day Wave',\n",
              " 'EL VY',\n",
              " 'The Blow',\n",
              " 'Okkervil River',\n",
              " 'Wye Oak',\n",
              " 'Cold War Kids',\n",
              " 'Torres',\n",
              " 'Darwin Deez',\n",
              " 'Manchester Orchestra',\n",
              " 'French Kicks',\n",
              " 'The Unicorns',\n",
              " 'Kevin Drew',\n",
              " 'Los Campesinos!',\n",
              " 'John Vanderslice',\n",
              " 'Grouplove',\n",
              " 'The Weakerthans',\n",
              " 'ratboy',\n",
              " 'Band of Horses',\n",
              " 'Erykah Badu',\n",
              " 'Solange',\n",
              " 'Anita Baker',\n",
              " 'Sweetback',\n",
              " 'Minnie Riperton',\n",
              " 'Janet Jackson',\n",
              " 'Aaliyah',\n",
              " 'Cleo Sol',\n",
              " 'Amy Winehouse',\n",
              " 'Lauryn Hill',\n",
              " 'Marvin Gaye',\n",
              " 'Patrice Rushen',\n",
              " 'Jill Scott',\n",
              " 'Stevie Wonder',\n",
              " 'Mary J. Blige',\n",
              " 'Chaka Khan',\n",
              " 'Jessie Ware',\n",
              " 'Zhané',\n",
              " 'Amerie',\n",
              " 'Mariah Carey',\n",
              " 'Whitney Houston',\n",
              " 'Ms. Lauryn Hill',\n",
              " \"D'Angelo\",\n",
              " 'Kali Uchis',\n",
              " 'Lisa Stansfield',\n",
              " 'Thee Sacred Souls',\n",
              " 'TLC',\n",
              " 'Aretha Franklin',\n",
              " 'Diana Ross',\n",
              " 'Nina Simone',\n",
              " 'Luther Vandross',\n",
              " 'SWV',\n",
              " 'Delegation',\n",
              " 'Alicia Keys',\n",
              " 'Toni Braxton',\n",
              " 'Jalen Ngonda',\n",
              " 'Brandy',\n",
              " 'Simply Red',\n",
              " 'Tina Turner',\n",
              " 'Kate Bush',\n",
              " 'Corinne Bailey Rae',\n",
              " 'Janelle Monáe',\n",
              " 'Lucy Pearl',\n",
              " 'Michael Jackson',\n",
              " 'Roberta Flack',\n",
              " 'Faith Evans',\n",
              " 'Erika de Casier',\n",
              " 'SZA',\n",
              " 'Adele',\n",
              " 'Prince',\n",
              " 'Floetry',\n",
              " 'Snoh Aalegra',\n",
              " 'Groove Theory',\n",
              " 'Angie Stone',\n",
              " 'George Michael',\n",
              " 'Donny Hathaway',\n",
              " 'Lianne La Havas',\n",
              " 'Jhené Aiko',\n",
              " 'Rochelle Jordan',\n",
              " 'Randy Crawford',\n",
              " 'Natalie Cole',\n",
              " 'Dionne Warwick',\n",
              " 'Patti LaBelle',\n",
              " 'Etta James',\n",
              " 'Tinashe',\n",
              " 'Jorja Smith',\n",
              " 'Raveena',\n",
              " 'India.Arie',\n",
              " 'The Isley Brothers',\n",
              " 'Teddy Pendergrass',\n",
              " 'Bobby Caldwell',\n",
              " 'Ashanti',\n",
              " \"Destiny's Child\",\n",
              " 'Lionel Richie',\n",
              " 'Fugees',\n",
              " 'Roy Ayers Ubiquity',\n",
              " 'Rufus',\n",
              " 'Kool & The Gang',\n",
              " 'Prince & The Revolution',\n",
              " 'Tracy Chapman',\n",
              " 'Victoria Monét',\n",
              " 'The Internet',\n",
              " 'Beyoncé',\n",
              " 'Kelis',\n",
              " 'Norah Jones',\n",
              " 'Amel Larrieux',\n",
              " 'Al Green',\n",
              " 'Teena Marie',\n",
              " 'Seal',\n",
              " 'Tamia',\n",
              " 'George Benson',\n",
              " 'Everything But the Girl',\n",
              " 'En Vogue',\n",
              " 'Earth, Wind & Fire',\n",
              " 'Deniece Williams',\n",
              " 'Summer Walker',\n",
              " 'Res',\n",
              " 'The Jacksons',\n",
              " 'Ari Lennox',\n",
              " 'BLUE IVERSON',\n",
              " 'Bruce Dickinson',\n",
              " 'Judas Priest',\n",
              " 'Dio',\n",
              " 'Helloween',\n",
              " 'Saxon',\n",
              " 'Black Sabbath',\n",
              " 'Ozzy Osbourne',\n",
              " 'Motörhead',\n",
              " 'Blaze Bayley',\n",
              " 'Megadeth',\n",
              " 'Accept',\n",
              " 'Anthrax',\n",
              " 'Metallica',\n",
              " 'Queensrÿche',\n",
              " 'Rainbow',\n",
              " 'Iced Earth',\n",
              " 'Slayer',\n",
              " 'Savatage',\n",
              " 'Manowar',\n",
              " 'Gamma Ray',\n",
              " 'Heaven & Hell',\n",
              " 'Testament',\n",
              " 'Halford',\n",
              " 'Diamond Head',\n",
              " 'Running Wild',\n",
              " 'AC/DC',\n",
              " 'W.A.S.P.',\n",
              " 'King Diamond',\n",
              " 'Mercyful Fate',\n",
              " 'Deep Purple',\n",
              " 'Samson',\n",
              " 'UFO',\n",
              " 'HammerFall',\n",
              " 'Edguy',\n",
              " 'Scorpions',\n",
              " 'Angel Witch',\n",
              " 'U.D.O.',\n",
              " 'Tygers of Pan Tang',\n",
              " 'Skid Row',\n",
              " 'Metal Church',\n",
              " 'Fates Warning',\n",
              " 'Grave Digger',\n",
              " 'Annihilator',\n",
              " 'Twisted Sister',\n",
              " 'Grim Reaper',\n",
              " 'Dokken',\n",
              " 'Enforcer',\n",
              " 'Girlschool',\n",
              " 'Yngwie Malmsteen',\n",
              " 'Alice Cooper',\n",
              " \"Paul Di'anno\",\n",
              " 'Raven',\n",
              " 'Def Leppard',\n",
              " 'Van Halen',\n",
              " 'Warlock',\n",
              " 'Anvil',\n",
              " 'Virgin Steele',\n",
              " 'Primal Fear',\n",
              " 'Thin Lizzy',\n",
              " 'Satan',\n",
              " 'Michael Schenker Group',\n",
              " 'Armored Saint',\n",
              " 'Masterplan',\n",
              " 'Crimson Glory',\n",
              " 'Venom',\n",
              " 'Riot',\n",
              " 'Quiet Riot',\n",
              " \"Guns N' Roses\",\n",
              " 'Black Label Society',\n",
              " 'Mötley Crüe',\n",
              " 'Cirith Ungol',\n",
              " 'Danzig',\n",
              " 'Ratt',\n",
              " 'Alcatrazz',\n",
              " 'Demons & Wizards',\n",
              " 'Demon',\n",
              " 'Volbeat',\n",
              " 'Ghost',\n",
              " 'Axel Rudi Pell',\n",
              " 'Doro',\n",
              " 'Manilla Road',\n",
              " 'Rage',\n",
              " 'Ария',\n",
              " 'Sanctuary',\n",
              " 'Pretty Maids',\n",
              " 'Europe',\n",
              " 'Praying Mantis',\n",
              " 'Omen',\n",
              " 'Krokus',\n",
              " 'Dream Evil',\n",
              " 'Jorn',\n",
              " 'Tokyo Blade',\n",
              " 'Blue Öyster Cult',\n",
              " 'Y&T',\n",
              " 'Sabaton',\n",
              " 'Firewind',\n",
              " 'Fight',\n",
              " 'Loudness',\n",
              " 'Trivium',\n",
              " 'Pantera']"
            ]
          },
          "metadata": {},
          "execution_count": 44
        }
      ]
    },
    {
      "cell_type": "code",
      "source": [
        "\n",
        "similar_url = 'https://ws.audioscrobbler.com/2.0/'\n",
        "payload = {'method': 'artist.getSimilar',\n",
        "           'api_key': api_key,\n",
        "           'artist': artists,\n",
        "           'format': 'json'}\n",
        "r = requests.get(similar_url, payload)\n"
      ],
      "metadata": {
        "id": "2MkJMTDrqflp"
      },
      "execution_count": null,
      "outputs": []
    },
    {
      "cell_type": "code",
      "source": [],
      "metadata": {
        "id": "XCuxvvqAqfjD"
      },
      "execution_count": null,
      "outputs": []
    },
    {
      "cell_type": "code",
      "source": [],
      "metadata": {
        "id": "capYBGBtqfgX"
      },
      "execution_count": null,
      "outputs": []
    },
    {
      "cell_type": "code",
      "source": [],
      "metadata": {
        "id": "IDB2wDHoqfdf"
      },
      "execution_count": null,
      "outputs": []
    },
    {
      "cell_type": "markdown",
      "metadata": {
        "id": "nMO3AoimPSQ7"
      },
      "source": [
        "**Exercise**\n",
        "\n",
        "Use the `album.GetInfo` method [docs](https://www.last.fm/api/show/album.getInfo) to get information about an album of your choosing."
      ]
    },
    {
      "cell_type": "code",
      "execution_count": null,
      "metadata": {
        "id": "0nKiETZCPSQ7"
      },
      "outputs": [],
      "source": []
    },
    {
      "cell_type": "code",
      "execution_count": null,
      "metadata": {
        "id": "bVqohEMlPSRA"
      },
      "outputs": [],
      "source": []
    },
    {
      "cell_type": "code",
      "execution_count": null,
      "metadata": {
        "id": "NbtSf1p_PSRA"
      },
      "outputs": [],
      "source": []
    },
    {
      "cell_type": "markdown",
      "metadata": {
        "id": "u5Qww45EPSRA"
      },
      "source": [
        "#### API Wrappers\n",
        "\n",
        "Often, someone has written a library to wrap the API.  For example, there is an LastFM Python API wrapper:\n",
        "\n",
        "- https://github.com/pylast/pylast\n",
        "\n"
      ]
    },
    {
      "cell_type": "code",
      "source": [],
      "metadata": {
        "id": "weuT3PxiNuho"
      },
      "execution_count": null,
      "outputs": []
    },
    {
      "cell_type": "code",
      "source": [
        "import pylast"
      ],
      "metadata": {
        "id": "fbHx2fwVNlDu"
      },
      "execution_count": null,
      "outputs": []
    },
    {
      "cell_type": "code",
      "source": [
        "# pip install pylast"
      ],
      "metadata": {
        "id": "gz1hesSaNmyc"
      },
      "execution_count": null,
      "outputs": []
    },
    {
      "cell_type": "code",
      "execution_count": null,
      "metadata": {
        "id": "nMN022e0PSRB"
      },
      "outputs": [],
      "source": [
        "network = pylast.LastFMNetwork(\n",
        "    api_key=api_key,\n",
        "    # api_secret=API_SECRET,\n",
        "    # username=username,\n",
        "    # password_hash=password_hash,\n",
        ")"
      ]
    },
    {
      "cell_type": "code",
      "execution_count": null,
      "metadata": {
        "id": "ZNs-_lbBPSRB",
        "colab": {
          "base_uri": "https://localhost:8080/"
        },
        "outputId": "4e1921f4-eca5-472b-ef15-25dff8a26e1b"
      },
      "outputs": [
        {
          "output_type": "execute_result",
          "data": {
            "text/plain": [
              "[TopItem(item=pylast.Track('Sabrina Carpenter', 'Manchild', pylast.LastFMNetwork('ac3a6fe884f08c6887cda87da0424b52', '', '', '', '')), weight=3629335),\n",
              " TopItem(item=pylast.Track('Chappell Roan', 'Good Luck, Babe!', pylast.LastFMNetwork('ac3a6fe884f08c6887cda87da0424b52', '', '', '', '')), weight=45702445),\n",
              " TopItem(item=pylast.Track('Billie Eilish', 'BIRDS OF A FEATHER', pylast.LastFMNetwork('ac3a6fe884f08c6887cda87da0424b52', '', '', '', '')), weight=42664977),\n",
              " TopItem(item=pylast.Track('Charli XCX', 'Party 4 U', pylast.LastFMNetwork('ac3a6fe884f08c6887cda87da0424b52', '', '', '', '')), weight=10763982),\n",
              " TopItem(item=pylast.Track('Sombr', 'back to friends', pylast.LastFMNetwork('ac3a6fe884f08c6887cda87da0424b52', '', '', '', '')), weight=6523361),\n",
              " TopItem(item=pylast.Track('Tyler, the Creator', 'See You Again (feat. Kali Uchis)', pylast.LastFMNetwork('ac3a6fe884f08c6887cda87da0424b52', '', '', '', '')), weight=44648631),\n",
              " TopItem(item=pylast.Track('The Marías', 'No One Noticed', pylast.LastFMNetwork('ac3a6fe884f08c6887cda87da0424b52', '', '', '', '')), weight=17869609),\n",
              " TopItem(item=pylast.Track('Sabrina Carpenter', 'espresso', pylast.LastFMNetwork('ac3a6fe884f08c6887cda87da0424b52', '', '', '', '')), weight=44308594),\n",
              " TopItem(item=pylast.Track('Sombr', 'undressed', pylast.LastFMNetwork('ac3a6fe884f08c6887cda87da0424b52', '', '', '', '')), weight=4583664),\n",
              " TopItem(item=pylast.Track('Radiohead', 'Creep', pylast.LastFMNetwork('ac3a6fe884f08c6887cda87da0424b52', '', '', '', '')), weight=43691261),\n",
              " TopItem(item=pylast.Track('Kendrick Lamar', 'luther (with SZA)', pylast.LastFMNetwork('ac3a6fe884f08c6887cda87da0424b52', '', '', '', '')), weight=18606562),\n",
              " TopItem(item=pylast.Track('Charli XCX', 'Von Dutch', pylast.LastFMNetwork('ac3a6fe884f08c6887cda87da0424b52', '', '', '', '')), weight=22241657),\n",
              " TopItem(item=pylast.Track('Arctic Monkeys', '505', pylast.LastFMNetwork('ac3a6fe884f08c6887cda87da0424b52', '', '', '', '')), weight=44524052),\n",
              " TopItem(item=pylast.Track('Charli XCX', 'guess featuring billie eilish', pylast.LastFMNetwork('ac3a6fe884f08c6887cda87da0424b52', '', '', '', '')), weight=21812519),\n",
              " TopItem(item=pylast.Track('Ravyn Lenae', 'Love Me Not', pylast.LastFMNetwork('ac3a6fe884f08c6887cda87da0424b52', '', '', '', '')), weight=7534726),\n",
              " TopItem(item=pylast.Track('Sabrina Carpenter', 'tAsTe', pylast.LastFMNetwork('ac3a6fe884f08c6887cda87da0424b52', '', '', '', '')), weight=23018688),\n",
              " TopItem(item=pylast.Track('Addison Rae', 'Fame Is A Gun', pylast.LastFMNetwork('ac3a6fe884f08c6887cda87da0424b52', '', '', '', '')), weight=3235631),\n",
              " TopItem(item=pylast.Track('Radiohead', 'Let Down', pylast.LastFMNetwork('ac3a6fe884f08c6887cda87da0424b52', '', '', '', '')), weight=23104398),\n",
              " TopItem(item=pylast.Track('Frank Ocean', 'Pink + White', pylast.LastFMNetwork('ac3a6fe884f08c6887cda87da0424b52', '', '', '', '')), weight=48664333),\n",
              " TopItem(item=pylast.Track('Radiohead', 'No Surprises', pylast.LastFMNetwork('ac3a6fe884f08c6887cda87da0424b52', '', '', '', '')), weight=41431544),\n",
              " TopItem(item=pylast.Track('Addison Rae', 'Diet Pepsi', pylast.LastFMNetwork('ac3a6fe884f08c6887cda87da0424b52', '', '', '', '')), weight=13570447),\n",
              " TopItem(item=pylast.Track('Lady Gaga', 'Abracadabra', pylast.LastFMNetwork('ac3a6fe884f08c6887cda87da0424b52', '', '', '', '')), weight=16865633),\n",
              " TopItem(item=pylast.Track('bôa', 'Duvet', pylast.LastFMNetwork('ac3a6fe884f08c6887cda87da0424b52', '', '', '', '')), weight=30896044),\n",
              " TopItem(item=pylast.Track('Tyler, the Creator', 'Like Him (feat. Lola Young)', pylast.LastFMNetwork('ac3a6fe884f08c6887cda87da0424b52', '', '', '', '')), weight=14472486),\n",
              " TopItem(item=pylast.Track('Katseye', 'GNARLY', pylast.LastFMNetwork('ac3a6fe884f08c6887cda87da0424b52', '', '', '', '')), weight=6454123),\n",
              " TopItem(item=pylast.Track('Billie Eilish', 'Wildflower', pylast.LastFMNetwork('ac3a6fe884f08c6887cda87da0424b52', '', '', '', '')), weight=25249114),\n",
              " TopItem(item=pylast.Track('Gorillaz', 'Feel Good Inc.', pylast.LastFMNetwork('ac3a6fe884f08c6887cda87da0424b52', '', '', '', '')), weight=34483015),\n",
              " TopItem(item=pylast.Track('TV Girl', 'Lovers Rock', pylast.LastFMNetwork('ac3a6fe884f08c6887cda87da0424b52', '', '', '', '')), weight=38510106),\n",
              " TopItem(item=pylast.Track('Tame Impala', 'The Less I Know the Better', pylast.LastFMNetwork('ac3a6fe884f08c6887cda87da0424b52', '', '', '', '')), weight=36851351),\n",
              " TopItem(item=pylast.Track('Lorde', 'Ribs', pylast.LastFMNetwork('ac3a6fe884f08c6887cda87da0424b52', '', '', '', '')), weight=26635512),\n",
              " TopItem(item=pylast.Track('Chappell Roan', 'Pink Pony Club', pylast.LastFMNetwork('ac3a6fe884f08c6887cda87da0424b52', '', '', '', '')), weight=19227219),\n",
              " TopItem(item=pylast.Track('The Goo Goo Dolls', 'Iris', pylast.LastFMNetwork('ac3a6fe884f08c6887cda87da0424b52', '', '', '', '')), weight=17253149),\n",
              " TopItem(item=pylast.Track('Fleetwood Mac', 'Dreams - 2004 Remaster', pylast.LastFMNetwork('ac3a6fe884f08c6887cda87da0424b52', '', '', '', '')), weight=19709268),\n",
              " TopItem(item=pylast.Track('Lady Gaga', 'Die With A Smile', pylast.LastFMNetwork('ac3a6fe884f08c6887cda87da0424b52', '', '', '', '')), weight=23581588),\n",
              " TopItem(item=pylast.Track('Imogen Heap', 'Headlock', pylast.LastFMNetwork('ac3a6fe884f08c6887cda87da0424b52', '', '', '', '')), weight=16690361),\n",
              " TopItem(item=pylast.Track('Sabrina Carpenter', 'Please Please Please', pylast.LastFMNetwork('ac3a6fe884f08c6887cda87da0424b52', '', '', '', '')), weight=28469431),\n",
              " TopItem(item=pylast.Track('Sabrina Carpenter', 'Juno', pylast.LastFMNetwork('ac3a6fe884f08c6887cda87da0424b52', '', '', '', '')), weight=17372266),\n",
              " TopItem(item=pylast.Track('The Neighbourhood', 'Sweater Weather', pylast.LastFMNetwork('ac3a6fe884f08c6887cda87da0424b52', '', '', '', '')), weight=39568315),\n",
              " TopItem(item=pylast.Track('Charli XCX', 'Girl, so confusing featuring lorde', pylast.LastFMNetwork('ac3a6fe884f08c6887cda87da0424b52', '', '', '', '')), weight=9642308),\n",
              " TopItem(item=pylast.Track('Sabrina Carpenter', 'Bed Chem', pylast.LastFMNetwork('ac3a6fe884f08c6887cda87da0424b52', '', '', '', '')), weight=18696268),\n",
              " TopItem(item=pylast.Track('pinkpantheress', 'illegal', pylast.LastFMNetwork('ac3a6fe884f08c6887cda87da0424b52', '', '', '', '')), weight=2591821),\n",
              " TopItem(item=pylast.Track('Sabrina Carpenter', 'Busy Woman', pylast.LastFMNetwork('ac3a6fe884f08c6887cda87da0424b52', '', '', '', '')), weight=8469472),\n",
              " TopItem(item=pylast.Track('The Weeknd', 'Timeless (Feat Playboi Carti)', pylast.LastFMNetwork('ac3a6fe884f08c6887cda87da0424b52', '', '', '', '')), weight=5509696),\n",
              " TopItem(item=pylast.Track('Kendrick Lamar', 'All The Stars (with SZA)', pylast.LastFMNetwork('ac3a6fe884f08c6887cda87da0424b52', '', '', '', '')), weight=24954665),\n",
              " TopItem(item=pylast.Track('Tyler, the Creator', 'Are We Still Friends?', pylast.LastFMNetwork('ac3a6fe884f08c6887cda87da0424b52', '', '', '', '')), weight=24167692),\n",
              " TopItem(item=pylast.Track('Chappell Roan', 'HOT TO GO!', pylast.LastFMNetwork('ac3a6fe884f08c6887cda87da0424b52', '', '', '', '')), weight=26098515),\n",
              " TopItem(item=pylast.Track('Charli XCX', '360', pylast.LastFMNetwork('ac3a6fe884f08c6887cda87da0424b52', '', '', '', '')), weight=26667442),\n",
              " TopItem(item=pylast.Track('Lady Gaga', 'Poker Face', pylast.LastFMNetwork('ac3a6fe884f08c6887cda87da0424b52', '', '', '', '')), weight=29835804),\n",
              " TopItem(item=pylast.Track('Clairo', 'Juna', pylast.LastFMNetwork('ac3a6fe884f08c6887cda87da0424b52', '', '', '', '')), weight=14160171),\n",
              " TopItem(item=pylast.Track('Clairo', 'Bags', pylast.LastFMNetwork('ac3a6fe884f08c6887cda87da0424b52', '', '', '', '')), weight=26444681)]"
            ]
          },
          "metadata": {},
          "execution_count": 51
        }
      ],
      "source": [
        "network.get_top_tracks()"
      ]
    },
    {
      "cell_type": "code",
      "execution_count": null,
      "metadata": {
        "id": "mrqwtQpZPSRB"
      },
      "outputs": [],
      "source": [
        "search_text = 'pizza'\n",
        "token = 'pk.eyJ1Ijoia29laGxlcmoiLCJhIjoiY21jNTFtYTI5MG1tczJrb2xqZDRia2Z4OCJ9.HlKjtrVeZouvhNfRSkVxgg'\n",
        "geo_url = f'https://api.mapbox.com/search/geocode/v6/forward?q={search_text}&access_token={token}'"
      ]
    },
    {
      "cell_type": "code",
      "source": [
        "base_url = 'https://api.mapbox.com/search/geocode/v6/forward'\n",
        "data = {'q': search_text,\n",
        "        'access_token': token,\n",
        "        'country': 'CA'}"
      ],
      "metadata": {
        "id": "aCfYtvABQEVJ"
      },
      "execution_count": null,
      "outputs": []
    },
    {
      "cell_type": "code",
      "execution_count": null,
      "metadata": {
        "id": "yxksEyYhPSRB"
      },
      "outputs": [],
      "source": [
        "r = requests.get(base_url, data)"
      ]
    },
    {
      "cell_type": "code",
      "execution_count": null,
      "metadata": {
        "id": "rO26dwFePSRB",
        "colab": {
          "base_uri": "https://localhost:8080/"
        },
        "outputId": "a8757c89-46ed-4808-ca12-fe5f9436f7a6"
      },
      "outputs": [
        {
          "output_type": "execute_result",
          "data": {
            "text/plain": [
              "<Response [200]>"
            ]
          },
          "metadata": {},
          "execution_count": 65
        }
      ],
      "source": [
        "r"
      ]
    },
    {
      "cell_type": "code",
      "execution_count": null,
      "metadata": {
        "id": "xqazr1kAPSRB",
        "colab": {
          "base_uri": "https://localhost:8080/"
        },
        "outputId": "e812fa6e-eae5-4b96-945a-f08022eda8de"
      },
      "outputs": [
        {
          "output_type": "execute_result",
          "data": {
            "text/plain": [
              "{'type': 'FeatureCollection',\n",
              " 'features': [{'type': 'Feature',\n",
              "   'id': 'dXJuOm1ieGFkci1zdHI6YjgxYjBhODEtOTk0Yi00OTFiLThhY2YtNTIxM2ZjNTg5YjE0',\n",
              "   'geometry': {'type': 'Point', 'coordinates': [-75.731137, 45.274202]},\n",
              "   'properties': {'mapbox_id': 'dXJuOm1ieGFkci1zdHI6YjgxYjBhODEtOTk0Yi00OTFiLThhY2YtNTIxM2ZjNTg5YjE0',\n",
              "    'feature_type': 'street',\n",
              "    'full_address': 'Piazza Circle, Nepean, Ontario K2J 5S2, Canada',\n",
              "    'name': 'Piazza Circle',\n",
              "    'name_preferred': 'Piazza Circle',\n",
              "    'coordinates': {'longitude': -75.731137, 'latitude': 45.274202},\n",
              "    'place_formatted': 'Nepean, Ontario K2J 5S2, Canada',\n",
              "    'context': {'street': {'mapbox_id': 'dXJuOm1ieGFkci1zdHI6YjgxYjBhODEtOTk0Yi00OTFiLThhY2YtNTIxM2ZjNTg5YjE0',\n",
              "      'name': 'Piazza Circle'},\n",
              "     'neighborhood': {'mapbox_id': 'dXJuOm1ieHBsYzpBVi9zSnc',\n",
              "      'name': \"Stonebridge - Halfmoon Bay - Heart's Desire\",\n",
              "      'wikidata_id': 'Q24190635'},\n",
              "     'postcode': {'mapbox_id': 'postcode.4327914725541682', 'name': 'K2J 5S2'},\n",
              "     'place': {'mapbox_id': 'dXJuOm1ieHBsYzpCcU9vSnc',\n",
              "      'name': 'Nepean',\n",
              "      'wikidata_id': 'Q1639083'},\n",
              "     'region': {'mapbox_id': 'dXJuOm1ieHBsYzpSQ2M',\n",
              "      'name': 'Ontario',\n",
              "      'wikidata_id': 'Q1904',\n",
              "      'region_code': 'ON',\n",
              "      'region_code_full': 'CA-ON'},\n",
              "     'country': {'mapbox_id': 'dXJuOm1ieHBsYzpJaWM',\n",
              "      'name': 'Canada',\n",
              "      'wikidata_id': 'Q16',\n",
              "      'country_code': 'CA',\n",
              "      'country_code_alpha_3': 'CAN'}}}},\n",
              "  {'type': 'Feature',\n",
              "   'id': 'dXJuOm1ieGFkci1zdHI6NWQxMDFlN2ItN2IwMi00MTVkLTliMTctOTQxNTcwMjI3NmVi',\n",
              "   'geometry': {'type': 'Point', 'coordinates': [-79.619715, 43.794849]},\n",
              "   'properties': {'mapbox_id': 'dXJuOm1ieGFkci1zdHI6NWQxMDFlN2ItN2IwMi00MTVkLTliMTctOTQxNTcwMjI3NmVi',\n",
              "    'feature_type': 'street',\n",
              "    'full_address': 'Piazza Crescent, Vaughan, Ontario L4H 2C7, Canada',\n",
              "    'name': 'Piazza Crescent',\n",
              "    'name_preferred': 'Piazza Crescent',\n",
              "    'coordinates': {'longitude': -79.619715, 'latitude': 43.794849},\n",
              "    'place_formatted': 'Vaughan, Ontario L4H 2C7, Canada',\n",
              "    'context': {'street': {'mapbox_id': 'dXJuOm1ieGFkci1zdHI6NWQxMDFlN2ItN2IwMi00MTVkLTliMTctOTQxNTcwMjI3NmVi',\n",
              "      'name': 'Piazza Crescent'},\n",
              "     'postcode': {'mapbox_id': 'postcode.6041161445985124', 'name': 'L4H 2C7'},\n",
              "     'locality': {'mapbox_id': 'dXJuOm1ieHBsYzpDcWtxSnc',\n",
              "      'name': 'Woodbridge',\n",
              "      'wikidata_id': 'Q2593110'},\n",
              "     'place': {'mapbox_id': 'dXJuOm1ieHBsYzpCUFNvSnc',\n",
              "      'name': 'Vaughan',\n",
              "      'wikidata_id': 'Q44013'},\n",
              "     'district': {'mapbox_id': 'dXJuOm1ieHBsYzpGSVlu',\n",
              "      'name': 'Regional Municipality of York',\n",
              "      'wikidata_id': 'Q18458'},\n",
              "     'region': {'mapbox_id': 'dXJuOm1ieHBsYzpSQ2M',\n",
              "      'name': 'Ontario',\n",
              "      'wikidata_id': 'Q1904',\n",
              "      'region_code': 'ON',\n",
              "      'region_code_full': 'CA-ON'},\n",
              "     'country': {'mapbox_id': 'dXJuOm1ieHBsYzpJaWM',\n",
              "      'name': 'Canada',\n",
              "      'wikidata_id': 'Q16',\n",
              "      'country_code': 'CA',\n",
              "      'country_code_alpha_3': 'CAN'}}}},\n",
              "  {'type': 'Feature',\n",
              "   'id': 'dXJuOm1ieGFkci1zdHI6NWQ5OTcyNGMtNjM1My00ODI2LWI1ZTMtN2VkNDY5ZDFkYTg2',\n",
              "   'geometry': {'type': 'Point', 'coordinates': [-79.810113, 44.162599]},\n",
              "   'properties': {'mapbox_id': 'dXJuOm1ieGFkci1zdHI6NWQ5OTcyNGMtNjM1My00ODI2LWI1ZTMtN2VkNDY5ZDFkYTg2',\n",
              "    'feature_type': 'street',\n",
              "    'full_address': 'Piazza Verde, Alliston, Ontario L9R 1Y9, Canada',\n",
              "    'name': 'Piazza Verde Crt',\n",
              "    'name_preferred': 'Piazza Verde',\n",
              "    'coordinates': {'longitude': -79.810113, 'latitude': 44.162599},\n",
              "    'place_formatted': 'Alliston, Ontario L9R 1Y9, Canada',\n",
              "    'context': {'street': {'mapbox_id': 'dXJuOm1ieGFkci1zdHI6NWQ5OTcyNGMtNjM1My00ODI2LWI1ZTMtN2VkNDY5ZDFkYTg2',\n",
              "      'name': 'Piazza Verde'},\n",
              "     'postcode': {'mapbox_id': 'postcode.3735319066207204', 'name': 'L9R 1Y9'},\n",
              "     'place': {'mapbox_id': 'dXJuOm1ieHBsYzpFeWdu',\n",
              "      'name': 'Alliston',\n",
              "      'wikidata_id': 'Q1490411'},\n",
              "     'district': {'mapbox_id': 'dXJuOm1ieHBsYzpGaVlu',\n",
              "      'name': 'Simcoe County',\n",
              "      'wikidata_id': 'Q1437636'},\n",
              "     'region': {'mapbox_id': 'dXJuOm1ieHBsYzpSQ2M',\n",
              "      'name': 'Ontario',\n",
              "      'wikidata_id': 'Q1904',\n",
              "      'region_code': 'ON',\n",
              "      'region_code_full': 'CA-ON'},\n",
              "     'country': {'mapbox_id': 'dXJuOm1ieHBsYzpJaWM',\n",
              "      'name': 'Canada',\n",
              "      'wikidata_id': 'Q16',\n",
              "      'country_code': 'CA',\n",
              "      'country_code_alpha_3': 'CAN'}}}},\n",
              "  {'type': 'Feature',\n",
              "   'id': 'dXJuOm1ieGFkci1zdHI6N2FkNWZjOTQtYWIwNC00MzA0LTk1ZDktYmZkNzMyYTY1MmQ0',\n",
              "   'geometry': {'type': 'Point', 'coordinates': [-83.030991, 42.281631]},\n",
              "   'properties': {'mapbox_id': 'dXJuOm1ieGFkci1zdHI6N2FkNWZjOTQtYWIwNC00MzA0LTk1ZDktYmZkNzMyYTY1MmQ0',\n",
              "    'feature_type': 'street',\n",
              "    'full_address': 'Piazza Street, Windsor, Ontario N9E 4Y6, Canada',\n",
              "    'name': 'Piazza Street',\n",
              "    'name_preferred': 'Piazza Street',\n",
              "    'coordinates': {'longitude': -83.030991, 'latitude': 42.281631},\n",
              "    'place_formatted': 'Windsor, Ontario N9E 4Y6, Canada',\n",
              "    'context': {'street': {'mapbox_id': 'dXJuOm1ieGFkci1zdHI6N2FkNWZjOTQtYWIwNC00MzA0LTk1ZDktYmZkNzMyYTY1MmQ0',\n",
              "      'name': 'Piazza Street'},\n",
              "     'neighborhood': {'mapbox_id': 'dXJuOm1ieHBsYzpBVkJzSnc',\n",
              "      'name': 'South Cameron'},\n",
              "     'postcode': {'mapbox_id': 'postcode.8427627675687438', 'name': 'N9E 4Y6'},\n",
              "     'place': {'mapbox_id': 'dXJuOm1ieHBsYzpCVFpJSnc',\n",
              "      'name': 'Windsor',\n",
              "      'wikidata_id': 'Q182625'},\n",
              "     'district': {'mapbox_id': 'dXJuOm1ieHBsYzpCWVlu',\n",
              "      'name': 'Essex County',\n",
              "      'wikidata_id': 'Q953088'},\n",
              "     'region': {'mapbox_id': 'dXJuOm1ieHBsYzpSQ2M',\n",
              "      'name': 'Ontario',\n",
              "      'wikidata_id': 'Q1904',\n",
              "      'region_code': 'ON',\n",
              "      'region_code_full': 'CA-ON'},\n",
              "     'country': {'mapbox_id': 'dXJuOm1ieHBsYzpJaWM',\n",
              "      'name': 'Canada',\n",
              "      'wikidata_id': 'Q16',\n",
              "      'country_code': 'CA',\n",
              "      'country_code_alpha_3': 'CAN'}}}}],\n",
              " 'attribution': 'NOTICE: © 2025 Mapbox and its suppliers. All rights reserved. Use of this data is subject to the Mapbox Terms of Service (https://www.mapbox.com/about/maps/). This response and the information it contains may not be retained.'}"
            ]
          },
          "metadata": {},
          "execution_count": 66
        }
      ],
      "source": [
        "r.json()"
      ]
    },
    {
      "cell_type": "code",
      "execution_count": null,
      "metadata": {
        "id": "6NkFuEsIPSRB"
      },
      "outputs": [],
      "source": [
        "d"
      ]
    },
    {
      "cell_type": "markdown",
      "metadata": {
        "id": "_Ii_Oy74PSRB"
      },
      "source": [
        "#### PROBLEM\n",
        "\n",
        "The LastFM API contains data about musical artists and releases.  Head over to the API docs and sign up for an API Key [here](https://www.last.fm/api/authentication).  Your objective is to use the `artist.getSimilar` endpoint [docs](https://www.last.fm/api/show/artist.getSimilar) to construct a list of artists similar to your five favorite artists.  To begin, you and a partner should fill in a list of five similar artists below, and use the API to extract a list of similar artists.  "
      ]
    },
    {
      "cell_type": "code",
      "execution_count": null,
      "metadata": {
        "id": "pJUUEEoUPSRB"
      },
      "outputs": [],
      "source": [
        "five_favorites = []\n",
        "new_artists = []"
      ]
    },
    {
      "cell_type": "code",
      "execution_count": null,
      "metadata": {
        "id": "Aq-U1dDJPSRB"
      },
      "outputs": [],
      "source": [
        "for favorite in five_favorites:\n",
        "    #construct the url\n",
        "\n",
        "    #make request of url\n",
        "\n",
        "    #turn into json\n",
        "\n",
        "    #extract similar artists\n",
        "\n",
        "    #add to list of new artists\n"
      ]
    }
  ],
  "metadata": {
    "anaconda-cloud": {},
    "hide_input": false,
    "kernelspec": {
      "display_name": "Python 3 (ipykernel)",
      "language": "python",
      "name": "python3"
    },
    "language_info": {
      "codemirror_mode": {
        "name": "ipython",
        "version": 3
      },
      "file_extension": ".py",
      "mimetype": "text/x-python",
      "name": "python",
      "nbconvert_exporter": "python",
      "pygments_lexer": "ipython3",
      "version": "3.12.0"
    },
    "colab": {
      "provenance": [],
      "include_colab_link": true
    }
  },
  "nbformat": 4,
  "nbformat_minor": 0
}