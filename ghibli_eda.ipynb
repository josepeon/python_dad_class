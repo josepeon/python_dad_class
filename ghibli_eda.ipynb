{
  "nbformat": 4,
  "nbformat_minor": 0,
  "metadata": {
    "colab": {
      "provenance": [],
      "authorship_tag": "ABX9TyOGLuJTGeV/blg3cXxgW0GM",
      "include_colab_link": true
    },
    "kernelspec": {
      "name": "python3",
      "display_name": "Python 3"
    },
    "language_info": {
      "name": "python"
    }
  },
  "cells": [
    {
      "cell_type": "markdown",
      "metadata": {
        "id": "view-in-github",
        "colab_type": "text"
      },
      "source": [
        "<a href=\"https://colab.research.google.com/github/josepeon/python_dad_class/blob/main/ghibli_eda.ipynb\" target=\"_parent\"><img src=\"https://colab.research.google.com/assets/colab-badge.svg\" alt=\"Open In Colab\"/></a>"
      ]
    },
    {
      "cell_type": "markdown",
      "source": [
        "#Ghibli Exploratory Data Analysis\n",
        "Analysis of Studio Ghibli characters and movies using the Ghibli API"
      ],
      "metadata": {
        "id": "9Kp_WtQmzNiK"
      }
    },
    {
      "cell_type": "code",
      "execution_count": 2,
      "metadata": {
        "id": "fBZq0qI6yUEX"
      },
      "outputs": [],
      "source": [
        "import pandas as pd\n",
        "import numpy as np\n",
        "import matplotlib.pyplot as plt\n",
        "import requests, time\n",
        "\n",
        "pd.set_option(\"display.max_columns\", 50)"
      ]
    },
    {
      "cell_type": "code",
      "source": [
        "api = \"https://ghibliapi.vercel.app\"\n",
        "\n",
        "def get(feature):\n",
        "    r = requests.get(f\"{api}/{feature}\")\n",
        "    return r.json()\n",
        "\n",
        "films_raw  = get(\"films\")\n",
        "people_raw = get(\"people\")\n",
        "\n",
        "len(films_raw)\n",
        "len(people_raw)"
      ],
      "metadata": {
        "colab": {
          "base_uri": "https://localhost:8080/"
        },
        "id": "4-15zutEzmQd",
        "outputId": "cbb7e642-463f-4254-dd2f-c0f3cac7f30b"
      },
      "execution_count": 10,
      "outputs": [
        {
          "output_type": "execute_result",
          "data": {
            "text/plain": [
              "57"
            ]
          },
          "metadata": {},
          "execution_count": 10
        }
      ]
    },
    {
      "cell_type": "code",
      "source": [],
      "metadata": {
        "id": "e0xzrQWM0Aad"
      },
      "execution_count": null,
      "outputs": []
    }
  ]
}