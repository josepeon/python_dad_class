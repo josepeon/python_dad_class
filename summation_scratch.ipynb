{
  "nbformat": 4,
  "nbformat_minor": 0,
  "metadata": {
    "colab": {
      "provenance": []
    },
    "kernelspec": {
      "name": "python3",
      "display_name": "Python 3"
    },
    "language_info": {
      "name": "python"
    }
  },
  "cells": [
    {
      "cell_type": "markdown",
      "source": [
        "### Summations with Python\n",
        "\n",
        "Below we use the \"SymPy\" library to compute summations."
      ],
      "metadata": {
        "id": "LfXXIP7zNL7D"
      }
    },
    {
      "cell_type": "markdown",
      "source": [
        "Example 1:\n",
        "\n",
        "```\n",
        "$$\\sum_{i = 1}^n i$$\n",
        "```\n",
        "\n",
        "$$\\sum_{i = 1}^n i$$"
      ],
      "metadata": {
        "id": "qmhDbTftNYO-"
      }
    },
    {
      "cell_type": "code",
      "source": [
        "1**2 + 2**2 + 3**2 + 4**2 + 5**2"
      ],
      "metadata": {
        "colab": {
          "base_uri": "https://localhost:8080/"
        },
        "id": "C48UHPAMOUn1",
        "outputId": "8eb78bcf-c95a-49de-dbfb-8e14c648bd84"
      },
      "execution_count": 2,
      "outputs": [
        {
          "output_type": "execute_result",
          "data": {
            "text/plain": [
              "55"
            ]
          },
          "metadata": {},
          "execution_count": 2
        }
      ]
    },
    {
      "cell_type": "code",
      "source": [
        "import sympy as sy"
      ],
      "metadata": {
        "id": "J-hSU157Phex"
      },
      "execution_count": 3,
      "outputs": []
    },
    {
      "cell_type": "code",
      "source": [
        "#Create the symbols for i and n\n",
        "i, n = sy.symbols(\"i, n\")"
      ],
      "metadata": {
        "id": "oaTl3XvaPmXo"
      },
      "execution_count": 7,
      "outputs": []
    },
    {
      "cell_type": "code",
      "source": [
        "i"
      ],
      "metadata": {
        "colab": {
          "base_uri": "https://localhost:8080/",
          "height": 39
        },
        "id": "CrRf3sedQFcK",
        "outputId": "31b37431-2b51-4c2c-f2aa-448214694e5c"
      },
      "execution_count": 8,
      "outputs": [
        {
          "output_type": "execute_result",
          "data": {
            "text/plain": [
              "i"
            ],
            "text/latex": "$\\displaystyle i$"
          },
          "metadata": {},
          "execution_count": 8
        }
      ]
    },
    {
      "cell_type": "code",
      "source": [
        "n"
      ],
      "metadata": {
        "colab": {
          "base_uri": "https://localhost:8080/",
          "height": 39
        },
        "id": "WibHPHw6QNUu",
        "outputId": "f2888ce7-7db1-4f51-a196-a95d9eba89a7"
      },
      "execution_count": 9,
      "outputs": [
        {
          "output_type": "execute_result",
          "data": {
            "text/plain": [
              "n"
            ],
            "text/latex": "$\\displaystyle n$"
          },
          "metadata": {},
          "execution_count": 9
        }
      ]
    },
    {
      "cell_type": "code",
      "source": [
        "sy.summation(i, (i, 1, n))"
      ],
      "metadata": {
        "colab": {
          "base_uri": "https://localhost:8080/",
          "height": 54
        },
        "id": "LwAJTh9GQN0F",
        "outputId": "a1432c25-f5e4-4d2e-bb76-b5916ff58016"
      },
      "execution_count": 11,
      "outputs": [
        {
          "output_type": "execute_result",
          "data": {
            "text/plain": [
              "n**2/2 + n/2"
            ],
            "text/latex": "$\\displaystyle \\frac{n^{2}}{2} + \\frac{n}{2}$"
          },
          "metadata": {},
          "execution_count": 11
        }
      ]
    },
    {
      "cell_type": "code",
      "source": [
        "sy.summation(i**2, (i, 1, n))"
      ],
      "metadata": {
        "colab": {
          "base_uri": "https://localhost:8080/",
          "height": 54
        },
        "id": "L9j6R6CtRJBx",
        "outputId": "e5621fff-6856-494a-d952-7447ffbdb71e"
      },
      "execution_count": 12,
      "outputs": [
        {
          "output_type": "execute_result",
          "data": {
            "text/plain": [
              "n**3/3 + n**2/2 + n/6"
            ],
            "text/latex": "$\\displaystyle \\frac{n^{3}}{3} + \\frac{n^{2}}{2} + \\frac{n}{6}$"
          },
          "metadata": {},
          "execution_count": 12
        }
      ]
    },
    {
      "cell_type": "code",
      "source": [
        "sy.summation(i**3, (i, 1, n))"
      ],
      "metadata": {
        "colab": {
          "base_uri": "https://localhost:8080/",
          "height": 54
        },
        "id": "731jDyy_RkdM",
        "outputId": "be565fb7-a5e9-4c1e-8dbe-4c01092682dc"
      },
      "execution_count": 13,
      "outputs": [
        {
          "output_type": "execute_result",
          "data": {
            "text/plain": [
              "n**4/4 + n**3/2 + n**2/4"
            ],
            "text/latex": "$\\displaystyle \\frac{n^{4}}{4} + \\frac{n^{3}}{2} + \\frac{n^{2}}{4}$"
          },
          "metadata": {},
          "execution_count": 13
        }
      ]
    },
    {
      "cell_type": "code",
      "source": [
        "sy.summation(i**4, (i, 1, n))"
      ],
      "metadata": {
        "colab": {
          "base_uri": "https://localhost:8080/",
          "height": 54
        },
        "id": "HSGLbzUXRoYZ",
        "outputId": "dccd44a2-a54b-4b9e-867d-4977c0e17d01"
      },
      "execution_count": 14,
      "outputs": [
        {
          "output_type": "execute_result",
          "data": {
            "text/plain": [
              "n**5/5 + n**4/2 + n**3/3 - n/30"
            ],
            "text/latex": "$\\displaystyle \\frac{n^{5}}{5} + \\frac{n^{4}}{2} + \\frac{n^{3}}{3} - \\frac{n}{30}$"
          },
          "metadata": {},
          "execution_count": 14
        }
      ]
    },
    {
      "cell_type": "markdown",
      "source": [
        "###Riemann Summations"
      ],
      "metadata": {
        "id": "y8c_EXdKUlbV"
      }
    },
    {
      "cell_type": "code",
      "source": [
        "import numpy as np"
      ],
      "metadata": {
        "id": "lZJeYoV4Upfg"
      },
      "execution_count": 15,
      "outputs": []
    },
    {
      "cell_type": "code",
      "source": [
        "def f(x): return x**2"
      ],
      "metadata": {
        "id": "o4yi1tYMUtOi"
      },
      "execution_count": 20,
      "outputs": []
    },
    {
      "cell_type": "code",
      "source": [
        "f(2)"
      ],
      "metadata": {
        "colab": {
          "base_uri": "https://localhost:8080/"
        },
        "id": "_fsL6WAbVCJd",
        "outputId": "8c4a42d7-f788-435d-d56e-77a21c4b2ae4"
      },
      "execution_count": 21,
      "outputs": [
        {
          "output_type": "execute_result",
          "data": {
            "text/plain": [
              "4"
            ]
          },
          "metadata": {},
          "execution_count": 21
        }
      ]
    },
    {
      "cell_type": "code",
      "source": [
        "x = np.arange(1.5, 4.5, 0.5)"
      ],
      "metadata": {
        "id": "DrRq2ylFVEiG"
      },
      "execution_count": 22,
      "outputs": []
    },
    {
      "cell_type": "code",
      "source": [
        "f(x)"
      ],
      "metadata": {
        "colab": {
          "base_uri": "https://localhost:8080/"
        },
        "id": "mXRGPrZwVd6Y",
        "outputId": "b9260b6a-4b37-47af-c967-011d6b95b439"
      },
      "execution_count": 23,
      "outputs": [
        {
          "output_type": "execute_result",
          "data": {
            "text/plain": [
              "array([ 2.25,  4.  ,  6.25,  9.  , 12.25, 16.  ])"
            ]
          },
          "metadata": {},
          "execution_count": 23
        }
      ]
    },
    {
      "cell_type": "code",
      "source": [
        "sum(f(x))*.5"
      ],
      "metadata": {
        "colab": {
          "base_uri": "https://localhost:8080/"
        },
        "id": "z6uA44EdVmA3",
        "outputId": "5df07745-2c5a-435f-f023-e565a721714f"
      },
      "execution_count": 26,
      "outputs": [
        {
          "output_type": "execute_result",
          "data": {
            "text/plain": [
              "np.float64(24.875)"
            ]
          },
          "metadata": {},
          "execution_count": 26
        }
      ]
    },
    {
      "cell_type": "code",
      "source": [
        "x60 = np.arange(1.05, 4.05, .05)"
      ],
      "metadata": {
        "id": "XDkr40XmWOAN"
      },
      "execution_count": 27,
      "outputs": []
    },
    {
      "cell_type": "code",
      "source": [
        "print(x60)"
      ],
      "metadata": {
        "colab": {
          "base_uri": "https://localhost:8080/"
        },
        "id": "lcWh-KyeW3e-",
        "outputId": "86555259-6686-4096-8181-9c8c568bac22"
      },
      "execution_count": 28,
      "outputs": [
        {
          "output_type": "stream",
          "name": "stdout",
          "text": [
            "[1.5  1.55 1.6  1.65 1.7  1.75 1.8  1.85 1.9  1.95 2.   2.05 2.1  2.15\n",
            " 2.2  2.25 2.3  2.35 2.4  2.45 2.5  2.55 2.6  2.65 2.7  2.75 2.8  2.85\n",
            " 2.9  2.95 3.   3.05 3.1  3.15 3.2  3.25 3.3  3.35 3.4  3.45 3.5  3.55\n",
            " 3.6  3.65 3.7  3.75 3.8  3.85 3.9  3.95 4.  ]\n"
          ]
        }
      ]
    },
    {
      "cell_type": "code",
      "source": [
        "sum(f(x60))*.05"
      ],
      "metadata": {
        "colab": {
          "base_uri": "https://localhost:8080/"
        },
        "id": "NYgBeCTqW5yb",
        "outputId": "b1ffeaea-9d06-41e1-a44c-1948a845b1eb"
      },
      "execution_count": 30,
      "outputs": [
        {
          "output_type": "execute_result",
          "data": {
            "text/plain": [
              "np.float64(20.665625000000013)"
            ]
          },
          "metadata": {},
          "execution_count": 30
        }
      ]
    },
    {
      "cell_type": "code",
      "source": [
        "x600 = np.arange(1.005, 4.005, .005)\n",
        "sum(f(x600))*.005"
      ],
      "metadata": {
        "colab": {
          "base_uri": "https://localhost:8080/"
        },
        "id": "gB6VLRUhW_OP",
        "outputId": "75331530-a36c-459c-b201-e02337add846"
      },
      "execution_count": 31,
      "outputs": [
        {
          "output_type": "execute_result",
          "data": {
            "text/plain": [
              "np.float64(21.03751249999943)"
            ]
          },
          "metadata": {},
          "execution_count": 31
        }
      ]
    },
    {
      "cell_type": "code",
      "source": [
        "rsum = 3/n*sy.summation((1 + (3*i) /n)**2, (i, 1, 4))"
      ],
      "metadata": {
        "id": "DM0vX937Xu6z"
      },
      "execution_count": 34,
      "outputs": []
    },
    {
      "cell_type": "code",
      "source": [
        "sy.simplify(rsum)"
      ],
      "metadata": {
        "colab": {
          "base_uri": "https://localhost:8080/",
          "height": 56
        },
        "id": "MTlm_-hJZaAm",
        "outputId": "371c68c8-db77-4081-e378-1419b2e67a80"
      },
      "execution_count": 35,
      "outputs": [
        {
          "output_type": "execute_result",
          "data": {
            "text/plain": [
              "6*(2*n**2 + 30*n + 135)/n**3"
            ],
            "text/latex": "$\\displaystyle \\frac{6 \\left(2 n^{2} + 30 n + 135\\right)}{n^{3}}$"
          },
          "metadata": {},
          "execution_count": 35
        }
      ]
    },
    {
      "cell_type": "code",
      "source": [],
      "metadata": {
        "id": "-Ffz-GBFZsGg"
      },
      "execution_count": null,
      "outputs": []
    }
  ]
}