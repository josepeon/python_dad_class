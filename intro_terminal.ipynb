{
 "cells": [
  {
   "cell_type": "markdown",
   "metadata": {},
   "source": [
    "# Installations and Introduction to your Terminal \n",
    "\n",
    "**OBJECTIVES**\n",
    "\n",
    "- Navigate files and directories using your terminal\n",
    "- Create, alter, and delete files using your terminal\n",
    "- Display basic information about files using bash commands\n",
    "- Use loops to execute programs from the terminal and store output\n",
    "\n",
    "\n",
    "![](images/Gnu-bash-logo.png)"
   ]
  },
  {
   "cell_type": "markdown",
   "metadata": {},
   "source": [
    "**REQUIREMENTS**\n",
    "- Jupyter notebooks and Jupyter Lab for use locally: [Anaconda](https://www.anaconda.com/download)\n",
    "- VS Code Text Editor: [VSCode](https://code.visualstudio.com/download)\n",
    "- Terminal application with `git` installed.  For windows users, the easiest approach is to download and install **[git for windows](https://gitforwindows.org/)**.\n",
    "  "
   ]
  },
  {
   "cell_type": "markdown",
   "metadata": {},
   "source": [
    "### Navigating your file system\n",
    "\n"
   ]
  },
  {
   "cell_type": "markdown",
   "metadata": {},
   "source": [
    "- Download and unzip the data for this lesson here: [shell-lesson-data](https://swcarpentry.github.io/shell-novice/data/shell-lesson-data.zip)\n",
    "- Create a new directory on your desktop named `shell-lesson-data`. "
   ]
  },
  {
   "cell_type": "markdown",
   "metadata": {},
   "source": [
    "#### Basic Filesystem\n",
    "\n",
    "The filesystem looks like an upside down tree. The topmost directory is the root directory that holds everything else. We refer to it using a slash character, `/`, on its own; this character is the leading slash in `/Users/nelle`.\n",
    "\n",
    "![](images/filesystem.png)"
   ]
  },
  {
   "cell_type": "markdown",
   "metadata": {},
   "source": [
    "The user imhotep’s files are stored in `/Users/imhotep`, user larry’s in `/Users/larry`, and Nelle’s in `/Users/nelle`. Nelle is the user in our examples here; therefore, we get `/Users/nelle` as our home directory. Typically, when you open a new command prompt, you will be in your home directory to start.\n",
    "\n",
    "![](images/home-directories.png)"
   ]
  },
  {
   "cell_type": "markdown",
   "metadata": {},
   "source": [
    "## Using the Terminal\n",
    "\n",
    "In this exercise, our focus will be on using the terminal to navigate files and directories as well as to create and destroy files and directories. \n",
    "\n",
    "![](images/terminal.png)"
   ]
  },
  {
   "cell_type": "markdown",
   "metadata": {},
   "source": [
    "### Navigating Files\n",
    "\n",
    "- Use `pwd` to see where you currently are located"
   ]
  },
  {
   "cell_type": "code",
   "execution_count": 5,
   "metadata": {},
   "outputs": [
    {
     "name": "stdout",
     "output_type": "stream",
     "text": [
      "/Users/jacobkoehler/Desktop/fall_25/nyu/bootcamp_25\n"
     ]
    }
   ],
   "source": []
  },
  {
   "cell_type": "markdown",
   "metadata": {},
   "source": [
    "- Use `ls` to see the files and folders available"
   ]
  },
  {
   "cell_type": "code",
   "execution_count": 6,
   "metadata": {},
   "outputs": [
    {
     "name": "stdout",
     "output_type": "stream",
     "text": [
      "_config.yml                   markdown.md\n",
      "_toc.yml                      notebooks.ipynb\n",
      "\u001b[34mimages\u001b[m\u001b[m                        references.bib\n",
      "intro.md                      requirements.txt\n",
      "intro_to_git_and_github.ipynb \u001b[34mshell-lesson-data\u001b[m\u001b[m\n",
      "logo.png                      syllabus.ipynb\n",
      "markdown-notebooks.md\n"
     ]
    }
   ],
   "source": []
  },
  {
   "cell_type": "markdown",
   "metadata": {},
   "source": [
    "- Use `ls -F` to differentiate between files and folders"
   ]
  },
  {
   "cell_type": "code",
   "execution_count": 7,
   "metadata": {},
   "outputs": [
    {
     "name": "stdout",
     "output_type": "stream",
     "text": [
      "_config.yml                    markdown.md\n",
      "_toc.yml                       notebooks.ipynb\n",
      "\u001b[34mimages\u001b[m\u001b[m/                        references.bib\n",
      "intro.md                       requirements.txt\n",
      "intro_to_git_and_github.ipynb  \u001b[34mshell-lesson-data\u001b[m\u001b[m/\n",
      "logo.png                       syllabus.ipynb\n",
      "markdown-notebooks.md\n"
     ]
    }
   ],
   "source": []
  },
  {
   "cell_type": "markdown",
   "metadata": {},
   "source": [
    "- Use `cd` to change directory"
   ]
  },
  {
   "cell_type": "code",
   "execution_count": 8,
   "metadata": {},
   "outputs": [],
   "source": []
  },
  {
   "cell_type": "markdown",
   "metadata": {},
   "source": [
    "- Use `mkdir` to make a new directory"
   ]
  },
  {
   "cell_type": "code",
   "execution_count": null,
   "metadata": {},
   "outputs": [],
   "source": []
  },
  {
   "cell_type": "markdown",
   "metadata": {},
   "source": [
    "- Use `touch` to create a new `.txt` file"
   ]
  },
  {
   "cell_type": "code",
   "execution_count": null,
   "metadata": {},
   "outputs": [],
   "source": []
  },
  {
   "cell_type": "markdown",
   "metadata": {},
   "source": [
    "- Use `rm` **VERY CAREFULLY** to delete the file"
   ]
  },
  {
   "cell_type": "code",
   "execution_count": null,
   "metadata": {},
   "outputs": [],
   "source": []
  },
  {
   "cell_type": "markdown",
   "metadata": {},
   "source": [
    "- Use `rm` **VERY CAREFULLY** to examine the contents of a directory and delete one by one"
   ]
  },
  {
   "cell_type": "markdown",
   "metadata": {},
   "source": [
    "### Challenge\n",
    "\n",
    "Starting from `/Users/nelle/data`, which of the following commands could Nelle use to navigate to her home directory, which is `/Users/nelle`?\n",
    "\n",
    "- `cd .`\n",
    "- `cd /`\n",
    "- `cd /home/nelle`\n",
    "- `cd ../..`\n",
    "- `cd ~`\n",
    "- `cd home`\n",
    "- `cd ~/data/..`\n",
    "- `cd`\n",
    "- `cd ..`"
   ]
  },
  {
   "cell_type": "markdown",
   "metadata": {},
   "source": [
    "2. Using the filesystem diagram below, if `pwd` displays `/Users/thing`, what will `ls -F ../backup` display?\n",
    "\n",
    "- `../backup: No such file or directory`\n",
    "- `2012-12-01 2013-01-08 2013-01-27`\n",
    "- `2012-12-01/ 2013-01-08/ 2013-01-27/`\n",
    "- `original/ pnas_final/ pnas_sub/`\n",
    "\n",
    "![](images/filesystem-challenge.png)"
   ]
  },
  {
   "cell_type": "markdown",
   "metadata": {},
   "source": [
    "3. Using the filesystem diagram above, if `pwd` displays `/Users/backup`, and `-r` tells ls to display things in reverse order, what command(s) will result in the following output:\n",
    "\n",
    "```\n",
    "pnas_sub/ pnas_final/ original/\n",
    "```\n",
    "\n",
    "- `ls pwd`\n",
    "- `ls -r -F`\n",
    "- `ls -r -F /Users/backup`"
   ]
  },
  {
   "cell_type": "code",
   "execution_count": null,
   "metadata": {},
   "outputs": [],
   "source": []
  },
  {
   "cell_type": "code",
   "execution_count": null,
   "metadata": {},
   "outputs": [],
   "source": []
  },
  {
   "cell_type": "code",
   "execution_count": null,
   "metadata": {},
   "outputs": [],
   "source": []
  },
  {
   "cell_type": "code",
   "execution_count": null,
   "metadata": {},
   "outputs": [],
   "source": []
  },
  {
   "cell_type": "code",
   "execution_count": null,
   "metadata": {},
   "outputs": [],
   "source": []
  }
 ],
 "metadata": {
  "kernelspec": {
   "display_name": "Python [conda env:base] *",
   "language": "python",
   "name": "conda-base-py"
  },
  "language_info": {
   "codemirror_mode": {
    "name": "ipython",
    "version": 3
   },
   "file_extension": ".py",
   "mimetype": "text/x-python",
   "name": "python",
   "nbconvert_exporter": "python",
   "pygments_lexer": "ipython3",
   "version": "3.13.5"
  },
  "widgets": {
   "application/vnd.jupyter.widget-state+json": {
    "state": {},
    "version_major": 2,
    "version_minor": 0
   }
  }
 },
 "nbformat": 4,
 "nbformat_minor": 4
}
