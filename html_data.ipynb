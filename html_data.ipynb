{
  "cells": [
    {
      "cell_type": "markdown",
      "metadata": {
        "id": "view-in-github",
        "colab_type": "text"
      },
      "source": [
        "<a href=\"https://colab.research.google.com/github/josepeon/python_dad_class/blob/main/html_data.ipynb\" target=\"_parent\"><img src=\"https://colab.research.google.com/assets/colab-badge.svg\" alt=\"Open In Colab\"/></a>"
      ]
    },
    {
      "cell_type": "markdown",
      "metadata": {
        "id": "o7G39-UfQYHA"
      },
      "source": [
        "### Extracting Data From HTML\n",
        "\n",
        "**OBJECTIVES**\n",
        "\n",
        "\n",
        "- Use `pd.read_html` to extract data from website tables\n",
        "- Use `bs4` to parse html returned with requests."
      ]
    },
    {
      "cell_type": "markdown",
      "metadata": {
        "id": "Q3HyYhyjQYHB"
      },
      "source": [
        "### Reading in Data from HTML Tables\n",
        "\n",
        "Now, we turn to one more approach in accessing data. As we've seen, you may have `json` or `csv` when querying a data API. Alternatively, you may receive HTML data where information is contained in tags.  Below, we examine some basic html tags and their effects.\n",
        "\n",
        "```html\n",
        "<h1>A Heading</h1>\n",
        "<p>A first paragraph</p>\n",
        "<p>A second paragraph</p>\n",
        "<table>\n",
        "  <tr>\n",
        "    <th>Album</th>\n",
        "    <th>Rating</th>\n",
        "  </tr>\n",
        "  <tr>\n",
        "    <td>Pink Panther</td>\n",
        "    <td>10</td>\n",
        "  </tr>\n",
        "</table>\n",
        "```"
      ]
    },
    {
      "cell_type": "code",
      "execution_count": 1,
      "metadata": {
        "id": "wq8bO0DvQYHB"
      },
      "outputs": [],
      "source": [
        "import numpy as np\n",
        "import pandas as pd\n",
        "import matplotlib.pyplot as plt\n",
        "import seaborn as sns\n",
        "\n",
        "import requests"
      ]
    },
    {
      "cell_type": "code",
      "execution_count": 2,
      "metadata": {
        "id": "apxEDHsEQYHC"
      },
      "outputs": [],
      "source": [
        "html = '''\n",
        "<h1>A Heading</h1>\n",
        "<p>A first paragraph</p>\n",
        "<p>A second paragraph</p>\n",
        "<table>\n",
        "  <tr>\n",
        "    <th>Album</th>\n",
        "    <th>Rating</th>\n",
        "  </tr>\n",
        "  <tr>\n",
        "    <td>Pink Panther</td>\n",
        "    <td>10</td>\n",
        "  </tr>\n",
        "</table>\n",
        "'''"
      ]
    },
    {
      "cell_type": "code",
      "execution_count": 3,
      "metadata": {
        "id": "l_JWvOITQYHC"
      },
      "outputs": [],
      "source": [
        "from IPython.display import HTML"
      ]
    },
    {
      "cell_type": "code",
      "execution_count": 4,
      "metadata": {
        "id": "eQSsoObfQYHD",
        "outputId": "97666cf9-1d6d-4aa2-cb4f-460addead52a",
        "colab": {
          "base_uri": "https://localhost:8080/",
          "height": 168
        }
      },
      "outputs": [
        {
          "output_type": "execute_result",
          "data": {
            "text/plain": [
              "<IPython.core.display.HTML object>"
            ],
            "text/html": [
              "\n",
              "<h1>A Heading</h1>\n",
              "<p>A first paragraph</p>\n",
              "<p>A second paragraph</p>\n",
              "<table>\n",
              "  <tr>\n",
              "    <th>Album</th>\n",
              "    <th>Rating</th>\n",
              "  </tr>\n",
              "  <tr>\n",
              "    <td>Pink Panther</td>\n",
              "    <td>10</td>\n",
              "  </tr>\n",
              "</table>\n"
            ]
          },
          "metadata": {},
          "execution_count": 4
        }
      ],
      "source": [
        "HTML(html)"
      ]
    },
    {
      "cell_type": "markdown",
      "metadata": {
        "id": "j-JiS_s4QYHD"
      },
      "source": [
        "### Making a request of a url\n",
        "\n",
        "Let's begin with some basketball information from basketball-reference.com:\n",
        "\n",
        "- https://www.basketball-reference.com/wnba\n",
        "\n",
        "The tables on the page will be picked up (hopefully!) by the `read_html` function in pandas."
      ]
    },
    {
      "cell_type": "code",
      "execution_count": 5,
      "metadata": {
        "id": "lEfcm5DEQYHE"
      },
      "outputs": [],
      "source": [
        "#visit the url below\n",
        "url = 'https://www.basketball-reference.com/wnba'"
      ]
    },
    {
      "cell_type": "code",
      "execution_count": 6,
      "metadata": {
        "id": "3VgKimbBQYHE"
      },
      "outputs": [],
      "source": [
        "#assign the results as data\n",
        "#read_html\n",
        "wnba = pd.read_html(url)"
      ]
    },
    {
      "cell_type": "code",
      "execution_count": 7,
      "metadata": {
        "id": "JsJwIVSXQYHE",
        "outputId": "a1e0c391-fbfc-47b3-f299-674763c24d2f",
        "colab": {
          "base_uri": "https://localhost:8080/"
        }
      },
      "outputs": [
        {
          "output_type": "execute_result",
          "data": {
            "text/plain": [
              "list"
            ]
          },
          "metadata": {},
          "execution_count": 7
        }
      ],
      "source": [
        "#what kind of object is data?\n",
        "type(wnba)"
      ]
    },
    {
      "cell_type": "code",
      "execution_count": 8,
      "metadata": {
        "id": "Bv4nMgvSQYHF",
        "outputId": "4ace9b87-a1fe-497f-f488-a00f3a1f754b",
        "colab": {
          "base_uri": "https://localhost:8080/",
          "height": 457
        }
      },
      "outputs": [
        {
          "output_type": "execute_result",
          "data": {
            "text/plain": [
              "                       Team   W   L   W/L%    GB\n",
              "0           Minnesota Lynx*  34  10  0.773     —\n",
              "1           Las Vegas Aces*  30  14  0.682   4.0\n",
              "2            Atlanta Dream*  30  14  0.682   4.0\n",
              "3          Phoenix Mercury*  27  17  0.614   7.0\n",
              "4         New York Liberty*  27  17  0.614   7.0\n",
              "5            Indiana Fever*  24  20  0.545  10.0\n",
              "6            Seattle Storm*  23  21  0.523  11.0\n",
              "7   Golden State Valkyries*  23  21  0.523  11.0\n",
              "8        Los Angeles Sparks  21  23  0.477  13.0\n",
              "9        Washington Mystics  16  28  0.364  18.0\n",
              "10          Connecticut Sun  11  33  0.250  23.0\n",
              "11              Chicago Sky  10  34  0.227  24.0\n",
              "12             Dallas Wings  10  34  0.227  24.0"
            ],
            "text/html": [
              "\n",
              "  <div id=\"df-4d492ff2-88b7-42f9-a3b6-52f5407094b6\" class=\"colab-df-container\">\n",
              "    <div>\n",
              "<style scoped>\n",
              "    .dataframe tbody tr th:only-of-type {\n",
              "        vertical-align: middle;\n",
              "    }\n",
              "\n",
              "    .dataframe tbody tr th {\n",
              "        vertical-align: top;\n",
              "    }\n",
              "\n",
              "    .dataframe thead th {\n",
              "        text-align: right;\n",
              "    }\n",
              "</style>\n",
              "<table border=\"1\" class=\"dataframe\">\n",
              "  <thead>\n",
              "    <tr style=\"text-align: right;\">\n",
              "      <th></th>\n",
              "      <th>Team</th>\n",
              "      <th>W</th>\n",
              "      <th>L</th>\n",
              "      <th>W/L%</th>\n",
              "      <th>GB</th>\n",
              "    </tr>\n",
              "  </thead>\n",
              "  <tbody>\n",
              "    <tr>\n",
              "      <th>0</th>\n",
              "      <td>Minnesota Lynx*</td>\n",
              "      <td>34</td>\n",
              "      <td>10</td>\n",
              "      <td>0.773</td>\n",
              "      <td>—</td>\n",
              "    </tr>\n",
              "    <tr>\n",
              "      <th>1</th>\n",
              "      <td>Las Vegas Aces*</td>\n",
              "      <td>30</td>\n",
              "      <td>14</td>\n",
              "      <td>0.682</td>\n",
              "      <td>4.0</td>\n",
              "    </tr>\n",
              "    <tr>\n",
              "      <th>2</th>\n",
              "      <td>Atlanta Dream*</td>\n",
              "      <td>30</td>\n",
              "      <td>14</td>\n",
              "      <td>0.682</td>\n",
              "      <td>4.0</td>\n",
              "    </tr>\n",
              "    <tr>\n",
              "      <th>3</th>\n",
              "      <td>Phoenix Mercury*</td>\n",
              "      <td>27</td>\n",
              "      <td>17</td>\n",
              "      <td>0.614</td>\n",
              "      <td>7.0</td>\n",
              "    </tr>\n",
              "    <tr>\n",
              "      <th>4</th>\n",
              "      <td>New York Liberty*</td>\n",
              "      <td>27</td>\n",
              "      <td>17</td>\n",
              "      <td>0.614</td>\n",
              "      <td>7.0</td>\n",
              "    </tr>\n",
              "    <tr>\n",
              "      <th>5</th>\n",
              "      <td>Indiana Fever*</td>\n",
              "      <td>24</td>\n",
              "      <td>20</td>\n",
              "      <td>0.545</td>\n",
              "      <td>10.0</td>\n",
              "    </tr>\n",
              "    <tr>\n",
              "      <th>6</th>\n",
              "      <td>Seattle Storm*</td>\n",
              "      <td>23</td>\n",
              "      <td>21</td>\n",
              "      <td>0.523</td>\n",
              "      <td>11.0</td>\n",
              "    </tr>\n",
              "    <tr>\n",
              "      <th>7</th>\n",
              "      <td>Golden State Valkyries*</td>\n",
              "      <td>23</td>\n",
              "      <td>21</td>\n",
              "      <td>0.523</td>\n",
              "      <td>11.0</td>\n",
              "    </tr>\n",
              "    <tr>\n",
              "      <th>8</th>\n",
              "      <td>Los Angeles Sparks</td>\n",
              "      <td>21</td>\n",
              "      <td>23</td>\n",
              "      <td>0.477</td>\n",
              "      <td>13.0</td>\n",
              "    </tr>\n",
              "    <tr>\n",
              "      <th>9</th>\n",
              "      <td>Washington Mystics</td>\n",
              "      <td>16</td>\n",
              "      <td>28</td>\n",
              "      <td>0.364</td>\n",
              "      <td>18.0</td>\n",
              "    </tr>\n",
              "    <tr>\n",
              "      <th>10</th>\n",
              "      <td>Connecticut Sun</td>\n",
              "      <td>11</td>\n",
              "      <td>33</td>\n",
              "      <td>0.250</td>\n",
              "      <td>23.0</td>\n",
              "    </tr>\n",
              "    <tr>\n",
              "      <th>11</th>\n",
              "      <td>Chicago Sky</td>\n",
              "      <td>10</td>\n",
              "      <td>34</td>\n",
              "      <td>0.227</td>\n",
              "      <td>24.0</td>\n",
              "    </tr>\n",
              "    <tr>\n",
              "      <th>12</th>\n",
              "      <td>Dallas Wings</td>\n",
              "      <td>10</td>\n",
              "      <td>34</td>\n",
              "      <td>0.227</td>\n",
              "      <td>24.0</td>\n",
              "    </tr>\n",
              "  </tbody>\n",
              "</table>\n",
              "</div>\n",
              "    <div class=\"colab-df-buttons\">\n",
              "\n",
              "  <div class=\"colab-df-container\">\n",
              "    <button class=\"colab-df-convert\" onclick=\"convertToInteractive('df-4d492ff2-88b7-42f9-a3b6-52f5407094b6')\"\n",
              "            title=\"Convert this dataframe to an interactive table.\"\n",
              "            style=\"display:none;\">\n",
              "\n",
              "  <svg xmlns=\"http://www.w3.org/2000/svg\" height=\"24px\" viewBox=\"0 -960 960 960\">\n",
              "    <path d=\"M120-120v-720h720v720H120Zm60-500h600v-160H180v160Zm220 220h160v-160H400v160Zm0 220h160v-160H400v160ZM180-400h160v-160H180v160Zm440 0h160v-160H620v160ZM180-180h160v-160H180v160Zm440 0h160v-160H620v160Z\"/>\n",
              "  </svg>\n",
              "    </button>\n",
              "\n",
              "  <style>\n",
              "    .colab-df-container {\n",
              "      display:flex;\n",
              "      gap: 12px;\n",
              "    }\n",
              "\n",
              "    .colab-df-convert {\n",
              "      background-color: #E8F0FE;\n",
              "      border: none;\n",
              "      border-radius: 50%;\n",
              "      cursor: pointer;\n",
              "      display: none;\n",
              "      fill: #1967D2;\n",
              "      height: 32px;\n",
              "      padding: 0 0 0 0;\n",
              "      width: 32px;\n",
              "    }\n",
              "\n",
              "    .colab-df-convert:hover {\n",
              "      background-color: #E2EBFA;\n",
              "      box-shadow: 0px 1px 2px rgba(60, 64, 67, 0.3), 0px 1px 3px 1px rgba(60, 64, 67, 0.15);\n",
              "      fill: #174EA6;\n",
              "    }\n",
              "\n",
              "    .colab-df-buttons div {\n",
              "      margin-bottom: 4px;\n",
              "    }\n",
              "\n",
              "    [theme=dark] .colab-df-convert {\n",
              "      background-color: #3B4455;\n",
              "      fill: #D2E3FC;\n",
              "    }\n",
              "\n",
              "    [theme=dark] .colab-df-convert:hover {\n",
              "      background-color: #434B5C;\n",
              "      box-shadow: 0px 1px 3px 1px rgba(0, 0, 0, 0.15);\n",
              "      filter: drop-shadow(0px 1px 2px rgba(0, 0, 0, 0.3));\n",
              "      fill: #FFFFFF;\n",
              "    }\n",
              "  </style>\n",
              "\n",
              "    <script>\n",
              "      const buttonEl =\n",
              "        document.querySelector('#df-4d492ff2-88b7-42f9-a3b6-52f5407094b6 button.colab-df-convert');\n",
              "      buttonEl.style.display =\n",
              "        google.colab.kernel.accessAllowed ? 'block' : 'none';\n",
              "\n",
              "      async function convertToInteractive(key) {\n",
              "        const element = document.querySelector('#df-4d492ff2-88b7-42f9-a3b6-52f5407094b6');\n",
              "        const dataTable =\n",
              "          await google.colab.kernel.invokeFunction('convertToInteractive',\n",
              "                                                    [key], {});\n",
              "        if (!dataTable) return;\n",
              "\n",
              "        const docLinkHtml = 'Like what you see? Visit the ' +\n",
              "          '<a target=\"_blank\" href=https://colab.research.google.com/notebooks/data_table.ipynb>data table notebook</a>'\n",
              "          + ' to learn more about interactive tables.';\n",
              "        element.innerHTML = '';\n",
              "        dataTable['output_type'] = 'display_data';\n",
              "        await google.colab.output.renderOutput(dataTable, element);\n",
              "        const docLink = document.createElement('div');\n",
              "        docLink.innerHTML = docLinkHtml;\n",
              "        element.appendChild(docLink);\n",
              "      }\n",
              "    </script>\n",
              "  </div>\n",
              "\n",
              "\n",
              "    <div id=\"df-194ddb6a-24f0-4702-9882-1f2724e0d171\">\n",
              "      <button class=\"colab-df-quickchart\" onclick=\"quickchart('df-194ddb6a-24f0-4702-9882-1f2724e0d171')\"\n",
              "                title=\"Suggest charts\"\n",
              "                style=\"display:none;\">\n",
              "\n",
              "<svg xmlns=\"http://www.w3.org/2000/svg\" height=\"24px\"viewBox=\"0 0 24 24\"\n",
              "     width=\"24px\">\n",
              "    <g>\n",
              "        <path d=\"M19 3H5c-1.1 0-2 .9-2 2v14c0 1.1.9 2 2 2h14c1.1 0 2-.9 2-2V5c0-1.1-.9-2-2-2zM9 17H7v-7h2v7zm4 0h-2V7h2v10zm4 0h-2v-4h2v4z\"/>\n",
              "    </g>\n",
              "</svg>\n",
              "      </button>\n",
              "\n",
              "<style>\n",
              "  .colab-df-quickchart {\n",
              "      --bg-color: #E8F0FE;\n",
              "      --fill-color: #1967D2;\n",
              "      --hover-bg-color: #E2EBFA;\n",
              "      --hover-fill-color: #174EA6;\n",
              "      --disabled-fill-color: #AAA;\n",
              "      --disabled-bg-color: #DDD;\n",
              "  }\n",
              "\n",
              "  [theme=dark] .colab-df-quickchart {\n",
              "      --bg-color: #3B4455;\n",
              "      --fill-color: #D2E3FC;\n",
              "      --hover-bg-color: #434B5C;\n",
              "      --hover-fill-color: #FFFFFF;\n",
              "      --disabled-bg-color: #3B4455;\n",
              "      --disabled-fill-color: #666;\n",
              "  }\n",
              "\n",
              "  .colab-df-quickchart {\n",
              "    background-color: var(--bg-color);\n",
              "    border: none;\n",
              "    border-radius: 50%;\n",
              "    cursor: pointer;\n",
              "    display: none;\n",
              "    fill: var(--fill-color);\n",
              "    height: 32px;\n",
              "    padding: 0;\n",
              "    width: 32px;\n",
              "  }\n",
              "\n",
              "  .colab-df-quickchart:hover {\n",
              "    background-color: var(--hover-bg-color);\n",
              "    box-shadow: 0 1px 2px rgba(60, 64, 67, 0.3), 0 1px 3px 1px rgba(60, 64, 67, 0.15);\n",
              "    fill: var(--button-hover-fill-color);\n",
              "  }\n",
              "\n",
              "  .colab-df-quickchart-complete:disabled,\n",
              "  .colab-df-quickchart-complete:disabled:hover {\n",
              "    background-color: var(--disabled-bg-color);\n",
              "    fill: var(--disabled-fill-color);\n",
              "    box-shadow: none;\n",
              "  }\n",
              "\n",
              "  .colab-df-spinner {\n",
              "    border: 2px solid var(--fill-color);\n",
              "    border-color: transparent;\n",
              "    border-bottom-color: var(--fill-color);\n",
              "    animation:\n",
              "      spin 1s steps(1) infinite;\n",
              "  }\n",
              "\n",
              "  @keyframes spin {\n",
              "    0% {\n",
              "      border-color: transparent;\n",
              "      border-bottom-color: var(--fill-color);\n",
              "      border-left-color: var(--fill-color);\n",
              "    }\n",
              "    20% {\n",
              "      border-color: transparent;\n",
              "      border-left-color: var(--fill-color);\n",
              "      border-top-color: var(--fill-color);\n",
              "    }\n",
              "    30% {\n",
              "      border-color: transparent;\n",
              "      border-left-color: var(--fill-color);\n",
              "      border-top-color: var(--fill-color);\n",
              "      border-right-color: var(--fill-color);\n",
              "    }\n",
              "    40% {\n",
              "      border-color: transparent;\n",
              "      border-right-color: var(--fill-color);\n",
              "      border-top-color: var(--fill-color);\n",
              "    }\n",
              "    60% {\n",
              "      border-color: transparent;\n",
              "      border-right-color: var(--fill-color);\n",
              "    }\n",
              "    80% {\n",
              "      border-color: transparent;\n",
              "      border-right-color: var(--fill-color);\n",
              "      border-bottom-color: var(--fill-color);\n",
              "    }\n",
              "    90% {\n",
              "      border-color: transparent;\n",
              "      border-bottom-color: var(--fill-color);\n",
              "    }\n",
              "  }\n",
              "</style>\n",
              "\n",
              "      <script>\n",
              "        async function quickchart(key) {\n",
              "          const quickchartButtonEl =\n",
              "            document.querySelector('#' + key + ' button');\n",
              "          quickchartButtonEl.disabled = true;  // To prevent multiple clicks.\n",
              "          quickchartButtonEl.classList.add('colab-df-spinner');\n",
              "          try {\n",
              "            const charts = await google.colab.kernel.invokeFunction(\n",
              "                'suggestCharts', [key], {});\n",
              "          } catch (error) {\n",
              "            console.error('Error during call to suggestCharts:', error);\n",
              "          }\n",
              "          quickchartButtonEl.classList.remove('colab-df-spinner');\n",
              "          quickchartButtonEl.classList.add('colab-df-quickchart-complete');\n",
              "        }\n",
              "        (() => {\n",
              "          let quickchartButtonEl =\n",
              "            document.querySelector('#df-194ddb6a-24f0-4702-9882-1f2724e0d171 button');\n",
              "          quickchartButtonEl.style.display =\n",
              "            google.colab.kernel.accessAllowed ? 'block' : 'none';\n",
              "        })();\n",
              "      </script>\n",
              "    </div>\n",
              "\n",
              "    </div>\n",
              "  </div>\n"
            ],
            "application/vnd.google.colaboratory.intrinsic+json": {
              "type": "dataframe",
              "summary": "{\n  \"name\": \"wnba[0]\",\n  \"rows\": 13,\n  \"fields\": [\n    {\n      \"column\": \"Team\",\n      \"properties\": {\n        \"dtype\": \"string\",\n        \"num_unique_values\": 13,\n        \"samples\": [\n          \"Chicago Sky\",\n          \"Washington Mystics\",\n          \"Minnesota Lynx*\"\n        ],\n        \"semantic_type\": \"\",\n        \"description\": \"\"\n      }\n    },\n    {\n      \"column\": \"W\",\n      \"properties\": {\n        \"dtype\": \"number\",\n        \"std\": 8,\n        \"min\": 10,\n        \"max\": 34,\n        \"num_unique_values\": 9,\n        \"samples\": [\n          11,\n          30,\n          21\n        ],\n        \"semantic_type\": \"\",\n        \"description\": \"\"\n      }\n    },\n    {\n      \"column\": \"L\",\n      \"properties\": {\n        \"dtype\": \"number\",\n        \"std\": 8,\n        \"min\": 10,\n        \"max\": 34,\n        \"num_unique_values\": 9,\n        \"samples\": [\n          33,\n          14,\n          23\n        ],\n        \"semantic_type\": \"\",\n        \"description\": \"\"\n      }\n    },\n    {\n      \"column\": \"W/L%\",\n      \"properties\": {\n        \"dtype\": \"number\",\n        \"std\": 0.18267341602728332,\n        \"min\": 0.227,\n        \"max\": 0.773,\n        \"num_unique_values\": 9,\n        \"samples\": [\n          0.25,\n          0.682,\n          0.477\n        ],\n        \"semantic_type\": \"\",\n        \"description\": \"\"\n      }\n    },\n    {\n      \"column\": \"GB\",\n      \"properties\": {\n        \"dtype\": \"string\",\n        \"num_unique_values\": 9,\n        \"samples\": [\n          \"23.0\",\n          \"4.0\",\n          \"13.0\"\n        ],\n        \"semantic_type\": \"\",\n        \"description\": \"\"\n      }\n    }\n  ]\n}"
            }
          },
          "metadata": {},
          "execution_count": 8
        }
      ],
      "source": [
        "#first element?\n",
        "wnba[0]"
      ]
    },
    {
      "cell_type": "code",
      "execution_count": 9,
      "metadata": {
        "id": "_tcd83vEQYHF",
        "outputId": "fec3cbae-363a-4e86-bff5-32647a8e7298",
        "colab": {
          "base_uri": "https://localhost:8080/"
        }
      },
      "outputs": [
        {
          "output_type": "stream",
          "name": "stdout",
          "text": [
            "<class 'pandas.core.frame.DataFrame'>\n",
            "RangeIndex: 13 entries, 0 to 12\n",
            "Data columns (total 5 columns):\n",
            " #   Column  Non-Null Count  Dtype  \n",
            "---  ------  --------------  -----  \n",
            " 0   Team    13 non-null     object \n",
            " 1   W       13 non-null     int64  \n",
            " 2   L       13 non-null     int64  \n",
            " 3   W/L%    13 non-null     float64\n",
            " 4   GB      13 non-null     object \n",
            "dtypes: float64(1), int64(2), object(2)\n",
            "memory usage: 652.0+ bytes\n"
          ]
        }
      ],
      "source": [
        "#examine information\n",
        "wnba[0].info()"
      ]
    },
    {
      "cell_type": "code",
      "execution_count": 10,
      "metadata": {
        "id": "qbIQUVMdQYHF",
        "outputId": "507677c4-de30-4038-d7de-b3dfce2f85f6",
        "colab": {
          "base_uri": "https://localhost:8080/",
          "height": 206
        }
      },
      "outputs": [
        {
          "output_type": "execute_result",
          "data": {
            "text/plain": [
              "              Unnamed: 0  PTS  TRB  AST  GmSc\n",
              "0    Jackie Young  (LVA)   32    8    2  25.0\n",
              "1     A'ja Wilson  (LVA)   28   14    3  21.0\n",
              "2    Chelsea Gray  (LVA)   10    8   10  16.4\n",
              "3   Satou Sabally  (PHO)   22    9    2  13.2\n",
              "4  Kahleah Copper  (PHO)   23    3    0  12.1"
            ],
            "text/html": [
              "\n",
              "  <div id=\"df-f51557b3-470a-4187-8820-952b609f8892\" class=\"colab-df-container\">\n",
              "    <div>\n",
              "<style scoped>\n",
              "    .dataframe tbody tr th:only-of-type {\n",
              "        vertical-align: middle;\n",
              "    }\n",
              "\n",
              "    .dataframe tbody tr th {\n",
              "        vertical-align: top;\n",
              "    }\n",
              "\n",
              "    .dataframe thead th {\n",
              "        text-align: right;\n",
              "    }\n",
              "</style>\n",
              "<table border=\"1\" class=\"dataframe\">\n",
              "  <thead>\n",
              "    <tr style=\"text-align: right;\">\n",
              "      <th></th>\n",
              "      <th>Unnamed: 0</th>\n",
              "      <th>PTS</th>\n",
              "      <th>TRB</th>\n",
              "      <th>AST</th>\n",
              "      <th>GmSc</th>\n",
              "    </tr>\n",
              "  </thead>\n",
              "  <tbody>\n",
              "    <tr>\n",
              "      <th>0</th>\n",
              "      <td>Jackie Young  (LVA)</td>\n",
              "      <td>32</td>\n",
              "      <td>8</td>\n",
              "      <td>2</td>\n",
              "      <td>25.0</td>\n",
              "    </tr>\n",
              "    <tr>\n",
              "      <th>1</th>\n",
              "      <td>A'ja Wilson  (LVA)</td>\n",
              "      <td>28</td>\n",
              "      <td>14</td>\n",
              "      <td>3</td>\n",
              "      <td>21.0</td>\n",
              "    </tr>\n",
              "    <tr>\n",
              "      <th>2</th>\n",
              "      <td>Chelsea Gray  (LVA)</td>\n",
              "      <td>10</td>\n",
              "      <td>8</td>\n",
              "      <td>10</td>\n",
              "      <td>16.4</td>\n",
              "    </tr>\n",
              "    <tr>\n",
              "      <th>3</th>\n",
              "      <td>Satou Sabally  (PHO)</td>\n",
              "      <td>22</td>\n",
              "      <td>9</td>\n",
              "      <td>2</td>\n",
              "      <td>13.2</td>\n",
              "    </tr>\n",
              "    <tr>\n",
              "      <th>4</th>\n",
              "      <td>Kahleah Copper  (PHO)</td>\n",
              "      <td>23</td>\n",
              "      <td>3</td>\n",
              "      <td>0</td>\n",
              "      <td>12.1</td>\n",
              "    </tr>\n",
              "  </tbody>\n",
              "</table>\n",
              "</div>\n",
              "    <div class=\"colab-df-buttons\">\n",
              "\n",
              "  <div class=\"colab-df-container\">\n",
              "    <button class=\"colab-df-convert\" onclick=\"convertToInteractive('df-f51557b3-470a-4187-8820-952b609f8892')\"\n",
              "            title=\"Convert this dataframe to an interactive table.\"\n",
              "            style=\"display:none;\">\n",
              "\n",
              "  <svg xmlns=\"http://www.w3.org/2000/svg\" height=\"24px\" viewBox=\"0 -960 960 960\">\n",
              "    <path d=\"M120-120v-720h720v720H120Zm60-500h600v-160H180v160Zm220 220h160v-160H400v160Zm0 220h160v-160H400v160ZM180-400h160v-160H180v160Zm440 0h160v-160H620v160ZM180-180h160v-160H180v160Zm440 0h160v-160H620v160Z\"/>\n",
              "  </svg>\n",
              "    </button>\n",
              "\n",
              "  <style>\n",
              "    .colab-df-container {\n",
              "      display:flex;\n",
              "      gap: 12px;\n",
              "    }\n",
              "\n",
              "    .colab-df-convert {\n",
              "      background-color: #E8F0FE;\n",
              "      border: none;\n",
              "      border-radius: 50%;\n",
              "      cursor: pointer;\n",
              "      display: none;\n",
              "      fill: #1967D2;\n",
              "      height: 32px;\n",
              "      padding: 0 0 0 0;\n",
              "      width: 32px;\n",
              "    }\n",
              "\n",
              "    .colab-df-convert:hover {\n",
              "      background-color: #E2EBFA;\n",
              "      box-shadow: 0px 1px 2px rgba(60, 64, 67, 0.3), 0px 1px 3px 1px rgba(60, 64, 67, 0.15);\n",
              "      fill: #174EA6;\n",
              "    }\n",
              "\n",
              "    .colab-df-buttons div {\n",
              "      margin-bottom: 4px;\n",
              "    }\n",
              "\n",
              "    [theme=dark] .colab-df-convert {\n",
              "      background-color: #3B4455;\n",
              "      fill: #D2E3FC;\n",
              "    }\n",
              "\n",
              "    [theme=dark] .colab-df-convert:hover {\n",
              "      background-color: #434B5C;\n",
              "      box-shadow: 0px 1px 3px 1px rgba(0, 0, 0, 0.15);\n",
              "      filter: drop-shadow(0px 1px 2px rgba(0, 0, 0, 0.3));\n",
              "      fill: #FFFFFF;\n",
              "    }\n",
              "  </style>\n",
              "\n",
              "    <script>\n",
              "      const buttonEl =\n",
              "        document.querySelector('#df-f51557b3-470a-4187-8820-952b609f8892 button.colab-df-convert');\n",
              "      buttonEl.style.display =\n",
              "        google.colab.kernel.accessAllowed ? 'block' : 'none';\n",
              "\n",
              "      async function convertToInteractive(key) {\n",
              "        const element = document.querySelector('#df-f51557b3-470a-4187-8820-952b609f8892');\n",
              "        const dataTable =\n",
              "          await google.colab.kernel.invokeFunction('convertToInteractive',\n",
              "                                                    [key], {});\n",
              "        if (!dataTable) return;\n",
              "\n",
              "        const docLinkHtml = 'Like what you see? Visit the ' +\n",
              "          '<a target=\"_blank\" href=https://colab.research.google.com/notebooks/data_table.ipynb>data table notebook</a>'\n",
              "          + ' to learn more about interactive tables.';\n",
              "        element.innerHTML = '';\n",
              "        dataTable['output_type'] = 'display_data';\n",
              "        await google.colab.output.renderOutput(dataTable, element);\n",
              "        const docLink = document.createElement('div');\n",
              "        docLink.innerHTML = docLinkHtml;\n",
              "        element.appendChild(docLink);\n",
              "      }\n",
              "    </script>\n",
              "  </div>\n",
              "\n",
              "\n",
              "    <div id=\"df-b2ae2b97-e0fb-4717-8ba4-def03f65680f\">\n",
              "      <button class=\"colab-df-quickchart\" onclick=\"quickchart('df-b2ae2b97-e0fb-4717-8ba4-def03f65680f')\"\n",
              "                title=\"Suggest charts\"\n",
              "                style=\"display:none;\">\n",
              "\n",
              "<svg xmlns=\"http://www.w3.org/2000/svg\" height=\"24px\"viewBox=\"0 0 24 24\"\n",
              "     width=\"24px\">\n",
              "    <g>\n",
              "        <path d=\"M19 3H5c-1.1 0-2 .9-2 2v14c0 1.1.9 2 2 2h14c1.1 0 2-.9 2-2V5c0-1.1-.9-2-2-2zM9 17H7v-7h2v7zm4 0h-2V7h2v10zm4 0h-2v-4h2v4z\"/>\n",
              "    </g>\n",
              "</svg>\n",
              "      </button>\n",
              "\n",
              "<style>\n",
              "  .colab-df-quickchart {\n",
              "      --bg-color: #E8F0FE;\n",
              "      --fill-color: #1967D2;\n",
              "      --hover-bg-color: #E2EBFA;\n",
              "      --hover-fill-color: #174EA6;\n",
              "      --disabled-fill-color: #AAA;\n",
              "      --disabled-bg-color: #DDD;\n",
              "  }\n",
              "\n",
              "  [theme=dark] .colab-df-quickchart {\n",
              "      --bg-color: #3B4455;\n",
              "      --fill-color: #D2E3FC;\n",
              "      --hover-bg-color: #434B5C;\n",
              "      --hover-fill-color: #FFFFFF;\n",
              "      --disabled-bg-color: #3B4455;\n",
              "      --disabled-fill-color: #666;\n",
              "  }\n",
              "\n",
              "  .colab-df-quickchart {\n",
              "    background-color: var(--bg-color);\n",
              "    border: none;\n",
              "    border-radius: 50%;\n",
              "    cursor: pointer;\n",
              "    display: none;\n",
              "    fill: var(--fill-color);\n",
              "    height: 32px;\n",
              "    padding: 0;\n",
              "    width: 32px;\n",
              "  }\n",
              "\n",
              "  .colab-df-quickchart:hover {\n",
              "    background-color: var(--hover-bg-color);\n",
              "    box-shadow: 0 1px 2px rgba(60, 64, 67, 0.3), 0 1px 3px 1px rgba(60, 64, 67, 0.15);\n",
              "    fill: var(--button-hover-fill-color);\n",
              "  }\n",
              "\n",
              "  .colab-df-quickchart-complete:disabled,\n",
              "  .colab-df-quickchart-complete:disabled:hover {\n",
              "    background-color: var(--disabled-bg-color);\n",
              "    fill: var(--disabled-fill-color);\n",
              "    box-shadow: none;\n",
              "  }\n",
              "\n",
              "  .colab-df-spinner {\n",
              "    border: 2px solid var(--fill-color);\n",
              "    border-color: transparent;\n",
              "    border-bottom-color: var(--fill-color);\n",
              "    animation:\n",
              "      spin 1s steps(1) infinite;\n",
              "  }\n",
              "\n",
              "  @keyframes spin {\n",
              "    0% {\n",
              "      border-color: transparent;\n",
              "      border-bottom-color: var(--fill-color);\n",
              "      border-left-color: var(--fill-color);\n",
              "    }\n",
              "    20% {\n",
              "      border-color: transparent;\n",
              "      border-left-color: var(--fill-color);\n",
              "      border-top-color: var(--fill-color);\n",
              "    }\n",
              "    30% {\n",
              "      border-color: transparent;\n",
              "      border-left-color: var(--fill-color);\n",
              "      border-top-color: var(--fill-color);\n",
              "      border-right-color: var(--fill-color);\n",
              "    }\n",
              "    40% {\n",
              "      border-color: transparent;\n",
              "      border-right-color: var(--fill-color);\n",
              "      border-top-color: var(--fill-color);\n",
              "    }\n",
              "    60% {\n",
              "      border-color: transparent;\n",
              "      border-right-color: var(--fill-color);\n",
              "    }\n",
              "    80% {\n",
              "      border-color: transparent;\n",
              "      border-right-color: var(--fill-color);\n",
              "      border-bottom-color: var(--fill-color);\n",
              "    }\n",
              "    90% {\n",
              "      border-color: transparent;\n",
              "      border-bottom-color: var(--fill-color);\n",
              "    }\n",
              "  }\n",
              "</style>\n",
              "\n",
              "      <script>\n",
              "        async function quickchart(key) {\n",
              "          const quickchartButtonEl =\n",
              "            document.querySelector('#' + key + ' button');\n",
              "          quickchartButtonEl.disabled = true;  // To prevent multiple clicks.\n",
              "          quickchartButtonEl.classList.add('colab-df-spinner');\n",
              "          try {\n",
              "            const charts = await google.colab.kernel.invokeFunction(\n",
              "                'suggestCharts', [key], {});\n",
              "          } catch (error) {\n",
              "            console.error('Error during call to suggestCharts:', error);\n",
              "          }\n",
              "          quickchartButtonEl.classList.remove('colab-df-spinner');\n",
              "          quickchartButtonEl.classList.add('colab-df-quickchart-complete');\n",
              "        }\n",
              "        (() => {\n",
              "          let quickchartButtonEl =\n",
              "            document.querySelector('#df-b2ae2b97-e0fb-4717-8ba4-def03f65680f button');\n",
              "          quickchartButtonEl.style.display =\n",
              "            google.colab.kernel.accessAllowed ? 'block' : 'none';\n",
              "        })();\n",
              "      </script>\n",
              "    </div>\n",
              "\n",
              "    </div>\n",
              "  </div>\n"
            ],
            "application/vnd.google.colaboratory.intrinsic+json": {
              "type": "dataframe",
              "summary": "{\n  \"name\": \"wnba[-1]\",\n  \"rows\": 5,\n  \"fields\": [\n    {\n      \"column\": \"Unnamed: 0\",\n      \"properties\": {\n        \"dtype\": \"string\",\n        \"num_unique_values\": 5,\n        \"samples\": [\n          \"A'ja Wilson  (LVA)\",\n          \"Kahleah Copper  (PHO)\",\n          \"Chelsea Gray  (LVA)\"\n        ],\n        \"semantic_type\": \"\",\n        \"description\": \"\"\n      }\n    },\n    {\n      \"column\": \"PTS\",\n      \"properties\": {\n        \"dtype\": \"number\",\n        \"std\": 8,\n        \"min\": 10,\n        \"max\": 32,\n        \"num_unique_values\": 5,\n        \"samples\": [\n          28,\n          23,\n          10\n        ],\n        \"semantic_type\": \"\",\n        \"description\": \"\"\n      }\n    },\n    {\n      \"column\": \"TRB\",\n      \"properties\": {\n        \"dtype\": \"number\",\n        \"std\": 3,\n        \"min\": 3,\n        \"max\": 14,\n        \"num_unique_values\": 4,\n        \"samples\": [\n          14,\n          3,\n          8\n        ],\n        \"semantic_type\": \"\",\n        \"description\": \"\"\n      }\n    },\n    {\n      \"column\": \"AST\",\n      \"properties\": {\n        \"dtype\": \"number\",\n        \"std\": 3,\n        \"min\": 0,\n        \"max\": 10,\n        \"num_unique_values\": 4,\n        \"samples\": [\n          3,\n          0,\n          2\n        ],\n        \"semantic_type\": \"\",\n        \"description\": \"\"\n      }\n    },\n    {\n      \"column\": \"GmSc\",\n      \"properties\": {\n        \"dtype\": \"number\",\n        \"std\": 5.416456406175536,\n        \"min\": 12.1,\n        \"max\": 25.0,\n        \"num_unique_values\": 5,\n        \"samples\": [\n          21.0,\n          12.1,\n          16.4\n        ],\n        \"semantic_type\": \"\",\n        \"description\": \"\"\n      }\n    }\n  ]\n}"
            }
          },
          "metadata": {},
          "execution_count": 10
        }
      ],
      "source": [
        "#last dataframe?\n",
        "wnba[-1]"
      ]
    },
    {
      "cell_type": "markdown",
      "metadata": {
        "id": "6OlpEjFsQYHF"
      },
      "source": [
        "**Example 2**\n",
        "\n",
        "List of best selling albums from Wikipedia.\n",
        "\n",
        "- https://en.wikipedia.org/wiki/List_of_best-selling_albums"
      ]
    },
    {
      "cell_type": "code",
      "execution_count": 11,
      "metadata": {
        "id": "tQjI5JEOQYHG"
      },
      "outputs": [],
      "source": [
        "url = 'https://en.wikipedia.org/wiki/List_of_best-selling_albums'"
      ]
    },
    {
      "cell_type": "code",
      "execution_count": null,
      "metadata": {
        "id": "6xvDeCE-QYHG"
      },
      "outputs": [],
      "source": [
        "#read in the tables\n"
      ]
    },
    {
      "cell_type": "code",
      "execution_count": null,
      "metadata": {
        "id": "LmXOdfUBQYHG"
      },
      "outputs": [],
      "source": [
        "#how many tables?\n"
      ]
    },
    {
      "cell_type": "code",
      "execution_count": null,
      "metadata": {
        "id": "aPRxcJqUQYHG"
      },
      "outputs": [],
      "source": [
        "#look at the fourth table\n"
      ]
    },
    {
      "cell_type": "code",
      "execution_count": null,
      "metadata": {
        "id": "pl0V25JdQYHG"
      },
      "outputs": [],
      "source": [
        "#try to convert sales to float\n"
      ]
    },
    {
      "cell_type": "code",
      "execution_count": null,
      "metadata": {
        "id": "4IMCVdLLQYHG"
      },
      "outputs": [],
      "source": [
        "#replace and coerce as float\n",
        "# fourth_table['Claimed sales*'] = fourth_table['Claimed sales*'].replace({'20[disputed – discuss]': 20}).astype('float')"
      ]
    },
    {
      "cell_type": "code",
      "execution_count": null,
      "metadata": {
        "id": "GPiVZ6p9QYHH"
      },
      "outputs": [],
      "source": [
        "#alternative with string method\n",
        "#fourth_table['Claimed sales*'].str.replace('[disputed – discuss]', '', regex = False)"
      ]
    },
    {
      "cell_type": "markdown",
      "metadata": {
        "id": "jv7wmP7hQYHH"
      },
      "source": [
        "### Scraping the Web for Data\n",
        "\n",
        "Sometimes the data is not formatted as an `html` table or `pd.read_html` simply doesn't work.  In these situations you can use the `bs4` library and its `BeautifulSoup` object to parse HTML tags and extract information.  First, make sure you have the library installed and can import it below."
      ]
    },
    {
      "cell_type": "code",
      "execution_count": 12,
      "metadata": {
        "id": "TjztiTmNQYHH"
      },
      "outputs": [],
      "source": [
        "# pip install -U bs4"
      ]
    },
    {
      "cell_type": "code",
      "execution_count": 13,
      "metadata": {
        "id": "2Q8rfIG4QYHH"
      },
      "outputs": [],
      "source": [
        "from bs4 import BeautifulSoup\n",
        "import requests"
      ]
    },
    {
      "cell_type": "code",
      "execution_count": 14,
      "metadata": {
        "id": "Y1s0k7WdQYHH"
      },
      "outputs": [],
      "source": [
        "sample_html = '''\n",
        "<h1>Music Reviews</h1>\n",
        "<p>This album was awful. <strong>Score</strong>: <i class = \"score\">2</i></p>\n",
        "<p class = \"good\">This album was great. <strong>Score</strong>: <i class = \"score\">8</i></p>\n",
        "'''"
      ]
    },
    {
      "cell_type": "code",
      "execution_count": 15,
      "metadata": {
        "id": "fQ1o8JYkQYHH"
      },
      "outputs": [],
      "source": [
        "# create a soup object\n",
        "soup = BeautifulSoup(sample_html)"
      ]
    },
    {
      "cell_type": "code",
      "execution_count": 16,
      "metadata": {
        "id": "5HSV6qYdQYHH",
        "outputId": "3eb1b55a-f362-4e10-c54d-3f339cdc3253",
        "colab": {
          "base_uri": "https://localhost:8080/"
        }
      },
      "outputs": [
        {
          "output_type": "execute_result",
          "data": {
            "text/plain": [
              "<html><body><h1>Music Reviews</h1>\n",
              "<p>This album was awful. <strong>Score</strong>: <i class=\"score\">2</i></p>\n",
              "<p class=\"good\">This album was great. <strong>Score</strong>: <i class=\"score\">8</i></p>\n",
              "</body></html>"
            ]
          },
          "metadata": {},
          "execution_count": 16
        }
      ],
      "source": [
        "# examine the soup\n",
        "soup"
      ]
    },
    {
      "cell_type": "code",
      "execution_count": 17,
      "metadata": {
        "id": "41fYP3x-QYHI",
        "outputId": "0899987d-2e70-4937-f4df-2f6a2f5dfed8",
        "colab": {
          "base_uri": "https://localhost:8080/"
        }
      },
      "outputs": [
        {
          "output_type": "execute_result",
          "data": {
            "text/plain": [
              "<p>This album was awful. <strong>Score</strong>: <i class=\"score\">2</i></p>"
            ]
          },
          "metadata": {},
          "execution_count": 17
        }
      ],
      "source": [
        "# find the <p> tags\n",
        "soup.find('p')"
      ]
    },
    {
      "cell_type": "code",
      "execution_count": 18,
      "metadata": {
        "id": "k1L5TpOzQYHI",
        "outputId": "fc5a6f6c-e959-4142-a27f-ed153f1f4443",
        "colab": {
          "base_uri": "https://localhost:8080/"
        }
      },
      "outputs": [
        {
          "output_type": "execute_result",
          "data": {
            "text/plain": [
              "<i class=\"score\">2</i>"
            ]
          },
          "metadata": {},
          "execution_count": 18
        }
      ],
      "source": [
        "# find the i tag\n",
        "soup.find('i')"
      ]
    },
    {
      "cell_type": "code",
      "execution_count": 19,
      "metadata": {
        "id": "6OBDTc7PQYHI",
        "outputId": "539313af-c02d-4c23-998d-3537681cafc8",
        "colab": {
          "base_uri": "https://localhost:8080/"
        }
      },
      "outputs": [
        {
          "output_type": "execute_result",
          "data": {
            "text/plain": [
              "[<i class=\"score\">2</i>, <i class=\"score\">8</i>]"
            ]
          },
          "metadata": {},
          "execution_count": 19
        }
      ],
      "source": [
        "# find all the i tags\n",
        "soup.find_all('i')"
      ]
    },
    {
      "cell_type": "code",
      "execution_count": 20,
      "metadata": {
        "id": "R74Cb7t7QYHI",
        "outputId": "e2db69c1-840d-4dbf-81fb-a25f74b2e6f2",
        "colab": {
          "base_uri": "https://localhost:8080/"
        }
      },
      "outputs": [
        {
          "output_type": "execute_result",
          "data": {
            "text/plain": [
              "<p class=\"good\">This album was great. <strong>Score</strong>: <i class=\"score\">8</i></p>"
            ]
          },
          "metadata": {},
          "execution_count": 20
        }
      ],
      "source": [
        "# find all good paragraphs\n",
        "soup.find('p', {'class': 'good'})"
      ]
    },
    {
      "cell_type": "markdown",
      "metadata": {
        "id": "6puhfIuhQYHI"
      },
      "source": [
        "#### Extracting Data from a URL\n",
        "\n",
        "1. Make a request.\n",
        "2. Turn the request into soup!"
      ]
    },
    {
      "cell_type": "code",
      "execution_count": 25,
      "metadata": {
        "id": "y6X_i3ZSQYHJ"
      },
      "outputs": [],
      "source": [
        "url = 'https://pitchfork.com/reviews/albums/'"
      ]
    },
    {
      "cell_type": "code",
      "execution_count": 26,
      "metadata": {
        "id": "0FHgJsnKQYHJ"
      },
      "outputs": [],
      "source": [
        "#make a request\n",
        "r = requests.get(url)"
      ]
    },
    {
      "cell_type": "code",
      "execution_count": 27,
      "metadata": {
        "id": "QWB7wgfCQYHJ",
        "outputId": "aeb0858e-7675-4450-fc71-b546f7efa0fc",
        "colab": {
          "base_uri": "https://localhost:8080/",
          "height": 125
        }
      },
      "outputs": [
        {
          "output_type": "execute_result",
          "data": {
            "text/plain": [
              "'<!DOCTYPE html><html lang=\"en-US\"><head><title>New Albums &amp; Music Reviews | Pitchfork</title><meta charSet=\"utf-8\"/><meta content=\"IE=edge\" http-equiv=\"X-UA-Compatible\"/><meta name=\"msapplication-tap-highlight\" content=\"no\"/><meta name=\"viewport\" content=\"width=device-width, initial-scale=1\"/><meta name=\"author\" content=\"Condé Nast\"/><meta name=\"copyright\" content=\"Copyright (c) Condé Nast 2025\"/><meta name=\"description\" content=\"Daily reviews of every important album in music\"/><meta name=\"id\" content=\"65ce02a52126d093a5f585e1\"/><meta name=\"keywords\" content=\"web\"/><meta name=\"news_keywords\" content=\"web\"/><meta name=\"robots\" content=\"index, follow, max-image-preview:large\"/><meta name=\"content-type\" content=\"bundle\"/><meta name=\"parsely-post-id\" content=\"65ce02a52126d093a5f585e1\"/><meta name=\"parsely-metadata\" content=\"{&quot;description&quot;:&quot;Daily reviews of every important album in music&quot;,&quot;image-16-9&quot;:&quot;https://media.pitchfork.com/photos/5935a027a28a09'"
            ],
            "application/vnd.google.colaboratory.intrinsic+json": {
              "type": "string"
            }
          },
          "metadata": {},
          "execution_count": 27
        }
      ],
      "source": [
        "#examine the text\n",
        "r.text[:1000]"
      ]
    },
    {
      "cell_type": "code",
      "execution_count": 28,
      "metadata": {
        "id": "nXNBAvfcQYHJ"
      },
      "outputs": [],
      "source": [
        "#turn it into soup!\n",
        "soup = BeautifulSoup(r.text)"
      ]
    },
    {
      "cell_type": "markdown",
      "metadata": {
        "id": "KSTMs035QYHJ"
      },
      "source": [
        "### Using Inspect\n",
        "\n",
        "You can inspect an items HTML code by right clicking on the item of interest and selecting **inspect**.  Here, you will see the html tags that surround the object of interest.  \n",
        "\n",
        "For example, when writing this lesson a recent album review on pitchfork was *Mustafa: Dunya*.  Right clicking on the image of the album cover and choosing inspect showed:\n",
        "\n",
        "![](https://github.com/jfkoehler/bootcamp_spr25/blob/master/images/pitch_cover.png?raw=1)"
      ]
    },
    {
      "cell_type": "code",
      "execution_count": 29,
      "metadata": {
        "id": "4UgDOdWqQYHJ"
      },
      "outputs": [],
      "source": [
        "#find the img tag\n",
        "dunya = soup.find('img', {'alt': 'Dunya'})"
      ]
    },
    {
      "cell_type": "code",
      "execution_count": 30,
      "metadata": {
        "id": "shA2i0tuQYHJ",
        "outputId": "447dc176-855a-4a35-cb4d-8ade9b01649b",
        "colab": {
          "base_uri": "https://localhost:8080/",
          "height": 144
        }
      },
      "outputs": [
        {
          "output_type": "error",
          "ename": "AttributeError",
          "evalue": "'NoneType' object has no attribute 'attrs'",
          "traceback": [
            "\u001b[0;31m---------------------------------------------------------------------------\u001b[0m",
            "\u001b[0;31mAttributeError\u001b[0m                            Traceback (most recent call last)",
            "\u001b[0;32m/tmp/ipython-input-690649267.py\u001b[0m in \u001b[0;36m<cell line: 0>\u001b[0;34m()\u001b[0m\n\u001b[0;32m----> 1\u001b[0;31m \u001b[0mdunya\u001b[0m\u001b[0;34m.\u001b[0m\u001b[0mattrs\u001b[0m\u001b[0;34m[\u001b[0m\u001b[0;34m'src'\u001b[0m\u001b[0;34m]\u001b[0m\u001b[0;34m\u001b[0m\u001b[0;34m\u001b[0m\u001b[0m\n\u001b[0m",
            "\u001b[0;31mAttributeError\u001b[0m: 'NoneType' object has no attribute 'attrs'"
          ]
        }
      ],
      "source": [
        "dunya.attrs['src']"
      ]
    },
    {
      "cell_type": "code",
      "execution_count": null,
      "metadata": {
        "id": "P9YErtmjQYHO"
      },
      "outputs": [],
      "source": [
        "#find all img tags\n",
        "images = soup.find_all('img')"
      ]
    },
    {
      "cell_type": "code",
      "execution_count": null,
      "metadata": {
        "id": "F-cA0gBsQYHO",
        "outputId": "a2c8efb8-8572-4dfb-98da-58fb533a5186"
      },
      "outputs": [
        {
          "data": {
            "text/plain": [
              "{'alt': 'Pitchfork',\n",
              " 'class': ['ResponsiveImageContainer-eybHBd',\n",
              "  'fptoWY',\n",
              "  'responsive-image__image'],\n",
              " 'src': '/verso/static/pitchfork/assets/logo-inverted.svg',\n",
              " 'srcset': '',\n",
              " 'sizes': '100vw'}"
            ]
          },
          "execution_count": 29,
          "metadata": {},
          "output_type": "execute_result"
        }
      ],
      "source": [
        "#explore attributes\n",
        "images[0].attrs"
      ]
    },
    {
      "cell_type": "code",
      "execution_count": null,
      "metadata": {
        "id": "I4IQLXDtQYHO",
        "outputId": "c318adc4-0565-4b23-d0c3-abcd6464c12a"
      },
      "outputs": [
        {
          "data": {
            "text/plain": [
              "['/verso/static/pitchfork/assets/logo-inverted.svg',\n",
              " '/verso/static/pitchfork/assets/logo-header.svg',\n",
              " 'https://media.pitchfork.com/photos/66a3cf7aeca3501f5dc9b121/1:1/w_1600%2Cc_limit/Being%2520Dead-%2520EELS.jpg',\n",
              " 'https://media.pitchfork.com/photos/66fc0c553dcae43f31bfd01c/1:1/w_1600%2Cc_limit/2300%2520-%2520Bully%2520Tape.jpeg',\n",
              " 'https://media.pitchfork.com/photos/66f2da330eece3c05910cb10/1:1/w_1600%2Cc_limit/Raphael%2520Raginski%2520-%2520Plays%2520John%2520Coltrane%2520and%2520Langston%2520Hughes.jpeg',\n",
              " 'https://media.pitchfork.com/photos/668fec739c03086dcec412d6/1:1/w_1600%2Cc_limit/Mustafa-Dunya.jpg',\n",
              " 'https://media.pitchfork.com/photos/66e07055506fec54a6686125/1:1/w_1600%2Cc_limit/Adeline-Hotel-Whodunnit.jpg',\n",
              " 'https://media.pitchfork.com/photos/66ed8ef4a29561bba8d0bd0f/1:1/w_1600%2Cc_limit/Tommy%2520Richman%2520-%2520Coyote.jpg',\n",
              " 'https://media.pitchfork.com/photos/66ed9384d74ab9c23d17f237/1:1/w_1600%2Cc_limit/Merce%2520Lemon%2520-%2520Watch%2520Me%2520Drive%2520Them%2520Dogs%2520Wild.jpg',\n",
              " 'https://media.pitchfork.com/photos/6695907214ee05489f0a592f/1:1/w_1600%2Cc_limit/Alan-Sparhawk-White-Roses-My-God.jpg',\n",
              " 'https://media.pitchfork.com/photos/66f2de67b80b64aad7496cb9/1:1/w_1600%2Cc_limit/Shinichi%2520Atobe%2520-%2520Peace%2520of%2520mind.jpeg',\n",
              " 'https://media.pitchfork.com/photos/66ed9b9194b1bace5b046fb0/1:1/w_1600%2Cc_limit/Silver_Jews_-_The_Natural_Bridge-transformed.jpeg',\n",
              " 'https://media.pitchfork.com/photos/66ed7776ebeaf9cbab4d800f/1:1/w_1600%2Cc_limit/Hopecore.jpg',\n",
              " 'https://media.pitchfork.com/photos/6679af9454456585e9dbc087/1:1/w_1600%2Cc_limit/SOPHIE.jpg',\n",
              " 'https://media.pitchfork.com/photos/66f2d1d7a2d52e3bd3b6bcc4/1:1/w_1600%2Cc_limit/Monaleo%2520-%2520Throwing%2520Bows.jpg',\n",
              " 'https://media.pitchfork.com/photos/668c14ffefacdaa8de5824b9/1:1/w_1600%2Cc_limit/The-Voidz-Like-All-Before-You.jpg',\n",
              " 'https://media.pitchfork.com/photos/66ed884649ec49f6714c8018/1:1/w_1600%2Cc_limit/Ulla%2520&%2520Perila%2520-%2520Jazz%2520Plates.jpg',\n",
              " 'https://media.pitchfork.com/photos/66e1f20d68d4d8de4a52fd1d/1:1/w_1600%2Cc_limit/Future-Mixtape-Pluto.jpg',\n",
              " 'https://media.pitchfork.com/photos/66e86464f23f66ab90554188/1:1/w_1600%2Cc_limit/che-Sayso%2520Says.jpg',\n",
              " 'https://media.pitchfork.com/photos/668ec1aeb6c41f622a91ae69/1:1/w_1600%2Cc_limit/Katy-Perry-143.jpg',\n",
              " 'https://media.pitchfork.com/photos/66a27f95d2d4a2270b9cb5d7/1:1/w_1600%2Cc_limit/Tom%2520Verlaine-%2520Warm%2520and%2520Cool.jpg',\n",
              " 'https://media.pitchfork.com/photos/666af7bc5d7882749b058940/1:1/w_1600%2Cc_limit/Nubya-Garcia-Odyssey.jpg',\n",
              " 'https://media.pitchfork.com/photos/66ec250f53bc2780ce12046a/1:1/w_1600%2Cc_limit/Isik%2520Kural%2520-%2520Moon%2520in%2520Gemini.jpg',\n",
              " 'https://media.pitchfork.com/photos/66ec27cea85b31e0659f5ccb/1:1/w_1600%2Cc_limit/Johnny%2520Foreigner%2520-%2520How%2520to%2520Be%2520Hopeful.jpg',\n",
              " 'https://media.pitchfork.com/photos/66e87948f23f66ab90554195/1:1/w_1600%2Cc_limit/Garbage%2520-%2520Version%25202.0.jpg',\n",
              " 'https://media.pitchfork.com/photos/66e2039c9cce584bc959aafa/1:1/w_1600%2Cc_limit/Dame-Area.jpg',\n",
              " 'https://media.pitchfork.com/photos/665e130c1a9f5a511da29b3d/1:1/w_1600%2Cc_limit/Jamie-xx-In-Waves.jpg',\n",
              " 'https://media.pitchfork.com/photos/66d76772f78476688e2139da/1:1/w_1600%2Cc_limit/Laila-Gap-Year.jpg',\n",
              " 'https://media.pitchfork.com/photos/66e2040b9cce584bc959aafc/1:1/w_1600%2Cc_limit/Estradas.jpg',\n",
              " 'https://media.pitchfork.com/photos/66ec7de26d243f5bdfbec9ec/1:1/w_1600%2Cc_limit/The-War-on-Drugs-Live-Drugs-Again.jpg',\n",
              " 'https://media.pitchfork.com/photos/66aa7ece3a12b5a1a765e9f5/1:1/w_1600%2Cc_limit/Wendy%2520Eisenberg-%2520Viewfinder.jpg',\n",
              " 'https://media.pitchfork.com/photos/6667328fd69e5b51a794a637/1:1/w_1600%2Cc_limit/Nilufer%2520Yanya%2520-%2520My%2520Method%2520Actor.jpg',\n",
              " 'https://media.pitchfork.com/photos/66436f08f556da1fd706739d/1:1/w_1600%2Cc_limit/Porches-Shirt.jpg',\n",
              " 'https://media.pitchfork.com/photos/66e871d6f23f66ab90554192/1:1/w_1600%2Cc_limit/Callahan%2520&%2520Witshcer%2520-%2520Think%2520Differently.jpg',\n",
              " 'https://media.pitchfork.com/photos/66ab7bbc3ac8c632c50feb19/1:1/w_1600%2Cc_limit/Foxing-2024.jpg',\n",
              " 'https://media.pitchfork.com/photos/66e832700bae50181a2f5715/1:1/w_1600%2Cc_limit/BASIC-This%2520is%2520BASIC.jpg',\n",
              " 'https://media.pitchfork.com/photos/66d9ab99af0da7107ffd402b/1:1/w_1600%2Cc_limit/Hayden-Pedigo-Live-in-Amarillo-Texas.jpg',\n",
              " 'https://media.pitchfork.com/photos/66e200fd920f76a9ad47c09f/1:1/w_1600%2Cc_limit/Julie.jpg',\n",
              " 'https://media.pitchfork.com/photos/66e2026d3edec531b52b09e4/1:1/w_1600%2Cc_limit/Phiik-Lungs-Carrot-Season.jpg',\n",
              " 'https://media.pitchfork.com/photos/66d9aafa568054f0dfb3dd50/1:1/w_1600%2Cc_limit/Chow-Lee.jpg',\n",
              " 'https://media.pitchfork.com/photos/66e312377fdd09a871ccf75c/1:1/w_1600%2Cc_limit/Basic-Channel-BCD.jpg',\n",
              " 'https://media.pitchfork.com/photos/66d77820e12524877f7deb7b/1:1/w_1600%2Cc_limit/Travis-Scott-Days-Before-Rodeo.jpg',\n",
              " 'https://media.pitchfork.com/photos/668c4b3d2b6494be34f5e76f/1:1/w_1600%2Cc_limit/Floating-Points-Cascade.jpg',\n",
              " 'https://media.pitchfork.com/photos/66aa80271f0846163b1acc2d/1:1/w_1600%2Cc_limit/Allegra%2520Krieger-%2520Art%2520of%2520the%2520Unseen%2520Infinity%2520Machine.jpg',\n",
              " 'https://media.pitchfork.com/photos/66d76ca40149389e6ca7bb1b/1:1/w_1600%2Cc_limit/Migratory.jpg',\n",
              " 'https://media.pitchfork.com/photos/665746837cfbcbc000644803/1:1/w_1600%2Cc_limit/Max-Richter-In-a-Landscape.jpg',\n",
              " 'https://media.pitchfork.com/photos/66db6a17e721049ebffb5689/1:1/w_1600%2Cc_limit/Fat_Dog_WOOF_art.png',\n",
              " 'https://media.pitchfork.com/photos/6696dabe17254c02f526cff9/1:1/w_1600%2Cc_limit/Nala-Sinephro-Endlessness.jpg',\n",
              " 'https://media.pitchfork.com/photos/66d768dce12524877f7deb77/1:1/w_1600%2Cc_limit/Dummy-Free-Energy.jpg',\n",
              " 'https://media.pitchfork.com/photos/6669aac2753b6dae8bc68f32/1:1/w_1600%2Cc_limit/Toro-y-Moi-Hole-Erth.jpg',\n",
              " 'https://media.pitchfork.com/photos/66a92c0c773c5da2e0d5d881/1:1/w_1600%2Cc_limit/Okay%2520Kaya-%2520Oh%2520My%2520God%2520-%2520That%25E2%2580%2599s%2520So%2520Me.jpg',\n",
              " 'https://media.pitchfork.com/photos/66db63a91ddc3876928762cb/1:1/w_1600%2Cc_limit/GAS_GAS_self-titled_art.jpg',\n",
              " 'https://media.pitchfork.com/photos/665e0847ea2d6c6ab24a412a/1:1/w_1600%2Cc_limit/Mercury-Rev-Born-Horses.jpg',\n",
              " 'https://media.pitchfork.com/photos/66d76862bf3587b9878e8a02/1:1/w_1600%2Cc_limit/The-Dare.jpg',\n",
              " 'https://media.pitchfork.com/photos/66d76d06d11a415202939982/1:1/w_1600%2Cc_limit/Molchat-Doma-Belaya-Polosa.jpg',\n",
              " 'https://media.pitchfork.com/photos/66cf5b812501b9b60e2b1ffd/1:1/w_1600%2Cc_limit/Cold-Gawd.jpg',\n",
              " 'https://media.pitchfork.com/photos/66db1ccf925c8f190079e12d/1:1/w_1600%2Cc_limit/The%2520Pogues_Rum_Sodomy_and_the_Lash_high_res_art.jpg',\n",
              " 'https://media.pitchfork.com/photos/66d08caf3d7b314e51c074ae/1:1/w_1600%2Cc_limit/Duster-In-Dreams.jpg',\n",
              " 'https://media.pitchfork.com/photos/6678bbeb08c7a1384158e8c0/1:1/w_1600%2Cc_limit/MJ%2520Lenderman%2520-%2520Manning%2520Fireworks%2520Album%2520Art.jpg',\n",
              " 'https://media.pitchfork.com/photos/66d9e5b8aa62241a46d71d0f/1:1/w_1600%2Cc_limit/Fcukers_Baggy$$_EP.png',\n",
              " 'https://media.pitchfork.com/photos/66d1c2eafd9e0a487cca0d48/1:1/w_1600%2Cc_limit/Destroy-Lonely.jpg',\n",
              " 'https://media.pitchfork.com/photos/66d070068a7ef80640569e23/1:1/w_1600%2Cc_limit/Doechii.jpg',\n",
              " 'https://media.pitchfork.com/photos/66cf5bfff3807d38ff64519f/1:1/w_1600%2Cc_limit/Why-Bonnie.jpg',\n",
              " 'https://media.pitchfork.com/photos/65e8a8030b535fdbb08147cd/1:1/w_1600%2Cc_limit/Nick-Cave-Wild-God.jpg',\n",
              " 'https://media.pitchfork.com/photos/66708140dc443478fe78e69f/1:1/w_1600%2Cc_limit/Laurie-Anderson-Amelia.jpg',\n",
              " 'https://media.pitchfork.com/photos/66d7230ff78476688e21398e/1:1/w_1600%2Cc_limit/Peel%2520Dream%2520Magazine%2520-%2520Rose%2520Main%2520Reading%2520Room.jpg',\n",
              " 'https://media.pitchfork.com/photos/662fb40945ecfc72f1b01caf/1:1/w_1600%2Cc_limit/jonhopkins_RITUAL_3000x3000.jpg',\n",
              " 'https://media.pitchfork.com/photos/66cf5a815008c27a59d6ebb8/1:1/w_1600%2Cc_limit/Lia-Kohl-Normal-Sounds.jpg',\n",
              " 'https://media.pitchfork.com/photos/66d0e144cdf1dcd025458e3e/1:1/w_1600%2Cc_limit/1tbsp_megacity1000.jpg',\n",
              " 'https://media.pitchfork.com/photos/666094ca71020266169e6400/1:1/w_1600%2Cc_limit/Ween-Chocolate-and-Cheese.jpg',\n",
              " 'https://media.pitchfork.com/photos/66d08d963d7b314e51c074b0/1:1/w_1600%2Cc_limit/Dorothy_Carter_Troubadour_artwork.png',\n",
              " 'https://media.pitchfork.com/photos/66a00d6327bd862f0b38ccd1/1:1/w_1600%2Cc_limit/Seefeel-Everything-Squared.jpg',\n",
              " 'https://media.pitchfork.com/photos/66cf585a22a3cca5e27fe0c9/1:1/w_1600%2Cc_limit/Coco-and-Clair-Clair-Girl.jpg',\n",
              " 'https://media.pitchfork.com/photos/66a29b2b15251dbe80c29be2/1:1/w_1600%2Cc_limit/Paris%2520Paloma-%2520Cacophony.png',\n",
              " 'https://media.pitchfork.com/photos/66732cd8370ad66cfda70cd6/1:1/w_1600%2Cc_limit/The-Softies.jpg',\n",
              " 'https://media.pitchfork.com/photos/66c490c0539f3919f01513cd/1:1/w_1600%2Cc_limit/Jaeychino-Watch-the-Throne.jpg',\n",
              " 'https://media.pitchfork.com/photos/66c49e112646d3896f0b8315/1:1/w_1600%2Cc_limit/Ka.jpg',\n",
              " 'https://media.pitchfork.com/photos/66699e711496d5ecbb675938/1:1/w_1600%2Cc_limit/Spirit-of-the-Beehive-Youll-Have-to-Lose-Something.jpg',\n",
              " 'https://media.pitchfork.com/photos/66605f2a74fae9996708edd2/1:1/w_1600%2Cc_limit/Illuminati-Hotties-Power.jpg',\n",
              " 'https://media.pitchfork.com/photos/661d440bfcf3e483157e6e29/1:1/w_1600%2Cc_limit/Body-Meat-Starchris.jpg',\n",
              " 'https://media.pitchfork.com/photos/66ccd64436fd3358189ce973/1:1/w_1600%2Cc_limit/Etelin_Patio_User_Manual_artwork.jpg',\n",
              " 'https://media.pitchfork.com/photos/66c49e1f076eb340c39090c8/1:1/w_1600%2Cc_limit/J-Mamana.jpg',\n",
              " 'https://media.pitchfork.com/photos/6662e6122ce1ce711b18e944/1:1/w_1600%2Cc_limit/Sabrina-Carpenter-Short-n-Sweet.jpg',\n",
              " 'https://media.pitchfork.com/photos/668ee334d1a4b2217f3f7bd1/1:1/w_1600%2Cc_limit/The-Get-Up-Kids.jpg',\n",
              " 'https://media.pitchfork.com/photos/667afd592d8a77096d033bb4/1:1/w_1600%2Cc_limit/Heems-Veena-LP.jpg',\n",
              " 'https://media.pitchfork.com/photos/66c8ff29c841f10b10b5d408/1:1/w_1600%2Cc_limit/soundbombing-II.png',\n",
              " 'https://media.pitchfork.com/photos/66b147c6bce7f1d9f43d407e/1:1/w_1600%2Cc_limit/Throbbing%2520Gristle-%2520TGCD1.jpg',\n",
              " 'https://media.pitchfork.com/photos/668ed2fafefe1050fc3c42d2/1:1/w_1600%2Cc_limit/Magdalena-Bay-Imaginal-Disk.jpg',\n",
              " 'https://media.pitchfork.com/photos/66bca3a094b449df62a0f729/1:1/w_1600%2Cc_limit/Play-Cash-Cobain.jpg',\n",
              " 'https://media.pitchfork.com/photos/6674467756eeca15d8870072/1:1/w_1600%2Cc_limit/Fake%2520Fruit%2520-%2520Mucho%2520Mistrust.jpeg',\n",
              " 'https://media.pitchfork.com/photos/661fd84fb341975f564d5886/1:1/w_1600%2Cc_limit/FontainesDC_Romance_4000x40002.jpg',\n",
              " 'https://media.pitchfork.com/photos/66994b3db9519fc29d58ac1e/1:1/w_1600%2Cc_limit/Gillian-Welch-David-Rawlings-Woodland.jpg',\n",
              " 'https://media.pitchfork.com/photos/6630765760179481fc71a591/1:1/w_1600%2Cc_limit/Charly%2520Bliss%2520-%2520FOREVER%2520_%2520Album%2520Art.jpg',\n",
              " 'https://media.pitchfork.com/photos/66c4bf799c2fa1203ad17aee/1:1/w_1600%2Cc_limit/Rosie_Lowe_Lover_Other_artwork.jpg',\n",
              " 'https://media.pitchfork.com/photos/66bfa5c86cc8a418447da691/1:1/w_1600%2Cc_limit/Charley-Crockett-10-Cowboy.jpg',\n",
              " 'https://media.pitchfork.com/photos/6674701fd1dae617f0a0d477/1:1/w_1600%2Cc_limit/Post-Malone-F-1-Trillion.jpg',\n",
              " 'https://media.pitchfork.com/photos/66b144965298828208bc7a28/1:1/w_1600%2Cc_limit/Chuck%2520Johnson-%2520Sun%2520Glories.jpg',\n",
              " 'https://media.pitchfork.com/photos/66a92786ec557b4af1433e1b/1:1/w_1600%2Cc_limit/Delicate%2520Steve-%2520Delicate%2520Steve%2520Sings.png',\n",
              " '/verso/static/pitchfork/assets/logo-reverse.svg']"
            ]
          },
          "execution_count": 30,
          "metadata": {},
          "output_type": "execute_result"
        }
      ],
      "source": [
        "#extract source of image url\n",
        "[img.attrs['src'] for img in images]"
      ]
    },
    {
      "cell_type": "code",
      "execution_count": null,
      "metadata": {
        "id": "5WSG7OC_QYHO"
      },
      "outputs": [],
      "source": [
        "# extract the genre tags\n"
      ]
    },
    {
      "cell_type": "code",
      "execution_count": null,
      "metadata": {
        "id": "1mMuJi_wQYHO"
      },
      "outputs": [],
      "source": [
        "# extract the text from the genres\n"
      ]
    },
    {
      "cell_type": "markdown",
      "metadata": {
        "id": "QJbOVm6WQYHP"
      },
      "source": [
        "**PROBLEM**\n",
        "\n",
        "Use the url below to the npr book review site.  Make a request, turn this into a soup object, and use the inspect tool to locate the title of each article on the page.  "
      ]
    },
    {
      "cell_type": "code",
      "execution_count": null,
      "metadata": {
        "id": "7eGmPKHAQYHP"
      },
      "outputs": [],
      "source": [
        "url = 'https://www.npr.org/sections/book-reviews/'"
      ]
    },
    {
      "cell_type": "code",
      "execution_count": null,
      "metadata": {
        "id": "tW180yu4QYHP"
      },
      "outputs": [],
      "source": []
    },
    {
      "cell_type": "code",
      "execution_count": null,
      "metadata": {
        "id": "Ev5SAjAvQYHP"
      },
      "outputs": [],
      "source": []
    },
    {
      "cell_type": "code",
      "execution_count": null,
      "metadata": {
        "id": "SHm5XqghQYHP"
      },
      "outputs": [],
      "source": []
    },
    {
      "cell_type": "code",
      "execution_count": null,
      "metadata": {
        "id": "WMkPGY3sQYHP"
      },
      "outputs": [],
      "source": []
    },
    {
      "cell_type": "code",
      "execution_count": null,
      "metadata": {
        "id": "FOhHt25xQYHP"
      },
      "outputs": [],
      "source": []
    },
    {
      "cell_type": "markdown",
      "metadata": {
        "id": "hj7O_pjJQYHP"
      },
      "source": [
        "#### Problem\n",
        "\n",
        "Head over to [Quotes to Scrape](https://quotes.toscrape.com/) and use `requests` and `BeautifulSoup` to extract and structure the quotes as a `DataFrame` similar to that below:\n",
        "\n",
        "| quote | author | tags |\n",
        "| ------ | --------- | ------- |\n",
        "| The world as we have created it is a process of our thinking. It cannot be changed without changing our thinking | Albert Einstein |  [change ,deep-thoughts, thinking, world] |"
      ]
    },
    {
      "cell_type": "code",
      "execution_count": null,
      "metadata": {
        "id": "1rOMii_RQYHP"
      },
      "outputs": [],
      "source": []
    },
    {
      "cell_type": "code",
      "execution_count": null,
      "metadata": {
        "id": "Hxmj8GOAQYHQ"
      },
      "outputs": [],
      "source": []
    },
    {
      "cell_type": "code",
      "execution_count": null,
      "metadata": {
        "id": "TSkvwZz8QYHQ"
      },
      "outputs": [],
      "source": []
    },
    {
      "cell_type": "code",
      "execution_count": null,
      "metadata": {
        "id": "G8lJAJ6IQYHQ"
      },
      "outputs": [],
      "source": []
    },
    {
      "cell_type": "code",
      "execution_count": null,
      "metadata": {
        "id": "r1DoGq2uQYHQ"
      },
      "outputs": [],
      "source": []
    }
  ],
  "metadata": {
    "kernelspec": {
      "display_name": "Python 3 (ipykernel)",
      "language": "python",
      "name": "python3"
    },
    "language_info": {
      "codemirror_mode": {
        "name": "ipython",
        "version": 3
      },
      "file_extension": ".py",
      "mimetype": "text/x-python",
      "name": "python",
      "nbconvert_exporter": "python",
      "pygments_lexer": "ipython3",
      "version": "3.12.0"
    },
    "colab": {
      "provenance": [],
      "include_colab_link": true
    }
  },
  "nbformat": 4,
  "nbformat_minor": 0
}