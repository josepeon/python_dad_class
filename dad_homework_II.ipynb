{
  "cells": [
    {
      "cell_type": "markdown",
      "metadata": {
        "id": "view-in-github",
        "colab_type": "text"
      },
      "source": [
        "<a href=\"https://colab.research.google.com/github/josepeon/python_dad_class/blob/main/dad_homework_II.ipynb\" target=\"_parent\"><img src=\"https://colab.research.google.com/assets/colab-badge.svg\" alt=\"Open In Colab\"/></a>"
      ]
    },
    {
      "cell_type": "markdown",
      "metadata": {
        "id": "liXIP8MGJbFj"
      },
      "source": [
        "### Homework 2: Pandas and Introductory Plotting"
      ]
    },
    {
      "cell_type": "code",
      "execution_count": 2,
      "metadata": {
        "tags": [],
        "id": "-vlN8TnFJbFk"
      },
      "outputs": [],
      "source": [
        "import pandas as pd\n",
        "import matplotlib.pyplot as plt\n",
        "import numpy as np\n",
        "import seaborn as sns"
      ]
    },
    {
      "cell_type": "markdown",
      "metadata": {
        "id": "KjA3lp1GJbFl"
      },
      "source": [
        "**Problem 1**: Loading a data file.\n",
        "\n",
        "Below, load in the data from the `spotify.csv` file.  Assign it to a variable `spotify` below.  "
      ]
    },
    {
      "cell_type": "code",
      "execution_count": 3,
      "metadata": {
        "id": "-MBwKa0zJbFl"
      },
      "outputs": [],
      "source": [
        "spotify_url = 'https://raw.githubusercontent.com/jfkoehler/nyu_bootcamp_fa25/refs/heads/main/data/spotify.csv'"
      ]
    },
    {
      "cell_type": "code",
      "execution_count": 4,
      "metadata": {
        "id": "M26Qjh1YJbFm"
      },
      "outputs": [],
      "source": [
        "spotify = pd.read_csv(spotify_url)"
      ]
    },
    {
      "cell_type": "markdown",
      "metadata": {
        "id": "_PttVqvCJbFm"
      },
      "source": [
        "**Problem 2**: Who is the most frequently occurring artist in the data?  "
      ]
    },
    {
      "cell_type": "code",
      "execution_count": 5,
      "metadata": {
        "id": "O1H6m5xEJbFm",
        "colab": {
          "base_uri": "https://localhost:8080/",
          "height": 490
        },
        "outputId": "59f9ab97-c221-4d26-dc47-34622b1fef92"
      },
      "outputs": [
        {
          "output_type": "execute_result",
          "data": {
            "text/plain": [
              "artist\n",
              "Drake                 16\n",
              "Rick Ross             13\n",
              "Disclosure            12\n",
              "Backstreet Boys       10\n",
              "WALK THE MOON         10\n",
              "                      ..\n",
              "Master C & J           1\n",
              "Patrick Di Stefano     1\n",
              "The Contours           1\n",
              "Empress Of             1\n",
              "The Third Degree       1\n",
              "Name: count, Length: 1343, dtype: int64"
            ],
            "text/html": [
              "<div>\n",
              "<style scoped>\n",
              "    .dataframe tbody tr th:only-of-type {\n",
              "        vertical-align: middle;\n",
              "    }\n",
              "\n",
              "    .dataframe tbody tr th {\n",
              "        vertical-align: top;\n",
              "    }\n",
              "\n",
              "    .dataframe thead th {\n",
              "        text-align: right;\n",
              "    }\n",
              "</style>\n",
              "<table border=\"1\" class=\"dataframe\">\n",
              "  <thead>\n",
              "    <tr style=\"text-align: right;\">\n",
              "      <th></th>\n",
              "      <th>count</th>\n",
              "    </tr>\n",
              "    <tr>\n",
              "      <th>artist</th>\n",
              "      <th></th>\n",
              "    </tr>\n",
              "  </thead>\n",
              "  <tbody>\n",
              "    <tr>\n",
              "      <th>Drake</th>\n",
              "      <td>16</td>\n",
              "    </tr>\n",
              "    <tr>\n",
              "      <th>Rick Ross</th>\n",
              "      <td>13</td>\n",
              "    </tr>\n",
              "    <tr>\n",
              "      <th>Disclosure</th>\n",
              "      <td>12</td>\n",
              "    </tr>\n",
              "    <tr>\n",
              "      <th>Backstreet Boys</th>\n",
              "      <td>10</td>\n",
              "    </tr>\n",
              "    <tr>\n",
              "      <th>WALK THE MOON</th>\n",
              "      <td>10</td>\n",
              "    </tr>\n",
              "    <tr>\n",
              "      <th>...</th>\n",
              "      <td>...</td>\n",
              "    </tr>\n",
              "    <tr>\n",
              "      <th>Master C &amp; J</th>\n",
              "      <td>1</td>\n",
              "    </tr>\n",
              "    <tr>\n",
              "      <th>Patrick Di Stefano</th>\n",
              "      <td>1</td>\n",
              "    </tr>\n",
              "    <tr>\n",
              "      <th>The Contours</th>\n",
              "      <td>1</td>\n",
              "    </tr>\n",
              "    <tr>\n",
              "      <th>Empress Of</th>\n",
              "      <td>1</td>\n",
              "    </tr>\n",
              "    <tr>\n",
              "      <th>The Third Degree</th>\n",
              "      <td>1</td>\n",
              "    </tr>\n",
              "  </tbody>\n",
              "</table>\n",
              "<p>1343 rows × 1 columns</p>\n",
              "</div><br><label><b>dtype:</b> int64</label>"
            ]
          },
          "metadata": {},
          "execution_count": 5
        }
      ],
      "source": [
        "spotify.head()\n",
        "spotify['artist'].value_counts()\n",
        "# Drake is the most frequently occurring"
      ]
    },
    {
      "cell_type": "markdown",
      "metadata": {
        "id": "fj52HCOgJbFm"
      },
      "source": [
        "**Problem 3**: Using `matplotlib` create a histogram for the `tempo` column."
      ]
    },
    {
      "cell_type": "code",
      "execution_count": 6,
      "metadata": {
        "id": "rsPQHMB-JbFm",
        "colab": {
          "base_uri": "https://localhost:8080/",
          "height": 430
        },
        "outputId": "1cdc6da2-f62a-4007-f8bd-0bdfb0affb00"
      },
      "outputs": [
        {
          "output_type": "display_data",
          "data": {
            "text/plain": [
              "<Figure size 640x480 with 1 Axes>"
            ],
            "image/png": "[encoded data removed]"
          },
          "metadata": {}
        }
      ],
      "source": [
        "plt.hist(spotify['tempo'])\n",
        "plt.show()"
      ]
    },
    {
      "cell_type": "markdown",
      "metadata": {
        "id": "10twO-xiJbFm"
      },
      "source": [
        "**Problem 4**: Using `matplotlib` create a scatterplot of `tempo` vs. `danceability`.  Do these features seem related?"
      ]
    },
    {
      "cell_type": "code",
      "execution_count": 7,
      "metadata": {
        "tags": [],
        "id": "PrlZIhnEJbFn",
        "colab": {
          "base_uri": "https://localhost:8080/",
          "height": 430
        },
        "outputId": "616adcd8-da47-46ac-9c99-433939449662"
      },
      "outputs": [
        {
          "output_type": "display_data",
          "data": {
            "text/plain": [
              "<Figure size 640x480 with 1 Axes>"
            ],
            "image/png": "[encoded data removed]"
          },
          "metadata": {}
        }
      ],
      "source": [
        "plt.scatter(spotify['tempo'], spotify['danceability'])\n",
        "plt.show()"
      ]
    },
    {
      "cell_type": "markdown",
      "metadata": {
        "id": "O7fyE49dJbFn"
      },
      "source": [
        "**Problem 5**: Load in the `cell_phone_churn.csv` data and assign as `churn` below.\n",
        "\n",
        "This dataset contains customer information from a telecommunications company about customer churn.  A customer is *churned* if they leave the provider."
      ]
    },
    {
      "cell_type": "code",
      "execution_count": 8,
      "metadata": {
        "id": "rFbSIOKrJbFn"
      },
      "outputs": [],
      "source": [
        "churn_url = 'https://raw.githubusercontent.com/jfkoehler/nyu_bootcamp_fa25/refs/heads/main/data/cell_phone_churn.csv'"
      ]
    },
    {
      "cell_type": "code",
      "execution_count": 9,
      "metadata": {
        "tags": [],
        "id": "x3J1OJi6JbFn",
        "outputId": "f27d4ae4-8990-4cf0-c782-bba326ab1ac4",
        "colab": {
          "base_uri": "https://localhost:8080/",
          "height": 226
        }
      },
      "outputs": [
        {
          "output_type": "execute_result",
          "data": {
            "text/plain": [
              "  state  account_length  area_code intl_plan vmail_plan  vmail_message  \\\n",
              "0    KS             128        415        no        yes             25   \n",
              "1    OH             107        415        no        yes             26   \n",
              "2    NJ             137        415        no         no              0   \n",
              "3    OH              84        408       yes         no              0   \n",
              "4    OK              75        415       yes         no              0   \n",
              "\n",
              "   day_mins  day_calls  day_charge  eve_mins  eve_calls  eve_charge  \\\n",
              "0     265.1        110       45.07     197.4         99       16.78   \n",
              "1     161.6        123       27.47     195.5        103       16.62   \n",
              "2     243.4        114       41.38     121.2        110       10.30   \n",
              "3     299.4         71       50.90      61.9         88        5.26   \n",
              "4     166.7        113       28.34     148.3        122       12.61   \n",
              "\n",
              "   night_mins  night_calls  night_charge  intl_mins  intl_calls  intl_charge  \\\n",
              "0       244.7           91         11.01       10.0           3         2.70   \n",
              "1       254.4          103         11.45       13.7           3         3.70   \n",
              "2       162.6          104          7.32       12.2           5         3.29   \n",
              "3       196.9           89          8.86        6.6           7         1.78   \n",
              "4       186.9          121          8.41       10.1           3         2.73   \n",
              "\n",
              "   custserv_calls  churn  \n",
              "0               1  False  \n",
              "1               1  False  \n",
              "2               0  False  \n",
              "3               2  False  \n",
              "4               3  False  "
            ],
            "text/html": [
              "\n",
              "  <div id=\"df-b7687df1-e385-42a0-b482-30d4414013ca\" class=\"colab-df-container\">\n",
              "    <div>\n",
              "<style scoped>\n",
              "    .dataframe tbody tr th:only-of-type {\n",
              "        vertical-align: middle;\n",
              "    }\n",
              "\n",
              "    .dataframe tbody tr th {\n",
              "        vertical-align: top;\n",
              "    }\n",
              "\n",
              "    .dataframe thead th {\n",
              "        text-align: right;\n",
              "    }\n",
              "</style>\n",
              "<table border=\"1\" class=\"dataframe\">\n",
              "  <thead>\n",
              "    <tr style=\"text-align: right;\">\n",
              "      <th></th>\n",
              "      <th>state</th>\n",
              "      <th>account_length</th>\n",
              "      <th>area_code</th>\n",
              "      <th>intl_plan</th>\n",
              "      <th>vmail_plan</th>\n",
              "      <th>vmail_message</th>\n",
              "      <th>day_mins</th>\n",
              "      <th>day_calls</th>\n",
              "      <th>day_charge</th>\n",
              "      <th>eve_mins</th>\n",
              "      <th>eve_calls</th>\n",
              "      <th>eve_charge</th>\n",
              "      <th>night_mins</th>\n",
              "      <th>night_calls</th>\n",
              "      <th>night_charge</th>\n",
              "      <th>intl_mins</th>\n",
              "      <th>intl_calls</th>\n",
              "      <th>intl_charge</th>\n",
              "      <th>custserv_calls</th>\n",
              "      <th>churn</th>\n",
              "    </tr>\n",
              "  </thead>\n",
              "  <tbody>\n",
              "    <tr>\n",
              "      <th>0</th>\n",
              "      <td>KS</td>\n",
              "      <td>128</td>\n",
              "      <td>415</td>\n",
              "      <td>no</td>\n",
              "      <td>yes</td>\n",
              "      <td>25</td>\n",
              "      <td>265.1</td>\n",
              "      <td>110</td>\n",
              "      <td>45.07</td>\n",
              "      <td>197.4</td>\n",
              "      <td>99</td>\n",
              "      <td>16.78</td>\n",
              "      <td>244.7</td>\n",
              "      <td>91</td>\n",
              "      <td>11.01</td>\n",
              "      <td>10.0</td>\n",
              "      <td>3</td>\n",
              "      <td>2.70</td>\n",
              "      <td>1</td>\n",
              "      <td>False</td>\n",
              "    </tr>\n",
              "    <tr>\n",
              "      <th>1</th>\n",
              "      <td>OH</td>\n",
              "      <td>107</td>\n",
              "      <td>415</td>\n",
              "      <td>no</td>\n",
              "      <td>yes</td>\n",
              "      <td>26</td>\n",
              "      <td>161.6</td>\n",
              "      <td>123</td>\n",
              "      <td>27.47</td>\n",
              "      <td>195.5</td>\n",
              "      <td>103</td>\n",
              "      <td>16.62</td>\n",
              "      <td>254.4</td>\n",
              "      <td>103</td>\n",
              "      <td>11.45</td>\n",
              "      <td>13.7</td>\n",
              "      <td>3</td>\n",
              "      <td>3.70</td>\n",
              "      <td>1</td>\n",
              "      <td>False</td>\n",
              "    </tr>\n",
              "    <tr>\n",
              "      <th>2</th>\n",
              "      <td>NJ</td>\n",
              "      <td>137</td>\n",
              "      <td>415</td>\n",
              "      <td>no</td>\n",
              "      <td>no</td>\n",
              "      <td>0</td>\n",
              "      <td>243.4</td>\n",
              "      <td>114</td>\n",
              "      <td>41.38</td>\n",
              "      <td>121.2</td>\n",
              "      <td>110</td>\n",
              "      <td>10.30</td>\n",
              "      <td>162.6</td>\n",
              "      <td>104</td>\n",
              "      <td>7.32</td>\n",
              "      <td>12.2</td>\n",
              "      <td>5</td>\n",
              "      <td>3.29</td>\n",
              "      <td>0</td>\n",
              "      <td>False</td>\n",
              "    </tr>\n",
              "    <tr>\n",
              "      <th>3</th>\n",
              "      <td>OH</td>\n",
              "      <td>84</td>\n",
              "      <td>408</td>\n",
              "      <td>yes</td>\n",
              "      <td>no</td>\n",
              "      <td>0</td>\n",
              "      <td>299.4</td>\n",
              "      <td>71</td>\n",
              "      <td>50.90</td>\n",
              "      <td>61.9</td>\n",
              "      <td>88</td>\n",
              "      <td>5.26</td>\n",
              "      <td>196.9</td>\n",
              "      <td>89</td>\n",
              "      <td>8.86</td>\n",
              "      <td>6.6</td>\n",
              "      <td>7</td>\n",
              "      <td>1.78</td>\n",
              "      <td>2</td>\n",
              "      <td>False</td>\n",
              "    </tr>\n",
              "    <tr>\n",
              "      <th>4</th>\n",
              "      <td>OK</td>\n",
              "      <td>75</td>\n",
              "      <td>415</td>\n",
              "      <td>yes</td>\n",
              "      <td>no</td>\n",
              "      <td>0</td>\n",
              "      <td>166.7</td>\n",
              "      <td>113</td>\n",
              "      <td>28.34</td>\n",
              "      <td>148.3</td>\n",
              "      <td>122</td>\n",
              "      <td>12.61</td>\n",
              "      <td>186.9</td>\n",
              "      <td>121</td>\n",
              "      <td>8.41</td>\n",
              "      <td>10.1</td>\n",
              "      <td>3</td>\n",
              "      <td>2.73</td>\n",
              "      <td>3</td>\n",
              "      <td>False</td>\n",
              "    </tr>\n",
              "  </tbody>\n",
              "</table>\n",
              "</div>\n",
              "    <div class=\"colab-df-buttons\">\n",
              "\n",
              "  <div class=\"colab-df-container\">\n",
              "    <button class=\"colab-df-convert\" onclick=\"convertToInteractive('df-b7687df1-e385-42a0-b482-30d4414013ca')\"\n",
              "            title=\"Convert this dataframe to an interactive table.\"\n",
              "            style=\"display:none;\">\n",
              "\n",
              "  <svg xmlns=\"http://www.w3.org/2000/svg\" height=\"24px\" viewBox=\"0 -960 960 960\">\n",
              "    <path d=\"M120-120v-720h720v720H120Zm60-500h600v-160H180v160Zm220 220h160v-160H400v160Zm0 220h160v-160H400v160ZM180-400h160v-160H180v160Zm440 0h160v-160H620v160ZM180-180h160v-160H180v160Zm440 0h160v-160H620v160Z\"/>\n",
              "  </svg>\n",
              "    </button>\n",
              "\n",
              "  <style>\n",
              "    .colab-df-container {\n",
              "      display:flex;\n",
              "      gap: 12px;\n",
              "    }\n",
              "\n",
              "    .colab-df-convert {\n",
              "      background-color: #E8F0FE;\n",
              "      border: none;\n",
              "      border-radius: 50%;\n",
              "      cursor: pointer;\n",
              "      display: none;\n",
              "      fill: #1967D2;\n",
              "      height: 32px;\n",
              "      padding: 0 0 0 0;\n",
              "      width: 32px;\n",
              "    }\n",
              "\n",
              "    .colab-df-convert:hover {\n",
              "      background-color: #E2EBFA;\n",
              "      box-shadow: 0px 1px 2px rgba(60, 64, 67, 0.3), 0px 1px 3px 1px rgba(60, 64, 67, 0.15);\n",
              "      fill: #174EA6;\n",
              "    }\n",
              "\n",
              "    .colab-df-buttons div {\n",
              "      margin-bottom: 4px;\n",
              "    }\n",
              "\n",
              "    [theme=dark] .colab-df-convert {\n",
              "      background-color: #3B4455;\n",
              "      fill: #D2E3FC;\n",
              "    }\n",
              "\n",
              "    [theme=dark] .colab-df-convert:hover {\n",
              "      background-color: #434B5C;\n",
              "      box-shadow: 0px 1px 3px 1px rgba(0, 0, 0, 0.15);\n",
              "      filter: drop-shadow(0px 1px 2px rgba(0, 0, 0, 0.3));\n",
              "      fill: #FFFFFF;\n",
              "    }\n",
              "  </style>\n",
              "\n",
              "    <script>\n",
              "      const buttonEl =\n",
              "        document.querySelector('#df-b7687df1-e385-42a0-b482-30d4414013ca button.colab-df-convert');\n",
              "      buttonEl.style.display =\n",
              "        google.colab.kernel.accessAllowed ? 'block' : 'none';\n",
              "\n",
              "      async function convertToInteractive(key) {\n",
              "        const element = document.querySelector('#df-b7687df1-e385-42a0-b482-30d4414013ca');\n",
              "        const dataTable =\n",
              "          await google.colab.kernel.invokeFunction('convertToInteractive',\n",
              "                                                    [key], {});\n",
              "        if (!dataTable) return;\n",
              "\n",
              "        const docLinkHtml = 'Like what you see? Visit the ' +\n",
              "          '<a target=\"_blank\" href=https://colab.research.google.com/notebooks/data_table.ipynb>data table notebook</a>'\n",
              "          + ' to learn more about interactive tables.';\n",
              "        element.innerHTML = '';\n",
              "        dataTable['output_type'] = 'display_data';\n",
              "        await google.colab.output.renderOutput(dataTable, element);\n",
              "        const docLink = document.createElement('div');\n",
              "        docLink.innerHTML = docLinkHtml;\n",
              "        element.appendChild(docLink);\n",
              "      }\n",
              "    </script>\n",
              "  </div>\n",
              "\n",
              "\n",
              "    <div id=\"df-149244b8-4180-4145-9d37-db1ab7abfd6d\">\n",
              "      <button class=\"colab-df-quickchart\" onclick=\"quickchart('df-149244b8-4180-4145-9d37-db1ab7abfd6d')\"\n",
              "                title=\"Suggest charts\"\n",
              "                style=\"display:none;\">\n",
              "\n",
              "<svg xmlns=\"http://www.w3.org/2000/svg\" height=\"24px\"viewBox=\"0 0 24 24\"\n",
              "     width=\"24px\">\n",
              "    <g>\n",
              "        <path d=\"M19 3H5c-1.1 0-2 .9-2 2v14c0 1.1.9 2 2 2h14c1.1 0 2-.9 2-2V5c0-1.1-.9-2-2-2zM9 17H7v-7h2v7zm4 0h-2V7h2v10zm4 0h-2v-4h2v4z\"/>\n",
              "    </g>\n",
              "</svg>\n",
              "      </button>\n",
              "\n",
              "<style>\n",
              "  .colab-df-quickchart {\n",
              "      --bg-color: #E8F0FE;\n",
              "      --fill-color: #1967D2;\n",
              "      --hover-bg-color: #E2EBFA;\n",
              "      --hover-fill-color: #174EA6;\n",
              "      --disabled-fill-color: #AAA;\n",
              "      --disabled-bg-color: #DDD;\n",
              "  }\n",
              "\n",
              "  [theme=dark] .colab-df-quickchart {\n",
              "      --bg-color: #3B4455;\n",
              "      --fill-color: #D2E3FC;\n",
              "      --hover-bg-color: #434B5C;\n",
              "      --hover-fill-color: #FFFFFF;\n",
              "      --disabled-bg-color: #3B4455;\n",
              "      --disabled-fill-color: #666;\n",
              "  }\n",
              "\n",
              "  .colab-df-quickchart {\n",
              "    background-color: var(--bg-color);\n",
              "    border: none;\n",
              "    border-radius: 50%;\n",
              "    cursor: pointer;\n",
              "    display: none;\n",
              "    fill: var(--fill-color);\n",
              "    height: 32px;\n",
              "    padding: 0;\n",
              "    width: 32px;\n",
              "  }\n",
              "\n",
              "  .colab-df-quickchart:hover {\n",
              "    background-color: var(--hover-bg-color);\n",
              "    box-shadow: 0 1px 2px rgba(60, 64, 67, 0.3), 0 1px 3px 1px rgba(60, 64, 67, 0.15);\n",
              "    fill: var(--button-hover-fill-color);\n",
              "  }\n",
              "\n",
              "  .colab-df-quickchart-complete:disabled,\n",
              "  .colab-df-quickchart-complete:disabled:hover {\n",
              "    background-color: var(--disabled-bg-color);\n",
              "    fill: var(--disabled-fill-color);\n",
              "    box-shadow: none;\n",
              "  }\n",
              "\n",
              "  .colab-df-spinner {\n",
              "    border: 2px solid var(--fill-color);\n",
              "    border-color: transparent;\n",
              "    border-bottom-color: var(--fill-color);\n",
              "    animation:\n",
              "      spin 1s steps(1) infinite;\n",
              "  }\n",
              "\n",
              "  @keyframes spin {\n",
              "    0% {\n",
              "      border-color: transparent;\n",
              "      border-bottom-color: var(--fill-color);\n",
              "      border-left-color: var(--fill-color);\n",
              "    }\n",
              "    20% {\n",
              "      border-color: transparent;\n",
              "      border-left-color: var(--fill-color);\n",
              "      border-top-color: var(--fill-color);\n",
              "    }\n",
              "    30% {\n",
              "      border-color: transparent;\n",
              "      border-left-color: var(--fill-color);\n",
              "      border-top-color: var(--fill-color);\n",
              "      border-right-color: var(--fill-color);\n",
              "    }\n",
              "    40% {\n",
              "      border-color: transparent;\n",
              "      border-right-color: var(--fill-color);\n",
              "      border-top-color: var(--fill-color);\n",
              "    }\n",
              "    60% {\n",
              "      border-color: transparent;\n",
              "      border-right-color: var(--fill-color);\n",
              "    }\n",
              "    80% {\n",
              "      border-color: transparent;\n",
              "      border-right-color: var(--fill-color);\n",
              "      border-bottom-color: var(--fill-color);\n",
              "    }\n",
              "    90% {\n",
              "      border-color: transparent;\n",
              "      border-bottom-color: var(--fill-color);\n",
              "    }\n",
              "  }\n",
              "</style>\n",
              "\n",
              "      <script>\n",
              "        async function quickchart(key) {\n",
              "          const quickchartButtonEl =\n",
              "            document.querySelector('#' + key + ' button');\n",
              "          quickchartButtonEl.disabled = true;  // To prevent multiple clicks.\n",
              "          quickchartButtonEl.classList.add('colab-df-spinner');\n",
              "          try {\n",
              "            const charts = await google.colab.kernel.invokeFunction(\n",
              "                'suggestCharts', [key], {});\n",
              "          } catch (error) {\n",
              "            console.error('Error during call to suggestCharts:', error);\n",
              "          }\n",
              "          quickchartButtonEl.classList.remove('colab-df-spinner');\n",
              "          quickchartButtonEl.classList.add('colab-df-quickchart-complete');\n",
              "        }\n",
              "        (() => {\n",
              "          let quickchartButtonEl =\n",
              "            document.querySelector('#df-149244b8-4180-4145-9d37-db1ab7abfd6d button');\n",
              "          quickchartButtonEl.style.display =\n",
              "            google.colab.kernel.accessAllowed ? 'block' : 'none';\n",
              "        })();\n",
              "      </script>\n",
              "    </div>\n",
              "\n",
              "    </div>\n",
              "  </div>\n"
            ],
            "application/vnd.google.colaboratory.intrinsic+json": {
              "type": "dataframe",
              "variable_name": "churn",
              "summary": "{\n  \"name\": \"churn\",\n  \"rows\": 3333,\n  \"fields\": [\n    {\n      \"column\": \"state\",\n      \"properties\": {\n        \"dtype\": \"category\",\n        \"num_unique_values\": 51,\n        \"samples\": [\n          \"DC\",\n          \"WA\",\n          \"MS\"\n        ],\n        \"semantic_type\": \"\",\n        \"description\": \"\"\n      }\n    },\n    {\n      \"column\": \"account_length\",\n      \"properties\": {\n        \"dtype\": \"number\",\n        \"std\": 39,\n        \"min\": 1,\n        \"max\": 243,\n        \"num_unique_values\": 212,\n        \"samples\": [\n          172,\n          189,\n          44\n        ],\n        \"semantic_type\": \"\",\n        \"description\": \"\"\n      }\n    },\n    {\n      \"column\": \"area_code\",\n      \"properties\": {\n        \"dtype\": \"number\",\n        \"std\": 42,\n        \"min\": 408,\n        \"max\": 510,\n        \"num_unique_values\": 3,\n        \"samples\": [\n          415,\n          408,\n          510\n        ],\n        \"semantic_type\": \"\",\n        \"description\": \"\"\n      }\n    },\n    {\n      \"column\": \"intl_plan\",\n      \"properties\": {\n        \"dtype\": \"category\",\n        \"num_unique_values\": 2,\n        \"samples\": [\n          \"yes\",\n          \"no\"\n        ],\n        \"semantic_type\": \"\",\n        \"description\": \"\"\n      }\n    },\n    {\n      \"column\": \"vmail_plan\",\n      \"properties\": {\n        \"dtype\": \"category\",\n        \"num_unique_values\": 2,\n        \"samples\": [\n          \"no\",\n          \"yes\"\n        ],\n        \"semantic_type\": \"\",\n        \"description\": \"\"\n      }\n    },\n    {\n      \"column\": \"vmail_message\",\n      \"properties\": {\n        \"dtype\": \"number\",\n        \"std\": 13,\n        \"min\": 0,\n        \"max\": 51,\n        \"num_unique_values\": 46,\n        \"samples\": [\n          44,\n          48\n        ],\n        \"semantic_type\": \"\",\n        \"description\": \"\"\n      }\n    },\n    {\n      \"column\": \"day_mins\",\n      \"properties\": {\n        \"dtype\": \"number\",\n        \"std\": 54.46738920237142,\n        \"min\": 0.0,\n        \"max\": 350.8,\n        \"num_unique_values\": 1667,\n        \"samples\": [\n          87.6,\n          115.7\n        ],\n        \"semantic_type\": \"\",\n        \"description\": \"\"\n      }\n    },\n    {\n      \"column\": \"day_calls\",\n      \"properties\": {\n        \"dtype\": \"number\",\n        \"std\": 20,\n        \"min\": 0,\n        \"max\": 165,\n        \"num_unique_values\": 119,\n        \"samples\": [\n          125,\n          59\n        ],\n        \"semantic_type\": \"\",\n        \"description\": \"\"\n      }\n    },\n    {\n      \"column\": \"day_charge\",\n      \"properties\": {\n        \"dtype\": \"number\",\n        \"std\": 9.259434553930507,\n        \"min\": 0.0,\n        \"max\": 59.64,\n        \"num_unique_values\": 1667,\n        \"samples\": [\n          14.89,\n          19.67\n        ],\n        \"semantic_type\": \"\",\n        \"description\": \"\"\n      }\n    },\n    {\n      \"column\": \"eve_mins\",\n      \"properties\": {\n        \"dtype\": \"number\",\n        \"std\": 50.71384442581193,\n        \"min\": 0.0,\n        \"max\": 363.7,\n        \"num_unique_values\": 1611,\n        \"samples\": [\n          215.1,\n          219.1\n        ],\n        \"semantic_type\": \"\",\n        \"description\": \"\"\n      }\n    },\n    {\n      \"column\": \"eve_calls\",\n      \"properties\": {\n        \"dtype\": \"number\",\n        \"std\": 19,\n        \"min\": 0,\n        \"max\": 170,\n        \"num_unique_values\": 123,\n        \"samples\": [\n          93,\n          142\n        ],\n        \"semantic_type\": \"\",\n        \"description\": \"\"\n      }\n    },\n    {\n      \"column\": \"eve_charge\",\n      \"properties\": {\n        \"dtype\": \"number\",\n        \"std\": 4.310667643110339,\n        \"min\": 0.0,\n        \"max\": 30.91,\n        \"num_unique_values\": 1440,\n        \"samples\": [\n          24.85,\n          14.19\n        ],\n        \"semantic_type\": \"\",\n        \"description\": \"\"\n      }\n    },\n    {\n      \"column\": \"night_mins\",\n      \"properties\": {\n        \"dtype\": \"number\",\n        \"std\": 50.5738470136583,\n        \"min\": 23.2,\n        \"max\": 395.0,\n        \"num_unique_values\": 1591,\n        \"samples\": [\n          311.1,\n          179.1\n        ],\n        \"semantic_type\": \"\",\n        \"description\": \"\"\n      }\n    },\n    {\n      \"column\": \"night_calls\",\n      \"properties\": {\n        \"dtype\": \"number\",\n        \"std\": 19,\n        \"min\": 33,\n        \"max\": 175,\n        \"num_unique_values\": 120,\n        \"samples\": [\n          60,\n          73\n        ],\n        \"semantic_type\": \"\",\n        \"description\": \"\"\n      }\n    },\n    {\n      \"column\": \"night_charge\",\n      \"properties\": {\n        \"dtype\": \"number\",\n        \"std\": 2.2758728376600317,\n        \"min\": 1.04,\n        \"max\": 17.77,\n        \"num_unique_values\": 933,\n        \"samples\": [\n          6.2,\n          6.86\n        ],\n        \"semantic_type\": \"\",\n        \"description\": \"\"\n      }\n    },\n    {\n      \"column\": \"intl_mins\",\n      \"properties\": {\n        \"dtype\": \"number\",\n        \"std\": 2.7918395484084204,\n        \"min\": 0.0,\n        \"max\": 20.0,\n        \"num_unique_values\": 162,\n        \"samples\": [\n          16.6,\n          14.8\n        ],\n        \"semantic_type\": \"\",\n        \"description\": \"\"\n      }\n    },\n    {\n      \"column\": \"intl_calls\",\n      \"properties\": {\n        \"dtype\": \"number\",\n        \"std\": 2,\n        \"min\": 0,\n        \"max\": 20,\n        \"num_unique_values\": 21,\n        \"samples\": [\n          3,\n          14\n        ],\n        \"semantic_type\": \"\",\n        \"description\": \"\"\n      }\n    },\n    {\n      \"column\": \"intl_charge\",\n      \"properties\": {\n        \"dtype\": \"number\",\n        \"std\": 0.7537726126630453,\n        \"min\": 0.0,\n        \"max\": 5.4,\n        \"num_unique_values\": 162,\n        \"samples\": [\n          4.48,\n          4.0\n        ],\n        \"semantic_type\": \"\",\n        \"description\": \"\"\n      }\n    },\n    {\n      \"column\": \"custserv_calls\",\n      \"properties\": {\n        \"dtype\": \"number\",\n        \"std\": 1,\n        \"min\": 0,\n        \"max\": 9,\n        \"num_unique_values\": 10,\n        \"samples\": [\n          6,\n          0\n        ],\n        \"semantic_type\": \"\",\n        \"description\": \"\"\n      }\n    },\n    {\n      \"column\": \"churn\",\n      \"properties\": {\n        \"dtype\": \"boolean\",\n        \"num_unique_values\": 2,\n        \"samples\": [\n          true,\n          false\n        ],\n        \"semantic_type\": \"\",\n        \"description\": \"\"\n      }\n    }\n  ]\n}"
            }
          },
          "metadata": {},
          "execution_count": 9
        }
      ],
      "source": [
        "churn = pd.read_csv(churn_url)\n",
        "churn.head()"
      ]
    },
    {
      "cell_type": "markdown",
      "metadata": {
        "id": "Q32sBAzyJbFn"
      },
      "source": [
        "**Problem 6**: What percentage of customers were churned?"
      ]
    },
    {
      "cell_type": "code",
      "execution_count": 10,
      "metadata": {
        "tags": [],
        "id": "4M5i41-mJbFn",
        "colab": {
          "base_uri": "https://localhost:8080/",
          "height": 178
        },
        "outputId": "cc718463-c4b9-4564-a5ef-0b07db271a1b"
      },
      "outputs": [
        {
          "output_type": "execute_result",
          "data": {
            "text/plain": [
              "churn\n",
              "False    0.855086\n",
              "True     0.144914\n",
              "Name: proportion, dtype: float64"
            ],
            "text/html": [
              "<div>\n",
              "<style scoped>\n",
              "    .dataframe tbody tr th:only-of-type {\n",
              "        vertical-align: middle;\n",
              "    }\n",
              "\n",
              "    .dataframe tbody tr th {\n",
              "        vertical-align: top;\n",
              "    }\n",
              "\n",
              "    .dataframe thead th {\n",
              "        text-align: right;\n",
              "    }\n",
              "</style>\n",
              "<table border=\"1\" class=\"dataframe\">\n",
              "  <thead>\n",
              "    <tr style=\"text-align: right;\">\n",
              "      <th></th>\n",
              "      <th>proportion</th>\n",
              "    </tr>\n",
              "    <tr>\n",
              "      <th>churn</th>\n",
              "      <th></th>\n",
              "    </tr>\n",
              "  </thead>\n",
              "  <tbody>\n",
              "    <tr>\n",
              "      <th>False</th>\n",
              "      <td>0.855086</td>\n",
              "    </tr>\n",
              "    <tr>\n",
              "      <th>True</th>\n",
              "      <td>0.144914</td>\n",
              "    </tr>\n",
              "  </tbody>\n",
              "</table>\n",
              "</div><br><label><b>dtype:</b> float64</label>"
            ]
          },
          "metadata": {},
          "execution_count": 10
        }
      ],
      "source": [
        "churn.head()\n",
        "total = churn['churn'].value_counts(normalize='True')\n",
        "total\n"
      ]
    },
    {
      "cell_type": "code",
      "execution_count": 11,
      "metadata": {
        "tags": [],
        "id": "yx3bBpULJbFn"
      },
      "outputs": [],
      "source": [
        "#Approximately 14.5% of customers were churned"
      ]
    },
    {
      "cell_type": "markdown",
      "metadata": {
        "id": "3Yr5Bm9hJbFn"
      },
      "source": [
        "**Problem 7**: How do customers who have a voicemail plan and those who did not compare in terms of percent churned?"
      ]
    },
    {
      "cell_type": "code",
      "execution_count": null,
      "metadata": {
        "tags": [],
        "id": "jJqYXkTcJbFn"
      },
      "outputs": [],
      "source": []
    },
    {
      "cell_type": "code",
      "execution_count": null,
      "metadata": {
        "tags": [],
        "id": "LIhQvJNZJbFn"
      },
      "outputs": [],
      "source": []
    },
    {
      "cell_type": "code",
      "execution_count": null,
      "metadata": {
        "id": "W5bZrHBrJbFo"
      },
      "outputs": [],
      "source": []
    },
    {
      "cell_type": "markdown",
      "metadata": {
        "id": "nMU18B4-JbFo"
      },
      "source": [
        "**Problem 8**: Using `seaborn` draw a barplot to represent the number of customers by the number of customer service calls these customers made.  "
      ]
    },
    {
      "cell_type": "code",
      "execution_count": null,
      "metadata": {
        "tags": [],
        "id": "uIP7LV-QJbFo"
      },
      "outputs": [],
      "source": [
        "sns.barplot(x=churn[], y=churn)"
      ]
    },
    {
      "cell_type": "markdown",
      "metadata": {
        "id": "89OiNE0CJbFo"
      },
      "source": [
        "**Problem 9**: Using `seaborn` draw boxplots for international minutes by customers who were churned and those that were not.  Are there any differences between these groups?"
      ]
    },
    {
      "cell_type": "code",
      "execution_count": null,
      "metadata": {
        "tags": [],
        "id": "jL1QFM_DJbFo"
      },
      "outputs": [],
      "source": []
    },
    {
      "cell_type": "markdown",
      "metadata": {
        "id": "CZ42PbRKJbFo"
      },
      "source": [
        "**Problem 10**: Load in the `gapminder_all.csv` file and assign as `gapminder_df` below.  This data comes from the Gapminder organization and contains information on countries GDP and Life Expectancy."
      ]
    },
    {
      "cell_type": "code",
      "execution_count": null,
      "metadata": {
        "id": "n4c69HdVJbFo"
      },
      "outputs": [],
      "source": [
        "gapminder_url = 'https://raw.githubusercontent.com/jfkoehler/nyu_bootcamp_fa25/refs/heads/main/data/gapminder_all.csv'"
      ]
    },
    {
      "cell_type": "code",
      "execution_count": null,
      "metadata": {
        "id": "_5RLa65ZJbFo"
      },
      "outputs": [],
      "source": []
    },
    {
      "cell_type": "markdown",
      "metadata": {
        "id": "Xa9IRkSOJbFo"
      },
      "source": [
        "**Problem 11**: What is the average GDP in 2007 for each continent?"
      ]
    },
    {
      "cell_type": "code",
      "execution_count": null,
      "metadata": {
        "id": "YdHY5fvIJbFo"
      },
      "outputs": [],
      "source": []
    },
    {
      "cell_type": "markdown",
      "metadata": {
        "id": "GkeuUpVYJbFo"
      },
      "source": [
        "**Problem 12**: Use `seaborn` to create a scatter plot for GDP vs. Life Expectancy for the data in 2007.  Include a title and x and y labels. Adjust the size of the points using the population feature and color the points based on the continent."
      ]
    },
    {
      "cell_type": "code",
      "execution_count": null,
      "metadata": {
        "id": "WMhBqmI1JbFp"
      },
      "outputs": [],
      "source": []
    },
    {
      "cell_type": "code",
      "execution_count": null,
      "metadata": {
        "id": "tIDz8HtvJbFp"
      },
      "outputs": [],
      "source": []
    },
    {
      "cell_type": "markdown",
      "metadata": {
        "id": "7qIZwf1-JbFp"
      },
      "source": [
        "**Problem 13**: Read through Wilke's chapter on *Visualizing Trends* [here](https://clauswilke.com/dataviz/visualizing-trends.html).  Explore the `.rolling` method of a `pandas.DataFrame` and use it to produce a \"smoothed\" version of a time series plot.  Draw two plots using the subplots function from `matplotlib` and display one plot with the original series and the second of the \"smoothed\" series.  "
      ]
    },
    {
      "cell_type": "code",
      "execution_count": null,
      "metadata": {
        "id": "NnE0JrGhJbFp"
      },
      "outputs": [],
      "source": [
        "dow = sns.load_dataset('dowjones').set_index('Date')"
      ]
    },
    {
      "cell_type": "code",
      "execution_count": null,
      "metadata": {
        "id": "bdiuPV98JbFp"
      },
      "outputs": [],
      "source": [
        "dow.rolling(window = 1).mean().plot();"
      ]
    },
    {
      "cell_type": "code",
      "execution_count": null,
      "metadata": {
        "id": "I0ztqGEdJbFq"
      },
      "outputs": [],
      "source": []
    },
    {
      "cell_type": "markdown",
      "metadata": {
        "id": "8nmFRtHPJbFq"
      },
      "source": [
        "**PROBLEM 14** Read through Wilke's chapter *A Directory of Visualizations* [here](https://clauswilke.com/dataviz/directory-of-visualizations.html).  Identify a plot that you haven't built yet and use seaborn to demonstrate its implementation and explain its interpretation.  Use one of the built in seaborn datasets to construct your visualization."
      ]
    },
    {
      "cell_type": "code",
      "execution_count": null,
      "metadata": {
        "id": "E5AkxN-cJbF1"
      },
      "outputs": [],
      "source": []
    },
    {
      "cell_type": "code",
      "execution_count": null,
      "metadata": {
        "id": "Td9LfyE1JbF1"
      },
      "outputs": [],
      "source": []
    },
    {
      "cell_type": "code",
      "execution_count": null,
      "metadata": {
        "id": "9mCU2QQXJbF2"
      },
      "outputs": [],
      "source": []
    },
    {
      "cell_type": "markdown",
      "metadata": {
        "id": "HKaM6w90JbF2"
      },
      "source": [
        "**BONUSes**\n",
        "\n",
        "Feel free to complete any one, two, or all of these problems.  If the above problems took you a long time please don't drive yourself crazy trying to do anything. These problems are not simple, and you should write clear, commented code that is not the result of an LLM.  Use the documentation, run code, read error messages, take a walk, ask questions in office hours. This should be kind of fun...\n"
      ]
    },
    {
      "cell_type": "code",
      "execution_count": null,
      "metadata": {
        "id": "BAp_zSXaJbF2"
      },
      "outputs": [],
      "source": []
    },
    {
      "cell_type": "markdown",
      "metadata": {
        "id": "q4iLextPJbF2"
      },
      "source": [
        "Head over to the documentation for `ipywidgets` [here](https://ipywidgets.readthedocs.io/en/stable/).  Use the library to build an interactive visualization of a time series dataset that uses a slider to control a smoothing window.  Add a title \"dataset name rolling mean for {size of window} time steps\"."
      ]
    },
    {
      "cell_type": "code",
      "execution_count": null,
      "metadata": {
        "id": "3LBg4AuiJbF2"
      },
      "outputs": [],
      "source": []
    },
    {
      "cell_type": "markdown",
      "metadata": {
        "id": "N1U8OpVZJbF2"
      },
      "source": [
        "Checkout the notebook introducing the `bokeh` plotting library [here](https://github.com/jfkoehler/dad_25/blob/main/Bonus_Plotting_with_bokeh.ipynb).  Also, consult the documentation [here](https://bokeh.org/).  Use the library to build an interactive visualization of a dataset of your choosing.  Do this in a separate notebook and use markdown cells to build a brief tutorial on how to build your selected visualization.  To get credit for this problem you should submit a link to a standalone colab notebook visible to \"anyone with the link\" [here](https://forms.gle/XY335jm4BLzVrRGX9) along with a one paragraph summary of the visualization that will be shared with the class through our github repository and book. Be prepared to discuss your visualization and bokeh functionality that was crucial to its construction in 30 - 60 seconds."
      ]
    },
    {
      "cell_type": "code",
      "execution_count": null,
      "metadata": {
        "id": "LscbFlAQJbF2"
      },
      "outputs": [],
      "source": []
    },
    {
      "cell_type": "markdown",
      "metadata": {
        "id": "5h5AGhUdJbF2"
      },
      "source": [
        "Read over the *Code Magazine* article *Building dashboards with Python* [here](https://www.codemag.com/Article/2111061/Building-Dashboards-Using-Bokeh).  Focus on using the `bokeh serve --show` function to launch a bokeh plot code file containing a basic or complex bokeh dashboard with a data table and interactive plot.  Make sure your code is well commented, write a one paragraph description of your work and submit that [here](https://forms.gle/XY335jm4BLzVrRGX9) along with the `.py` file of your plot. Be prepared to discuss your visualization and bokeh functionality that was crucial to its construction in 30 - 60 seconds."
      ]
    },
    {
      "cell_type": "code",
      "execution_count": null,
      "metadata": {
        "id": "wEgGNj1yJbF3"
      },
      "outputs": [],
      "source": []
    }
  ],
  "metadata": {
    "kernelspec": {
      "display_name": "Python 3 (ipykernel)",
      "language": "python",
      "name": "python3"
    },
    "language_info": {
      "codemirror_mode": {
        "name": "ipython",
        "version": 3
      },
      "file_extension": ".py",
      "mimetype": "text/x-python",
      "name": "python",
      "nbconvert_exporter": "python",
      "pygments_lexer": "ipython3",
      "version": "3.12.0"
    },
    "colab": {
      "provenance": [],
      "include_colab_link": true
    }
  },
  "nbformat": 4,
  "nbformat_minor": 0
}