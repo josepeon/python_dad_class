{
  "cells": [
    {
      "cell_type": "markdown",
      "metadata": {
        "id": "view-in-github",
        "colab_type": "text"
      },
      "source": [
        "<a href=\"https://colab.research.google.com/github/josepeon/python_dad_class/blob/main/dad_homework_II.ipynb\" target=\"_parent\"><img src=\"https://colab.research.google.com/assets/colab-badge.svg\" alt=\"Open In Colab\"/></a>"
      ]
    },
    {
      "cell_type": "markdown",
      "metadata": {
        "id": "liXIP8MGJbFj"
      },
      "source": [
        "### Homework 2: Pandas and Introductory Plotting"
      ]
    },
    {
      "cell_type": "code",
      "execution_count": null,
      "metadata": {
        "tags": [],
        "id": "-vlN8TnFJbFk"
      },
      "outputs": [],
      "source": [
        "import pandas as pd\n",
        "import matplotlib.pyplot as plt\n",
        "import numpy as np\n",
        "import seaborn as sns"
      ]
    },
    {
      "cell_type": "markdown",
      "metadata": {
        "id": "KjA3lp1GJbFl"
      },
      "source": [
        "**Problem 1**: Loading a data file.\n",
        "\n",
        "Below, load in the data from the `spotify.csv` file.  Assign it to a variable `spotify` below.  "
      ]
    },
    {
      "cell_type": "code",
      "execution_count": null,
      "metadata": {
        "id": "-MBwKa0zJbFl"
      },
      "outputs": [],
      "source": [
        "spotify_url = 'https://raw.githubusercontent.com/jfkoehler/nyu_bootcamp_fa25/refs/heads/main/data/spotify.csv'"
      ]
    },
    {
      "cell_type": "code",
      "execution_count": null,
      "metadata": {
        "id": "M26Qjh1YJbFm"
      },
      "outputs": [],
      "source": []
    },
    {
      "cell_type": "markdown",
      "metadata": {
        "id": "_PttVqvCJbFm"
      },
      "source": [
        "**Problem 2**: Who is the most frequently occurring artist in the data?  "
      ]
    },
    {
      "cell_type": "code",
      "execution_count": null,
      "metadata": {
        "id": "O1H6m5xEJbFm"
      },
      "outputs": [],
      "source": []
    },
    {
      "cell_type": "code",
      "execution_count": null,
      "metadata": {
        "id": "1t9ASa7gJbFm"
      },
      "outputs": [],
      "source": []
    },
    {
      "cell_type": "markdown",
      "metadata": {
        "id": "fj52HCOgJbFm"
      },
      "source": [
        "**Problem 3**: Using `matplotlib` create a histogram for the `tempo` column."
      ]
    },
    {
      "cell_type": "code",
      "execution_count": null,
      "metadata": {
        "id": "rsPQHMB-JbFm"
      },
      "outputs": [],
      "source": []
    },
    {
      "cell_type": "markdown",
      "metadata": {
        "id": "10twO-xiJbFm"
      },
      "source": [
        "**Problem 4**: Using `matplotlib` create a scatterplot of `tempo` vs. `danceability`.  Do these features seem related?"
      ]
    },
    {
      "cell_type": "code",
      "execution_count": null,
      "metadata": {
        "tags": [],
        "id": "PrlZIhnEJbFn"
      },
      "outputs": [],
      "source": []
    },
    {
      "cell_type": "markdown",
      "metadata": {
        "id": "O7fyE49dJbFn"
      },
      "source": [
        "**Problem 5**: Load in the `cell_phone_churn.csv` data and assign as `churn` below.\n",
        "\n",
        "This dataset contains customer information from a telecommunications company about customer churn.  A customer is *churned* if they leave the provider."
      ]
    },
    {
      "cell_type": "code",
      "execution_count": null,
      "metadata": {
        "id": "rFbSIOKrJbFn"
      },
      "outputs": [],
      "source": [
        "churn_url = 'https://raw.githubusercontent.com/jfkoehler/nyu_bootcamp_fa25/refs/heads/main/data/cell_phone_churn.csv'"
      ]
    },
    {
      "cell_type": "code",
      "execution_count": null,
      "metadata": {
        "tags": [],
        "id": "x3J1OJi6JbFn"
      },
      "outputs": [],
      "source": []
    },
    {
      "cell_type": "markdown",
      "metadata": {
        "id": "Q32sBAzyJbFn"
      },
      "source": [
        "**Problem 6**: What percentage of customers were churned?"
      ]
    },
    {
      "cell_type": "code",
      "execution_count": null,
      "metadata": {
        "tags": [],
        "id": "4M5i41-mJbFn"
      },
      "outputs": [],
      "source": []
    },
    {
      "cell_type": "code",
      "execution_count": null,
      "metadata": {
        "tags": [],
        "id": "yx3bBpULJbFn"
      },
      "outputs": [],
      "source": []
    },
    {
      "cell_type": "markdown",
      "metadata": {
        "id": "3Yr5Bm9hJbFn"
      },
      "source": [
        "**Problem 7**: How do customers who have a voicemail plan and those who did not compare in terms of percent churned?"
      ]
    },
    {
      "cell_type": "code",
      "execution_count": null,
      "metadata": {
        "tags": [],
        "id": "jJqYXkTcJbFn"
      },
      "outputs": [],
      "source": []
    },
    {
      "cell_type": "code",
      "execution_count": null,
      "metadata": {
        "tags": [],
        "id": "LIhQvJNZJbFn"
      },
      "outputs": [],
      "source": []
    },
    {
      "cell_type": "code",
      "execution_count": null,
      "metadata": {
        "id": "W5bZrHBrJbFo"
      },
      "outputs": [],
      "source": []
    },
    {
      "cell_type": "markdown",
      "metadata": {
        "id": "nMU18B4-JbFo"
      },
      "source": [
        "**Problem 8**: Using `seaborn` draw a barplot to represent the number of customers by the number of customer service calls these customers made.  "
      ]
    },
    {
      "cell_type": "code",
      "execution_count": null,
      "metadata": {
        "tags": [],
        "id": "uIP7LV-QJbFo"
      },
      "outputs": [],
      "source": []
    },
    {
      "cell_type": "markdown",
      "metadata": {
        "id": "89OiNE0CJbFo"
      },
      "source": [
        "**Problem 9**: Using `seaborn` draw boxplots for international minutes by customers who were churned and those that were not.  Are there any differences between these groups?"
      ]
    },
    {
      "cell_type": "code",
      "execution_count": null,
      "metadata": {
        "tags": [],
        "id": "jL1QFM_DJbFo"
      },
      "outputs": [],
      "source": []
    },
    {
      "cell_type": "markdown",
      "metadata": {
        "id": "CZ42PbRKJbFo"
      },
      "source": [
        "**Problem 10**: Load in the `gapminder_all.csv` file and assign as `gapminder_df` below.  This data comes from the Gapminder organization and contains information on countries GDP and Life Expectancy."
      ]
    },
    {
      "cell_type": "code",
      "execution_count": null,
      "metadata": {
        "id": "n4c69HdVJbFo"
      },
      "outputs": [],
      "source": [
        "gapminder_url = 'https://raw.githubusercontent.com/jfkoehler/nyu_bootcamp_fa25/refs/heads/main/data/gapminder_all.csv'"
      ]
    },
    {
      "cell_type": "code",
      "execution_count": null,
      "metadata": {
        "id": "_5RLa65ZJbFo"
      },
      "outputs": [],
      "source": []
    },
    {
      "cell_type": "markdown",
      "metadata": {
        "id": "Xa9IRkSOJbFo"
      },
      "source": [
        "**Problem 11**: What is the average GDP in 2007 for each continent?"
      ]
    },
    {
      "cell_type": "code",
      "execution_count": null,
      "metadata": {
        "id": "YdHY5fvIJbFo"
      },
      "outputs": [],
      "source": []
    },
    {
      "cell_type": "markdown",
      "metadata": {
        "id": "GkeuUpVYJbFo"
      },
      "source": [
        "**Problem 12**: Use `seaborn` to create a scatter plot for GDP vs. Life Expectancy for the data in 2007.  Include a title and x and y labels. Adjust the size of the points using the population feature and color the points based on the continent."
      ]
    },
    {
      "cell_type": "code",
      "execution_count": null,
      "metadata": {
        "id": "WMhBqmI1JbFp"
      },
      "outputs": [],
      "source": []
    },
    {
      "cell_type": "code",
      "execution_count": null,
      "metadata": {
        "id": "tIDz8HtvJbFp"
      },
      "outputs": [],
      "source": []
    },
    {
      "cell_type": "markdown",
      "metadata": {
        "id": "7qIZwf1-JbFp"
      },
      "source": [
        "**Problem 13**: Read through Wilke's chapter on *Visualizing Trends* [here](https://clauswilke.com/dataviz/visualizing-trends.html).  Explore the `.rolling` method of a `pandas.DataFrame` and use it to produce a \"smoothed\" version of a time series plot.  Draw two plots using the subplots function from `matplotlib` and display one plot with the original series and the second of the \"smoothed\" series.  "
      ]
    },
    {
      "cell_type": "code",
      "execution_count": null,
      "metadata": {
        "id": "NnE0JrGhJbFp"
      },
      "outputs": [],
      "source": [
        "dow = sns.load_dataset('dowjones').set_index('Date')"
      ]
    },
    {
      "cell_type": "code",
      "execution_count": null,
      "metadata": {
        "id": "bdiuPV98JbFp",
        "outputId": "0f94d5ec-818c-4f0a-e73e-afcf8cfc8f1d"
      },
      "outputs": [
        {
          "data": {
            "image/png": "[encoded data removed]",
            "text/plain": [
              "<Figure size 640x480 with 1 Axes>"
            ]
          },
          "metadata": {},
          "output_type": "display_data"
        }
      ],
      "source": [
        "dow.rolling(window = 1).mean().plot();"
      ]
    },
    {
      "cell_type": "code",
      "execution_count": null,
      "metadata": {
        "id": "I0ztqGEdJbFq"
      },
      "outputs": [],
      "source": []
    },
    {
      "cell_type": "markdown",
      "metadata": {
        "id": "8nmFRtHPJbFq"
      },
      "source": [
        "**PROBLEM 14** Read through Wilke's chapter *A Directory of Visualizations* [here](https://clauswilke.com/dataviz/directory-of-visualizations.html).  Identify a plot that you haven't built yet and use seaborn to demonstrate its implementation and explain its interpretation.  Use one of the built in seaborn datasets to construct your visualization."
      ]
    },
    {
      "cell_type": "code",
      "execution_count": null,
      "metadata": {
        "id": "E5AkxN-cJbF1"
      },
      "outputs": [],
      "source": []
    },
    {
      "cell_type": "code",
      "execution_count": null,
      "metadata": {
        "id": "Td9LfyE1JbF1"
      },
      "outputs": [],
      "source": []
    },
    {
      "cell_type": "code",
      "execution_count": null,
      "metadata": {
        "id": "9mCU2QQXJbF2"
      },
      "outputs": [],
      "source": []
    },
    {
      "cell_type": "markdown",
      "metadata": {
        "id": "HKaM6w90JbF2"
      },
      "source": [
        "**BONUSes**\n",
        "\n",
        "Feel free to complete any one, two, or all of these problems.  If the above problems took you a long time please don't drive yourself crazy trying to do anything. These problems are not simple, and you should write clear, commented code that is not the result of an LLM.  Use the documentation, run code, read error messages, take a walk, ask questions in office hours. This should be kind of fun...\n"
      ]
    },
    {
      "cell_type": "code",
      "execution_count": null,
      "metadata": {
        "id": "BAp_zSXaJbF2"
      },
      "outputs": [],
      "source": []
    },
    {
      "cell_type": "markdown",
      "metadata": {
        "id": "q4iLextPJbF2"
      },
      "source": [
        "Head over to the documentation for `ipywidgets` [here](https://ipywidgets.readthedocs.io/en/stable/).  Use the library to build an interactive visualization of a time series dataset that uses a slider to control a smoothing window.  Add a title \"dataset name rolling mean for {size of window} time steps\"."
      ]
    },
    {
      "cell_type": "code",
      "execution_count": null,
      "metadata": {
        "id": "3LBg4AuiJbF2"
      },
      "outputs": [],
      "source": []
    },
    {
      "cell_type": "markdown",
      "metadata": {
        "id": "N1U8OpVZJbF2"
      },
      "source": [
        "Checkout the notebook introducing the `bokeh` plotting library [here](https://github.com/jfkoehler/dad_25/blob/main/Bonus_Plotting_with_bokeh.ipynb).  Also, consult the documentation [here](https://bokeh.org/).  Use the library to build an interactive visualization of a dataset of your choosing.  Do this in a separate notebook and use markdown cells to build a brief tutorial on how to build your selected visualization.  To get credit for this problem you should submit a link to a standalone colab notebook visible to \"anyone with the link\" [here](https://forms.gle/XY335jm4BLzVrRGX9) along with a one paragraph summary of the visualization that will be shared with the class through our github repository and book. Be prepared to discuss your visualization and bokeh functionality that was crucial to its construction in 30 - 60 seconds."
      ]
    },
    {
      "cell_type": "code",
      "execution_count": null,
      "metadata": {
        "id": "LscbFlAQJbF2"
      },
      "outputs": [],
      "source": []
    },
    {
      "cell_type": "markdown",
      "metadata": {
        "id": "5h5AGhUdJbF2"
      },
      "source": [
        "Read over the *Code Magazine* article *Building dashboards with Python* [here](https://www.codemag.com/Article/2111061/Building-Dashboards-Using-Bokeh).  Focus on using the `bokeh serve --show` function to launch a bokeh plot code file containing a basic or complex bokeh dashboard with a data table and interactive plot.  Make sure your code is well commented, write a one paragraph description of your work and submit that [here](https://forms.gle/XY335jm4BLzVrRGX9) along with the `.py` file of your plot. Be prepared to discuss your visualization and bokeh functionality that was crucial to its construction in 30 - 60 seconds."
      ]
    },
    {
      "cell_type": "code",
      "execution_count": null,
      "metadata": {
        "id": "wEgGNj1yJbF3"
      },
      "outputs": [],
      "source": []
    }
  ],
  "metadata": {
    "kernelspec": {
      "display_name": "Python 3 (ipykernel)",
      "language": "python",
      "name": "python3"
    },
    "language_info": {
      "codemirror_mode": {
        "name": "ipython",
        "version": 3
      },
      "file_extension": ".py",
      "mimetype": "text/x-python",
      "name": "python",
      "nbconvert_exporter": "python",
      "pygments_lexer": "ipython3",
      "version": "3.12.0"
    },
    "colab": {
      "provenance": [],
      "include_colab_link": true
    }
  },
  "nbformat": 4,
  "nbformat_minor": 0
}